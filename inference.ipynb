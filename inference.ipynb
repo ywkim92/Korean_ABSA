{
  "cells": [
    {
      "cell_type": "markdown",
      "metadata": {
        "id": "ofotWdW77t6V"
      },
      "source": [
        "# Install libraries"
      ]
    },
    {
      "cell_type": "code",
      "execution_count": null,
      "metadata": {
        "id": "1ol6ZL50wvPR"
      },
      "outputs": [],
      "source": [
        "!pip install -r requirements.txt"
      ]
    },
    {
      "cell_type": "code",
      "execution_count": 4,
      "metadata": {
        "id": "KlGwQS0dusMw"
      },
      "outputs": [],
      "source": [
        "# https://github.com/teddysum/korean_ABSA_baseline/blob/0d47e3eef31419a2d31d859da2dfba4f9df75531/src/sentiment_analysis.py#L532-L630\n",
        "\n",
        "def evaluation_f1(true_data, pred_data):\n",
        "\n",
        "    true_data_list = true_data\n",
        "    pred_data_list = pred_data\n",
        "\n",
        "    ce_eval = {\n",
        "        'TP': 0,\n",
        "        'FP': 0,\n",
        "        'FN': 0,\n",
        "        'TN': 0\n",
        "    }\n",
        "\n",
        "    pipeline_eval = {\n",
        "        'TP': 0,\n",
        "        'FP': 0,\n",
        "        'FN': 0,\n",
        "        'TN': 0\n",
        "    }\n",
        "\n",
        "    for i in range(len(true_data_list)):\n",
        "\n",
        "        # TP, FN checking\n",
        "        is_ce_found = False\n",
        "        is_pipeline_found = False\n",
        "        for y_ano  in true_data_list[i]['annotation']:\n",
        "            y_category = y_ano[0]\n",
        "            y_polarity = y_ano[2]\n",
        "\n",
        "            for p_ano in pred_data_list[i]['annotation']:\n",
        "                p_category = p_ano[0]\n",
        "                p_polarity = p_ano[1]\n",
        "\n",
        "                if y_category == p_category:\n",
        "                    is_ce_found = True\n",
        "                    if y_polarity == p_polarity:\n",
        "                        is_pipeline_found = True\n",
        "\n",
        "                    break\n",
        "\n",
        "            if is_ce_found is True:\n",
        "                ce_eval['TP'] += 1\n",
        "            else:\n",
        "                ce_eval['FN'] += 1\n",
        "\n",
        "            if is_pipeline_found is True:\n",
        "                pipeline_eval['TP'] += 1\n",
        "            else:\n",
        "                pipeline_eval['FN'] += 1\n",
        "\n",
        "            is_ce_found = False\n",
        "            is_pipeline_found = False\n",
        "\n",
        "        # FP checking\n",
        "        for p_ano in pred_data_list[i]['annotation']:\n",
        "            p_category = p_ano[0]\n",
        "            p_polarity = p_ano[1]\n",
        "\n",
        "            for y_ano  in true_data_list[i]['annotation']:\n",
        "                y_category = y_ano[0]\n",
        "                y_polarity = y_ano[2]\n",
        "\n",
        "                if y_category == p_category:\n",
        "                    is_ce_found = True\n",
        "                    if y_polarity == p_polarity:\n",
        "                        is_pipeline_found = True\n",
        "\n",
        "                    break\n",
        "\n",
        "            if is_ce_found is False:\n",
        "                ce_eval['FP'] += 1\n",
        "\n",
        "            if is_pipeline_found is False:\n",
        "                pipeline_eval['FP'] += 1\n",
        "            \n",
        "            is_ce_found = False\n",
        "            is_pipeline_found = False\n",
        "\n",
        "    ce_precision = ce_eval['TP']/(ce_eval['TP']+ce_eval['FP'])\n",
        "    ce_recall = ce_eval['TP']/(ce_eval['TP']+ce_eval['FN'])\n",
        "\n",
        "    ce_result = {\n",
        "        'Precision': ce_precision,\n",
        "        'Recall': ce_recall,\n",
        "        'F1': 2*ce_recall*ce_precision/(ce_recall+ce_precision)\n",
        "    }\n",
        "\n",
        "    pipeline_precision = pipeline_eval['TP']/(pipeline_eval['TP']+pipeline_eval['FP'])\n",
        "    pipeline_recall = pipeline_eval['TP']/(pipeline_eval['TP']+pipeline_eval['FN'])\n",
        "\n",
        "    pipeline_result = {\n",
        "        'Precision': pipeline_precision,\n",
        "        'Recall': pipeline_recall,\n",
        "        'F1': 2*pipeline_recall*pipeline_precision/(pipeline_recall+pipeline_precision)\n",
        "    }\n",
        "\n",
        "    return {\n",
        "        'category extraction result': ce_result,\n",
        "        'entire pipeline result': pipeline_result\n",
        "    }"
      ]
    },
    {
      "cell_type": "markdown",
      "metadata": {
        "id": "Yx7ONYPb7wK8"
      },
      "source": [
        "# Load libraries"
      ]
    },
    {
      "cell_type": "code",
      "execution_count": 32,
      "metadata": {
        "id": "Loyge9baL17-"
      },
      "outputs": [],
      "source": [
        "acd_save_path = './model/acd_best.bin'\n",
        "asc_save_path = './model/asc_best.bin'\n",
        "output_save_path = './output/submit.json'"
      ]
    },
    {
      "cell_type": "code",
      "execution_count": 6,
      "metadata": {
        "id": "nkUps9Cy0wdD"
      },
      "outputs": [],
      "source": [
        "%load_ext autoreload\n",
        "%autoreload 2"
      ]
    },
    {
      "cell_type": "code",
      "execution_count": 7,
      "metadata": {
        "id": "J5BqUQfYwySI"
      },
      "outputs": [],
      "source": [
        "import os, sys\n",
        "import re\n",
        "import time\n",
        "import json\n",
        "import random\n",
        "import pickle\n",
        "import numpy as np\n",
        "import pandas as pd\n",
        "from tqdm import tqdm\n",
        "from copy import deepcopy\n",
        "import matplotlib.pyplot as plt\n",
        "\n",
        "from sklearn.metrics import f1_score\n",
        "\n",
        "import torch\n",
        "import torch.nn.functional as F\n",
        "from torch.utils.data import (\n",
        "    TensorDataset, DataLoader, RandomSampler, SequentialSampler, WeightedRandomSampler\n",
        ")\n",
        "from transformers import (\n",
        "    AdamW, get_linear_schedule_with_warmup,\n",
        "    ElectraTokenizerFast, ElectraForSequenceClassification, ElectraForTokenClassification,\n",
        "    BertTokenizerFast, BertForSequenceClassification\n",
        ")\n",
        "\n",
        "os.environ['CUDA_LAUNCH_BLOCKING'] = \"1\""
      ]
    },
    {
      "cell_type": "code",
      "execution_count": 8,
      "metadata": {
        "colab": {
          "base_uri": "https://localhost:8080/"
        },
        "id": "oXP9wtHLxl8V",
        "outputId": "6a22aeb6-f554-417b-b93d-509320a17512"
      },
      "outputs": [
        {
          "data": {
            "text/plain": [
              "<torch._C.Generator at 0x7f28876c9b30>"
            ]
          },
          "execution_count": 8,
          "metadata": {},
          "output_type": "execute_result"
        }
      ],
      "source": [
        "# device = 'cpu'\n",
        "device = 'cuda'\n",
        "seed = 1235\n",
        "batch_size = 4\n",
        "learning_rate = 1e-5\n",
        "warmup_proportion = 0.1\n",
        "epochs = 10\n",
        "warmup_steps = 1000\n",
        "# max_len= 256\n",
        "\n",
        "gradient_accumulation_steps = 4\n",
        "num_train_epochs = epochs\n",
        "\n",
        "random.seed(seed)\n",
        "np.random.seed(seed)\n",
        "torch.manual_seed(seed)"
      ]
    },
    {
      "cell_type": "markdown",
      "metadata": {
        "id": "CMMwACaQ7ysL"
      },
      "source": [
        "# Load data"
      ]
    },
    {
      "cell_type": "code",
      "execution_count": 10,
      "metadata": {
        "id": "qNmEeifYEiLr"
      },
      "outputs": [],
      "source": [
        "val = []\n",
        "with open('data/nikluge-sa-2022-dev.jsonl', 'r') as file:\n",
        "    for line in file.readlines():\n",
        "        val.append(json.loads(line))\n",
        "        \n",
        "\n",
        "test = []\n",
        "with open('data/nikluge-sa-2022-test.jsonl', 'r') as file:\n",
        "    for line in file.readlines():\n",
        "        test.append(json.loads(line))"
      ]
    },
    {
      "cell_type": "code",
      "execution_count": 11,
      "metadata": {
        "id": "SU1rp4Cy1N4U"
      },
      "outputs": [],
      "source": [
        "entity_property_pair = [\n",
        "    '본품#가격', '본품#다양성', '본품#디자인', '본품#인지도', '본품#일반', '본품#편의성', '본품#품질', \n",
        "    '브랜드#가격', '브랜드#디자인', '브랜드#인지도', '브랜드#일반', '브랜드#품질', \n",
        "    '제품 전체#가격', '제품 전체#다양성', '제품 전체#디자인', '제품 전체#인지도', '제품 전체#일반', '제품 전체#편의성', '제품 전체#품질', \n",
        "    '패키지/구성품#가격', '패키지/구성품#다양성', '패키지/구성품#디자인', '패키지/구성품#일반', '패키지/구성품#편의성', '패키지/구성품#품질'\n",
        "]\n",
        "\n",
        "entity_property_pair.sort()\n",
        "\n",
        "entity_name_to_id = {entity_property_pair[i]: i for i in range( len(entity_property_pair) )}\n",
        "entity_id_to_name = {v:k for k, v in entity_name_to_id.items()}\n",
        "\n",
        "label_id_to_name = ['True', 'False']\n",
        "label_name_to_id = {label_id_to_name[i]: i for i in range(len(label_id_to_name))}\n",
        "\n",
        "polarity_id_to_name = ['positive', 'negative', 'neutral']\n",
        "polarity_name_to_id = {polarity_id_to_name[i]: i for i in range(len(polarity_id_to_name))}"
      ]
    },
    {
      "cell_type": "code",
      "execution_count": 12,
      "metadata": {
        "id": "5ryH3sFX-HLW"
      },
      "outputs": [],
      "source": [
        "from copy import deepcopy\n",
        "def convert(array: np.array, data: list):\n",
        "    iter = array.shape[0]\n",
        "    if iter != len(data):\n",
        "        raise ValueError\n",
        "    result = deepcopy(data)\n",
        "    for i in range(iter):\n",
        "        ind = np.where(array[i]==1)[0]\n",
        "        result[i]['annotation'] = [[ entity_id_to_name[k], 'positive'] for k in ind]\n",
        "    return result"
      ]
    },
    {
      "cell_type": "markdown",
      "metadata": {
        "id": "ghClg3IcE3oe"
      },
      "source": [
        "# Set model"
      ]
    },
    {
      "cell_type": "markdown",
      "metadata": {
        "id": "z6jGKA3V4ox0"
      },
      "source": [
        "## ACD: electra"
      ]
    },
    {
      "cell_type": "code",
      "execution_count": null,
      "metadata": {
        "colab": {
          "base_uri": "https://localhost:8080/",
          "height": 254,
          "referenced_widgets": [
            "8e83aeed8adb48f2ab8af24d5f9c2060",
            "f948fbc9b41a4d078ca65fdf1bcb0f76",
            "ad0b922b7f2540649982f80ab4a3de1e",
            "0cc77d504e8f4f9299b3d0c55190c228",
            "8c91e5db9d904ab881c2fa8d74f9a11d",
            "8728133356794db393820aed051184ad",
            "d87ecc984ae24ff0a633facf76aab465",
            "dd6989a0bf784307841cfc504147abf8",
            "eab29182c16246249dab060a26acc9a0",
            "6b6a42994f06443d97980ab26865b141",
            "90cfb46022aa4f2c9de76dc76b53683c",
            "55c96bb60501411ea64c88ce4582ce33",
            "1d23edf64fa04d989708fc8f5f763268",
            "45099ea1613d44f189720f96b4aa1108",
            "0fcbf0b69c7244c19cabb4b62d092b3c",
            "120750ceb5c24d97baafb169f32cbc39",
            "4088b41215c444548a685827084da69d",
            "10b2713cd9dc403cbebb89ba0d21ad0e",
            "567bf66ea8c44e3f81a30071815eb3a5",
            "9772d2ae9b664f0a94d733738d564070",
            "4988a8c9d82f4eae8d155cc76fa01b04",
            "180591ccf6804011966d59ce90b7bed8",
            "a38ac4382ade48b9ad1eb411d51a89f2",
            "c0978b4c416d43ad8b4983e6661bdd15",
            "ae02c7adbe274f48a7d811f4abaffcff",
            "18399349d43e41c6948b1e08f589ab3f",
            "f453f3b4b72e4027af9660489ed3ce0f",
            "191588a0447749f0babec49cbd57fe12",
            "abcef9d0fed84908aaf06b45842fbaa2",
            "e989552d2ebd476f951649ad1c8bb5b3",
            "ceb3d9c03dfe429fad3e8f6553dd5f67",
            "b687f182a02743d5b6c80f1141b61f49",
            "389c509129ab4e24ae28fadc39c4db8d",
            "6ecba4cfb8054a08920812f514f8c35f",
            "be4416603820418ebe4c743f456afe51",
            "76844a0aa88343a3b6146412beb96fb5",
            "87d3f5db4b654f24bed21ecd3ff32d0b",
            "ab69ebec2ee84fd9b3d0092fb63f0492",
            "b45b81404d1a4083bffdb47174ad03ba",
            "7b3b3d5d7dfd488d93e01dc73249a6cc",
            "6bd2faa3891244b58c7621ccef894d97",
            "058686102e4444d584e90b0a167d36cc",
            "4d99e5cde00d4a71b8f065e30d386f0b",
            "26d2188a4d754609bbe80a2e31743733"
          ]
        },
        "id": "6UmB7loCE_nb",
        "outputId": "f0af2bdb-4c55-457b-abc7-b5bdff8ac8e0"
      },
      "outputs": [],
      "source": [
        "tokenizer = ElectraTokenizerFast.from_pretrained(\"kykim/electra-kor-base\")\n",
        "model = ElectraForSequenceClassification.from_pretrained(\"kykim/electra-kor-base\", num_labels = 1)"
      ]
    },
    {
      "cell_type": "code",
      "execution_count": null,
      "metadata": {
        "colab": {
          "base_uri": "https://localhost:8080/"
        },
        "id": "l94hFHANL18C",
        "outputId": "3c54a011-cf7f-402d-aee7-b3d81eea8c25"
      },
      "outputs": [],
      "source": [
        "state_dict = torch.load(acd_save_path, map_location = 'cpu')\n",
        "\n",
        "model.load_state_dict(state_dict)\n",
        "model.to(device)\n",
        "print()"
      ]
    },
    {
      "cell_type": "markdown",
      "metadata": {
        "id": "DW4yRTE1L18C"
      },
      "source": [
        "## ASC: electra"
      ]
    },
    {
      "cell_type": "code",
      "execution_count": null,
      "metadata": {
        "colab": {
          "base_uri": "https://localhost:8080/"
        },
        "id": "VPU5reiSL18C",
        "outputId": "51e8e7f4-fc27-47d5-85e0-4e3114b66a8d"
      },
      "outputs": [],
      "source": [
        "model_asc = ElectraForSequenceClassification.from_pretrained(\"kykim/electra-kor-base\", \n",
        "                                                             num_labels = len(polarity_id_to_name))"
      ]
    },
    {
      "cell_type": "code",
      "execution_count": null,
      "metadata": {
        "colab": {
          "base_uri": "https://localhost:8080/"
        },
        "id": "mqHonoL_L18C",
        "outputId": "0ce0ff77-c3a1-4379-a418-0aa5b5407daf"
      },
      "outputs": [],
      "source": [
        "state_dict = torch.load(asc_save_path, map_location = 'cpu')\n",
        "\n",
        "model_asc.load_state_dict(state_dict)\n",
        "model_asc.to(device)\n",
        "print()"
      ]
    },
    {
      "cell_type": "markdown",
      "metadata": {
        "id": "tJn5D-xo-vHW"
      },
      "source": [
        "# data loader"
      ]
    },
    {
      "cell_type": "markdown",
      "metadata": {
        "id": "Ezg8ukhWJy6-"
      },
      "source": [
        "## ACD"
      ]
    },
    {
      "cell_type": "code",
      "execution_count": 18,
      "metadata": {
        "id": "9pm9qoMmE1xT"
      },
      "outputs": [],
      "source": [
        "def get_devset(batch, train, max_len = 512):\n",
        "    train_docs = [t['sentence_form'] for t in train]\n",
        "    docs = [train_docs[b] for b in batch]\n",
        "    train_batch = [train[b] for b in batch]\n",
        "\n",
        "    result = []\n",
        "    labels = []\n",
        "    \n",
        "    for idx, t in enumerate(train_batch):\n",
        "        lab = torch.zeros(max_len, dtype=torch.long)\n",
        "        cat_ids = [0] * len(entity_name_to_id)\n",
        "        for a in t['annotation']:\n",
        "            cat_ids[entity_name_to_id[a[0]]] = 1\n",
        "        \n",
        "        sents = [t['sentence_form']] * len(entity_name_to_id)\n",
        "        cats = list(entity_name_to_id.keys())\n",
        "        tokenized = tokenizer(sents, cats, padding='max_length', truncation=True, max_length=max_len)\n",
        "        tokenized = [v for k, v in tokenized.items()]\n",
        "        result.append(tokenized)\n",
        "        labels.append(cat_ids)\n",
        "\n",
        "    result = torch.tensor(result, dtype=torch.long).transpose(1,2)\n",
        "    labels = torch.tensor(labels, dtype=torch.long)\n",
        "    print(result.shape, labels.shape)\n",
        "    return result, labels\n"
      ]
    },
    {
      "cell_type": "code",
      "execution_count": 19,
      "metadata": {
        "colab": {
          "base_uri": "https://localhost:8080/"
        },
        "id": "ha5R7mVCNl9h",
        "outputId": "90bd3b54-e423-4076-e0cb-836897a5c650"
      },
      "outputs": [
        {
          "name": "stdout",
          "output_type": "stream",
          "text": [
            "torch.Size([2794, 25, 3, 512]) torch.Size([2794, 25])\n"
          ]
        }
      ],
      "source": [
        "# for devset\n",
        "# 실행할 필요 없음\n",
        "\n",
        "dev_range = torch.arange(len(val))\n",
        "dev_ds = TensorDataset(*get_devset(dev_range, val))\n",
        "dev_loader = DataLoader(dev_ds, sampler=SequentialSampler(dev_ds), batch_size=16)"
      ]
    },
    {
      "cell_type": "code",
      "execution_count": 20,
      "metadata": {
        "colab": {
          "base_uri": "https://localhost:8080/"
        },
        "id": "P30Y_z5pJ4sV",
        "outputId": "bd7a954b-2ce5-4c11-8695-e4745949d335"
      },
      "outputs": [
        {
          "name": "stdout",
          "output_type": "stream",
          "text": [
            "torch.Size([2127, 25, 3, 512]) torch.Size([2127, 25])\n"
          ]
        }
      ],
      "source": [
        "# for testset\n",
        "\n",
        "test_range = torch.arange(len(test))\n",
        "test_ds = TensorDataset(*get_devset(test_range, test))\n",
        "test_loader = DataLoader(test_ds, sampler=SequentialSampler(test_ds), batch_size=16)"
      ]
    },
    {
      "cell_type": "markdown",
      "metadata": {
        "id": "yFPnqyB9L18F"
      },
      "source": [
        "# Inference"
      ]
    },
    {
      "cell_type": "markdown",
      "metadata": {
        "id": "kkMR76m54JwM"
      },
      "source": [
        "## ACD"
      ]
    },
    {
      "cell_type": "markdown",
      "metadata": {
        "id": "A1XGcpexb5Es"
      },
      "source": [
        "#### val: 실행할 필요 없음"
      ]
    },
    {
      "cell_type": "code",
      "execution_count": 23,
      "metadata": {
        "colab": {
          "base_uri": "https://localhost:8080/"
        },
        "id": "akRlOlGKvN7X",
        "outputId": "dc697aba-9705-4012-ed25-5f275a66f1ec"
      },
      "outputs": [
        {
          "name": "stderr",
          "output_type": "stream",
          "text": [
            "100%|██████████| 175/175 [02:20<00:00,  1.25it/s]\n"
          ]
        }
      ],
      "source": [
        "# logit_threshold = .2\n",
        "# topk = 1\n",
        "\n",
        "model.eval()\n",
        "dev_pred = np.array([], dtype = np.float32).reshape(-1, len(entity_name_to_id))\n",
        "dev_true = np.array([], dtype = np.int32).reshape(-1, len(entity_name_to_id))\n",
        "dev_losses = []\n",
        "# dev_step = 0\n",
        "\n",
        "for batch in tqdm(dev_loader):\n",
        "    inputs, labels = [b.to(device) for b in batch]\n",
        "    \n",
        "    inputs = inputs.reshape(-1, 3, 512)\n",
        "    input_ids, input_segment, input_masks = inputs[:,0], inputs[:,1], inputs[:,2]\n",
        "    len_max = max(input_masks.sum(-1))\n",
        "    input_ids, input_masks, segment_ids = input_ids[:,:len_max], input_masks[:,:len_max], input_segment[:,:len_max]\n",
        "\n",
        "    with torch.no_grad():\n",
        "        outputs = model(input_ids, input_masks, segment_ids)\n",
        "        # b * num cats\n",
        "        cls_logit = outputs['logits'].reshape(-1, len(entity_name_to_id))\n",
        "        lab = labels.float() / labels.sum(1, keepdim = True)\n",
        "        dev_losses.append(torch.nn.CrossEntropyLoss()(cls_logit, lab).item())\n",
        "        \n",
        "    true = labels.detach().cpu().numpy()\n",
        "        \n",
        "    # pred = (torch.nn.Softmax(-1)(cls_logit) > logit_threshold).int().detach().cpu().numpy()\n",
        "    pred = cls_logit.detach().cpu().numpy()\n",
        "    # if np.where(pred.sum(-1) == 0)[0].size == 0:\n",
        "    #     pass\n",
        "    # else:\n",
        "    #     replaced_ind = np.where(pred.sum(-1) == 0)[0]\n",
        "    #     replace = F.one_hot( torch.topk(cls_logit, topk, -1)[1], len(entity_name_to_id) ).sum(1).detach().cpu().numpy()\n",
        "    #     pred[replaced_ind] = replace[replaced_ind]\n",
        "    # pred = F.one_hot( torch.topk(cls_logit, 2, -1)[1], len(entity_name_to_id)//2 ).sum(1).detach().cpu().numpy()\n",
        "    # pred = (F.one_hot(outputs['logits'].argmax(2), len(entity_name_to_id)+1).sum(1)).detach().cpu()\n",
        "    # pred = (pred[:, 1::2] + pred[:, 2::2] > 0).int().numpy()\n",
        "\n",
        "    dev_pred = np.vstack((dev_pred, pred))\n",
        "    dev_true = np.vstack((dev_true, true))"
      ]
    },
    {
      "cell_type": "code",
      "execution_count": 24,
      "metadata": {
        "colab": {
          "base_uri": "https://localhost:8080/"
        },
        "id": "EpWo-QxlTDba",
        "outputId": "f28edb4c-ae79-49d2-ec55-c598264d09cb"
      },
      "outputs": [
        {
          "name": "stderr",
          "output_type": "stream",
          "text": [
            "100%|██████████| 1000/1000 [01:02<00:00, 15.97it/s]\n"
          ]
        }
      ],
      "source": [
        "threshold = np.linspace(0, 4, 1000)\n",
        "res = []\n",
        "\n",
        "for thr in tqdm(threshold):\n",
        "    dev_pred_ = (dev_pred > thr).astype(np.int32)\n",
        "    replaced_ind = np.where(dev_pred_.sum(-1) == 0)[0]\n",
        "    argmax = dev_pred[replaced_ind].argsort(-1)[:, -1:]\n",
        "\n",
        "    zeros = np.zeros((replaced_ind.size, len(entity_id_to_name)))\n",
        "    zeros[np.arange(argmax.shape[0]).reshape(-1, 1), argmax] = 1\n",
        "\n",
        "    dev_pred_[replaced_ind] = zeros\n",
        "    res.append(evaluation_f1(val, convert(dev_pred_, val))['category extraction result']['F1'])\n"
      ]
    },
    {
      "cell_type": "code",
      "execution_count": 29,
      "metadata": {
        "colab": {
          "base_uri": "https://localhost:8080/"
        },
        "id": "W5EZd5wNOjp9",
        "outputId": "5be36784-dbff-4ccb-80d5-58f77a046849"
      },
      "outputs": [
        {
          "data": {
            "text/plain": [
              "(3.3633633633633635, 0.7369770796602019)"
            ]
          },
          "execution_count": 29,
          "metadata": {},
          "output_type": "execute_result"
        }
      ],
      "source": [
        "threshold[(np.array(res)).argmax()], res[(np.array(res)).argmax()]"
      ]
    },
    {
      "cell_type": "code",
      "execution_count": 36,
      "metadata": {
        "id": "8ifRYsXpejG4"
      },
      "outputs": [],
      "source": [
        "best_logit_threshold = 3.3633633633633635"
      ]
    },
    {
      "cell_type": "code",
      "execution_count": 30,
      "metadata": {
        "colab": {
          "base_uri": "https://localhost:8080/",
          "height": 265
        },
        "id": "uJornQOgvhzd",
        "outputId": "b7f41b40-a9cd-4ce8-e20c-180f03748ea5"
      },
      "outputs": [
        {
          "data": {
            "image/png": "[encoded data removed]",
            "text/plain": [
              "<Figure size 432x288 with 1 Axes>"
            ]
          },
          "metadata": {
            "needs_background": "light"
          },
          "output_type": "display_data"
        }
      ],
      "source": [
        "plt.plot(threshold, res)\n",
        "plt.show()"
      ]
    },
    {
      "cell_type": "markdown",
      "metadata": {
        "id": "KBqi6eb5NHUj"
      },
      "source": [
        "### inference"
      ]
    },
    {
      "cell_type": "code",
      "execution_count": null,
      "metadata": {},
      "outputs": [],
      "source": [
        "best_logit_threshold = 3.3633633633633635"
      ]
    },
    {
      "cell_type": "code",
      "execution_count": 21,
      "metadata": {
        "colab": {
          "base_uri": "https://localhost:8080/"
        },
        "id": "NDNddeyTNI5l",
        "outputId": "4576a16f-884a-4e6d-f217-f3b6f5a4374b"
      },
      "outputs": [
        {
          "name": "stderr",
          "output_type": "stream",
          "text": [
            "100%|██████████| 133/133 [02:18<00:00,  1.04s/it]\n"
          ]
        }
      ],
      "source": [
        "# electra\n",
        "\n",
        "# logit_threshold = .2\n",
        "# topk = 1\n",
        "\n",
        "proba_thre = False\n",
        "\n",
        "model.eval()\n",
        "if proba_thre:\n",
        "    test_pred = np.array([], dtype = np.int32).reshape(-1, len(entity_name_to_id))\n",
        "else:\n",
        "    test_pred = np.array([], dtype = np.float32).reshape(-1, len(entity_name_to_id))\n",
        "\n",
        "for batch in tqdm(test_loader):\n",
        "    inputs, _ = [b.to(device) for b in batch]\n",
        "    \n",
        "    inputs = inputs.reshape(-1, 3, 512)\n",
        "    input_ids, input_segment, input_masks = inputs[:,0], inputs[:,1], inputs[:,2]\n",
        "    len_max = max(input_masks.sum(-1))\n",
        "    input_ids, input_masks, segment_ids = input_ids[:,:len_max], input_masks[:,:len_max], input_segment[:,:len_max]\n",
        "\n",
        "    with torch.no_grad():\n",
        "        outputs = model(input_ids, input_masks, segment_ids)\n",
        "        # b * num cats\n",
        "        cls_logit = outputs['logits'].reshape(-1, len(entity_name_to_id))\n",
        "        # lab = labels.float() / labels.sum(1, keepdim = True)\n",
        "        # dev_losses.append(torch.nn.CrossEntropyLoss()(cls_logit, lab).item())\n",
        "        # true = labels.detach().cpu().numpy()\n",
        "            \n",
        "    if proba_thre:\n",
        "        pred = (torch.nn.Softmax(-1)(cls_logit) > logit_threshold).int().detach().cpu().numpy()\n",
        "        if np.where(pred.sum(-1) == 0)[0].size == 0:\n",
        "            pass\n",
        "        else:\n",
        "            replaced_ind = np.where(pred.sum(-1) == 0)[0]\n",
        "            replace = F.one_hot( torch.topk(cls_logit, topk, -1)[1], len(entity_name_to_id) ).sum(1).detach().cpu().numpy()\n",
        "            pred[replaced_ind] = replace[replaced_ind]\n",
        "\n",
        "        test_pred = np.vstack((test_pred, pred))\n",
        "    else:\n",
        "        pred = cls_logit.detach().cpu().numpy()\n",
        "        test_pred = np.vstack((test_pred, pred))\n",
        "    # pred = F.one_hot( torch.topk(cls_logit, 2, -1)[1], len(entity_name_to_id)//2 ).sum(1).detach().cpu().numpy()\n",
        "    # pred = (F.one_hot(outputs['logits'].argmax(2), len(entity_name_to_id)+1).sum(1)).detach().cpu()\n",
        "    # pred = (pred[:, 1::2] + pred[:, 2::2] > 0).int().numpy()"
      ]
    },
    {
      "cell_type": "code",
      "execution_count": 37,
      "metadata": {
        "colab": {
          "base_uri": "https://localhost:8080/"
        },
        "id": "y-8V4WNoepVG",
        "outputId": "31175556-569b-4802-8b7c-aa31b6c2054a"
      },
      "outputs": [
        {
          "name": "stdout",
          "output_type": "stream",
          "text": [
            "3.3633633633633635\n"
          ]
        }
      ],
      "source": [
        "print(best_logit_threshold)"
      ]
    },
    {
      "cell_type": "code",
      "execution_count": 38,
      "metadata": {
        "id": "yw4GC-6EpmjK"
      },
      "outputs": [],
      "source": [
        "lth = best_logit_threshold\n",
        "test_pred_ = (test_pred > lth).astype(np.int32)\n",
        "# print(np.unique(test_pred_.sum(-1), return_counts = True))\n",
        "\n",
        "replaced_ind = np.where(test_pred_.sum(-1) == 0)[0]\n",
        "argmax = test_pred[replaced_ind].argmax(-1)\n",
        "\n",
        "replace = np.zeros((replaced_ind.size, len(entity_id_to_name)))\n",
        "replace[np.arange(argmax.size), argmax] = 1\n",
        "\n",
        "test_pred_[replaced_ind] = replace\n",
        "test_result = convert(test_pred_, test)"
      ]
    },
    {
      "cell_type": "markdown",
      "metadata": {
        "id": "fCUoiz4R4PQi"
      },
      "source": [
        "## ASC"
      ]
    },
    {
      "cell_type": "code",
      "execution_count": 40,
      "metadata": {
        "id": "EWm1ge0Z3SkF"
      },
      "outputs": [],
      "source": [
        "def get_testset(batch, train, max_len = 512):\n",
        "    train_docs = [t['sentence_form'] for t in train]\n",
        "    docs = [train_docs[b] for b in batch]\n",
        "    train_batch = [train[b] for b in batch]\n",
        "\n",
        "    result = torch.LongTensor([]).reshape(-1, 3, max_len)\n",
        "    labels = []\n",
        "    \n",
        "    for idx, t in enumerate(train_batch):\n",
        "        polar = []\n",
        "        entity = []\n",
        "        for a in t['annotation']:\n",
        "            entity.append(a[0])\n",
        "            polar.append(a[1])\n",
        "        \n",
        "        sents = [t['sentence_form']] * len(entity)\n",
        "        tokenized = tokenizer(sents, entity, padding='max_length', truncation=True, max_length=max_len)\n",
        "        tokenized = torch.LongTensor([v for k, v in tokenized.items()]).transpose(0, 1 )\n",
        "        result = torch.vstack((result, tokenized))\n",
        "        labels += [ polarity_name_to_id[p] for p in polar]\n",
        "\n",
        "    labels = torch.tensor(labels, dtype=torch.long)\n",
        "    return result, labels"
      ]
    },
    {
      "cell_type": "code",
      "execution_count": 41,
      "metadata": {
        "id": "TZTxuugeQUET"
      },
      "outputs": [],
      "source": [
        "test_range_asc = torch.arange(len(test))\n",
        "test_ds_asc = TensorDataset(test_range_asc)\n",
        "test_loader_asc = DataLoader(test_ds_asc, sampler=SequentialSampler(test_ds_asc), batch_size=1)"
      ]
    },
    {
      "cell_type": "code",
      "execution_count": 42,
      "metadata": {
        "colab": {
          "base_uri": "https://localhost:8080/"
        },
        "id": "Bf-ikrOoQXK-",
        "outputId": "145a1c6b-1315-4650-d017-2dc6a706da93"
      },
      "outputs": [
        {
          "name": "stderr",
          "output_type": "stream",
          "text": [
            "100%|██████████| 2127/2127 [00:49<00:00, 43.31it/s]\n"
          ]
        }
      ],
      "source": [
        "model_asc.eval()\n",
        "test_pred_ids = np.array([])\n",
        "\n",
        "for batch in tqdm(test_loader_asc):\n",
        "    inputs, _ = get_testset(batch[0], test_result, )\n",
        "    inputs = inputs.to(device)\n",
        "    \n",
        "    input_ids, input_segment, input_masks = inputs[:,0], inputs[:,1], inputs[:,2]\n",
        "    len_max = max(input_masks.sum(-1))\n",
        "    input_ids, input_masks, segment_ids = input_ids[:,:len_max], input_masks[:,:len_max], input_segment[:,:len_max]\n",
        "\n",
        "    with torch.no_grad():\n",
        "        outputs = model_asc(input_ids, input_masks, segment_ids)\n",
        "        # b * num cats\n",
        "        cls_logit = outputs['logits']\n",
        "        # dev_losses.append(torch.nn.CrossEntropyLoss()(cls_logit, labels).item())\n",
        "        \n",
        "        # true = labels.unsqueeze(0).detach().cpu().numpy()\n",
        "            \n",
        "        pred = cls_logit.argmax(1).detach().cpu().numpy()\n",
        "        # pred = F.one_hot( torch.topk(cls_logit, 2, -1)[1], len(entity_name_to_id)//2 ).sum(1).detach().cpu().numpy()\n",
        "        # pred = (F.one_hot(outputs['logits'].argmax(2), len(entity_name_to_id)+1).sum(1)).detach().cpu()\n",
        "        # pred = (pred[:, 1::2] + pred[:, 2::2] > 0).int().numpy()\n",
        "    test_pred_ids = np.append(test_pred_ids, pred)\n",
        "    for ip, pp in enumerate(pred):\n",
        "        test_result[batch[0].item()]['annotation'][ip][-1] = polarity_id_to_name[pp]"
      ]
    },
    {
      "cell_type": "markdown",
      "metadata": {
        "id": "UiCgCvdheKoN"
      },
      "source": [
        "# Submission"
      ]
    },
    {
      "cell_type": "code",
      "execution_count": 30,
      "metadata": {
        "id": "OBPE538PcVFk"
      },
      "outputs": [],
      "source": [
        "os.makedirs('output', exist_ok=True)"
      ]
    },
    {
      "cell_type": "code",
      "execution_count": 34,
      "metadata": {
        "id": "tLHCqTa0SBTZ"
      },
      "outputs": [],
      "source": [
        "with open(output_save_path, 'w', encoding = 'utf-8') as f:\n",
        "    for i in test_result:\n",
        "        f.write(json.dumps(i, ensure_ascii=False) + '\\n')"
      ]
    }
  ],
  "metadata": {
    "accelerator": "GPU",
    "colab": {
      "collapsed_sections": [
        "ofotWdW77t6V",
        "A1XGcpexb5Es"
      ],
      "provenance": [],
      "toc_visible": true
    },
    "gpuClass": "standard",
    "kernelspec": {
      "display_name": "Python 3.8.9 64-bit",
      "language": "python",
      "name": "python3"
    },
    "language_info": {
      "name": "python",
      "version": "3.8.9"
    },
    "vscode": {
      "interpreter": {
        "hash": "31f2aee4e71d21fbe5cf8b01ff0e069b9275f58929596ceb00d14d90e3e16cd6"
      }
    },
    "widgets": {
      "application/vnd.jupyter.widget-state+json": {
        "058686102e4444d584e90b0a167d36cc": {
          "model_module": "@jupyter-widgets/controls",
          "model_module_version": "1.5.0",
          "model_name": "ProgressStyleModel",
          "state": {
            "_model_module": "@jupyter-widgets/controls",
            "_model_module_version": "1.5.0",
            "_model_name": "ProgressStyleModel",
            "_view_count": null,
            "_view_module": "@jupyter-widgets/base",
            "_view_module_version": "1.2.0",
            "_view_name": "StyleView",
            "bar_color": null,
            "description_width": ""
          }
        },
        "0cc77d504e8f4f9299b3d0c55190c228": {
          "model_module": "@jupyter-widgets/controls",
          "model_module_version": "1.5.0",
          "model_name": "HTMLModel",
          "state": {
            "_dom_classes": [],
            "_model_module": "@jupyter-widgets/controls",
            "_model_module_version": "1.5.0",
            "_model_name": "HTMLModel",
            "_view_count": null,
            "_view_module": "@jupyter-widgets/controls",
            "_view_module_version": "1.5.0",
            "_view_name": "HTMLView",
            "description": "",
            "description_tooltip": null,
            "layout": "IPY_MODEL_6b6a42994f06443d97980ab26865b141",
            "placeholder": "​",
            "style": "IPY_MODEL_90cfb46022aa4f2c9de76dc76b53683c",
            "value": " 80.0/80.0 [00:00&lt;00:00, 2.94kB/s]"
          }
        },
        "0fcbf0b69c7244c19cabb4b62d092b3c": {
          "model_module": "@jupyter-widgets/controls",
          "model_module_version": "1.5.0",
          "model_name": "HTMLModel",
          "state": {
            "_dom_classes": [],
            "_model_module": "@jupyter-widgets/controls",
            "_model_module_version": "1.5.0",
            "_model_name": "HTMLModel",
            "_view_count": null,
            "_view_module": "@jupyter-widgets/controls",
            "_view_module_version": "1.5.0",
            "_view_name": "HTMLView",
            "description": "",
            "description_tooltip": null,
            "layout": "IPY_MODEL_4988a8c9d82f4eae8d155cc76fa01b04",
            "placeholder": "​",
            "style": "IPY_MODEL_180591ccf6804011966d59ce90b7bed8",
            "value": " 344k/344k [00:00&lt;00:00, 6.59MB/s]"
          }
        },
        "10b2713cd9dc403cbebb89ba0d21ad0e": {
          "model_module": "@jupyter-widgets/controls",
          "model_module_version": "1.5.0",
          "model_name": "DescriptionStyleModel",
          "state": {
            "_model_module": "@jupyter-widgets/controls",
            "_model_module_version": "1.5.0",
            "_model_name": "DescriptionStyleModel",
            "_view_count": null,
            "_view_module": "@jupyter-widgets/base",
            "_view_module_version": "1.2.0",
            "_view_name": "StyleView",
            "description_width": ""
          }
        },
        "120750ceb5c24d97baafb169f32cbc39": {
          "model_module": "@jupyter-widgets/base",
          "model_module_version": "1.2.0",
          "model_name": "LayoutModel",
          "state": {
            "_model_module": "@jupyter-widgets/base",
            "_model_module_version": "1.2.0",
            "_model_name": "LayoutModel",
            "_view_count": null,
            "_view_module": "@jupyter-widgets/base",
            "_view_module_version": "1.2.0",
            "_view_name": "LayoutView",
            "align_content": null,
            "align_items": null,
            "align_self": null,
            "border": null,
            "bottom": null,
            "display": null,
            "flex": null,
            "flex_flow": null,
            "grid_area": null,
            "grid_auto_columns": null,
            "grid_auto_flow": null,
            "grid_auto_rows": null,
            "grid_column": null,
            "grid_gap": null,
            "grid_row": null,
            "grid_template_areas": null,
            "grid_template_columns": null,
            "grid_template_rows": null,
            "height": null,
            "justify_content": null,
            "justify_items": null,
            "left": null,
            "margin": null,
            "max_height": null,
            "max_width": null,
            "min_height": null,
            "min_width": null,
            "object_fit": null,
            "object_position": null,
            "order": null,
            "overflow": null,
            "overflow_x": null,
            "overflow_y": null,
            "padding": null,
            "right": null,
            "top": null,
            "visibility": null,
            "width": null
          }
        },
        "180591ccf6804011966d59ce90b7bed8": {
          "model_module": "@jupyter-widgets/controls",
          "model_module_version": "1.5.0",
          "model_name": "DescriptionStyleModel",
          "state": {
            "_model_module": "@jupyter-widgets/controls",
            "_model_module_version": "1.5.0",
            "_model_name": "DescriptionStyleModel",
            "_view_count": null,
            "_view_module": "@jupyter-widgets/base",
            "_view_module_version": "1.2.0",
            "_view_name": "StyleView",
            "description_width": ""
          }
        },
        "18399349d43e41c6948b1e08f589ab3f": {
          "model_module": "@jupyter-widgets/controls",
          "model_module_version": "1.5.0",
          "model_name": "HTMLModel",
          "state": {
            "_dom_classes": [],
            "_model_module": "@jupyter-widgets/controls",
            "_model_module_version": "1.5.0",
            "_model_name": "HTMLModel",
            "_view_count": null,
            "_view_module": "@jupyter-widgets/controls",
            "_view_module_version": "1.5.0",
            "_view_name": "HTMLView",
            "description": "",
            "description_tooltip": null,
            "layout": "IPY_MODEL_b687f182a02743d5b6c80f1141b61f49",
            "placeholder": "​",
            "style": "IPY_MODEL_389c509129ab4e24ae28fadc39c4db8d",
            "value": " 620/620 [00:00&lt;00:00, 17.4kB/s]"
          }
        },
        "191588a0447749f0babec49cbd57fe12": {
          "model_module": "@jupyter-widgets/base",
          "model_module_version": "1.2.0",
          "model_name": "LayoutModel",
          "state": {
            "_model_module": "@jupyter-widgets/base",
            "_model_module_version": "1.2.0",
            "_model_name": "LayoutModel",
            "_view_count": null,
            "_view_module": "@jupyter-widgets/base",
            "_view_module_version": "1.2.0",
            "_view_name": "LayoutView",
            "align_content": null,
            "align_items": null,
            "align_self": null,
            "border": null,
            "bottom": null,
            "display": null,
            "flex": null,
            "flex_flow": null,
            "grid_area": null,
            "grid_auto_columns": null,
            "grid_auto_flow": null,
            "grid_auto_rows": null,
            "grid_column": null,
            "grid_gap": null,
            "grid_row": null,
            "grid_template_areas": null,
            "grid_template_columns": null,
            "grid_template_rows": null,
            "height": null,
            "justify_content": null,
            "justify_items": null,
            "left": null,
            "margin": null,
            "max_height": null,
            "max_width": null,
            "min_height": null,
            "min_width": null,
            "object_fit": null,
            "object_position": null,
            "order": null,
            "overflow": null,
            "overflow_x": null,
            "overflow_y": null,
            "padding": null,
            "right": null,
            "top": null,
            "visibility": null,
            "width": null
          }
        },
        "1d23edf64fa04d989708fc8f5f763268": {
          "model_module": "@jupyter-widgets/controls",
          "model_module_version": "1.5.0",
          "model_name": "HTMLModel",
          "state": {
            "_dom_classes": [],
            "_model_module": "@jupyter-widgets/controls",
            "_model_module_version": "1.5.0",
            "_model_name": "HTMLModel",
            "_view_count": null,
            "_view_module": "@jupyter-widgets/controls",
            "_view_module_version": "1.5.0",
            "_view_name": "HTMLView",
            "description": "",
            "description_tooltip": null,
            "layout": "IPY_MODEL_4088b41215c444548a685827084da69d",
            "placeholder": "​",
            "style": "IPY_MODEL_10b2713cd9dc403cbebb89ba0d21ad0e",
            "value": "Downloading: 100%"
          }
        },
        "26d2188a4d754609bbe80a2e31743733": {
          "model_module": "@jupyter-widgets/controls",
          "model_module_version": "1.5.0",
          "model_name": "DescriptionStyleModel",
          "state": {
            "_model_module": "@jupyter-widgets/controls",
            "_model_module_version": "1.5.0",
            "_model_name": "DescriptionStyleModel",
            "_view_count": null,
            "_view_module": "@jupyter-widgets/base",
            "_view_module_version": "1.2.0",
            "_view_name": "StyleView",
            "description_width": ""
          }
        },
        "389c509129ab4e24ae28fadc39c4db8d": {
          "model_module": "@jupyter-widgets/controls",
          "model_module_version": "1.5.0",
          "model_name": "DescriptionStyleModel",
          "state": {
            "_model_module": "@jupyter-widgets/controls",
            "_model_module_version": "1.5.0",
            "_model_name": "DescriptionStyleModel",
            "_view_count": null,
            "_view_module": "@jupyter-widgets/base",
            "_view_module_version": "1.2.0",
            "_view_name": "StyleView",
            "description_width": ""
          }
        },
        "4088b41215c444548a685827084da69d": {
          "model_module": "@jupyter-widgets/base",
          "model_module_version": "1.2.0",
          "model_name": "LayoutModel",
          "state": {
            "_model_module": "@jupyter-widgets/base",
            "_model_module_version": "1.2.0",
            "_model_name": "LayoutModel",
            "_view_count": null,
            "_view_module": "@jupyter-widgets/base",
            "_view_module_version": "1.2.0",
            "_view_name": "LayoutView",
            "align_content": null,
            "align_items": null,
            "align_self": null,
            "border": null,
            "bottom": null,
            "display": null,
            "flex": null,
            "flex_flow": null,
            "grid_area": null,
            "grid_auto_columns": null,
            "grid_auto_flow": null,
            "grid_auto_rows": null,
            "grid_column": null,
            "grid_gap": null,
            "grid_row": null,
            "grid_template_areas": null,
            "grid_template_columns": null,
            "grid_template_rows": null,
            "height": null,
            "justify_content": null,
            "justify_items": null,
            "left": null,
            "margin": null,
            "max_height": null,
            "max_width": null,
            "min_height": null,
            "min_width": null,
            "object_fit": null,
            "object_position": null,
            "order": null,
            "overflow": null,
            "overflow_x": null,
            "overflow_y": null,
            "padding": null,
            "right": null,
            "top": null,
            "visibility": null,
            "width": null
          }
        },
        "45099ea1613d44f189720f96b4aa1108": {
          "model_module": "@jupyter-widgets/controls",
          "model_module_version": "1.5.0",
          "model_name": "FloatProgressModel",
          "state": {
            "_dom_classes": [],
            "_model_module": "@jupyter-widgets/controls",
            "_model_module_version": "1.5.0",
            "_model_name": "FloatProgressModel",
            "_view_count": null,
            "_view_module": "@jupyter-widgets/controls",
            "_view_module_version": "1.5.0",
            "_view_name": "ProgressView",
            "bar_style": "success",
            "description": "",
            "description_tooltip": null,
            "layout": "IPY_MODEL_567bf66ea8c44e3f81a30071815eb3a5",
            "max": 344259,
            "min": 0,
            "orientation": "horizontal",
            "style": "IPY_MODEL_9772d2ae9b664f0a94d733738d564070",
            "value": 344259
          }
        },
        "4988a8c9d82f4eae8d155cc76fa01b04": {
          "model_module": "@jupyter-widgets/base",
          "model_module_version": "1.2.0",
          "model_name": "LayoutModel",
          "state": {
            "_model_module": "@jupyter-widgets/base",
            "_model_module_version": "1.2.0",
            "_model_name": "LayoutModel",
            "_view_count": null,
            "_view_module": "@jupyter-widgets/base",
            "_view_module_version": "1.2.0",
            "_view_name": "LayoutView",
            "align_content": null,
            "align_items": null,
            "align_self": null,
            "border": null,
            "bottom": null,
            "display": null,
            "flex": null,
            "flex_flow": null,
            "grid_area": null,
            "grid_auto_columns": null,
            "grid_auto_flow": null,
            "grid_auto_rows": null,
            "grid_column": null,
            "grid_gap": null,
            "grid_row": null,
            "grid_template_areas": null,
            "grid_template_columns": null,
            "grid_template_rows": null,
            "height": null,
            "justify_content": null,
            "justify_items": null,
            "left": null,
            "margin": null,
            "max_height": null,
            "max_width": null,
            "min_height": null,
            "min_width": null,
            "object_fit": null,
            "object_position": null,
            "order": null,
            "overflow": null,
            "overflow_x": null,
            "overflow_y": null,
            "padding": null,
            "right": null,
            "top": null,
            "visibility": null,
            "width": null
          }
        },
        "4d99e5cde00d4a71b8f065e30d386f0b": {
          "model_module": "@jupyter-widgets/base",
          "model_module_version": "1.2.0",
          "model_name": "LayoutModel",
          "state": {
            "_model_module": "@jupyter-widgets/base",
            "_model_module_version": "1.2.0",
            "_model_name": "LayoutModel",
            "_view_count": null,
            "_view_module": "@jupyter-widgets/base",
            "_view_module_version": "1.2.0",
            "_view_name": "LayoutView",
            "align_content": null,
            "align_items": null,
            "align_self": null,
            "border": null,
            "bottom": null,
            "display": null,
            "flex": null,
            "flex_flow": null,
            "grid_area": null,
            "grid_auto_columns": null,
            "grid_auto_flow": null,
            "grid_auto_rows": null,
            "grid_column": null,
            "grid_gap": null,
            "grid_row": null,
            "grid_template_areas": null,
            "grid_template_columns": null,
            "grid_template_rows": null,
            "height": null,
            "justify_content": null,
            "justify_items": null,
            "left": null,
            "margin": null,
            "max_height": null,
            "max_width": null,
            "min_height": null,
            "min_width": null,
            "object_fit": null,
            "object_position": null,
            "order": null,
            "overflow": null,
            "overflow_x": null,
            "overflow_y": null,
            "padding": null,
            "right": null,
            "top": null,
            "visibility": null,
            "width": null
          }
        },
        "55c96bb60501411ea64c88ce4582ce33": {
          "model_module": "@jupyter-widgets/controls",
          "model_module_version": "1.5.0",
          "model_name": "HBoxModel",
          "state": {
            "_dom_classes": [],
            "_model_module": "@jupyter-widgets/controls",
            "_model_module_version": "1.5.0",
            "_model_name": "HBoxModel",
            "_view_count": null,
            "_view_module": "@jupyter-widgets/controls",
            "_view_module_version": "1.5.0",
            "_view_name": "HBoxView",
            "box_style": "",
            "children": [
              "IPY_MODEL_1d23edf64fa04d989708fc8f5f763268",
              "IPY_MODEL_45099ea1613d44f189720f96b4aa1108",
              "IPY_MODEL_0fcbf0b69c7244c19cabb4b62d092b3c"
            ],
            "layout": "IPY_MODEL_120750ceb5c24d97baafb169f32cbc39"
          }
        },
        "567bf66ea8c44e3f81a30071815eb3a5": {
          "model_module": "@jupyter-widgets/base",
          "model_module_version": "1.2.0",
          "model_name": "LayoutModel",
          "state": {
            "_model_module": "@jupyter-widgets/base",
            "_model_module_version": "1.2.0",
            "_model_name": "LayoutModel",
            "_view_count": null,
            "_view_module": "@jupyter-widgets/base",
            "_view_module_version": "1.2.0",
            "_view_name": "LayoutView",
            "align_content": null,
            "align_items": null,
            "align_self": null,
            "border": null,
            "bottom": null,
            "display": null,
            "flex": null,
            "flex_flow": null,
            "grid_area": null,
            "grid_auto_columns": null,
            "grid_auto_flow": null,
            "grid_auto_rows": null,
            "grid_column": null,
            "grid_gap": null,
            "grid_row": null,
            "grid_template_areas": null,
            "grid_template_columns": null,
            "grid_template_rows": null,
            "height": null,
            "justify_content": null,
            "justify_items": null,
            "left": null,
            "margin": null,
            "max_height": null,
            "max_width": null,
            "min_height": null,
            "min_width": null,
            "object_fit": null,
            "object_position": null,
            "order": null,
            "overflow": null,
            "overflow_x": null,
            "overflow_y": null,
            "padding": null,
            "right": null,
            "top": null,
            "visibility": null,
            "width": null
          }
        },
        "6b6a42994f06443d97980ab26865b141": {
          "model_module": "@jupyter-widgets/base",
          "model_module_version": "1.2.0",
          "model_name": "LayoutModel",
          "state": {
            "_model_module": "@jupyter-widgets/base",
            "_model_module_version": "1.2.0",
            "_model_name": "LayoutModel",
            "_view_count": null,
            "_view_module": "@jupyter-widgets/base",
            "_view_module_version": "1.2.0",
            "_view_name": "LayoutView",
            "align_content": null,
            "align_items": null,
            "align_self": null,
            "border": null,
            "bottom": null,
            "display": null,
            "flex": null,
            "flex_flow": null,
            "grid_area": null,
            "grid_auto_columns": null,
            "grid_auto_flow": null,
            "grid_auto_rows": null,
            "grid_column": null,
            "grid_gap": null,
            "grid_row": null,
            "grid_template_areas": null,
            "grid_template_columns": null,
            "grid_template_rows": null,
            "height": null,
            "justify_content": null,
            "justify_items": null,
            "left": null,
            "margin": null,
            "max_height": null,
            "max_width": null,
            "min_height": null,
            "min_width": null,
            "object_fit": null,
            "object_position": null,
            "order": null,
            "overflow": null,
            "overflow_x": null,
            "overflow_y": null,
            "padding": null,
            "right": null,
            "top": null,
            "visibility": null,
            "width": null
          }
        },
        "6bd2faa3891244b58c7621ccef894d97": {
          "model_module": "@jupyter-widgets/base",
          "model_module_version": "1.2.0",
          "model_name": "LayoutModel",
          "state": {
            "_model_module": "@jupyter-widgets/base",
            "_model_module_version": "1.2.0",
            "_model_name": "LayoutModel",
            "_view_count": null,
            "_view_module": "@jupyter-widgets/base",
            "_view_module_version": "1.2.0",
            "_view_name": "LayoutView",
            "align_content": null,
            "align_items": null,
            "align_self": null,
            "border": null,
            "bottom": null,
            "display": null,
            "flex": null,
            "flex_flow": null,
            "grid_area": null,
            "grid_auto_columns": null,
            "grid_auto_flow": null,
            "grid_auto_rows": null,
            "grid_column": null,
            "grid_gap": null,
            "grid_row": null,
            "grid_template_areas": null,
            "grid_template_columns": null,
            "grid_template_rows": null,
            "height": null,
            "justify_content": null,
            "justify_items": null,
            "left": null,
            "margin": null,
            "max_height": null,
            "max_width": null,
            "min_height": null,
            "min_width": null,
            "object_fit": null,
            "object_position": null,
            "order": null,
            "overflow": null,
            "overflow_x": null,
            "overflow_y": null,
            "padding": null,
            "right": null,
            "top": null,
            "visibility": null,
            "width": null
          }
        },
        "6ecba4cfb8054a08920812f514f8c35f": {
          "model_module": "@jupyter-widgets/controls",
          "model_module_version": "1.5.0",
          "model_name": "HBoxModel",
          "state": {
            "_dom_classes": [],
            "_model_module": "@jupyter-widgets/controls",
            "_model_module_version": "1.5.0",
            "_model_name": "HBoxModel",
            "_view_count": null,
            "_view_module": "@jupyter-widgets/controls",
            "_view_module_version": "1.5.0",
            "_view_name": "HBoxView",
            "box_style": "",
            "children": [
              "IPY_MODEL_be4416603820418ebe4c743f456afe51",
              "IPY_MODEL_76844a0aa88343a3b6146412beb96fb5",
              "IPY_MODEL_87d3f5db4b654f24bed21ecd3ff32d0b"
            ],
            "layout": "IPY_MODEL_ab69ebec2ee84fd9b3d0092fb63f0492"
          }
        },
        "76844a0aa88343a3b6146412beb96fb5": {
          "model_module": "@jupyter-widgets/controls",
          "model_module_version": "1.5.0",
          "model_name": "FloatProgressModel",
          "state": {
            "_dom_classes": [],
            "_model_module": "@jupyter-widgets/controls",
            "_model_module_version": "1.5.0",
            "_model_name": "FloatProgressModel",
            "_view_count": null,
            "_view_module": "@jupyter-widgets/controls",
            "_view_module_version": "1.5.0",
            "_view_name": "ProgressView",
            "bar_style": "success",
            "description": "",
            "description_tooltip": null,
            "layout": "IPY_MODEL_6bd2faa3891244b58c7621ccef894d97",
            "max": 473243441,
            "min": 0,
            "orientation": "horizontal",
            "style": "IPY_MODEL_058686102e4444d584e90b0a167d36cc",
            "value": 473243441
          }
        },
        "7b3b3d5d7dfd488d93e01dc73249a6cc": {
          "model_module": "@jupyter-widgets/controls",
          "model_module_version": "1.5.0",
          "model_name": "DescriptionStyleModel",
          "state": {
            "_model_module": "@jupyter-widgets/controls",
            "_model_module_version": "1.5.0",
            "_model_name": "DescriptionStyleModel",
            "_view_count": null,
            "_view_module": "@jupyter-widgets/base",
            "_view_module_version": "1.2.0",
            "_view_name": "StyleView",
            "description_width": ""
          }
        },
        "8728133356794db393820aed051184ad": {
          "model_module": "@jupyter-widgets/base",
          "model_module_version": "1.2.0",
          "model_name": "LayoutModel",
          "state": {
            "_model_module": "@jupyter-widgets/base",
            "_model_module_version": "1.2.0",
            "_model_name": "LayoutModel",
            "_view_count": null,
            "_view_module": "@jupyter-widgets/base",
            "_view_module_version": "1.2.0",
            "_view_name": "LayoutView",
            "align_content": null,
            "align_items": null,
            "align_self": null,
            "border": null,
            "bottom": null,
            "display": null,
            "flex": null,
            "flex_flow": null,
            "grid_area": null,
            "grid_auto_columns": null,
            "grid_auto_flow": null,
            "grid_auto_rows": null,
            "grid_column": null,
            "grid_gap": null,
            "grid_row": null,
            "grid_template_areas": null,
            "grid_template_columns": null,
            "grid_template_rows": null,
            "height": null,
            "justify_content": null,
            "justify_items": null,
            "left": null,
            "margin": null,
            "max_height": null,
            "max_width": null,
            "min_height": null,
            "min_width": null,
            "object_fit": null,
            "object_position": null,
            "order": null,
            "overflow": null,
            "overflow_x": null,
            "overflow_y": null,
            "padding": null,
            "right": null,
            "top": null,
            "visibility": null,
            "width": null
          }
        },
        "87d3f5db4b654f24bed21ecd3ff32d0b": {
          "model_module": "@jupyter-widgets/controls",
          "model_module_version": "1.5.0",
          "model_name": "HTMLModel",
          "state": {
            "_dom_classes": [],
            "_model_module": "@jupyter-widgets/controls",
            "_model_module_version": "1.5.0",
            "_model_name": "HTMLModel",
            "_view_count": null,
            "_view_module": "@jupyter-widgets/controls",
            "_view_module_version": "1.5.0",
            "_view_name": "HTMLView",
            "description": "",
            "description_tooltip": null,
            "layout": "IPY_MODEL_4d99e5cde00d4a71b8f065e30d386f0b",
            "placeholder": "​",
            "style": "IPY_MODEL_26d2188a4d754609bbe80a2e31743733",
            "value": " 473M/473M [00:28&lt;00:00, 15.9MB/s]"
          }
        },
        "8c91e5db9d904ab881c2fa8d74f9a11d": {
          "model_module": "@jupyter-widgets/base",
          "model_module_version": "1.2.0",
          "model_name": "LayoutModel",
          "state": {
            "_model_module": "@jupyter-widgets/base",
            "_model_module_version": "1.2.0",
            "_model_name": "LayoutModel",
            "_view_count": null,
            "_view_module": "@jupyter-widgets/base",
            "_view_module_version": "1.2.0",
            "_view_name": "LayoutView",
            "align_content": null,
            "align_items": null,
            "align_self": null,
            "border": null,
            "bottom": null,
            "display": null,
            "flex": null,
            "flex_flow": null,
            "grid_area": null,
            "grid_auto_columns": null,
            "grid_auto_flow": null,
            "grid_auto_rows": null,
            "grid_column": null,
            "grid_gap": null,
            "grid_row": null,
            "grid_template_areas": null,
            "grid_template_columns": null,
            "grid_template_rows": null,
            "height": null,
            "justify_content": null,
            "justify_items": null,
            "left": null,
            "margin": null,
            "max_height": null,
            "max_width": null,
            "min_height": null,
            "min_width": null,
            "object_fit": null,
            "object_position": null,
            "order": null,
            "overflow": null,
            "overflow_x": null,
            "overflow_y": null,
            "padding": null,
            "right": null,
            "top": null,
            "visibility": null,
            "width": null
          }
        },
        "8e83aeed8adb48f2ab8af24d5f9c2060": {
          "model_module": "@jupyter-widgets/controls",
          "model_module_version": "1.5.0",
          "model_name": "HBoxModel",
          "state": {
            "_dom_classes": [],
            "_model_module": "@jupyter-widgets/controls",
            "_model_module_version": "1.5.0",
            "_model_name": "HBoxModel",
            "_view_count": null,
            "_view_module": "@jupyter-widgets/controls",
            "_view_module_version": "1.5.0",
            "_view_name": "HBoxView",
            "box_style": "",
            "children": [
              "IPY_MODEL_f948fbc9b41a4d078ca65fdf1bcb0f76",
              "IPY_MODEL_ad0b922b7f2540649982f80ab4a3de1e",
              "IPY_MODEL_0cc77d504e8f4f9299b3d0c55190c228"
            ],
            "layout": "IPY_MODEL_8c91e5db9d904ab881c2fa8d74f9a11d"
          }
        },
        "90cfb46022aa4f2c9de76dc76b53683c": {
          "model_module": "@jupyter-widgets/controls",
          "model_module_version": "1.5.0",
          "model_name": "DescriptionStyleModel",
          "state": {
            "_model_module": "@jupyter-widgets/controls",
            "_model_module_version": "1.5.0",
            "_model_name": "DescriptionStyleModel",
            "_view_count": null,
            "_view_module": "@jupyter-widgets/base",
            "_view_module_version": "1.2.0",
            "_view_name": "StyleView",
            "description_width": ""
          }
        },
        "9772d2ae9b664f0a94d733738d564070": {
          "model_module": "@jupyter-widgets/controls",
          "model_module_version": "1.5.0",
          "model_name": "ProgressStyleModel",
          "state": {
            "_model_module": "@jupyter-widgets/controls",
            "_model_module_version": "1.5.0",
            "_model_name": "ProgressStyleModel",
            "_view_count": null,
            "_view_module": "@jupyter-widgets/base",
            "_view_module_version": "1.2.0",
            "_view_name": "StyleView",
            "bar_color": null,
            "description_width": ""
          }
        },
        "a38ac4382ade48b9ad1eb411d51a89f2": {
          "model_module": "@jupyter-widgets/controls",
          "model_module_version": "1.5.0",
          "model_name": "HBoxModel",
          "state": {
            "_dom_classes": [],
            "_model_module": "@jupyter-widgets/controls",
            "_model_module_version": "1.5.0",
            "_model_name": "HBoxModel",
            "_view_count": null,
            "_view_module": "@jupyter-widgets/controls",
            "_view_module_version": "1.5.0",
            "_view_name": "HBoxView",
            "box_style": "",
            "children": [
              "IPY_MODEL_c0978b4c416d43ad8b4983e6661bdd15",
              "IPY_MODEL_ae02c7adbe274f48a7d811f4abaffcff",
              "IPY_MODEL_18399349d43e41c6948b1e08f589ab3f"
            ],
            "layout": "IPY_MODEL_f453f3b4b72e4027af9660489ed3ce0f"
          }
        },
        "ab69ebec2ee84fd9b3d0092fb63f0492": {
          "model_module": "@jupyter-widgets/base",
          "model_module_version": "1.2.0",
          "model_name": "LayoutModel",
          "state": {
            "_model_module": "@jupyter-widgets/base",
            "_model_module_version": "1.2.0",
            "_model_name": "LayoutModel",
            "_view_count": null,
            "_view_module": "@jupyter-widgets/base",
            "_view_module_version": "1.2.0",
            "_view_name": "LayoutView",
            "align_content": null,
            "align_items": null,
            "align_self": null,
            "border": null,
            "bottom": null,
            "display": null,
            "flex": null,
            "flex_flow": null,
            "grid_area": null,
            "grid_auto_columns": null,
            "grid_auto_flow": null,
            "grid_auto_rows": null,
            "grid_column": null,
            "grid_gap": null,
            "grid_row": null,
            "grid_template_areas": null,
            "grid_template_columns": null,
            "grid_template_rows": null,
            "height": null,
            "justify_content": null,
            "justify_items": null,
            "left": null,
            "margin": null,
            "max_height": null,
            "max_width": null,
            "min_height": null,
            "min_width": null,
            "object_fit": null,
            "object_position": null,
            "order": null,
            "overflow": null,
            "overflow_x": null,
            "overflow_y": null,
            "padding": null,
            "right": null,
            "top": null,
            "visibility": null,
            "width": null
          }
        },
        "abcef9d0fed84908aaf06b45842fbaa2": {
          "model_module": "@jupyter-widgets/controls",
          "model_module_version": "1.5.0",
          "model_name": "DescriptionStyleModel",
          "state": {
            "_model_module": "@jupyter-widgets/controls",
            "_model_module_version": "1.5.0",
            "_model_name": "DescriptionStyleModel",
            "_view_count": null,
            "_view_module": "@jupyter-widgets/base",
            "_view_module_version": "1.2.0",
            "_view_name": "StyleView",
            "description_width": ""
          }
        },
        "ad0b922b7f2540649982f80ab4a3de1e": {
          "model_module": "@jupyter-widgets/controls",
          "model_module_version": "1.5.0",
          "model_name": "FloatProgressModel",
          "state": {
            "_dom_classes": [],
            "_model_module": "@jupyter-widgets/controls",
            "_model_module_version": "1.5.0",
            "_model_name": "FloatProgressModel",
            "_view_count": null,
            "_view_module": "@jupyter-widgets/controls",
            "_view_module_version": "1.5.0",
            "_view_name": "ProgressView",
            "bar_style": "success",
            "description": "",
            "description_tooltip": null,
            "layout": "IPY_MODEL_dd6989a0bf784307841cfc504147abf8",
            "max": 80,
            "min": 0,
            "orientation": "horizontal",
            "style": "IPY_MODEL_eab29182c16246249dab060a26acc9a0",
            "value": 80
          }
        },
        "ae02c7adbe274f48a7d811f4abaffcff": {
          "model_module": "@jupyter-widgets/controls",
          "model_module_version": "1.5.0",
          "model_name": "FloatProgressModel",
          "state": {
            "_dom_classes": [],
            "_model_module": "@jupyter-widgets/controls",
            "_model_module_version": "1.5.0",
            "_model_name": "FloatProgressModel",
            "_view_count": null,
            "_view_module": "@jupyter-widgets/controls",
            "_view_module_version": "1.5.0",
            "_view_name": "ProgressView",
            "bar_style": "success",
            "description": "",
            "description_tooltip": null,
            "layout": "IPY_MODEL_e989552d2ebd476f951649ad1c8bb5b3",
            "max": 620,
            "min": 0,
            "orientation": "horizontal",
            "style": "IPY_MODEL_ceb3d9c03dfe429fad3e8f6553dd5f67",
            "value": 620
          }
        },
        "b45b81404d1a4083bffdb47174ad03ba": {
          "model_module": "@jupyter-widgets/base",
          "model_module_version": "1.2.0",
          "model_name": "LayoutModel",
          "state": {
            "_model_module": "@jupyter-widgets/base",
            "_model_module_version": "1.2.0",
            "_model_name": "LayoutModel",
            "_view_count": null,
            "_view_module": "@jupyter-widgets/base",
            "_view_module_version": "1.2.0",
            "_view_name": "LayoutView",
            "align_content": null,
            "align_items": null,
            "align_self": null,
            "border": null,
            "bottom": null,
            "display": null,
            "flex": null,
            "flex_flow": null,
            "grid_area": null,
            "grid_auto_columns": null,
            "grid_auto_flow": null,
            "grid_auto_rows": null,
            "grid_column": null,
            "grid_gap": null,
            "grid_row": null,
            "grid_template_areas": null,
            "grid_template_columns": null,
            "grid_template_rows": null,
            "height": null,
            "justify_content": null,
            "justify_items": null,
            "left": null,
            "margin": null,
            "max_height": null,
            "max_width": null,
            "min_height": null,
            "min_width": null,
            "object_fit": null,
            "object_position": null,
            "order": null,
            "overflow": null,
            "overflow_x": null,
            "overflow_y": null,
            "padding": null,
            "right": null,
            "top": null,
            "visibility": null,
            "width": null
          }
        },
        "b687f182a02743d5b6c80f1141b61f49": {
          "model_module": "@jupyter-widgets/base",
          "model_module_version": "1.2.0",
          "model_name": "LayoutModel",
          "state": {
            "_model_module": "@jupyter-widgets/base",
            "_model_module_version": "1.2.0",
            "_model_name": "LayoutModel",
            "_view_count": null,
            "_view_module": "@jupyter-widgets/base",
            "_view_module_version": "1.2.0",
            "_view_name": "LayoutView",
            "align_content": null,
            "align_items": null,
            "align_self": null,
            "border": null,
            "bottom": null,
            "display": null,
            "flex": null,
            "flex_flow": null,
            "grid_area": null,
            "grid_auto_columns": null,
            "grid_auto_flow": null,
            "grid_auto_rows": null,
            "grid_column": null,
            "grid_gap": null,
            "grid_row": null,
            "grid_template_areas": null,
            "grid_template_columns": null,
            "grid_template_rows": null,
            "height": null,
            "justify_content": null,
            "justify_items": null,
            "left": null,
            "margin": null,
            "max_height": null,
            "max_width": null,
            "min_height": null,
            "min_width": null,
            "object_fit": null,
            "object_position": null,
            "order": null,
            "overflow": null,
            "overflow_x": null,
            "overflow_y": null,
            "padding": null,
            "right": null,
            "top": null,
            "visibility": null,
            "width": null
          }
        },
        "be4416603820418ebe4c743f456afe51": {
          "model_module": "@jupyter-widgets/controls",
          "model_module_version": "1.5.0",
          "model_name": "HTMLModel",
          "state": {
            "_dom_classes": [],
            "_model_module": "@jupyter-widgets/controls",
            "_model_module_version": "1.5.0",
            "_model_name": "HTMLModel",
            "_view_count": null,
            "_view_module": "@jupyter-widgets/controls",
            "_view_module_version": "1.5.0",
            "_view_name": "HTMLView",
            "description": "",
            "description_tooltip": null,
            "layout": "IPY_MODEL_b45b81404d1a4083bffdb47174ad03ba",
            "placeholder": "​",
            "style": "IPY_MODEL_7b3b3d5d7dfd488d93e01dc73249a6cc",
            "value": "Downloading: 100%"
          }
        },
        "c0978b4c416d43ad8b4983e6661bdd15": {
          "model_module": "@jupyter-widgets/controls",
          "model_module_version": "1.5.0",
          "model_name": "HTMLModel",
          "state": {
            "_dom_classes": [],
            "_model_module": "@jupyter-widgets/controls",
            "_model_module_version": "1.5.0",
            "_model_name": "HTMLModel",
            "_view_count": null,
            "_view_module": "@jupyter-widgets/controls",
            "_view_module_version": "1.5.0",
            "_view_name": "HTMLView",
            "description": "",
            "description_tooltip": null,
            "layout": "IPY_MODEL_191588a0447749f0babec49cbd57fe12",
            "placeholder": "​",
            "style": "IPY_MODEL_abcef9d0fed84908aaf06b45842fbaa2",
            "value": "Downloading: 100%"
          }
        },
        "ceb3d9c03dfe429fad3e8f6553dd5f67": {
          "model_module": "@jupyter-widgets/controls",
          "model_module_version": "1.5.0",
          "model_name": "ProgressStyleModel",
          "state": {
            "_model_module": "@jupyter-widgets/controls",
            "_model_module_version": "1.5.0",
            "_model_name": "ProgressStyleModel",
            "_view_count": null,
            "_view_module": "@jupyter-widgets/base",
            "_view_module_version": "1.2.0",
            "_view_name": "StyleView",
            "bar_color": null,
            "description_width": ""
          }
        },
        "d87ecc984ae24ff0a633facf76aab465": {
          "model_module": "@jupyter-widgets/controls",
          "model_module_version": "1.5.0",
          "model_name": "DescriptionStyleModel",
          "state": {
            "_model_module": "@jupyter-widgets/controls",
            "_model_module_version": "1.5.0",
            "_model_name": "DescriptionStyleModel",
            "_view_count": null,
            "_view_module": "@jupyter-widgets/base",
            "_view_module_version": "1.2.0",
            "_view_name": "StyleView",
            "description_width": ""
          }
        },
        "dd6989a0bf784307841cfc504147abf8": {
          "model_module": "@jupyter-widgets/base",
          "model_module_version": "1.2.0",
          "model_name": "LayoutModel",
          "state": {
            "_model_module": "@jupyter-widgets/base",
            "_model_module_version": "1.2.0",
            "_model_name": "LayoutModel",
            "_view_count": null,
            "_view_module": "@jupyter-widgets/base",
            "_view_module_version": "1.2.0",
            "_view_name": "LayoutView",
            "align_content": null,
            "align_items": null,
            "align_self": null,
            "border": null,
            "bottom": null,
            "display": null,
            "flex": null,
            "flex_flow": null,
            "grid_area": null,
            "grid_auto_columns": null,
            "grid_auto_flow": null,
            "grid_auto_rows": null,
            "grid_column": null,
            "grid_gap": null,
            "grid_row": null,
            "grid_template_areas": null,
            "grid_template_columns": null,
            "grid_template_rows": null,
            "height": null,
            "justify_content": null,
            "justify_items": null,
            "left": null,
            "margin": null,
            "max_height": null,
            "max_width": null,
            "min_height": null,
            "min_width": null,
            "object_fit": null,
            "object_position": null,
            "order": null,
            "overflow": null,
            "overflow_x": null,
            "overflow_y": null,
            "padding": null,
            "right": null,
            "top": null,
            "visibility": null,
            "width": null
          }
        },
        "e989552d2ebd476f951649ad1c8bb5b3": {
          "model_module": "@jupyter-widgets/base",
          "model_module_version": "1.2.0",
          "model_name": "LayoutModel",
          "state": {
            "_model_module": "@jupyter-widgets/base",
            "_model_module_version": "1.2.0",
            "_model_name": "LayoutModel",
            "_view_count": null,
            "_view_module": "@jupyter-widgets/base",
            "_view_module_version": "1.2.0",
            "_view_name": "LayoutView",
            "align_content": null,
            "align_items": null,
            "align_self": null,
            "border": null,
            "bottom": null,
            "display": null,
            "flex": null,
            "flex_flow": null,
            "grid_area": null,
            "grid_auto_columns": null,
            "grid_auto_flow": null,
            "grid_auto_rows": null,
            "grid_column": null,
            "grid_gap": null,
            "grid_row": null,
            "grid_template_areas": null,
            "grid_template_columns": null,
            "grid_template_rows": null,
            "height": null,
            "justify_content": null,
            "justify_items": null,
            "left": null,
            "margin": null,
            "max_height": null,
            "max_width": null,
            "min_height": null,
            "min_width": null,
            "object_fit": null,
            "object_position": null,
            "order": null,
            "overflow": null,
            "overflow_x": null,
            "overflow_y": null,
            "padding": null,
            "right": null,
            "top": null,
            "visibility": null,
            "width": null
          }
        },
        "eab29182c16246249dab060a26acc9a0": {
          "model_module": "@jupyter-widgets/controls",
          "model_module_version": "1.5.0",
          "model_name": "ProgressStyleModel",
          "state": {
            "_model_module": "@jupyter-widgets/controls",
            "_model_module_version": "1.5.0",
            "_model_name": "ProgressStyleModel",
            "_view_count": null,
            "_view_module": "@jupyter-widgets/base",
            "_view_module_version": "1.2.0",
            "_view_name": "StyleView",
            "bar_color": null,
            "description_width": ""
          }
        },
        "f453f3b4b72e4027af9660489ed3ce0f": {
          "model_module": "@jupyter-widgets/base",
          "model_module_version": "1.2.0",
          "model_name": "LayoutModel",
          "state": {
            "_model_module": "@jupyter-widgets/base",
            "_model_module_version": "1.2.0",
            "_model_name": "LayoutModel",
            "_view_count": null,
            "_view_module": "@jupyter-widgets/base",
            "_view_module_version": "1.2.0",
            "_view_name": "LayoutView",
            "align_content": null,
            "align_items": null,
            "align_self": null,
            "border": null,
            "bottom": null,
            "display": null,
            "flex": null,
            "flex_flow": null,
            "grid_area": null,
            "grid_auto_columns": null,
            "grid_auto_flow": null,
            "grid_auto_rows": null,
            "grid_column": null,
            "grid_gap": null,
            "grid_row": null,
            "grid_template_areas": null,
            "grid_template_columns": null,
            "grid_template_rows": null,
            "height": null,
            "justify_content": null,
            "justify_items": null,
            "left": null,
            "margin": null,
            "max_height": null,
            "max_width": null,
            "min_height": null,
            "min_width": null,
            "object_fit": null,
            "object_position": null,
            "order": null,
            "overflow": null,
            "overflow_x": null,
            "overflow_y": null,
            "padding": null,
            "right": null,
            "top": null,
            "visibility": null,
            "width": null
          }
        },
        "f948fbc9b41a4d078ca65fdf1bcb0f76": {
          "model_module": "@jupyter-widgets/controls",
          "model_module_version": "1.5.0",
          "model_name": "HTMLModel",
          "state": {
            "_dom_classes": [],
            "_model_module": "@jupyter-widgets/controls",
            "_model_module_version": "1.5.0",
            "_model_name": "HTMLModel",
            "_view_count": null,
            "_view_module": "@jupyter-widgets/controls",
            "_view_module_version": "1.5.0",
            "_view_name": "HTMLView",
            "description": "",
            "description_tooltip": null,
            "layout": "IPY_MODEL_8728133356794db393820aed051184ad",
            "placeholder": "​",
            "style": "IPY_MODEL_d87ecc984ae24ff0a633facf76aab465",
            "value": "Downloading: 100%"
          }
        }
      }
    }
  },
  "nbformat": 4,
  "nbformat_minor": 0
}
