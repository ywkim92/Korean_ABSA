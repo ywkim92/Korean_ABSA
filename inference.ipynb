{
  "cells": [
    {
      "cell_type": "markdown",
      "metadata": {
        "id": "ofotWdW77t6V"
      },
      "source": [
        "# Install libraries"
      ]
    },
    {
      "cell_type": "code",
      "execution_count": null,
      "metadata": {
        "colab": {
          "base_uri": "https://localhost:8080/"
        },
        "id": "1ol6ZL50wvPR",
        "outputId": "07093a73-747a-43ec-cd4e-51f4ef1f2d97"
      },
      "outputs": [],
      "source": [
        "!pip install -r requirements.txt"
      ]
    },
    {
      "cell_type": "code",
      "execution_count": null,
      "metadata": {
        "id": "KlGwQS0dusMw"
      },
      "outputs": [],
      "source": [
        "# https://github.com/teddysum/korean_ABSA_baseline/blob/0d47e3eef31419a2d31d859da2dfba4f9df75531/src/sentiment_analysis.py#L532-L630\n",
        "\n",
        "def evaluation_f1(true_data, pred_data):\n",
        "\n",
        "    true_data_list = true_data\n",
        "    pred_data_list = pred_data\n",
        "\n",
        "    ce_eval = {\n",
        "        'TP': 0,\n",
        "        'FP': 0,\n",
        "        'FN': 0,\n",
        "        'TN': 0\n",
        "    }\n",
        "\n",
        "    pipeline_eval = {\n",
        "        'TP': 0,\n",
        "        'FP': 0,\n",
        "        'FN': 0,\n",
        "        'TN': 0\n",
        "    }\n",
        "\n",
        "    for i in range(len(true_data_list)):\n",
        "\n",
        "        # TP, FN checking\n",
        "        is_ce_found = False\n",
        "        is_pipeline_found = False\n",
        "        for y_ano  in true_data_list[i]['annotation']:\n",
        "            y_category = y_ano[0]\n",
        "            y_polarity = y_ano[2]\n",
        "\n",
        "            for p_ano in pred_data_list[i]['annotation']:\n",
        "                p_category = p_ano[0]\n",
        "                p_polarity = p_ano[1]\n",
        "\n",
        "                if y_category == p_category:\n",
        "                    is_ce_found = True\n",
        "                    if y_polarity == p_polarity:\n",
        "                        is_pipeline_found = True\n",
        "\n",
        "                    break\n",
        "\n",
        "            if is_ce_found is True:\n",
        "                ce_eval['TP'] += 1\n",
        "            else:\n",
        "                ce_eval['FN'] += 1\n",
        "\n",
        "            if is_pipeline_found is True:\n",
        "                pipeline_eval['TP'] += 1\n",
        "            else:\n",
        "                pipeline_eval['FN'] += 1\n",
        "\n",
        "            is_ce_found = False\n",
        "            is_pipeline_found = False\n",
        "\n",
        "        # FP checking\n",
        "        for p_ano in pred_data_list[i]['annotation']:\n",
        "            p_category = p_ano[0]\n",
        "            p_polarity = p_ano[1]\n",
        "\n",
        "            for y_ano  in true_data_list[i]['annotation']:\n",
        "                y_category = y_ano[0]\n",
        "                y_polarity = y_ano[2]\n",
        "\n",
        "                if y_category == p_category:\n",
        "                    is_ce_found = True\n",
        "                    if y_polarity == p_polarity:\n",
        "                        is_pipeline_found = True\n",
        "\n",
        "                    break\n",
        "\n",
        "            if is_ce_found is False:\n",
        "                ce_eval['FP'] += 1\n",
        "\n",
        "            if is_pipeline_found is False:\n",
        "                pipeline_eval['FP'] += 1\n",
        "            \n",
        "            is_ce_found = False\n",
        "            is_pipeline_found = False\n",
        "\n",
        "    ce_precision = ce_eval['TP']/(ce_eval['TP']+ce_eval['FP'])\n",
        "    ce_recall = ce_eval['TP']/(ce_eval['TP']+ce_eval['FN'])\n",
        "\n",
        "    ce_result = {\n",
        "        'Precision': ce_precision,\n",
        "        'Recall': ce_recall,\n",
        "        'F1': 2*ce_recall*ce_precision/(ce_recall+ce_precision)\n",
        "    }\n",
        "\n",
        "    pipeline_precision = pipeline_eval['TP']/(pipeline_eval['TP']+pipeline_eval['FP'])\n",
        "    pipeline_recall = pipeline_eval['TP']/(pipeline_eval['TP']+pipeline_eval['FN'])\n",
        "\n",
        "    pipeline_result = {\n",
        "        'Precision': pipeline_precision,\n",
        "        'Recall': pipeline_recall,\n",
        "        'F1': 2*pipeline_recall*pipeline_precision/(pipeline_recall+pipeline_precision)\n",
        "    }\n",
        "\n",
        "    return {\n",
        "        'category extraction result': ce_result,\n",
        "        'entire pipeline result': pipeline_result\n",
        "    }"
      ]
    },
    {
      "cell_type": "markdown",
      "metadata": {
        "id": "Yx7ONYPb7wK8"
      },
      "source": [
        "# Load libraries"
      ]
    },
    {
      "cell_type": "code",
      "execution_count": null,
      "metadata": {},
      "outputs": [],
      "source": [
        "acd_save_path = './model/acd_best.bin'\n",
        "asc_save_path = './model/asd_best.bin'\n",
        "output_save_path = './output/submit.csv'"
      ]
    },
    {
      "cell_type": "code",
      "execution_count": null,
      "metadata": {
        "id": "nkUps9Cy0wdD"
      },
      "outputs": [],
      "source": [
        "%load_ext autoreload\n",
        "%autoreload 2"
      ]
    },
    {
      "cell_type": "code",
      "execution_count": null,
      "metadata": {
        "id": "J5BqUQfYwySI"
      },
      "outputs": [],
      "source": [
        "import os, sys\n",
        "import re\n",
        "import time\n",
        "import json\n",
        "import random\n",
        "import pickle\n",
        "import numpy as np\n",
        "import pandas as pd\n",
        "from tqdm import tqdm\n",
        "from copy import deepcopy\n",
        "import matplotlib.pyplot as plt\n",
        "\n",
        "from sklearn.metrics import f1_score\n",
        "\n",
        "import torch\n",
        "import torch.nn.functional as F\n",
        "from torch.utils.data import (\n",
        "    TensorDataset, DataLoader, RandomSampler, SequentialSampler, WeightedRandomSampler\n",
        ")\n",
        "from transformers import (\n",
        "    AdamW, get_linear_schedule_with_warmup,\n",
        "    ElectraTokenizerFast, ElectraForSequenceClassification, ElectraForTokenClassification,\n",
        "    BertTokenizerFast, BertForSequenceClassification\n",
        ")\n",
        "\n",
        "os.environ['CUDA_LAUNCH_BLOCKING'] = \"1\""
      ]
    },
    {
      "cell_type": "code",
      "execution_count": null,
      "metadata": {
        "colab": {
          "base_uri": "https://localhost:8080/"
        },
        "id": "oXP9wtHLxl8V",
        "outputId": "d97e5fd3-9f7b-4dfc-eb92-7747c7cff826"
      },
      "outputs": [
        {
          "data": {
            "text/plain": [
              "<torch._C.Generator at 0x7f81de31e990>"
            ]
          },
          "execution_count": 8,
          "metadata": {},
          "output_type": "execute_result"
        }
      ],
      "source": [
        "# device = 'cpu'\n",
        "device = 'cuda'\n",
        "seed = 1235\n",
        "batch_size = 4\n",
        "learning_rate = 1e-5\n",
        "warmup_proportion = 0.1\n",
        "epochs = 10\n",
        "warmup_steps = 1000\n",
        "# max_len= 256\n",
        "\n",
        "gradient_accumulation_steps = 4\n",
        "num_train_epochs = epochs\n",
        "\n",
        "random.seed(seed)\n",
        "np.random.seed(seed)\n",
        "torch.manual_seed(seed)"
      ]
    },
    {
      "cell_type": "markdown",
      "metadata": {
        "id": "CMMwACaQ7ysL"
      },
      "source": [
        "# Load data"
      ]
    },
    {
      "cell_type": "code",
      "execution_count": null,
      "metadata": {
        "id": "qNmEeifYEiLr"
      },
      "outputs": [],
      "source": [
        "test = []\n",
        "with open('data/nikluge-sa-2022-test.jsonl', 'r') as file:\n",
        "    for line in file.readlines():\n",
        "        test.append(json.loads(line))"
      ]
    },
    {
      "cell_type": "code",
      "execution_count": null,
      "metadata": {
        "id": "SU1rp4Cy1N4U"
      },
      "outputs": [],
      "source": [
        "entity_property_pair = [\n",
        "    '본품#가격', '본품#다양성', '본품#디자인', '본품#인지도', '본품#일반', '본품#편의성', '본품#품질', \n",
        "    '브랜드#가격', '브랜드#디자인', '브랜드#인지도', '브랜드#일반', '브랜드#품질', \n",
        "    '제품 전체#가격', '제품 전체#다양성', '제품 전체#디자인', '제품 전체#인지도', '제품 전체#일반', '제품 전체#편의성', '제품 전체#품질', \n",
        "    '패키지/구성품#가격', '패키지/구성품#다양성', '패키지/구성품#디자인', '패키지/구성품#일반', '패키지/구성품#편의성', '패키지/구성품#품질'\n",
        "]\n",
        "\n",
        "entity_property_pair.sort()\n",
        "\n",
        "entity_name_to_id = {entity_property_pair[i]: i for i in range( len(entity_property_pair) )}\n",
        "entity_id_to_name = {v:k for k, v in entity_name_to_id.items()}\n",
        "\n",
        "label_id_to_name = ['True', 'False']\n",
        "label_name_to_id = {label_id_to_name[i]: i for i in range(len(label_id_to_name))}\n",
        "\n",
        "polarity_id_to_name = ['positive', 'negative', 'neutral']\n",
        "polarity_name_to_id = {polarity_id_to_name[i]: i for i in range(len(polarity_id_to_name))}"
      ]
    },
    {
      "cell_type": "code",
      "execution_count": null,
      "metadata": {
        "id": "5ryH3sFX-HLW"
      },
      "outputs": [],
      "source": [
        "from copy import deepcopy\n",
        "def convert(array: np.array, data: list):\n",
        "    iter = array.shape[0]\n",
        "    if iter != len(data):\n",
        "        raise ValueError\n",
        "    result = deepcopy(data)\n",
        "    for i in range(iter):\n",
        "        ind = np.where(array[i]==1)[0]\n",
        "        result[i]['annotation'] = [[ entity_id_to_name[k], 'positive'] for k in ind]\n",
        "    return result"
      ]
    },
    {
      "cell_type": "markdown",
      "metadata": {
        "id": "ghClg3IcE3oe"
      },
      "source": [
        "# Set model"
      ]
    },
    {
      "cell_type": "markdown",
      "metadata": {
        "id": "z6jGKA3V4ox0"
      },
      "source": [
        "## ACD: electra"
      ]
    },
    {
      "cell_type": "code",
      "execution_count": null,
      "metadata": {
        "colab": {
          "base_uri": "https://localhost:8080/",
          "height": 254,
          "referenced_widgets": [
            "ee7e5d3628c3497889864cf96c74a203",
            "36d377cabe3e43208bf4d5a7ef839f90",
            "a8802215c56a45c6ae11e3fc72fe789d",
            "943c89f9b4324b6b8a1ab6a6b60f91b1",
            "bf7b4e2a7322445d9078f66a4f9155f4",
            "96eb805649ad4ff8a6e59f01284f23b9",
            "f1dc2b85025c48ecb7d105be227e006a",
            "a8e9dd3a417a423e941deee4c960b3ef",
            "d2578c128dc84249867715c2e39ef046",
            "37d7cb80cf7c45c282e172275e637b3b",
            "2bbb10333b6b42f1933ad8d678090edf",
            "920d20960b444393920d588fa5f4c273",
            "92fbb6962714401facaa51214a77ae67",
            "a9c7e1117ea14221ac876dc1f519f10c",
            "c17a628df6ea412cbb8d3c631bdc15db",
            "211d58237d2841cf9b83162ec47720fe",
            "8caf81f43f474e1582cf339a9a8efc68",
            "5f9862ed5c8a4d73836661549e5eb5f7",
            "49b607ed104b450d95cad8610682b0a0",
            "c8ec5df30b8a44a6bfb309a2a558cacf",
            "50504acc7b49475e8996d7ce1826b79b",
            "64766f048322454ea2f4ec62c0e50abe",
            "16a03ad041914cc0b8b8de9a92df273e",
            "599505a471de4809897cdb125a7a0d32",
            "3cccbf197b76481b9657dcd9a664bd37",
            "817d7eaa5acb489b859a2163791e08e8",
            "b1c68a6810bb421189579bf5d4b08c20",
            "321ca2d1e2654f5683bab3f7059aafcb",
            "e194c5b2063f431192b17742bbcae585",
            "ecfd286c7d634bee89e4eed7ed11cae9",
            "2e130ab82e1845ec8c4a9bc15044e8e5",
            "5bcf0c5e2ead4e729f23e39c82f5ed51",
            "0b873929353b46ec8d0a2a8246156887",
            "0dd2685b1dfb4d9f821aa627a735b124",
            "92ee8bcfdedf4b54b2043136255ee3e1",
            "a40252c7a7804854a72532400a6608de",
            "e145696381344313886120817a2bce7c",
            "44d6e29bd34843058399f8182a8afd1d",
            "78dd29df1b9b41638be3b62bf69d02c2",
            "130d96ecd336452faea5b9f6b4f6abfa",
            "2f784153a9584f84a7614e5fcd179a08",
            "ae2267330e6947b99b5d85cd471db32a",
            "db59f025a1e74f5ea2f6f56757e7df50",
            "96e36ff711a24b569edda9c0c950c458"
          ]
        },
        "id": "6UmB7loCE_nb",
        "outputId": "896a4d02-1aff-4634-c197-812feca1d2a2"
      },
      "outputs": [],
      "source": [
        "tokenizer = ElectraTokenizerFast.from_pretrained(\"kykim/electra-kor-base\")\n",
        "model = ElectraForSequenceClassification.from_pretrained(\"kykim/electra-kor-base\", num_labels = 1)"
      ]
    },
    {
      "cell_type": "code",
      "execution_count": null,
      "metadata": {},
      "outputs": [],
      "source": [
        "state_dict = torch.load(acd_save_path, map_location = 'cpu')\n",
        "\n",
        "model.load_state_dict(state_dict)\n",
        "model.to(device)\n",
        "print()"
      ]
    },
    {
      "cell_type": "markdown",
      "metadata": {},
      "source": [
        "## ASC: electra"
      ]
    },
    {
      "cell_type": "code",
      "execution_count": null,
      "metadata": {},
      "outputs": [],
      "source": [
        "model_asc = ElectraForSequenceClassification.from_pretrained(\"kykim/electra-kor-base\", \n",
        "                                                             num_labels = len(polarity_id_to_name))"
      ]
    },
    {
      "cell_type": "code",
      "execution_count": null,
      "metadata": {},
      "outputs": [],
      "source": [
        "state_dict = torch.load(asc_save_path, map_location = 'cpu')\n",
        "\n",
        "model_asc.load_state_dict(state_dict)\n",
        "model_asc.to(device)\n",
        "print()"
      ]
    },
    {
      "cell_type": "markdown",
      "metadata": {
        "id": "tJn5D-xo-vHW"
      },
      "source": [
        "# data loader"
      ]
    },
    {
      "cell_type": "markdown",
      "metadata": {
        "id": "Ezg8ukhWJy6-"
      },
      "source": [
        "## ACD"
      ]
    },
    {
      "cell_type": "markdown",
      "metadata": {
        "id": "3p9y6VVQNoQu"
      },
      "source": [
        "### normal"
      ]
    },
    {
      "cell_type": "code",
      "execution_count": null,
      "metadata": {
        "id": "9pm9qoMmE1xT"
      },
      "outputs": [],
      "source": [
        "def get_devset(batch, train, max_len = 512):\n",
        "    train_docs = [t['sentence_form'] for t in train]\n",
        "    docs = [train_docs[b] for b in batch]\n",
        "    train_batch = [train[b] for b in batch]\n",
        "\n",
        "    result = []\n",
        "    labels = []\n",
        "    \n",
        "    for idx, t in enumerate(train_batch):\n",
        "        lab = torch.zeros(max_len, dtype=torch.long)\n",
        "        cat_ids = [0] * len(entity_name_to_id)\n",
        "        for a in t['annotation']:\n",
        "            cat_ids[entity_name_to_id[a[0]]] = 1\n",
        "        \n",
        "        sents = [t['sentence_form']] * len(entity_name_to_id)\n",
        "        cats = list(entity_name_to_id.keys())\n",
        "        tokenized = tokenizer(sents, cats, padding='max_length', truncation=True, max_length=max_len)\n",
        "        tokenized = [v for k, v in tokenized.items()]\n",
        "        result.append(tokenized)\n",
        "        labels.append(cat_ids)\n",
        "\n",
        "    result = torch.tensor(result, dtype=torch.long).transpose(1,2)\n",
        "    labels = torch.tensor(labels, dtype=torch.long)\n",
        "    print(result.shape, labels.shape)\n",
        "    return result, labels\n"
      ]
    },
    {
      "cell_type": "code",
      "execution_count": null,
      "metadata": {
        "id": "sSc4W3xwnyKk"
      },
      "outputs": [],
      "source": [
        "# label first\n",
        "\n",
        "def get_devset(batch, train, max_len = 512):\n",
        "    train_docs = [t['sentence_form'] for t in train]\n",
        "    docs = [train_docs[b] for b in batch]\n",
        "    train_batch = [train[b] for b in batch]\n",
        "\n",
        "    result = []\n",
        "    labels = []\n",
        "    \n",
        "    for idx, t in enumerate(train_batch):\n",
        "        lab = torch.zeros(max_len, dtype=torch.long)\n",
        "        cat_ids = [0] * len(entity_name_to_id)\n",
        "        for a in t['annotation']:\n",
        "            cat_ids[entity_name_to_id[a[0]]] = 1\n",
        "        \n",
        "        sents = [t['sentence_form']] * len(entity_name_to_id)\n",
        "        cats = list(entity_name_to_id.keys())\n",
        "        tokenized = tokenizer(cats, sents, padding='max_length', truncation=True, max_length=max_len)\n",
        "        tokenized = [v for k, v in tokenized.items()]\n",
        "        result.append(tokenized)\n",
        "        labels.append(cat_ids)\n",
        "\n",
        "    result = torch.tensor(result, dtype=torch.long).transpose(1,2)\n",
        "    labels = torch.tensor(labels, dtype=torch.long)\n",
        "    print(result.shape, labels.shape)\n",
        "    return result, labels\n"
      ]
    },
    {
      "cell_type": "code",
      "execution_count": null,
      "metadata": {
        "colab": {
          "base_uri": "https://localhost:8080/"
        },
        "id": "P30Y_z5pJ4sV",
        "outputId": "e74096f0-5bf9-45ee-867e-5497f6a6b220"
      },
      "outputs": [
        {
          "name": "stdout",
          "output_type": "stream",
          "text": [
            "torch.Size([2127, 25, 3, 512]) torch.Size([2127, 25])\n"
          ]
        }
      ],
      "source": [
        "# for testset\n",
        "\n",
        "test_range = torch.arange(len(test))\n",
        "test_ds = TensorDataset(*get_devset(test_range, test))\n",
        "test_loader = DataLoader(test_ds, sampler=SequentialSampler(test_ds), batch_size=16)"
      ]
    },
    {
      "cell_type": "markdown",
      "metadata": {
        "id": "h_D_9ROrJ0XE"
      },
      "source": [
        "## ASC"
      ]
    },
    {
      "cell_type": "code",
      "execution_count": null,
      "metadata": {
        "id": "fZFUnc5K2_mV"
      },
      "outputs": [],
      "source": [
        "def get_trainset(batch, train, max_len = 512):\n",
        "    train_docs = [t['sentence_form'] for t in train]\n",
        "    docs = [train_docs[b] for b in batch]\n",
        "    train_batch = [train[b] for b in batch]\n",
        "\n",
        "    result = torch.LongTensor([]).reshape(-1, 3, max_len)\n",
        "    labels = []\n",
        "    \n",
        "    for idx, t in enumerate(train_batch):\n",
        "        polar = []\n",
        "        entity = []\n",
        "        for a in t['annotation']:\n",
        "            entity.append(a[0])\n",
        "            polar.append(a[2])\n",
        "        \n",
        "        sents = [t['sentence_form']] * len(entity)\n",
        "        tokenized = tokenizer(sents, entity, padding='max_length', truncation=True, max_length=max_len)\n",
        "        tokenized = torch.LongTensor([v for k, v in tokenized.items()]).transpose(0, 1 )\n",
        "        result = torch.vstack((result, tokenized))\n",
        "        labels += [ polarity_name_to_id[p] for p in polar]\n",
        "\n",
        "    labels = torch.tensor(labels, dtype=torch.long)\n",
        "    print(result.shape, labels.shape)\n",
        "    return result, labels"
      ]
    },
    {
      "cell_type": "code",
      "execution_count": null,
      "metadata": {
        "id": "HraYlEjt3p_G"
      },
      "outputs": [],
      "source": [
        "# ASC\n",
        "\n",
        "batch_size = 16\n",
        "gradient_accumulation_steps = 1"
      ]
    },
    {
      "cell_type": "code",
      "execution_count": null,
      "metadata": {
        "colab": {
          "base_uri": "https://localhost:8080/"
        },
        "id": "t_rC7KIeFmYg",
        "outputId": "4991e6d0-029d-4099-e3d2-728f5ba81323"
      },
      "outputs": [
        {
          "name": "stdout",
          "output_type": "stream",
          "text": [
            "torch.Size([3255, 3, 512]) torch.Size([3255])\n"
          ]
        }
      ],
      "source": [
        "train_range = torch.arange(len(train))\n",
        "train_ds = TensorDataset(*get_trainset(train_range, train))\n",
        "# train_loader = DataLoader(train_ds, sampler=RandomSampler(train_ds), batch_size=batch_size)"
      ]
    },
    {
      "cell_type": "code",
      "execution_count": null,
      "metadata": {
        "id": "646avO_y99Gh"
      },
      "outputs": [],
      "source": [
        "class_weights = {k: sum(polarity_counts.values()) /v for k, v in polarity_counts.items()}\n",
        "weights = [ class_weights[polarity_id_to_name[t]] for t in train_ds.tensors[1] ]\n",
        "\n",
        "train_loader = DataLoader(train_ds, sampler=WeightedRandomSampler(weights, len(weights), replacement=True), \n",
        "batch_size=batch_size)"
      ]
    },
    {
      "cell_type": "code",
      "execution_count": null,
      "metadata": {
        "colab": {
          "base_uri": "https://localhost:8080/"
        },
        "id": "6NeRYYMrFmYg",
        "outputId": "ec81fc45-bee3-4c8e-fbd7-664998da07fa"
      },
      "outputs": [
        {
          "name": "stdout",
          "output_type": "stream",
          "text": [
            "torch.Size([3079, 3, 512]) torch.Size([3079])\n"
          ]
        }
      ],
      "source": [
        "dev_range = torch.arange(len(val))\n",
        "dev_ds = TensorDataset(*get_trainset(dev_range, val))\n",
        "dev_loader = DataLoader(dev_ds, sampler=SequentialSampler(dev_ds), batch_size=batch_size)"
      ]
    },
    {
      "cell_type": "code",
      "execution_count": null,
      "metadata": {
        "colab": {
          "base_uri": "https://localhost:8080/"
        },
        "id": "ZbL_QIVeMlvW",
        "outputId": "5a2c0256-4ac3-4b93-fdcd-a7a7015cae56"
      },
      "outputs": [
        {
          "name": "stdout",
          "output_type": "stream",
          "text": [
            "torch.Size([2127, 23, 3, 512]) torch.Size([2127, 23])\n"
          ]
        }
      ],
      "source": [
        "batch_size = 4\n",
        "test_range = torch.arange(len(test))\n",
        "test_ds = TensorDataset(*get_trainset(test_range, test))\n",
        "test_loader = DataLoader(test_ds, sampler=SequentialSampler(test_ds), batch_size=batch_size)"
      ]
    },
    {
      "cell_type": "markdown",
      "metadata": {},
      "source": [
        "# Inference"
      ]
    },
    {
      "cell_type": "markdown",
      "metadata": {
        "id": "kkMR76m54JwM"
      },
      "source": [
        "## ACD"
      ]
    },
    {
      "cell_type": "markdown",
      "metadata": {
        "id": "A1XGcpexb5Es"
      },
      "source": [
        "#### val"
      ]
    },
    {
      "cell_type": "code",
      "execution_count": null,
      "metadata": {
        "colab": {
          "base_uri": "https://localhost:8080/"
        },
        "id": "wfAdNdtGGcRu",
        "outputId": "dad3f97c-734b-43f5-ba62-7886738390b3"
      },
      "outputs": [
        {
          "name": "stdout",
          "output_type": "stream",
          "text": [
            "cuda\n"
          ]
        }
      ],
      "source": [
        "state_dict = torch.load(acd_save_path, map_location = 'cpu')\n",
        "\n",
        "model.load_state_dict(state_dict)\n",
        "model.to(device)\n",
        "print(device)"
      ]
    },
    {
      "cell_type": "code",
      "execution_count": null,
      "metadata": {
        "colab": {
          "base_uri": "https://localhost:8080/"
        },
        "id": "akRlOlGKvN7X",
        "outputId": "97b104b0-8fbe-4619-f3c0-2f8bf48e6790"
      },
      "outputs": [
        {
          "name": "stderr",
          "output_type": "stream",
          "text": [
            "100%|██████████| 175/175 [02:40<00:00,  1.09it/s]\n"
          ]
        }
      ],
      "source": [
        "# logit_threshold = .2\n",
        "# topk = 1\n",
        "\n",
        "model.eval()\n",
        "dev_pred = np.array([], dtype = np.float32).reshape(-1, len(entity_name_to_id))\n",
        "dev_true = np.array([], dtype = np.int32).reshape(-1, len(entity_name_to_id))\n",
        "dev_losses = []\n",
        "# dev_step = 0\n",
        "\n",
        "for batch in tqdm(dev_loader):\n",
        "    inputs, labels = [b.to(device) for b in batch]\n",
        "    \n",
        "    inputs = inputs.reshape(-1, 3, 512)\n",
        "    input_ids, input_segment, input_masks = inputs[:,0], inputs[:,1], inputs[:,2]\n",
        "    len_max = max(input_masks.sum(-1))\n",
        "    input_ids, input_masks, segment_ids = input_ids[:,:len_max], input_masks[:,:len_max], input_segment[:,:len_max]\n",
        "\n",
        "    with torch.no_grad():\n",
        "        outputs = model(input_ids, input_masks, segment_ids)\n",
        "        # b * num cats\n",
        "        cls_logit = outputs['logits'].reshape(-1, len(entity_name_to_id))\n",
        "        lab = labels.float() / labels.sum(1, keepdim = True)\n",
        "        dev_losses.append(torch.nn.CrossEntropyLoss()(cls_logit, lab).item())\n",
        "        \n",
        "    true = labels.detach().cpu().numpy()\n",
        "        \n",
        "    # pred = (torch.nn.Softmax(-1)(cls_logit) > logit_threshold).int().detach().cpu().numpy()\n",
        "    pred = cls_logit.detach().cpu().numpy()\n",
        "    # if np.where(pred.sum(-1) == 0)[0].size == 0:\n",
        "    #     pass\n",
        "    # else:\n",
        "    #     replaced_ind = np.where(pred.sum(-1) == 0)[0]\n",
        "    #     replace = F.one_hot( torch.topk(cls_logit, topk, -1)[1], len(entity_name_to_id) ).sum(1).detach().cpu().numpy()\n",
        "    #     pred[replaced_ind] = replace[replaced_ind]\n",
        "    # pred = F.one_hot( torch.topk(cls_logit, 2, -1)[1], len(entity_name_to_id)//2 ).sum(1).detach().cpu().numpy()\n",
        "    # pred = (F.one_hot(outputs['logits'].argmax(2), len(entity_name_to_id)+1).sum(1)).detach().cpu()\n",
        "    # pred = (pred[:, 1::2] + pred[:, 2::2] > 0).int().numpy()\n",
        "\n",
        "    dev_pred = np.vstack((dev_pred, pred))\n",
        "    dev_true = np.vstack((dev_true, true))"
      ]
    },
    {
      "cell_type": "code",
      "execution_count": null,
      "metadata": {
        "colab": {
          "base_uri": "https://localhost:8080/"
        },
        "id": "EpWo-QxlTDba",
        "outputId": "653437a4-3c34-41e3-d1c8-81cc93da6cbb"
      },
      "outputs": [
        {
          "name": "stderr",
          "output_type": "stream",
          "text": [
            "100%|██████████| 1000/1000 [01:32<00:00, 10.84it/s]\n"
          ]
        }
      ],
      "source": [
        "threshold = np.linspace(0, 4, 1000)\n",
        "res = []\n",
        "\n",
        "for thr in tqdm(threshold):\n",
        "    dev_pred_ = (dev_pred > thr).astype(np.int32)\n",
        "    replaced_ind = np.where(dev_pred_.sum(-1) == 0)[0]\n",
        "    argmax = dev_pred[replaced_ind].argsort(-1)[:, -1:]\n",
        "\n",
        "    zeros = np.zeros((replaced_ind.size, len(entity_id_to_name)))\n",
        "    zeros[np.arange(argmax.shape[0]).reshape(-1, 1), argmax] = 1\n",
        "\n",
        "    dev_pred_[replaced_ind] = zeros\n",
        "    res.append(evaluation_f1(val, convert(dev_pred_, val))['category extraction result']['F1'])\n"
      ]
    },
    {
      "cell_type": "code",
      "execution_count": null,
      "metadata": {
        "colab": {
          "base_uri": "https://localhost:8080/"
        },
        "id": "OuvzFgOAwC0K",
        "outputId": "548ab938-2ce6-4124-f055-f441354065c5"
      },
      "outputs": [
        {
          "data": {
            "text/plain": [
              "(3.3633633633633635, 0.7369770796602019)"
            ]
          },
          "execution_count": 19,
          "metadata": {},
          "output_type": "execute_result"
        }
      ],
      "source": [
        "threshold[(np.array(res)).argmax()], res[(np.array(res)).argmax()]"
      ]
    },
    {
      "cell_type": "code",
      "execution_count": null,
      "metadata": {
        "colab": {
          "base_uri": "https://localhost:8080/"
        },
        "id": "Uq8zm8POwKKv",
        "outputId": "c198af6d-5a78-4497-a510-ad3f4eb728a1"
      },
      "outputs": [
        {
          "data": {
            "text/plain": [
              "{'category extraction result': {'Precision': 0.7751865671641791,\n",
              "  'Recall': 0.5397856446898344,\n",
              "  'F1': 0.6364158529580701},\n",
              " 'entire pipeline result': {'Precision': 0.7635261194029851,\n",
              "  'Recall': 0.5316661253653784,\n",
              "  'F1': 0.6268428106452231}}"
            ]
          },
          "execution_count": 30,
          "metadata": {},
          "output_type": "execute_result"
        }
      ],
      "source": [
        "dev_pred_ = (dev_pred > 3.3633633633633635).astype(np.int32)\n",
        "evaluation_f1(val, convert(dev_pred_, val))"
      ]
    },
    {
      "cell_type": "code",
      "execution_count": null,
      "metadata": {
        "colab": {
          "base_uri": "https://localhost:8080/",
          "height": 265
        },
        "id": "uJornQOgvhzd",
        "outputId": "f5169669-2ed8-45e6-dbd5-91722cd21127"
      },
      "outputs": [
        {
          "data": {
            "image/png": "[encoded data removed]",
            "text/plain": [
              "<Figure size 432x288 with 1 Axes>"
            ]
          },
          "metadata": {},
          "output_type": "display_data"
        }
      ],
      "source": [
        "plt.plot(threshold, res)\n",
        "plt.show()"
      ]
    },
    {
      "cell_type": "markdown",
      "metadata": {
        "id": "KBqi6eb5NHUj"
      },
      "source": [
        "### inference"
      ]
    },
    {
      "cell_type": "code",
      "execution_count": null,
      "metadata": {
        "colab": {
          "base_uri": "https://localhost:8080/"
        },
        "id": "NDNddeyTNI5l",
        "outputId": "5cd96f9d-5fd4-47e8-ea1c-1f79592b3d86"
      },
      "outputs": [
        {
          "name": "stderr",
          "output_type": "stream",
          "text": [
            "100%|██████████| 133/133 [02:19<00:00,  1.05s/it]\n"
          ]
        }
      ],
      "source": [
        "# electra\n",
        "\n",
        "logit_threshold = .2\n",
        "topk = 1\n",
        "\n",
        "proba_thre = False\n",
        "\n",
        "model.eval()\n",
        "if proba_thre:\n",
        "    test_pred = np.array([], dtype = np.int32).reshape(-1, len(entity_name_to_id))\n",
        "else:\n",
        "    test_pred = np.array([], dtype = np.float32).reshape(-1, len(entity_name_to_id))\n",
        "\n",
        "for batch in tqdm(test_loader):\n",
        "    inputs, _ = [b.to(device) for b in batch]\n",
        "    \n",
        "    inputs = inputs.reshape(-1, 3, 512)\n",
        "    input_ids, input_segment, input_masks = inputs[:,0], inputs[:,1], inputs[:,2]\n",
        "    len_max = max(input_masks.sum(-1))\n",
        "    input_ids, input_masks, segment_ids = input_ids[:,:len_max], input_masks[:,:len_max], input_segment[:,:len_max]\n",
        "\n",
        "    with torch.no_grad():\n",
        "        outputs = model(input_ids, input_masks, segment_ids)\n",
        "        # b * num cats\n",
        "        cls_logit = outputs['logits'].reshape(-1, len(entity_name_to_id))\n",
        "        # lab = labels.float() / labels.sum(1, keepdim = True)\n",
        "        # dev_losses.append(torch.nn.CrossEntropyLoss()(cls_logit, lab).item())\n",
        "        # true = labels.detach().cpu().numpy()\n",
        "            \n",
        "    if proba_thre:\n",
        "        pred = (torch.nn.Softmax(-1)(cls_logit) > logit_threshold).int().detach().cpu().numpy()\n",
        "        if np.where(pred.sum(-1) == 0)[0].size == 0:\n",
        "            pass\n",
        "        else:\n",
        "            replaced_ind = np.where(pred.sum(-1) == 0)[0]\n",
        "            replace = F.one_hot( torch.topk(cls_logit, topk, -1)[1], len(entity_name_to_id) ).sum(1).detach().cpu().numpy()\n",
        "            pred[replaced_ind] = replace[replaced_ind]\n",
        "\n",
        "        test_pred = np.vstack((test_pred, pred))\n",
        "    else:\n",
        "        pred = cls_logit.detach().cpu().numpy()\n",
        "        test_pred = np.vstack((test_pred, pred))\n",
        "    # pred = F.one_hot( torch.topk(cls_logit, 2, -1)[1], len(entity_name_to_id)//2 ).sum(1).detach().cpu().numpy()\n",
        "    # pred = (F.one_hot(outputs['logits'].argmax(2), len(entity_name_to_id)+1).sum(1)).detach().cpu()\n",
        "    # pred = (pred[:, 1::2] + pred[:, 2::2] > 0).int().numpy()"
      ]
    },
    {
      "cell_type": "code",
      "execution_count": null,
      "metadata": {
        "colab": {
          "base_uri": "https://localhost:8080/"
        },
        "id": "yw4GC-6EpmjK",
        "outputId": "643545d4-eb04-45b5-e530-9b29bddea918"
      },
      "outputs": [
        {
          "name": "stdout",
          "output_type": "stream",
          "text": [
            "(array([0, 1, 2, 3, 4]), array([ 868, 1025,  211,   16,    7]))\n",
            "3\n"
          ]
        }
      ],
      "source": [
        "lth = 3.3633633633633635\n",
        "test_pred_ = (test_pred > lth).astype(np.int32)\n",
        "# print(np.unique(test_pred_.sum(-1), return_counts = True))\n",
        "\n",
        "replaced_ind = np.where(test_pred_.sum(-1) == 0)[0]\n",
        "argmax = test_pred[replaced_ind].argmax(-1)\n",
        "\n",
        "replace = np.zeros((replaced_ind.size, len(entity_id_to_name)))\n",
        "replace[np.arange(argmax.size), argmax] = 1\n",
        "\n",
        "test_pred_[replaced_ind] = replace\n",
        "test_result = convert(test_pred_, test)"
      ]
    },
    {
      "cell_type": "markdown",
      "metadata": {
        "id": "fCUoiz4R4PQi"
      },
      "source": [
        "## ASC"
      ]
    },
    {
      "cell_type": "code",
      "execution_count": null,
      "metadata": {
        "id": "EWm1ge0Z3SkF"
      },
      "outputs": [],
      "source": [
        "def get_testset(batch, train, max_len = 512):\n",
        "    train_docs = [t['sentence_form'] for t in train]\n",
        "    docs = [train_docs[b] for b in batch]\n",
        "    train_batch = [train[b] for b in batch]\n",
        "\n",
        "    result = torch.LongTensor([]).reshape(-1, 3, max_len)\n",
        "    labels = []\n",
        "    \n",
        "    for idx, t in enumerate(train_batch):\n",
        "        polar = []\n",
        "        entity = []\n",
        "        for a in t['annotation']:\n",
        "            entity.append(a[0])\n",
        "            polar.append(a[1])\n",
        "        \n",
        "        sents = [t['sentence_form']] * len(entity)\n",
        "        tokenized = tokenizer(sents, entity, padding='max_length', truncation=True, max_length=max_len)\n",
        "        tokenized = torch.LongTensor([v for k, v in tokenized.items()]).transpose(0, 1 )\n",
        "        result = torch.vstack((result, tokenized))\n",
        "        labels += [ polarity_name_to_id[p] for p in polar]\n",
        "\n",
        "    labels = torch.tensor(labels, dtype=torch.long)\n",
        "    return result, labels"
      ]
    },
    {
      "cell_type": "code",
      "execution_count": null,
      "metadata": {
        "id": "tLHCqTa0SBTZ"
      },
      "outputs": [],
      "source": [
        "with open(output_save_path, 'w', encoding = 'utf-8') as f:\n",
        "    for i in test_result:\n",
        "        f.write(json.dumps(i, ensure_ascii=False) + '\\n')"
      ]
    }
  ],
  "metadata": {
    "accelerator": "GPU",
    "colab": {
      "collapsed_sections": [
        "ofotWdW77t6V",
        "iskkDKrf4lSp",
        "YvCJyAoKCzbL",
        "Z6x1Plv6nlXD",
        "xPY0PD7p4ql-",
        "yRYuVrn_7lqX",
        "YnM7VcitNuJm",
        "3p9y6VVQNoQu",
        "p_3VG1CpNbuO",
        "YWE3qGMeNkJm",
        "h_D_9ROrJ0XE",
        "WdYXydFE9umI",
        "3a-aFYL--9pd",
        "nRZjE-vPZjkl",
        "X_geJWgPZIi-",
        "cRi-jfdAzHlG",
        "Mou4rtc645mk",
        "yBE2FGJO7vex",
        "ccMADBBmFDV4",
        "kk_7JQOvFMoo",
        "A1XGcpexb5Es",
        "oqOiNBn6akBQ",
        "EbdN3R4b4RD5"
      ],
      "provenance": [],
      "toc_visible": true
    },
    "gpuClass": "standard",
    "kernelspec": {
      "display_name": "Python 3.8.9 64-bit",
      "language": "python",
      "name": "python3"
    },
    "language_info": {
      "name": "python",
      "version": "3.8.9"
    },
    "vscode": {
      "interpreter": {
        "hash": "31f2aee4e71d21fbe5cf8b01ff0e069b9275f58929596ceb00d14d90e3e16cd6"
      }
    },
    "widgets": {
      "application/vnd.jupyter.widget-state+json": {
        "0b873929353b46ec8d0a2a8246156887": {
          "model_module": "@jupyter-widgets/controls",
          "model_module_version": "1.5.0",
          "model_name": "DescriptionStyleModel",
          "state": {
            "_model_module": "@jupyter-widgets/controls",
            "_model_module_version": "1.5.0",
            "_model_name": "DescriptionStyleModel",
            "_view_count": null,
            "_view_module": "@jupyter-widgets/base",
            "_view_module_version": "1.2.0",
            "_view_name": "StyleView",
            "description_width": ""
          }
        },
        "0dd2685b1dfb4d9f821aa627a735b124": {
          "model_module": "@jupyter-widgets/controls",
          "model_module_version": "1.5.0",
          "model_name": "HBoxModel",
          "state": {
            "_dom_classes": [],
            "_model_module": "@jupyter-widgets/controls",
            "_model_module_version": "1.5.0",
            "_model_name": "HBoxModel",
            "_view_count": null,
            "_view_module": "@jupyter-widgets/controls",
            "_view_module_version": "1.5.0",
            "_view_name": "HBoxView",
            "box_style": "",
            "children": [
              "IPY_MODEL_92ee8bcfdedf4b54b2043136255ee3e1",
              "IPY_MODEL_a40252c7a7804854a72532400a6608de",
              "IPY_MODEL_e145696381344313886120817a2bce7c"
            ],
            "layout": "IPY_MODEL_44d6e29bd34843058399f8182a8afd1d"
          }
        },
        "130d96ecd336452faea5b9f6b4f6abfa": {
          "model_module": "@jupyter-widgets/controls",
          "model_module_version": "1.5.0",
          "model_name": "DescriptionStyleModel",
          "state": {
            "_model_module": "@jupyter-widgets/controls",
            "_model_module_version": "1.5.0",
            "_model_name": "DescriptionStyleModel",
            "_view_count": null,
            "_view_module": "@jupyter-widgets/base",
            "_view_module_version": "1.2.0",
            "_view_name": "StyleView",
            "description_width": ""
          }
        },
        "16a03ad041914cc0b8b8de9a92df273e": {
          "model_module": "@jupyter-widgets/controls",
          "model_module_version": "1.5.0",
          "model_name": "HBoxModel",
          "state": {
            "_dom_classes": [],
            "_model_module": "@jupyter-widgets/controls",
            "_model_module_version": "1.5.0",
            "_model_name": "HBoxModel",
            "_view_count": null,
            "_view_module": "@jupyter-widgets/controls",
            "_view_module_version": "1.5.0",
            "_view_name": "HBoxView",
            "box_style": "",
            "children": [
              "IPY_MODEL_599505a471de4809897cdb125a7a0d32",
              "IPY_MODEL_3cccbf197b76481b9657dcd9a664bd37",
              "IPY_MODEL_817d7eaa5acb489b859a2163791e08e8"
            ],
            "layout": "IPY_MODEL_b1c68a6810bb421189579bf5d4b08c20"
          }
        },
        "211d58237d2841cf9b83162ec47720fe": {
          "model_module": "@jupyter-widgets/base",
          "model_module_version": "1.2.0",
          "model_name": "LayoutModel",
          "state": {
            "_model_module": "@jupyter-widgets/base",
            "_model_module_version": "1.2.0",
            "_model_name": "LayoutModel",
            "_view_count": null,
            "_view_module": "@jupyter-widgets/base",
            "_view_module_version": "1.2.0",
            "_view_name": "LayoutView",
            "align_content": null,
            "align_items": null,
            "align_self": null,
            "border": null,
            "bottom": null,
            "display": null,
            "flex": null,
            "flex_flow": null,
            "grid_area": null,
            "grid_auto_columns": null,
            "grid_auto_flow": null,
            "grid_auto_rows": null,
            "grid_column": null,
            "grid_gap": null,
            "grid_row": null,
            "grid_template_areas": null,
            "grid_template_columns": null,
            "grid_template_rows": null,
            "height": null,
            "justify_content": null,
            "justify_items": null,
            "left": null,
            "margin": null,
            "max_height": null,
            "max_width": null,
            "min_height": null,
            "min_width": null,
            "object_fit": null,
            "object_position": null,
            "order": null,
            "overflow": null,
            "overflow_x": null,
            "overflow_y": null,
            "padding": null,
            "right": null,
            "top": null,
            "visibility": null,
            "width": null
          }
        },
        "2bbb10333b6b42f1933ad8d678090edf": {
          "model_module": "@jupyter-widgets/controls",
          "model_module_version": "1.5.0",
          "model_name": "DescriptionStyleModel",
          "state": {
            "_model_module": "@jupyter-widgets/controls",
            "_model_module_version": "1.5.0",
            "_model_name": "DescriptionStyleModel",
            "_view_count": null,
            "_view_module": "@jupyter-widgets/base",
            "_view_module_version": "1.2.0",
            "_view_name": "StyleView",
            "description_width": ""
          }
        },
        "2e130ab82e1845ec8c4a9bc15044e8e5": {
          "model_module": "@jupyter-widgets/controls",
          "model_module_version": "1.5.0",
          "model_name": "ProgressStyleModel",
          "state": {
            "_model_module": "@jupyter-widgets/controls",
            "_model_module_version": "1.5.0",
            "_model_name": "ProgressStyleModel",
            "_view_count": null,
            "_view_module": "@jupyter-widgets/base",
            "_view_module_version": "1.2.0",
            "_view_name": "StyleView",
            "bar_color": null,
            "description_width": ""
          }
        },
        "2f784153a9584f84a7614e5fcd179a08": {
          "model_module": "@jupyter-widgets/base",
          "model_module_version": "1.2.0",
          "model_name": "LayoutModel",
          "state": {
            "_model_module": "@jupyter-widgets/base",
            "_model_module_version": "1.2.0",
            "_model_name": "LayoutModel",
            "_view_count": null,
            "_view_module": "@jupyter-widgets/base",
            "_view_module_version": "1.2.0",
            "_view_name": "LayoutView",
            "align_content": null,
            "align_items": null,
            "align_self": null,
            "border": null,
            "bottom": null,
            "display": null,
            "flex": null,
            "flex_flow": null,
            "grid_area": null,
            "grid_auto_columns": null,
            "grid_auto_flow": null,
            "grid_auto_rows": null,
            "grid_column": null,
            "grid_gap": null,
            "grid_row": null,
            "grid_template_areas": null,
            "grid_template_columns": null,
            "grid_template_rows": null,
            "height": null,
            "justify_content": null,
            "justify_items": null,
            "left": null,
            "margin": null,
            "max_height": null,
            "max_width": null,
            "min_height": null,
            "min_width": null,
            "object_fit": null,
            "object_position": null,
            "order": null,
            "overflow": null,
            "overflow_x": null,
            "overflow_y": null,
            "padding": null,
            "right": null,
            "top": null,
            "visibility": null,
            "width": null
          }
        },
        "321ca2d1e2654f5683bab3f7059aafcb": {
          "model_module": "@jupyter-widgets/base",
          "model_module_version": "1.2.0",
          "model_name": "LayoutModel",
          "state": {
            "_model_module": "@jupyter-widgets/base",
            "_model_module_version": "1.2.0",
            "_model_name": "LayoutModel",
            "_view_count": null,
            "_view_module": "@jupyter-widgets/base",
            "_view_module_version": "1.2.0",
            "_view_name": "LayoutView",
            "align_content": null,
            "align_items": null,
            "align_self": null,
            "border": null,
            "bottom": null,
            "display": null,
            "flex": null,
            "flex_flow": null,
            "grid_area": null,
            "grid_auto_columns": null,
            "grid_auto_flow": null,
            "grid_auto_rows": null,
            "grid_column": null,
            "grid_gap": null,
            "grid_row": null,
            "grid_template_areas": null,
            "grid_template_columns": null,
            "grid_template_rows": null,
            "height": null,
            "justify_content": null,
            "justify_items": null,
            "left": null,
            "margin": null,
            "max_height": null,
            "max_width": null,
            "min_height": null,
            "min_width": null,
            "object_fit": null,
            "object_position": null,
            "order": null,
            "overflow": null,
            "overflow_x": null,
            "overflow_y": null,
            "padding": null,
            "right": null,
            "top": null,
            "visibility": null,
            "width": null
          }
        },
        "36d377cabe3e43208bf4d5a7ef839f90": {
          "model_module": "@jupyter-widgets/controls",
          "model_module_version": "1.5.0",
          "model_name": "HTMLModel",
          "state": {
            "_dom_classes": [],
            "_model_module": "@jupyter-widgets/controls",
            "_model_module_version": "1.5.0",
            "_model_name": "HTMLModel",
            "_view_count": null,
            "_view_module": "@jupyter-widgets/controls",
            "_view_module_version": "1.5.0",
            "_view_name": "HTMLView",
            "description": "",
            "description_tooltip": null,
            "layout": "IPY_MODEL_96eb805649ad4ff8a6e59f01284f23b9",
            "placeholder": "​",
            "style": "IPY_MODEL_f1dc2b85025c48ecb7d105be227e006a",
            "value": "Downloading: 100%"
          }
        },
        "37d7cb80cf7c45c282e172275e637b3b": {
          "model_module": "@jupyter-widgets/base",
          "model_module_version": "1.2.0",
          "model_name": "LayoutModel",
          "state": {
            "_model_module": "@jupyter-widgets/base",
            "_model_module_version": "1.2.0",
            "_model_name": "LayoutModel",
            "_view_count": null,
            "_view_module": "@jupyter-widgets/base",
            "_view_module_version": "1.2.0",
            "_view_name": "LayoutView",
            "align_content": null,
            "align_items": null,
            "align_self": null,
            "border": null,
            "bottom": null,
            "display": null,
            "flex": null,
            "flex_flow": null,
            "grid_area": null,
            "grid_auto_columns": null,
            "grid_auto_flow": null,
            "grid_auto_rows": null,
            "grid_column": null,
            "grid_gap": null,
            "grid_row": null,
            "grid_template_areas": null,
            "grid_template_columns": null,
            "grid_template_rows": null,
            "height": null,
            "justify_content": null,
            "justify_items": null,
            "left": null,
            "margin": null,
            "max_height": null,
            "max_width": null,
            "min_height": null,
            "min_width": null,
            "object_fit": null,
            "object_position": null,
            "order": null,
            "overflow": null,
            "overflow_x": null,
            "overflow_y": null,
            "padding": null,
            "right": null,
            "top": null,
            "visibility": null,
            "width": null
          }
        },
        "3cccbf197b76481b9657dcd9a664bd37": {
          "model_module": "@jupyter-widgets/controls",
          "model_module_version": "1.5.0",
          "model_name": "FloatProgressModel",
          "state": {
            "_dom_classes": [],
            "_model_module": "@jupyter-widgets/controls",
            "_model_module_version": "1.5.0",
            "_model_name": "FloatProgressModel",
            "_view_count": null,
            "_view_module": "@jupyter-widgets/controls",
            "_view_module_version": "1.5.0",
            "_view_name": "ProgressView",
            "bar_style": "success",
            "description": "",
            "description_tooltip": null,
            "layout": "IPY_MODEL_ecfd286c7d634bee89e4eed7ed11cae9",
            "max": 620,
            "min": 0,
            "orientation": "horizontal",
            "style": "IPY_MODEL_2e130ab82e1845ec8c4a9bc15044e8e5",
            "value": 620
          }
        },
        "44d6e29bd34843058399f8182a8afd1d": {
          "model_module": "@jupyter-widgets/base",
          "model_module_version": "1.2.0",
          "model_name": "LayoutModel",
          "state": {
            "_model_module": "@jupyter-widgets/base",
            "_model_module_version": "1.2.0",
            "_model_name": "LayoutModel",
            "_view_count": null,
            "_view_module": "@jupyter-widgets/base",
            "_view_module_version": "1.2.0",
            "_view_name": "LayoutView",
            "align_content": null,
            "align_items": null,
            "align_self": null,
            "border": null,
            "bottom": null,
            "display": null,
            "flex": null,
            "flex_flow": null,
            "grid_area": null,
            "grid_auto_columns": null,
            "grid_auto_flow": null,
            "grid_auto_rows": null,
            "grid_column": null,
            "grid_gap": null,
            "grid_row": null,
            "grid_template_areas": null,
            "grid_template_columns": null,
            "grid_template_rows": null,
            "height": null,
            "justify_content": null,
            "justify_items": null,
            "left": null,
            "margin": null,
            "max_height": null,
            "max_width": null,
            "min_height": null,
            "min_width": null,
            "object_fit": null,
            "object_position": null,
            "order": null,
            "overflow": null,
            "overflow_x": null,
            "overflow_y": null,
            "padding": null,
            "right": null,
            "top": null,
            "visibility": null,
            "width": null
          }
        },
        "49b607ed104b450d95cad8610682b0a0": {
          "model_module": "@jupyter-widgets/base",
          "model_module_version": "1.2.0",
          "model_name": "LayoutModel",
          "state": {
            "_model_module": "@jupyter-widgets/base",
            "_model_module_version": "1.2.0",
            "_model_name": "LayoutModel",
            "_view_count": null,
            "_view_module": "@jupyter-widgets/base",
            "_view_module_version": "1.2.0",
            "_view_name": "LayoutView",
            "align_content": null,
            "align_items": null,
            "align_self": null,
            "border": null,
            "bottom": null,
            "display": null,
            "flex": null,
            "flex_flow": null,
            "grid_area": null,
            "grid_auto_columns": null,
            "grid_auto_flow": null,
            "grid_auto_rows": null,
            "grid_column": null,
            "grid_gap": null,
            "grid_row": null,
            "grid_template_areas": null,
            "grid_template_columns": null,
            "grid_template_rows": null,
            "height": null,
            "justify_content": null,
            "justify_items": null,
            "left": null,
            "margin": null,
            "max_height": null,
            "max_width": null,
            "min_height": null,
            "min_width": null,
            "object_fit": null,
            "object_position": null,
            "order": null,
            "overflow": null,
            "overflow_x": null,
            "overflow_y": null,
            "padding": null,
            "right": null,
            "top": null,
            "visibility": null,
            "width": null
          }
        },
        "50504acc7b49475e8996d7ce1826b79b": {
          "model_module": "@jupyter-widgets/base",
          "model_module_version": "1.2.0",
          "model_name": "LayoutModel",
          "state": {
            "_model_module": "@jupyter-widgets/base",
            "_model_module_version": "1.2.0",
            "_model_name": "LayoutModel",
            "_view_count": null,
            "_view_module": "@jupyter-widgets/base",
            "_view_module_version": "1.2.0",
            "_view_name": "LayoutView",
            "align_content": null,
            "align_items": null,
            "align_self": null,
            "border": null,
            "bottom": null,
            "display": null,
            "flex": null,
            "flex_flow": null,
            "grid_area": null,
            "grid_auto_columns": null,
            "grid_auto_flow": null,
            "grid_auto_rows": null,
            "grid_column": null,
            "grid_gap": null,
            "grid_row": null,
            "grid_template_areas": null,
            "grid_template_columns": null,
            "grid_template_rows": null,
            "height": null,
            "justify_content": null,
            "justify_items": null,
            "left": null,
            "margin": null,
            "max_height": null,
            "max_width": null,
            "min_height": null,
            "min_width": null,
            "object_fit": null,
            "object_position": null,
            "order": null,
            "overflow": null,
            "overflow_x": null,
            "overflow_y": null,
            "padding": null,
            "right": null,
            "top": null,
            "visibility": null,
            "width": null
          }
        },
        "599505a471de4809897cdb125a7a0d32": {
          "model_module": "@jupyter-widgets/controls",
          "model_module_version": "1.5.0",
          "model_name": "HTMLModel",
          "state": {
            "_dom_classes": [],
            "_model_module": "@jupyter-widgets/controls",
            "_model_module_version": "1.5.0",
            "_model_name": "HTMLModel",
            "_view_count": null,
            "_view_module": "@jupyter-widgets/controls",
            "_view_module_version": "1.5.0",
            "_view_name": "HTMLView",
            "description": "",
            "description_tooltip": null,
            "layout": "IPY_MODEL_321ca2d1e2654f5683bab3f7059aafcb",
            "placeholder": "​",
            "style": "IPY_MODEL_e194c5b2063f431192b17742bbcae585",
            "value": "Downloading: 100%"
          }
        },
        "5bcf0c5e2ead4e729f23e39c82f5ed51": {
          "model_module": "@jupyter-widgets/base",
          "model_module_version": "1.2.0",
          "model_name": "LayoutModel",
          "state": {
            "_model_module": "@jupyter-widgets/base",
            "_model_module_version": "1.2.0",
            "_model_name": "LayoutModel",
            "_view_count": null,
            "_view_module": "@jupyter-widgets/base",
            "_view_module_version": "1.2.0",
            "_view_name": "LayoutView",
            "align_content": null,
            "align_items": null,
            "align_self": null,
            "border": null,
            "bottom": null,
            "display": null,
            "flex": null,
            "flex_flow": null,
            "grid_area": null,
            "grid_auto_columns": null,
            "grid_auto_flow": null,
            "grid_auto_rows": null,
            "grid_column": null,
            "grid_gap": null,
            "grid_row": null,
            "grid_template_areas": null,
            "grid_template_columns": null,
            "grid_template_rows": null,
            "height": null,
            "justify_content": null,
            "justify_items": null,
            "left": null,
            "margin": null,
            "max_height": null,
            "max_width": null,
            "min_height": null,
            "min_width": null,
            "object_fit": null,
            "object_position": null,
            "order": null,
            "overflow": null,
            "overflow_x": null,
            "overflow_y": null,
            "padding": null,
            "right": null,
            "top": null,
            "visibility": null,
            "width": null
          }
        },
        "5f9862ed5c8a4d73836661549e5eb5f7": {
          "model_module": "@jupyter-widgets/controls",
          "model_module_version": "1.5.0",
          "model_name": "DescriptionStyleModel",
          "state": {
            "_model_module": "@jupyter-widgets/controls",
            "_model_module_version": "1.5.0",
            "_model_name": "DescriptionStyleModel",
            "_view_count": null,
            "_view_module": "@jupyter-widgets/base",
            "_view_module_version": "1.2.0",
            "_view_name": "StyleView",
            "description_width": ""
          }
        },
        "64766f048322454ea2f4ec62c0e50abe": {
          "model_module": "@jupyter-widgets/controls",
          "model_module_version": "1.5.0",
          "model_name": "DescriptionStyleModel",
          "state": {
            "_model_module": "@jupyter-widgets/controls",
            "_model_module_version": "1.5.0",
            "_model_name": "DescriptionStyleModel",
            "_view_count": null,
            "_view_module": "@jupyter-widgets/base",
            "_view_module_version": "1.2.0",
            "_view_name": "StyleView",
            "description_width": ""
          }
        },
        "78dd29df1b9b41638be3b62bf69d02c2": {
          "model_module": "@jupyter-widgets/base",
          "model_module_version": "1.2.0",
          "model_name": "LayoutModel",
          "state": {
            "_model_module": "@jupyter-widgets/base",
            "_model_module_version": "1.2.0",
            "_model_name": "LayoutModel",
            "_view_count": null,
            "_view_module": "@jupyter-widgets/base",
            "_view_module_version": "1.2.0",
            "_view_name": "LayoutView",
            "align_content": null,
            "align_items": null,
            "align_self": null,
            "border": null,
            "bottom": null,
            "display": null,
            "flex": null,
            "flex_flow": null,
            "grid_area": null,
            "grid_auto_columns": null,
            "grid_auto_flow": null,
            "grid_auto_rows": null,
            "grid_column": null,
            "grid_gap": null,
            "grid_row": null,
            "grid_template_areas": null,
            "grid_template_columns": null,
            "grid_template_rows": null,
            "height": null,
            "justify_content": null,
            "justify_items": null,
            "left": null,
            "margin": null,
            "max_height": null,
            "max_width": null,
            "min_height": null,
            "min_width": null,
            "object_fit": null,
            "object_position": null,
            "order": null,
            "overflow": null,
            "overflow_x": null,
            "overflow_y": null,
            "padding": null,
            "right": null,
            "top": null,
            "visibility": null,
            "width": null
          }
        },
        "817d7eaa5acb489b859a2163791e08e8": {
          "model_module": "@jupyter-widgets/controls",
          "model_module_version": "1.5.0",
          "model_name": "HTMLModel",
          "state": {
            "_dom_classes": [],
            "_model_module": "@jupyter-widgets/controls",
            "_model_module_version": "1.5.0",
            "_model_name": "HTMLModel",
            "_view_count": null,
            "_view_module": "@jupyter-widgets/controls",
            "_view_module_version": "1.5.0",
            "_view_name": "HTMLView",
            "description": "",
            "description_tooltip": null,
            "layout": "IPY_MODEL_5bcf0c5e2ead4e729f23e39c82f5ed51",
            "placeholder": "​",
            "style": "IPY_MODEL_0b873929353b46ec8d0a2a8246156887",
            "value": " 620/620 [00:00&lt;00:00, 4.46kB/s]"
          }
        },
        "8caf81f43f474e1582cf339a9a8efc68": {
          "model_module": "@jupyter-widgets/base",
          "model_module_version": "1.2.0",
          "model_name": "LayoutModel",
          "state": {
            "_model_module": "@jupyter-widgets/base",
            "_model_module_version": "1.2.0",
            "_model_name": "LayoutModel",
            "_view_count": null,
            "_view_module": "@jupyter-widgets/base",
            "_view_module_version": "1.2.0",
            "_view_name": "LayoutView",
            "align_content": null,
            "align_items": null,
            "align_self": null,
            "border": null,
            "bottom": null,
            "display": null,
            "flex": null,
            "flex_flow": null,
            "grid_area": null,
            "grid_auto_columns": null,
            "grid_auto_flow": null,
            "grid_auto_rows": null,
            "grid_column": null,
            "grid_gap": null,
            "grid_row": null,
            "grid_template_areas": null,
            "grid_template_columns": null,
            "grid_template_rows": null,
            "height": null,
            "justify_content": null,
            "justify_items": null,
            "left": null,
            "margin": null,
            "max_height": null,
            "max_width": null,
            "min_height": null,
            "min_width": null,
            "object_fit": null,
            "object_position": null,
            "order": null,
            "overflow": null,
            "overflow_x": null,
            "overflow_y": null,
            "padding": null,
            "right": null,
            "top": null,
            "visibility": null,
            "width": null
          }
        },
        "920d20960b444393920d588fa5f4c273": {
          "model_module": "@jupyter-widgets/controls",
          "model_module_version": "1.5.0",
          "model_name": "HBoxModel",
          "state": {
            "_dom_classes": [],
            "_model_module": "@jupyter-widgets/controls",
            "_model_module_version": "1.5.0",
            "_model_name": "HBoxModel",
            "_view_count": null,
            "_view_module": "@jupyter-widgets/controls",
            "_view_module_version": "1.5.0",
            "_view_name": "HBoxView",
            "box_style": "",
            "children": [
              "IPY_MODEL_92fbb6962714401facaa51214a77ae67",
              "IPY_MODEL_a9c7e1117ea14221ac876dc1f519f10c",
              "IPY_MODEL_c17a628df6ea412cbb8d3c631bdc15db"
            ],
            "layout": "IPY_MODEL_211d58237d2841cf9b83162ec47720fe"
          }
        },
        "92ee8bcfdedf4b54b2043136255ee3e1": {
          "model_module": "@jupyter-widgets/controls",
          "model_module_version": "1.5.0",
          "model_name": "HTMLModel",
          "state": {
            "_dom_classes": [],
            "_model_module": "@jupyter-widgets/controls",
            "_model_module_version": "1.5.0",
            "_model_name": "HTMLModel",
            "_view_count": null,
            "_view_module": "@jupyter-widgets/controls",
            "_view_module_version": "1.5.0",
            "_view_name": "HTMLView",
            "description": "",
            "description_tooltip": null,
            "layout": "IPY_MODEL_78dd29df1b9b41638be3b62bf69d02c2",
            "placeholder": "​",
            "style": "IPY_MODEL_130d96ecd336452faea5b9f6b4f6abfa",
            "value": "Downloading: 100%"
          }
        },
        "92fbb6962714401facaa51214a77ae67": {
          "model_module": "@jupyter-widgets/controls",
          "model_module_version": "1.5.0",
          "model_name": "HTMLModel",
          "state": {
            "_dom_classes": [],
            "_model_module": "@jupyter-widgets/controls",
            "_model_module_version": "1.5.0",
            "_model_name": "HTMLModel",
            "_view_count": null,
            "_view_module": "@jupyter-widgets/controls",
            "_view_module_version": "1.5.0",
            "_view_name": "HTMLView",
            "description": "",
            "description_tooltip": null,
            "layout": "IPY_MODEL_8caf81f43f474e1582cf339a9a8efc68",
            "placeholder": "​",
            "style": "IPY_MODEL_5f9862ed5c8a4d73836661549e5eb5f7",
            "value": "Downloading: 100%"
          }
        },
        "943c89f9b4324b6b8a1ab6a6b60f91b1": {
          "model_module": "@jupyter-widgets/controls",
          "model_module_version": "1.5.0",
          "model_name": "HTMLModel",
          "state": {
            "_dom_classes": [],
            "_model_module": "@jupyter-widgets/controls",
            "_model_module_version": "1.5.0",
            "_model_name": "HTMLModel",
            "_view_count": null,
            "_view_module": "@jupyter-widgets/controls",
            "_view_module_version": "1.5.0",
            "_view_name": "HTMLView",
            "description": "",
            "description_tooltip": null,
            "layout": "IPY_MODEL_37d7cb80cf7c45c282e172275e637b3b",
            "placeholder": "​",
            "style": "IPY_MODEL_2bbb10333b6b42f1933ad8d678090edf",
            "value": " 80.0/80.0 [00:00&lt;00:00, 912B/s]"
          }
        },
        "96e36ff711a24b569edda9c0c950c458": {
          "model_module": "@jupyter-widgets/controls",
          "model_module_version": "1.5.0",
          "model_name": "DescriptionStyleModel",
          "state": {
            "_model_module": "@jupyter-widgets/controls",
            "_model_module_version": "1.5.0",
            "_model_name": "DescriptionStyleModel",
            "_view_count": null,
            "_view_module": "@jupyter-widgets/base",
            "_view_module_version": "1.2.0",
            "_view_name": "StyleView",
            "description_width": ""
          }
        },
        "96eb805649ad4ff8a6e59f01284f23b9": {
          "model_module": "@jupyter-widgets/base",
          "model_module_version": "1.2.0",
          "model_name": "LayoutModel",
          "state": {
            "_model_module": "@jupyter-widgets/base",
            "_model_module_version": "1.2.0",
            "_model_name": "LayoutModel",
            "_view_count": null,
            "_view_module": "@jupyter-widgets/base",
            "_view_module_version": "1.2.0",
            "_view_name": "LayoutView",
            "align_content": null,
            "align_items": null,
            "align_self": null,
            "border": null,
            "bottom": null,
            "display": null,
            "flex": null,
            "flex_flow": null,
            "grid_area": null,
            "grid_auto_columns": null,
            "grid_auto_flow": null,
            "grid_auto_rows": null,
            "grid_column": null,
            "grid_gap": null,
            "grid_row": null,
            "grid_template_areas": null,
            "grid_template_columns": null,
            "grid_template_rows": null,
            "height": null,
            "justify_content": null,
            "justify_items": null,
            "left": null,
            "margin": null,
            "max_height": null,
            "max_width": null,
            "min_height": null,
            "min_width": null,
            "object_fit": null,
            "object_position": null,
            "order": null,
            "overflow": null,
            "overflow_x": null,
            "overflow_y": null,
            "padding": null,
            "right": null,
            "top": null,
            "visibility": null,
            "width": null
          }
        },
        "a40252c7a7804854a72532400a6608de": {
          "model_module": "@jupyter-widgets/controls",
          "model_module_version": "1.5.0",
          "model_name": "FloatProgressModel",
          "state": {
            "_dom_classes": [],
            "_model_module": "@jupyter-widgets/controls",
            "_model_module_version": "1.5.0",
            "_model_name": "FloatProgressModel",
            "_view_count": null,
            "_view_module": "@jupyter-widgets/controls",
            "_view_module_version": "1.5.0",
            "_view_name": "ProgressView",
            "bar_style": "success",
            "description": "",
            "description_tooltip": null,
            "layout": "IPY_MODEL_2f784153a9584f84a7614e5fcd179a08",
            "max": 473243441,
            "min": 0,
            "orientation": "horizontal",
            "style": "IPY_MODEL_ae2267330e6947b99b5d85cd471db32a",
            "value": 473243441
          }
        },
        "a8802215c56a45c6ae11e3fc72fe789d": {
          "model_module": "@jupyter-widgets/controls",
          "model_module_version": "1.5.0",
          "model_name": "FloatProgressModel",
          "state": {
            "_dom_classes": [],
            "_model_module": "@jupyter-widgets/controls",
            "_model_module_version": "1.5.0",
            "_model_name": "FloatProgressModel",
            "_view_count": null,
            "_view_module": "@jupyter-widgets/controls",
            "_view_module_version": "1.5.0",
            "_view_name": "ProgressView",
            "bar_style": "success",
            "description": "",
            "description_tooltip": null,
            "layout": "IPY_MODEL_a8e9dd3a417a423e941deee4c960b3ef",
            "max": 80,
            "min": 0,
            "orientation": "horizontal",
            "style": "IPY_MODEL_d2578c128dc84249867715c2e39ef046",
            "value": 80
          }
        },
        "a8e9dd3a417a423e941deee4c960b3ef": {
          "model_module": "@jupyter-widgets/base",
          "model_module_version": "1.2.0",
          "model_name": "LayoutModel",
          "state": {
            "_model_module": "@jupyter-widgets/base",
            "_model_module_version": "1.2.0",
            "_model_name": "LayoutModel",
            "_view_count": null,
            "_view_module": "@jupyter-widgets/base",
            "_view_module_version": "1.2.0",
            "_view_name": "LayoutView",
            "align_content": null,
            "align_items": null,
            "align_self": null,
            "border": null,
            "bottom": null,
            "display": null,
            "flex": null,
            "flex_flow": null,
            "grid_area": null,
            "grid_auto_columns": null,
            "grid_auto_flow": null,
            "grid_auto_rows": null,
            "grid_column": null,
            "grid_gap": null,
            "grid_row": null,
            "grid_template_areas": null,
            "grid_template_columns": null,
            "grid_template_rows": null,
            "height": null,
            "justify_content": null,
            "justify_items": null,
            "left": null,
            "margin": null,
            "max_height": null,
            "max_width": null,
            "min_height": null,
            "min_width": null,
            "object_fit": null,
            "object_position": null,
            "order": null,
            "overflow": null,
            "overflow_x": null,
            "overflow_y": null,
            "padding": null,
            "right": null,
            "top": null,
            "visibility": null,
            "width": null
          }
        },
        "a9c7e1117ea14221ac876dc1f519f10c": {
          "model_module": "@jupyter-widgets/controls",
          "model_module_version": "1.5.0",
          "model_name": "FloatProgressModel",
          "state": {
            "_dom_classes": [],
            "_model_module": "@jupyter-widgets/controls",
            "_model_module_version": "1.5.0",
            "_model_name": "FloatProgressModel",
            "_view_count": null,
            "_view_module": "@jupyter-widgets/controls",
            "_view_module_version": "1.5.0",
            "_view_name": "ProgressView",
            "bar_style": "success",
            "description": "",
            "description_tooltip": null,
            "layout": "IPY_MODEL_49b607ed104b450d95cad8610682b0a0",
            "max": 344259,
            "min": 0,
            "orientation": "horizontal",
            "style": "IPY_MODEL_c8ec5df30b8a44a6bfb309a2a558cacf",
            "value": 344259
          }
        },
        "ae2267330e6947b99b5d85cd471db32a": {
          "model_module": "@jupyter-widgets/controls",
          "model_module_version": "1.5.0",
          "model_name": "ProgressStyleModel",
          "state": {
            "_model_module": "@jupyter-widgets/controls",
            "_model_module_version": "1.5.0",
            "_model_name": "ProgressStyleModel",
            "_view_count": null,
            "_view_module": "@jupyter-widgets/base",
            "_view_module_version": "1.2.0",
            "_view_name": "StyleView",
            "bar_color": null,
            "description_width": ""
          }
        },
        "b1c68a6810bb421189579bf5d4b08c20": {
          "model_module": "@jupyter-widgets/base",
          "model_module_version": "1.2.0",
          "model_name": "LayoutModel",
          "state": {
            "_model_module": "@jupyter-widgets/base",
            "_model_module_version": "1.2.0",
            "_model_name": "LayoutModel",
            "_view_count": null,
            "_view_module": "@jupyter-widgets/base",
            "_view_module_version": "1.2.0",
            "_view_name": "LayoutView",
            "align_content": null,
            "align_items": null,
            "align_self": null,
            "border": null,
            "bottom": null,
            "display": null,
            "flex": null,
            "flex_flow": null,
            "grid_area": null,
            "grid_auto_columns": null,
            "grid_auto_flow": null,
            "grid_auto_rows": null,
            "grid_column": null,
            "grid_gap": null,
            "grid_row": null,
            "grid_template_areas": null,
            "grid_template_columns": null,
            "grid_template_rows": null,
            "height": null,
            "justify_content": null,
            "justify_items": null,
            "left": null,
            "margin": null,
            "max_height": null,
            "max_width": null,
            "min_height": null,
            "min_width": null,
            "object_fit": null,
            "object_position": null,
            "order": null,
            "overflow": null,
            "overflow_x": null,
            "overflow_y": null,
            "padding": null,
            "right": null,
            "top": null,
            "visibility": null,
            "width": null
          }
        },
        "bf7b4e2a7322445d9078f66a4f9155f4": {
          "model_module": "@jupyter-widgets/base",
          "model_module_version": "1.2.0",
          "model_name": "LayoutModel",
          "state": {
            "_model_module": "@jupyter-widgets/base",
            "_model_module_version": "1.2.0",
            "_model_name": "LayoutModel",
            "_view_count": null,
            "_view_module": "@jupyter-widgets/base",
            "_view_module_version": "1.2.0",
            "_view_name": "LayoutView",
            "align_content": null,
            "align_items": null,
            "align_self": null,
            "border": null,
            "bottom": null,
            "display": null,
            "flex": null,
            "flex_flow": null,
            "grid_area": null,
            "grid_auto_columns": null,
            "grid_auto_flow": null,
            "grid_auto_rows": null,
            "grid_column": null,
            "grid_gap": null,
            "grid_row": null,
            "grid_template_areas": null,
            "grid_template_columns": null,
            "grid_template_rows": null,
            "height": null,
            "justify_content": null,
            "justify_items": null,
            "left": null,
            "margin": null,
            "max_height": null,
            "max_width": null,
            "min_height": null,
            "min_width": null,
            "object_fit": null,
            "object_position": null,
            "order": null,
            "overflow": null,
            "overflow_x": null,
            "overflow_y": null,
            "padding": null,
            "right": null,
            "top": null,
            "visibility": null,
            "width": null
          }
        },
        "c17a628df6ea412cbb8d3c631bdc15db": {
          "model_module": "@jupyter-widgets/controls",
          "model_module_version": "1.5.0",
          "model_name": "HTMLModel",
          "state": {
            "_dom_classes": [],
            "_model_module": "@jupyter-widgets/controls",
            "_model_module_version": "1.5.0",
            "_model_name": "HTMLModel",
            "_view_count": null,
            "_view_module": "@jupyter-widgets/controls",
            "_view_module_version": "1.5.0",
            "_view_name": "HTMLView",
            "description": "",
            "description_tooltip": null,
            "layout": "IPY_MODEL_50504acc7b49475e8996d7ce1826b79b",
            "placeholder": "​",
            "style": "IPY_MODEL_64766f048322454ea2f4ec62c0e50abe",
            "value": " 344k/344k [00:00&lt;00:00, 655kB/s]"
          }
        },
        "c8ec5df30b8a44a6bfb309a2a558cacf": {
          "model_module": "@jupyter-widgets/controls",
          "model_module_version": "1.5.0",
          "model_name": "ProgressStyleModel",
          "state": {
            "_model_module": "@jupyter-widgets/controls",
            "_model_module_version": "1.5.0",
            "_model_name": "ProgressStyleModel",
            "_view_count": null,
            "_view_module": "@jupyter-widgets/base",
            "_view_module_version": "1.2.0",
            "_view_name": "StyleView",
            "bar_color": null,
            "description_width": ""
          }
        },
        "d2578c128dc84249867715c2e39ef046": {
          "model_module": "@jupyter-widgets/controls",
          "model_module_version": "1.5.0",
          "model_name": "ProgressStyleModel",
          "state": {
            "_model_module": "@jupyter-widgets/controls",
            "_model_module_version": "1.5.0",
            "_model_name": "ProgressStyleModel",
            "_view_count": null,
            "_view_module": "@jupyter-widgets/base",
            "_view_module_version": "1.2.0",
            "_view_name": "StyleView",
            "bar_color": null,
            "description_width": ""
          }
        },
        "db59f025a1e74f5ea2f6f56757e7df50": {
          "model_module": "@jupyter-widgets/base",
          "model_module_version": "1.2.0",
          "model_name": "LayoutModel",
          "state": {
            "_model_module": "@jupyter-widgets/base",
            "_model_module_version": "1.2.0",
            "_model_name": "LayoutModel",
            "_view_count": null,
            "_view_module": "@jupyter-widgets/base",
            "_view_module_version": "1.2.0",
            "_view_name": "LayoutView",
            "align_content": null,
            "align_items": null,
            "align_self": null,
            "border": null,
            "bottom": null,
            "display": null,
            "flex": null,
            "flex_flow": null,
            "grid_area": null,
            "grid_auto_columns": null,
            "grid_auto_flow": null,
            "grid_auto_rows": null,
            "grid_column": null,
            "grid_gap": null,
            "grid_row": null,
            "grid_template_areas": null,
            "grid_template_columns": null,
            "grid_template_rows": null,
            "height": null,
            "justify_content": null,
            "justify_items": null,
            "left": null,
            "margin": null,
            "max_height": null,
            "max_width": null,
            "min_height": null,
            "min_width": null,
            "object_fit": null,
            "object_position": null,
            "order": null,
            "overflow": null,
            "overflow_x": null,
            "overflow_y": null,
            "padding": null,
            "right": null,
            "top": null,
            "visibility": null,
            "width": null
          }
        },
        "e145696381344313886120817a2bce7c": {
          "model_module": "@jupyter-widgets/controls",
          "model_module_version": "1.5.0",
          "model_name": "HTMLModel",
          "state": {
            "_dom_classes": [],
            "_model_module": "@jupyter-widgets/controls",
            "_model_module_version": "1.5.0",
            "_model_name": "HTMLModel",
            "_view_count": null,
            "_view_module": "@jupyter-widgets/controls",
            "_view_module_version": "1.5.0",
            "_view_name": "HTMLView",
            "description": "",
            "description_tooltip": null,
            "layout": "IPY_MODEL_db59f025a1e74f5ea2f6f56757e7df50",
            "placeholder": "​",
            "style": "IPY_MODEL_96e36ff711a24b569edda9c0c950c458",
            "value": " 473M/473M [00:25&lt;00:00, 26.5MB/s]"
          }
        },
        "e194c5b2063f431192b17742bbcae585": {
          "model_module": "@jupyter-widgets/controls",
          "model_module_version": "1.5.0",
          "model_name": "DescriptionStyleModel",
          "state": {
            "_model_module": "@jupyter-widgets/controls",
            "_model_module_version": "1.5.0",
            "_model_name": "DescriptionStyleModel",
            "_view_count": null,
            "_view_module": "@jupyter-widgets/base",
            "_view_module_version": "1.2.0",
            "_view_name": "StyleView",
            "description_width": ""
          }
        },
        "ecfd286c7d634bee89e4eed7ed11cae9": {
          "model_module": "@jupyter-widgets/base",
          "model_module_version": "1.2.0",
          "model_name": "LayoutModel",
          "state": {
            "_model_module": "@jupyter-widgets/base",
            "_model_module_version": "1.2.0",
            "_model_name": "LayoutModel",
            "_view_count": null,
            "_view_module": "@jupyter-widgets/base",
            "_view_module_version": "1.2.0",
            "_view_name": "LayoutView",
            "align_content": null,
            "align_items": null,
            "align_self": null,
            "border": null,
            "bottom": null,
            "display": null,
            "flex": null,
            "flex_flow": null,
            "grid_area": null,
            "grid_auto_columns": null,
            "grid_auto_flow": null,
            "grid_auto_rows": null,
            "grid_column": null,
            "grid_gap": null,
            "grid_row": null,
            "grid_template_areas": null,
            "grid_template_columns": null,
            "grid_template_rows": null,
            "height": null,
            "justify_content": null,
            "justify_items": null,
            "left": null,
            "margin": null,
            "max_height": null,
            "max_width": null,
            "min_height": null,
            "min_width": null,
            "object_fit": null,
            "object_position": null,
            "order": null,
            "overflow": null,
            "overflow_x": null,
            "overflow_y": null,
            "padding": null,
            "right": null,
            "top": null,
            "visibility": null,
            "width": null
          }
        },
        "ee7e5d3628c3497889864cf96c74a203": {
          "model_module": "@jupyter-widgets/controls",
          "model_module_version": "1.5.0",
          "model_name": "HBoxModel",
          "state": {
            "_dom_classes": [],
            "_model_module": "@jupyter-widgets/controls",
            "_model_module_version": "1.5.0",
            "_model_name": "HBoxModel",
            "_view_count": null,
            "_view_module": "@jupyter-widgets/controls",
            "_view_module_version": "1.5.0",
            "_view_name": "HBoxView",
            "box_style": "",
            "children": [
              "IPY_MODEL_36d377cabe3e43208bf4d5a7ef839f90",
              "IPY_MODEL_a8802215c56a45c6ae11e3fc72fe789d",
              "IPY_MODEL_943c89f9b4324b6b8a1ab6a6b60f91b1"
            ],
            "layout": "IPY_MODEL_bf7b4e2a7322445d9078f66a4f9155f4"
          }
        },
        "f1dc2b85025c48ecb7d105be227e006a": {
          "model_module": "@jupyter-widgets/controls",
          "model_module_version": "1.5.0",
          "model_name": "DescriptionStyleModel",
          "state": {
            "_model_module": "@jupyter-widgets/controls",
            "_model_module_version": "1.5.0",
            "_model_name": "DescriptionStyleModel",
            "_view_count": null,
            "_view_module": "@jupyter-widgets/base",
            "_view_module_version": "1.2.0",
            "_view_name": "StyleView",
            "description_width": ""
          }
        }
      }
    }
  },
  "nbformat": 4,
  "nbformat_minor": 0
}
