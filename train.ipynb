{
  "cells": [
    {
      "cell_type": "markdown",
      "metadata": {
        "id": "ofotWdW77t6V"
      },
      "source": [
        "# Install libraries"
      ]
    },
    {
      "cell_type": "code",
      "execution_count": null,
      "metadata": {
        "colab": {
          "base_uri": "https://localhost:8080/"
        },
        "id": "1ol6ZL50wvPR",
        "outputId": "07093a73-747a-43ec-cd4e-51f4ef1f2d97"
      },
      "outputs": [],
      "source": [
        "!pip install -r requirements.txt"
      ]
    },
    {
      "cell_type": "code",
      "execution_count": null,
      "metadata": {
        "id": "KlGwQS0dusMw"
      },
      "outputs": [],
      "source": [
        "# https://github.com/teddysum/korean_ABSA_baseline/blob/0d47e3eef31419a2d31d859da2dfba4f9df75531/src/sentiment_analysis.py#L532-L630\n",
        "\n",
        "def evaluation_f1(true_data, pred_data):\n",
        "\n",
        "    true_data_list = true_data\n",
        "    pred_data_list = pred_data\n",
        "\n",
        "    ce_eval = {\n",
        "        'TP': 0,\n",
        "        'FP': 0,\n",
        "        'FN': 0,\n",
        "        'TN': 0\n",
        "    }\n",
        "\n",
        "    pipeline_eval = {\n",
        "        'TP': 0,\n",
        "        'FP': 0,\n",
        "        'FN': 0,\n",
        "        'TN': 0\n",
        "    }\n",
        "\n",
        "    for i in range(len(true_data_list)):\n",
        "\n",
        "        # TP, FN checking\n",
        "        is_ce_found = False\n",
        "        is_pipeline_found = False\n",
        "        for y_ano  in true_data_list[i]['annotation']:\n",
        "            y_category = y_ano[0]\n",
        "            y_polarity = y_ano[2]\n",
        "\n",
        "            for p_ano in pred_data_list[i]['annotation']:\n",
        "                p_category = p_ano[0]\n",
        "                p_polarity = p_ano[1]\n",
        "\n",
        "                if y_category == p_category:\n",
        "                    is_ce_found = True\n",
        "                    if y_polarity == p_polarity:\n",
        "                        is_pipeline_found = True\n",
        "\n",
        "                    break\n",
        "\n",
        "            if is_ce_found is True:\n",
        "                ce_eval['TP'] += 1\n",
        "            else:\n",
        "                ce_eval['FN'] += 1\n",
        "\n",
        "            if is_pipeline_found is True:\n",
        "                pipeline_eval['TP'] += 1\n",
        "            else:\n",
        "                pipeline_eval['FN'] += 1\n",
        "\n",
        "            is_ce_found = False\n",
        "            is_pipeline_found = False\n",
        "\n",
        "        # FP checking\n",
        "        for p_ano in pred_data_list[i]['annotation']:\n",
        "            p_category = p_ano[0]\n",
        "            p_polarity = p_ano[1]\n",
        "\n",
        "            for y_ano  in true_data_list[i]['annotation']:\n",
        "                y_category = y_ano[0]\n",
        "                y_polarity = y_ano[2]\n",
        "\n",
        "                if y_category == p_category:\n",
        "                    is_ce_found = True\n",
        "                    if y_polarity == p_polarity:\n",
        "                        is_pipeline_found = True\n",
        "\n",
        "                    break\n",
        "\n",
        "            if is_ce_found is False:\n",
        "                ce_eval['FP'] += 1\n",
        "\n",
        "            if is_pipeline_found is False:\n",
        "                pipeline_eval['FP'] += 1\n",
        "            \n",
        "            is_ce_found = False\n",
        "            is_pipeline_found = False\n",
        "\n",
        "    ce_precision = ce_eval['TP']/(ce_eval['TP']+ce_eval['FP'])\n",
        "    ce_recall = ce_eval['TP']/(ce_eval['TP']+ce_eval['FN'])\n",
        "\n",
        "    ce_result = {\n",
        "        'Precision': ce_precision,\n",
        "        'Recall': ce_recall,\n",
        "        'F1': 2*ce_recall*ce_precision/(ce_recall+ce_precision)\n",
        "    }\n",
        "\n",
        "    pipeline_precision = pipeline_eval['TP']/(pipeline_eval['TP']+pipeline_eval['FP'])\n",
        "    pipeline_recall = pipeline_eval['TP']/(pipeline_eval['TP']+pipeline_eval['FN'])\n",
        "\n",
        "    pipeline_result = {\n",
        "        'Precision': pipeline_precision,\n",
        "        'Recall': pipeline_recall,\n",
        "        'F1': 2*pipeline_recall*pipeline_precision/(pipeline_recall+pipeline_precision)\n",
        "    }\n",
        "\n",
        "    return {\n",
        "        'category extraction result': ce_result,\n",
        "        'entire pipeline result': pipeline_result\n",
        "    }"
      ]
    },
    {
      "cell_type": "markdown",
      "metadata": {
        "id": "Yx7ONYPb7wK8"
      },
      "source": [
        "# Load libraries"
      ]
    },
    {
      "cell_type": "code",
      "execution_count": null,
      "metadata": {
        "id": "nkUps9Cy0wdD"
      },
      "outputs": [],
      "source": [
        "%load_ext autoreload\n",
        "%autoreload 2"
      ]
    },
    {
      "cell_type": "code",
      "execution_count": null,
      "metadata": {
        "id": "J5BqUQfYwySI"
      },
      "outputs": [],
      "source": [
        "import os, sys\n",
        "import re\n",
        "import time\n",
        "import json\n",
        "import random\n",
        "import pickle\n",
        "import numpy as np\n",
        "import pandas as pd\n",
        "from tqdm import tqdm\n",
        "from copy import deepcopy\n",
        "import matplotlib.pyplot as plt\n",
        "\n",
        "from sklearn.metrics import f1_score\n",
        "\n",
        "import torch\n",
        "import torch.nn.functional as F\n",
        "from torch.utils.data import (\n",
        "    TensorDataset, DataLoader, RandomSampler, SequentialSampler, WeightedRandomSampler\n",
        ")\n",
        "from transformers import (\n",
        "    AdamW, get_linear_schedule_with_warmup,\n",
        "    ElectraTokenizerFast, ElectraForSequenceClassification, ElectraForTokenClassification,\n",
        "    BertTokenizerFast, BertForSequenceClassification\n",
        ")\n",
        "\n",
        "os.environ['CUDA_LAUNCH_BLOCKING'] = \"1\""
      ]
    },
    {
      "cell_type": "code",
      "execution_count": null,
      "metadata": {
        "colab": {
          "base_uri": "https://localhost:8080/"
        },
        "id": "oXP9wtHLxl8V",
        "outputId": "d97e5fd3-9f7b-4dfc-eb92-7747c7cff826"
      },
      "outputs": [
        {
          "data": {
            "text/plain": [
              "<torch._C.Generator at 0x7f81de31e990>"
            ]
          },
          "execution_count": 8,
          "metadata": {},
          "output_type": "execute_result"
        }
      ],
      "source": [
        "# device = 'cpu'\n",
        "device = 'cuda'\n",
        "seed = 1235\n",
        "batch_size = 4\n",
        "learning_rate = 1e-5\n",
        "warmup_proportion = 0.1\n",
        "epochs = 10\n",
        "warmup_steps = 1000\n",
        "# max_len= 256\n",
        "\n",
        "gradient_accumulation_steps = 4\n",
        "num_train_epochs = epochs\n",
        "\n",
        "random.seed(seed)\n",
        "np.random.seed(seed)\n",
        "torch.manual_seed(seed)"
      ]
    },
    {
      "cell_type": "markdown",
      "metadata": {
        "id": "CMMwACaQ7ysL"
      },
      "source": [
        "# Load data"
      ]
    },
    {
      "cell_type": "markdown",
      "metadata": {
        "id": "EDxLtUM4-531"
      },
      "source": [
        "## data"
      ]
    },
    {
      "cell_type": "code",
      "execution_count": null,
      "metadata": {
        "id": "aJyABhoSxfjG"
      },
      "outputs": [],
      "source": [
        "train = []\n",
        "with open('data/nikluge-sa-2022-train.jsonl', 'r') as file:\n",
        "    for line in file.readlines():\n",
        "        train.append(json.loads(line))\n",
        "\n",
        "train[34]= {'id': 'nikluge-sa-2022-train-00035',\n",
        " 'sentence_form': '물론 쥐시장 가면 천원짜리도 많겠지만 가격대비 면이 좋네.',\n",
        " 'annotation': [['본품#품질', ['면', 26, 27], 'positive']]}\n",
        "train[2529]= {'id': 'nikluge-sa-2022-train-02530',\n",
        " 'sentence_form': '피부가 건조해서 거칠어지신 분들... 피부 속과 겉 모두 건조하신 분들은 #수분집중 라인을 선택해주시면 되겠습니당!',\n",
        " 'annotation': [['제품 전체#일반', [' #수분집중 라인', 41, 49], 'positive']]}\n",
        "\n",
        "val = []\n",
        "with open('data/nikluge-sa-2022-dev.jsonl', 'r') as file:\n",
        "    for line in file.readlines():\n",
        "        val.append(json.loads(line))\n",
        "\n",
        "val[2609] = {'id': 'nikluge-sa-2022-dev-02610',\n",
        " 'sentence_form': '매일 아침저녁으로 열심히 바르고 있는 크림이에요 🙆🏻💞',\n",
        " 'annotation': [['제품 전체#일반', ['크림', 21, 23], 'positive']]}"
      ]
    },
    {
      "cell_type": "code",
      "execution_count": null,
      "metadata": {
        "id": "qNmEeifYEiLr"
      },
      "outputs": [],
      "source": [
        "test = []\n",
        "with open('data/nikluge-sa-2022-test.jsonl', 'r') as file:\n",
        "    for line in file.readlines():\n",
        "        test.append(json.loads(line))"
      ]
    },
    {
      "cell_type": "code",
      "execution_count": null,
      "metadata": {
        "id": "SU1rp4Cy1N4U"
      },
      "outputs": [],
      "source": [
        "entity_property_pair = [\n",
        "    '본품#가격', '본품#다양성', '본품#디자인', '본품#인지도', '본품#일반', '본품#편의성', '본품#품질', \n",
        "    '브랜드#가격', '브랜드#디자인', '브랜드#인지도', '브랜드#일반', '브랜드#품질', \n",
        "    '제품 전체#가격', '제품 전체#다양성', '제품 전체#디자인', '제품 전체#인지도', '제품 전체#일반', '제품 전체#편의성', '제품 전체#품질', \n",
        "    '패키지/구성품#가격', '패키지/구성품#다양성', '패키지/구성품#디자인', '패키지/구성품#일반', '패키지/구성품#편의성', '패키지/구성품#품질'\n",
        "]\n",
        "\n",
        "entity_property_pair.sort()\n",
        "\n",
        "entity_name_to_id = {entity_property_pair[i]: i for i in range( len(entity_property_pair) )}\n",
        "entity_id_to_name = {v:k for k, v in entity_name_to_id.items()}\n",
        "\n",
        "label_id_to_name = ['True', 'False']\n",
        "label_name_to_id = {label_id_to_name[i]: i for i in range(len(label_id_to_name))}\n",
        "\n",
        "polarity_id_to_name = ['positive', 'negative', 'neutral']\n",
        "polarity_name_to_id = {polarity_id_to_name[i]: i for i in range(len(polarity_id_to_name))}"
      ]
    },
    {
      "cell_type": "code",
      "execution_count": null,
      "metadata": {
        "id": "5ryH3sFX-HLW"
      },
      "outputs": [],
      "source": [
        "from copy import deepcopy\n",
        "def convert(array: np.array, data: list):\n",
        "    iter = array.shape[0]\n",
        "    if iter != len(data):\n",
        "        raise ValueError\n",
        "    result = deepcopy(data)\n",
        "    for i in range(iter):\n",
        "        ind = np.where(array[i]==1)[0]\n",
        "        result[i]['annotation'] = [[ entity_id_to_name[k], 'positive'] for k in ind]\n",
        "    return result"
      ]
    },
    {
      "cell_type": "markdown",
      "metadata": {
        "id": "ghClg3IcE3oe"
      },
      "source": [
        "# Set model"
      ]
    },
    {
      "cell_type": "markdown",
      "metadata": {
        "id": "z6jGKA3V4ox0"
      },
      "source": [
        "## electra"
      ]
    },
    {
      "cell_type": "code",
      "execution_count": null,
      "metadata": {
        "colab": {
          "base_uri": "https://localhost:8080/",
          "height": 254,
          "referenced_widgets": [
            "ee7e5d3628c3497889864cf96c74a203",
            "36d377cabe3e43208bf4d5a7ef839f90",
            "a8802215c56a45c6ae11e3fc72fe789d",
            "943c89f9b4324b6b8a1ab6a6b60f91b1",
            "bf7b4e2a7322445d9078f66a4f9155f4",
            "96eb805649ad4ff8a6e59f01284f23b9",
            "f1dc2b85025c48ecb7d105be227e006a",
            "a8e9dd3a417a423e941deee4c960b3ef",
            "d2578c128dc84249867715c2e39ef046",
            "37d7cb80cf7c45c282e172275e637b3b",
            "2bbb10333b6b42f1933ad8d678090edf",
            "920d20960b444393920d588fa5f4c273",
            "92fbb6962714401facaa51214a77ae67",
            "a9c7e1117ea14221ac876dc1f519f10c",
            "c17a628df6ea412cbb8d3c631bdc15db",
            "211d58237d2841cf9b83162ec47720fe",
            "8caf81f43f474e1582cf339a9a8efc68",
            "5f9862ed5c8a4d73836661549e5eb5f7",
            "49b607ed104b450d95cad8610682b0a0",
            "c8ec5df30b8a44a6bfb309a2a558cacf",
            "50504acc7b49475e8996d7ce1826b79b",
            "64766f048322454ea2f4ec62c0e50abe",
            "16a03ad041914cc0b8b8de9a92df273e",
            "599505a471de4809897cdb125a7a0d32",
            "3cccbf197b76481b9657dcd9a664bd37",
            "817d7eaa5acb489b859a2163791e08e8",
            "b1c68a6810bb421189579bf5d4b08c20",
            "321ca2d1e2654f5683bab3f7059aafcb",
            "e194c5b2063f431192b17742bbcae585",
            "ecfd286c7d634bee89e4eed7ed11cae9",
            "2e130ab82e1845ec8c4a9bc15044e8e5",
            "5bcf0c5e2ead4e729f23e39c82f5ed51",
            "0b873929353b46ec8d0a2a8246156887",
            "0dd2685b1dfb4d9f821aa627a735b124",
            "92ee8bcfdedf4b54b2043136255ee3e1",
            "a40252c7a7804854a72532400a6608de",
            "e145696381344313886120817a2bce7c",
            "44d6e29bd34843058399f8182a8afd1d",
            "78dd29df1b9b41638be3b62bf69d02c2",
            "130d96ecd336452faea5b9f6b4f6abfa",
            "2f784153a9584f84a7614e5fcd179a08",
            "ae2267330e6947b99b5d85cd471db32a",
            "db59f025a1e74f5ea2f6f56757e7df50",
            "96e36ff711a24b569edda9c0c950c458"
          ]
        },
        "id": "6UmB7loCE_nb",
        "outputId": "896a4d02-1aff-4634-c197-812feca1d2a2"
      },
      "outputs": [],
      "source": [
        "tokenizer = ElectraTokenizerFast.from_pretrained(\"kykim/electra-kor-base\")\n",
        "model = ElectraForSequenceClassification.from_pretrained(\"kykim/electra-kor-base\", num_labels = 1)"
      ]
    },
    {
      "cell_type": "code",
      "execution_count": null,
      "metadata": {
        "colab": {
          "base_uri": "https://localhost:8080/"
        },
        "id": "GZaCx651bXzk",
        "outputId": "3be65b9c-4c5b-4784-ed5b-99394f1bad60"
      },
      "outputs": [
        {
          "name": "stdout",
          "output_type": "stream",
          "text": [
            "cuda\n"
          ]
        }
      ],
      "source": [
        "state_dict = torch.load('model/electra_epoch_03_20221011.bin', map_location = 'cpu')\n",
        "# state_dict = torch.load('model/electra_epoch_06_20221005.bin', map_location = 'cpu')\n",
        "model.load_state_dict(state_dict)\n",
        "model.to(device)\n",
        "print(device)"
      ]
    },
    {
      "cell_type": "markdown",
      "metadata": {
        "id": "Z6x1Plv6nlXD"
      },
      "source": [
        "### Add special tokens - categories"
      ]
    },
    {
      "cell_type": "code",
      "execution_count": null,
      "metadata": {
        "colab": {
          "base_uri": "https://localhost:8080/"
        },
        "id": "nCjpsknZk-o1",
        "outputId": "6fa964ac-b910-4b77-faf1-557fa3956831"
      },
      "outputs": [
        {
          "data": {
            "text/plain": [
              "11"
            ]
          },
          "execution_count": 14,
          "metadata": {},
          "output_type": "execute_result"
        }
      ],
      "source": [
        "entity_pre = set(map(lambda x: x[0], map(lambda x: x.rsplit('#', 2), entity_property_pair)))\n",
        "entity_post = set(map(lambda x: x[1], map(lambda x: x.rsplit('#', 2), entity_property_pair)))\n",
        "entity_pre = ['['+e+']' for e in entity_pre]\n",
        "entity_pre.sort()\n",
        "entity_post = ['['+e+']' for e in entity_post]\n",
        "entity_post.sort()\n",
        "\n",
        "special_tokens = entity_pre + entity_post\n",
        "# tokenizer.add_tokens(special_tokens)\n",
        "tokenizer.add_special_tokens(dict(zip(['additional_special_tokens'], [special_tokens])) )"
      ]
    },
    {
      "cell_type": "code",
      "execution_count": null,
      "metadata": {
        "colab": {
          "base_uri": "https://localhost:8080/"
        },
        "id": "k-s-QqWlk-o2",
        "outputId": "323aa5c7-2615-47a0-f239-5bea1c36a588"
      },
      "outputs": [
        {
          "data": {
            "text/plain": [
              "[1, 1, 1, 0, 1, 1]"
            ]
          },
          "execution_count": 15,
          "metadata": {},
          "output_type": "execute_result"
        }
      ],
      "source": [
        "tokenizer.get_special_tokens_mask([2,3,4,66,42000, 42010], already_has_special_tokens=True)"
      ]
    },
    {
      "cell_type": "code",
      "execution_count": null,
      "metadata": {
        "colab": {
          "base_uri": "https://localhost:8080/"
        },
        "id": "2eE1Mgc-FWFC",
        "outputId": "d92a8739-bd37-4128-ab97-588a504a51d6"
      },
      "outputs": [
        {
          "data": {
            "text/plain": [
              "True"
            ]
          },
          "execution_count": 16,
          "metadata": {},
          "output_type": "execute_result"
        }
      ],
      "source": [
        "special_tokens == tokenizer.convert_ids_to_tokens(range(42000, 42011))"
      ]
    },
    {
      "cell_type": "code",
      "execution_count": null,
      "metadata": {
        "colab": {
          "base_uri": "https://localhost:8080/"
        },
        "id": "Yr2fu0vEk-o2",
        "outputId": "3e319632-575f-4102-f270-fff095eb2a8e"
      },
      "outputs": [
        {
          "data": {
            "text/plain": [
              "42010"
            ]
          },
          "execution_count": 17,
          "metadata": {},
          "output_type": "execute_result"
        }
      ],
      "source": [
        "tokenizer.convert_tokens_to_ids('[품질]')"
      ]
    },
    {
      "cell_type": "code",
      "execution_count": null,
      "metadata": {
        "colab": {
          "base_uri": "https://localhost:8080/"
        },
        "id": "sZQZIBJlk-o2",
        "outputId": "e0eb49bf-c73a-44dd-f2db-4daee9c4be7e"
      },
      "outputs": [
        {
          "data": {
            "text/plain": [
              "Embedding(42011, 768)"
            ]
          },
          "execution_count": 18,
          "metadata": {},
          "output_type": "execute_result"
        }
      ],
      "source": [
        "model.resize_token_embeddings(len(tokenizer))"
      ]
    },
    {
      "cell_type": "code",
      "execution_count": null,
      "metadata": {
        "id": "TUX-XYBXk-o3"
      },
      "outputs": [],
      "source": [
        "wt = model.electra.embeddings.word_embeddings.weight.clone()\n",
        "for st in special_tokens:\n",
        "    i = tokenizer.vocab[st]\n",
        "    st = re.sub(r'\\W', ' ', st).strip()\n",
        "    tok_st = tokenizer.encode(st, add_special_tokens=False)\n",
        "    w = wt[tok_st].clone() if len(tok_st) == 1 else wt[tok_st].mean(0)\n",
        "    wt[i] = w"
      ]
    },
    {
      "cell_type": "code",
      "execution_count": null,
      "metadata": {
        "id": "sTLUCTnQk-o4"
      },
      "outputs": [],
      "source": [
        "model.electra.embeddings.word_embeddings.weight = torch.nn.Parameter(wt)"
      ]
    },
    {
      "cell_type": "code",
      "execution_count": null,
      "metadata": {
        "colab": {
          "base_uri": "https://localhost:8080/"
        },
        "id": "yg9YIu2flCaq",
        "outputId": "1a2df2cf-675e-452f-dcc0-c799e6b39103"
      },
      "outputs": [
        {
          "name": "stdout",
          "output_type": "stream",
          "text": [
            "cuda\n"
          ]
        }
      ],
      "source": [
        "state_dict = torch.load('model/electra.bin', map_location = 'cpu')\n",
        "model.load_state_dict(state_dict)\n",
        "model.to(device)\n",
        "print(device)"
      ]
    },
    {
      "cell_type": "markdown",
      "metadata": {
        "id": "tJn5D-xo-vHW"
      },
      "source": [
        "# data loader"
      ]
    },
    {
      "cell_type": "markdown",
      "metadata": {
        "id": "Ezg8ukhWJy6-"
      },
      "source": [
        "## ACD"
      ]
    },
    {
      "cell_type": "markdown",
      "metadata": {
        "id": "3p9y6VVQNoQu"
      },
      "source": [
        "### normal"
      ]
    },
    {
      "cell_type": "code",
      "execution_count": null,
      "metadata": {
        "id": "9pm9qoMmE1xT"
      },
      "outputs": [],
      "source": [
        "def get_devset(batch, train, max_len = 512):\n",
        "    train_docs = [t['sentence_form'] for t in train]\n",
        "    docs = [train_docs[b] for b in batch]\n",
        "    train_batch = [train[b] for b in batch]\n",
        "\n",
        "    result = []\n",
        "    labels = []\n",
        "    \n",
        "    for idx, t in enumerate(train_batch):\n",
        "        lab = torch.zeros(max_len, dtype=torch.long)\n",
        "        cat_ids = [0] * len(entity_name_to_id)\n",
        "        for a in t['annotation']:\n",
        "            cat_ids[entity_name_to_id[a[0]]] = 1\n",
        "        \n",
        "        sents = [t['sentence_form']] * len(entity_name_to_id)\n",
        "        cats = list(entity_name_to_id.keys())\n",
        "        tokenized = tokenizer(sents, cats, padding='max_length', truncation=True, max_length=max_len)\n",
        "        tokenized = [v for k, v in tokenized.items()]\n",
        "        result.append(tokenized)\n",
        "        labels.append(cat_ids)\n",
        "\n",
        "    result = torch.tensor(result, dtype=torch.long).transpose(1,2)\n",
        "    labels = torch.tensor(labels, dtype=torch.long)\n",
        "    print(result.shape, labels.shape)\n",
        "    return result, labels\n"
      ]
    },
    {
      "cell_type": "code",
      "execution_count": null,
      "metadata": {
        "id": "sSc4W3xwnyKk"
      },
      "outputs": [],
      "source": [
        "# label first\n",
        "\n",
        "def get_devset(batch, train, max_len = 512):\n",
        "    train_docs = [t['sentence_form'] for t in train]\n",
        "    docs = [train_docs[b] for b in batch]\n",
        "    train_batch = [train[b] for b in batch]\n",
        "\n",
        "    result = []\n",
        "    labels = []\n",
        "    \n",
        "    for idx, t in enumerate(train_batch):\n",
        "        lab = torch.zeros(max_len, dtype=torch.long)\n",
        "        cat_ids = [0] * len(entity_name_to_id)\n",
        "        for a in t['annotation']:\n",
        "            cat_ids[entity_name_to_id[a[0]]] = 1\n",
        "        \n",
        "        sents = [t['sentence_form']] * len(entity_name_to_id)\n",
        "        cats = list(entity_name_to_id.keys())\n",
        "        tokenized = tokenizer(cats, sents, padding='max_length', truncation=True, max_length=max_len)\n",
        "        tokenized = [v for k, v in tokenized.items()]\n",
        "        result.append(tokenized)\n",
        "        labels.append(cat_ids)\n",
        "\n",
        "    result = torch.tensor(result, dtype=torch.long).transpose(1,2)\n",
        "    labels = torch.tensor(labels, dtype=torch.long)\n",
        "    print(result.shape, labels.shape)\n",
        "    return result, labels\n"
      ]
    },
    {
      "cell_type": "code",
      "execution_count": null,
      "metadata": {
        "id": "jPKIwj4fhipW"
      },
      "outputs": [],
      "source": [
        "from copy import deepcopy\n",
        "\n",
        "def get_trainset(batch, train, max_len = 512, masked = -100, mask_all_samples = False, null_anno = 'all_tokens'):\n",
        "    train_docs = [t['sentence_form'] for t in train]\n",
        "    docs = [train_docs[b] for b in batch]\n",
        "    train_batch = [train[b] for b in batch]\n",
        "\n",
        "    result = []\n",
        "    labels = []\n",
        "    masks = []\n",
        "    \n",
        "    for idx, t in enumerate(train_batch):\n",
        "        lab = torch.zeros(max_len, dtype=torch.long)\n",
        "\n",
        "        split_ind = []\n",
        "        cat_ids_oh = [0] * len(entity_name_to_id)\n",
        "        cat_ids = []\n",
        "        for a in t['annotation']:\n",
        "            category, cover = a[:2]\n",
        "            category_tok = tokenizer.encode(category.replace('#', ' '), add_special_tokens = False)\n",
        "            cat_ids_oh[entity_name_to_id[category]] = 1\n",
        "\n",
        "            # if not cover[0]: continue\n",
        "            # split_ind.append(tokenizer(cover[0])['input_ids'][1:-1])\n",
        "            # cat_ids.append(entity_name_to_id[category])\n",
        "            if (not cover[0]) or (sum(cover[1:])==0):\n",
        "                if null_anno == 'cls_token_only':\n",
        "                    split_ind.append([tokenizer.cls_token_id] + category_tok)\n",
        "                    cat_ids.append(entity_name_to_id[category])\n",
        "                elif null_anno == 'pass':\n",
        "                    continue\n",
        "                elif null_anno == 'all_tokens':\n",
        "                    split_ind.append(tokenizer(t['sentence_form'])['input_ids'][:-1] + category_tok)\n",
        "                    cat_ids.append(entity_name_to_id[category])\n",
        "                else:\n",
        "                    raise ValueError('This value is not supported.')\n",
        "            else:\n",
        "                split_ind.append(tokenizer(cover[0])['input_ids'][1:-1] + category_tok)\n",
        "                cat_ids.append(entity_name_to_id[category])\n",
        "\n",
        "        sents = [t['sentence_form']] * len(entity_name_to_id)\n",
        "        cats = list(entity_name_to_id.keys())\n",
        "        tokenized = tokenizer(sents, cats, padding='max_length', truncation=True, max_length=max_len)\n",
        "        tokenized = [v for k, v in tokenized.items()]\n",
        "\n",
        "        # if (not t['annotation'][0][1][0]) & (len(t['annotation']) == 1) :\n",
        "        #     mask = [ [masked]*max_len for _ in range(len(entity_name_to_id)) ]\n",
        "        # else:\n",
        "        if not mask_all_samples:\n",
        "            mask = [ [masked]*max_len for _ in range(len(entity_name_to_id)) ]\n",
        "            for ii, ci in enumerate(cat_ids):\n",
        "                mask[ci] = [ m if m in split_ind[ii] else masked for m in tokenized[0][ci] ]\n",
        "        else:\n",
        "            mask = deepcopy(tokenized[0])\n",
        "            split_ind_ = sum(split_ind, [])\n",
        "            for mi in range(len(mask)):\n",
        "                mask[mi]  = [m if m in split_ind_ else masked for m in mask[mi]]\n",
        "\n",
        "        masks.append(mask)\n",
        "        result.append(tokenized)\n",
        "        labels.append(cat_ids_oh)\n",
        "\n",
        "    result = torch.tensor(result, dtype=torch.long).transpose(1,2)\n",
        "    masks = torch.tensor(masks, dtype=torch.long)\n",
        "    labels = torch.tensor(labels, dtype=torch.long)\n",
        "    print(result.shape, labels.shape, masks.shape)\n",
        "    return result, labels, masks\n"
      ]
    },
    {
      "cell_type": "markdown",
      "metadata": {
        "id": "AhfYZvL8vY5n"
      },
      "source": [
        "### misc."
      ]
    },
    {
      "cell_type": "code",
      "execution_count": null,
      "metadata": {
        "colab": {
          "base_uri": "https://localhost:8080/"
        },
        "id": "F93EBvpia1rc",
        "outputId": "438b430d-93a7-4d58-df06-93e25c45270f"
      },
      "outputs": [
        {
          "name": "stdout",
          "output_type": "stream",
          "text": [
            "torch.Size([3001, 25, 3, 512]) torch.Size([3001, 25])\n",
            "torch.Size([2794, 25, 3, 512]) torch.Size([2794, 25])\n"
          ]
        }
      ],
      "source": [
        "# for electra model\n",
        "\n",
        "train_range = torch.arange(len(train))\n",
        "train_ds = TensorDataset(*get_devset(train_range, train))\n",
        "train_loader = DataLoader(train_ds, sampler=RandomSampler(train_ds), batch_size=batch_size)\n",
        "\n",
        "dev_range = torch.arange(len(val))\n",
        "dev_ds = TensorDataset(*get_devset(dev_range, val))\n",
        "dev_loader = DataLoader(dev_ds, sampler=SequentialSampler(dev_ds), batch_size=batch_size)"
      ]
    },
    {
      "cell_type": "code",
      "execution_count": null,
      "metadata": {
        "colab": {
          "base_uri": "https://localhost:8080/"
        },
        "id": "P30Y_z5pJ4sV",
        "outputId": "e74096f0-5bf9-45ee-867e-5497f6a6b220"
      },
      "outputs": [
        {
          "name": "stdout",
          "output_type": "stream",
          "text": [
            "torch.Size([2127, 25, 3, 512]) torch.Size([2127, 25])\n"
          ]
        }
      ],
      "source": [
        "# for testset\n",
        "\n",
        "test_range = torch.arange(len(test))\n",
        "test_ds = TensorDataset(*get_devset(test_range, test))\n",
        "test_loader = DataLoader(test_ds, sampler=SequentialSampler(test_ds), batch_size=16)"
      ]
    },
    {
      "cell_type": "markdown",
      "metadata": {
        "id": "h_D_9ROrJ0XE"
      },
      "source": [
        "## ASC"
      ]
    },
    {
      "cell_type": "code",
      "execution_count": null,
      "metadata": {
        "id": "fZFUnc5K2_mV"
      },
      "outputs": [],
      "source": [
        "def get_trainset(batch, train, max_len = 512):\n",
        "    train_docs = [t['sentence_form'] for t in train]\n",
        "    docs = [train_docs[b] for b in batch]\n",
        "    train_batch = [train[b] for b in batch]\n",
        "\n",
        "    result = torch.LongTensor([]).reshape(-1, 3, max_len)\n",
        "    labels = []\n",
        "    \n",
        "    for idx, t in enumerate(train_batch):\n",
        "        polar = []\n",
        "        entity = []\n",
        "        for a in t['annotation']:\n",
        "            entity.append(a[0])\n",
        "            polar.append(a[2])\n",
        "        \n",
        "        sents = [t['sentence_form']] * len(entity)\n",
        "        tokenized = tokenizer(sents, entity, padding='max_length', truncation=True, max_length=max_len)\n",
        "        tokenized = torch.LongTensor([v for k, v in tokenized.items()]).transpose(0, 1 )\n",
        "        result = torch.vstack((result, tokenized))\n",
        "        labels += [ polarity_name_to_id[p] for p in polar]\n",
        "\n",
        "    labels = torch.tensor(labels, dtype=torch.long)\n",
        "    print(result.shape, labels.shape)\n",
        "    return result, labels"
      ]
    },
    {
      "cell_type": "code",
      "execution_count": null,
      "metadata": {
        "id": "HraYlEjt3p_G"
      },
      "outputs": [],
      "source": [
        "# ASC\n",
        "\n",
        "batch_size = 16\n",
        "gradient_accumulation_steps = 1"
      ]
    },
    {
      "cell_type": "code",
      "execution_count": null,
      "metadata": {
        "colab": {
          "base_uri": "https://localhost:8080/"
        },
        "id": "t_rC7KIeFmYg",
        "outputId": "4991e6d0-029d-4099-e3d2-728f5ba81323"
      },
      "outputs": [
        {
          "name": "stdout",
          "output_type": "stream",
          "text": [
            "torch.Size([3255, 3, 512]) torch.Size([3255])\n"
          ]
        }
      ],
      "source": [
        "train_range = torch.arange(len(train))\n",
        "train_ds = TensorDataset(*get_trainset(train_range, train))\n",
        "# train_loader = DataLoader(train_ds, sampler=RandomSampler(train_ds), batch_size=batch_size)"
      ]
    },
    {
      "cell_type": "code",
      "execution_count": null,
      "metadata": {
        "id": "646avO_y99Gh"
      },
      "outputs": [],
      "source": [
        "class_weights = {k: sum(polarity_counts.values()) /v for k, v in polarity_counts.items()}\n",
        "weights = [ class_weights[polarity_id_to_name[t]] for t in train_ds.tensors[1] ]\n",
        "\n",
        "train_loader = DataLoader(train_ds, sampler=WeightedRandomSampler(weights, len(weights), replacement=True), \n",
        "batch_size=batch_size)"
      ]
    },
    {
      "cell_type": "code",
      "execution_count": null,
      "metadata": {
        "colab": {
          "base_uri": "https://localhost:8080/"
        },
        "id": "6NeRYYMrFmYg",
        "outputId": "ec81fc45-bee3-4c8e-fbd7-664998da07fa"
      },
      "outputs": [
        {
          "name": "stdout",
          "output_type": "stream",
          "text": [
            "torch.Size([3079, 3, 512]) torch.Size([3079])\n"
          ]
        }
      ],
      "source": [
        "dev_range = torch.arange(len(val))\n",
        "dev_ds = TensorDataset(*get_trainset(dev_range, val))\n",
        "dev_loader = DataLoader(dev_ds, sampler=SequentialSampler(dev_ds), batch_size=batch_size)"
      ]
    },
    {
      "cell_type": "code",
      "execution_count": null,
      "metadata": {
        "colab": {
          "base_uri": "https://localhost:8080/"
        },
        "id": "ZbL_QIVeMlvW",
        "outputId": "5a2c0256-4ac3-4b93-fdcd-a7a7015cae56"
      },
      "outputs": [
        {
          "name": "stdout",
          "output_type": "stream",
          "text": [
            "torch.Size([2127, 23, 3, 512]) torch.Size([2127, 23])\n"
          ]
        }
      ],
      "source": [
        "batch_size = 4\n",
        "test_range = torch.arange(len(test))\n",
        "test_ds = TensorDataset(*get_trainset(test_range, test))\n",
        "test_loader = DataLoader(test_ds, sampler=SequentialSampler(test_ds), batch_size=batch_size)"
      ]
    },
    {
      "cell_type": "markdown",
      "metadata": {
        "id": "zRXDhysc-zGG"
      },
      "source": [
        "# Optimizer"
      ]
    },
    {
      "cell_type": "markdown",
      "metadata": {
        "id": "0jBoP_o19r_v"
      },
      "source": [
        "## ACD"
      ]
    },
    {
      "cell_type": "code",
      "execution_count": null,
      "metadata": {
        "colab": {
          "base_uri": "https://localhost:8080/"
        },
        "id": "9ba_XPBq7o1k",
        "outputId": "55ca9051-fa76-452c-fcbf-d53260c54b93"
      },
      "outputs": [
        {
          "data": {
            "text/plain": [
              "187"
            ]
          },
          "execution_count": 37,
          "metadata": {},
          "output_type": "execute_result"
        }
      ],
      "source": [
        "int(len(train) / (batch_size*gradient_accumulation_steps) )"
      ]
    },
    {
      "cell_type": "code",
      "execution_count": null,
      "metadata": {
        "colab": {
          "base_uri": "https://localhost:8080/"
        },
        "id": "d5eeyokh1nx9",
        "outputId": "8daa2a7d-29bd-4e72-8369-673f36123103"
      },
      "outputs": [
        {
          "data": {
            "text/plain": [
              "362"
            ]
          },
          "execution_count": 28,
          "metadata": {},
          "output_type": "execute_result"
        }
      ],
      "source": [
        "int(len(train_silver) / (batch_size*gradient_accumulation_steps) )"
      ]
    },
    {
      "cell_type": "code",
      "execution_count": null,
      "metadata": {
        "colab": {
          "base_uri": "https://localhost:8080/"
        },
        "id": "kDjz1-JxLjv7",
        "outputId": "b505792b-f73f-406c-cc37-09220e1885c2"
      },
      "outputs": [
        {
          "data": {
            "text/plain": [
              "3001"
            ]
          },
          "execution_count": 38,
          "metadata": {},
          "output_type": "execute_result"
        }
      ],
      "source": [
        "len(train) "
      ]
    },
    {
      "cell_type": "code",
      "execution_count": null,
      "metadata": {
        "id": "RDu4pafxMPFc"
      },
      "outputs": [],
      "source": [
        "warmup_steps = 150\n",
        "learning_rate = 5e-5\n",
        "epochs = 20"
      ]
    },
    {
      "cell_type": "code",
      "execution_count": null,
      "metadata": {
        "id": "8Xi-V4RIj9M4"
      },
      "outputs": [],
      "source": [
        "num_data = len(train)\n",
        "num_training_steps = int(num_data / (batch_size*gradient_accumulation_steps) ) * epochs"
      ]
    },
    {
      "cell_type": "code",
      "execution_count": null,
      "metadata": {
        "id": "dAev4iLn1tHl"
      },
      "outputs": [],
      "source": [
        "num_data = len(train_silver)\n",
        "num_training_steps = int(num_data / (batch_size*gradient_accumulation_steps) ) * epochs"
      ]
    },
    {
      "cell_type": "code",
      "execution_count": null,
      "metadata": {
        "id": "LdqA4w8lF4hE"
      },
      "outputs": [],
      "source": [
        "\n",
        "\n",
        "no_decay = [\"bias\", \"LayerNorm.weight\"]\n",
        "optimizer_grouped_parameters = [\n",
        "    {\n",
        "        \"params\": [p for n, p in model.named_parameters() if not any(nd in n for nd in no_decay)],\n",
        "        \"weight_decay\": 0.01,\n",
        "    },\n",
        "    {\n",
        "        \"params\": [p for n, p in model.named_parameters() if any(nd in n for nd in no_decay)],\n",
        "        \"weight_decay\": 0.0,\n",
        "    },\n",
        "]\n",
        "\n",
        "# optimizer = AdamW(\n",
        "#     optimizer_grouped_parameters,\n",
        "#     lr=learning_rate,\n",
        "# )\n",
        "\n"
      ]
    },
    {
      "cell_type": "code",
      "execution_count": null,
      "metadata": {
        "id": "VbPSw_kxj6En"
      },
      "outputs": [],
      "source": [
        "import torch_optimizer as optim\n",
        "optimizer = optim.Lamb(optimizer_grouped_parameters, lr=learning_rate, )\n",
        "\n",
        "lr_scheduler = get_linear_schedule_with_warmup(\n",
        "    optimizer, num_warmup_steps=warmup_steps, num_training_steps=num_training_steps\n",
        ")"
      ]
    },
    {
      "cell_type": "markdown",
      "metadata": {
        "id": "WdYXydFE9umI"
      },
      "source": [
        "## ASC"
      ]
    },
    {
      "cell_type": "code",
      "execution_count": null,
      "metadata": {
        "id": "svOGf_G036w0"
      },
      "outputs": [],
      "source": [
        "warmup_steps = 200\n",
        "learning_rate = 5e-5"
      ]
    },
    {
      "cell_type": "code",
      "execution_count": null,
      "metadata": {
        "id": "yGWEE3MM329l"
      },
      "outputs": [],
      "source": [
        "num_data = len(train)\n",
        "num_training_steps = int(num_data / (batch_size*gradient_accumulation_steps) ) * epochs\n",
        "\n",
        "no_decay = [\"bias\", \"LayerNorm.weight\"]\n",
        "optimizer_grouped_parameters = [\n",
        "    {\n",
        "        \"params\": [p for n, p in model_asc.named_parameters() if not any(nd in n for nd in no_decay)],\n",
        "        \"weight_decay\": 0.01,\n",
        "    },\n",
        "    {\n",
        "        \"params\": [p for n, p in model_asc.named_parameters() if any(nd in n for nd in no_decay)],\n",
        "        \"weight_decay\": 0.0,\n",
        "    },\n",
        "]\n",
        "\n",
        "# optimizer = AdamW(\n",
        "#     optimizer_grouped_parameters,\n",
        "#     lr=learning_rate,\n",
        "# )\n",
        "\n",
        "import torch_optimizer as optim\n",
        "optimizer = optim.Lamb(optimizer_grouped_parameters, lr=learning_rate, )\n",
        "\n",
        "lr_scheduler = get_linear_schedule_with_warmup(\n",
        "    optimizer, num_warmup_steps=warmup_steps, num_training_steps=num_training_steps\n",
        ")"
      ]
    },
    {
      "cell_type": "code",
      "execution_count": null,
      "metadata": {
        "colab": {
          "base_uri": "https://localhost:8080/"
        },
        "id": "YT28C5Zo_P3U",
        "outputId": "0ea0f586-fd60-421d-c8eb-8903951327b5"
      },
      "outputs": [
        {
          "data": {
            "text/plain": [
              "5e-05"
            ]
          },
          "execution_count": 23,
          "metadata": {},
          "output_type": "execute_result"
        }
      ],
      "source": [
        "optimizer.param_groups[0]['initial_lr']"
      ]
    },
    {
      "cell_type": "markdown",
      "metadata": {
        "id": "0hUVrBGN-0it"
      },
      "source": [
        "# Train"
      ]
    },
    {
      "cell_type": "markdown",
      "metadata": {
        "id": "3a-aFYL--9pd"
      },
      "source": [
        "## set"
      ]
    },
    {
      "cell_type": "code",
      "execution_count": null,
      "metadata": {
        "colab": {
          "base_uri": "https://localhost:8080/"
        },
        "id": "r_3H6bNfF-jj",
        "outputId": "7591cbf4-08bb-494f-bf96-4cae9275de5d"
      },
      "outputs": [
        {
          "name": "stdout",
          "output_type": "stream",
          "text": [
            "20221107\n"
          ]
        }
      ],
      "source": [
        "from datetime import date\n",
        "today = str(date.today()).replace('-','')\n",
        "print(today)"
      ]
    },
    {
      "cell_type": "code",
      "execution_count": null,
      "metadata": {
        "colab": {
          "base_uri": "https://localhost:8080/"
        },
        "id": "KnRXsUKwF_nq",
        "outputId": "57ce1eb0-e2cc-404a-f5ad-e2c8ec67cc61"
      },
      "outputs": [
        {
          "name": "stdout",
          "output_type": "stream",
          "text": [
            "./model/electra.bin\n"
          ]
        }
      ],
      "source": [
        "if 'roberta' in tokenizer.name_or_path:\n",
        "    model_save_path = './model/roberta.bin'\n",
        "elif 'electra' in tokenizer.name_or_path:\n",
        "    model_save_path = './model/electra.bin'\n",
        "else:\n",
        "    model_save_path = './model/bert.bin'\n",
        "print(model_save_path)"
      ]
    },
    {
      "cell_type": "code",
      "execution_count": null,
      "metadata": {
        "colab": {
          "base_uri": "https://localhost:8080/"
        },
        "id": "r4_Y2ETiGCP6",
        "outputId": "6748da91-d843-4a79-8898-afa7d9481123"
      },
      "outputs": [
        {
          "data": {
            "text/plain": [
              "(4, 4)"
            ]
          },
          "execution_count": 45,
          "metadata": {},
          "output_type": "execute_result"
        }
      ],
      "source": [
        "batch_size, gradient_accumulation_steps"
      ]
    },
    {
      "cell_type": "code",
      "execution_count": null,
      "metadata": {
        "colab": {
          "base_uri": "https://localhost:8080/"
        },
        "id": "6GgQbbVpIvMI",
        "outputId": "82fd7706-01f2-4dad-ab25-5ff65bfd4557"
      },
      "outputs": [
        {
          "data": {
            "text/plain": [
              "25"
            ]
          },
          "execution_count": 46,
          "metadata": {},
          "output_type": "execute_result"
        }
      ],
      "source": [
        "len(entity_name_to_id)"
      ]
    },
    {
      "cell_type": "markdown",
      "metadata": {
        "id": "kkMR76m54JwM"
      },
      "source": [
        "## ACD"
      ]
    },
    {
      "cell_type": "markdown",
      "metadata": {
        "id": "ABABVmWL4uBI"
      },
      "source": [
        "### electra"
      ]
    },
    {
      "cell_type": "markdown",
      "metadata": {
        "id": "kk_7JQOvFMoo"
      },
      "source": [
        "##### train"
      ]
    },
    {
      "cell_type": "code",
      "execution_count": null,
      "metadata": {
        "colab": {
          "base_uri": "https://localhost:8080/"
        },
        "id": "1cSWPorgmmtu",
        "outputId": "3fd21ec8-429c-4ac6-e293-0e16a1ff572c"
      },
      "outputs": [
        {
          "data": {
            "text/plain": [
              "torch.Size([12004, 25, 3, 512])"
            ]
          },
          "execution_count": 50,
          "metadata": {},
          "output_type": "execute_result"
        }
      ],
      "source": [
        "train_ds.tensors[0].shape"
      ]
    },
    {
      "cell_type": "code",
      "execution_count": null,
      "metadata": {
        "colab": {
          "base_uri": "https://localhost:8080/"
        },
        "id": "ClNXmPeCqOfJ",
        "outputId": "797aac01-731c-4662-cfdb-f269888521ca"
      },
      "outputs": [
        {
          "name": "stdout",
          "output_type": "stream",
          "text": [
            "20221027\n",
            "label first\n"
          ]
        }
      ],
      "source": [
        "print(today)\n",
        "print('label first')"
      ]
    },
    {
      "cell_type": "code",
      "execution_count": null,
      "metadata": {
        "colab": {
          "base_uri": "https://localhost:8080/"
        },
        "id": "lqkudybqqmyz",
        "outputId": "12eebb0d-9b6e-4ba2-a4d4-d707e1cee992"
      },
      "outputs": [
        {
          "name": "stdout",
          "output_type": "stream",
          "text": [
            "cuda:0\n"
          ]
        }
      ],
      "source": [
        "model.to(device)\n",
        "print(model.device)"
      ]
    },
    {
      "cell_type": "code",
      "execution_count": null,
      "metadata": {
        "id": "1lTGavDv19FU"
      },
      "outputs": [],
      "source": [
        "model_save_path = './model/electra_ele_train_only_rev_metric.bin'"
      ]
    },
    {
      "cell_type": "code",
      "execution_count": null,
      "metadata": {
        "colab": {
          "background_save": true,
          "base_uri": "https://localhost:8080/"
        },
        "id": "ZR6JvrTvHPfR",
        "outputId": "28284756-d3af-4f00-cd95-8fb21e046f3d"
      },
      "outputs": [],
      "source": [
        "num_train_epochs = epochs\n",
        "\n",
        "logit_threshold = 3.0\n",
        "topk = 1\n",
        "\n",
        "best_score = 0.7042978208232445\n",
        "global_step = 0\n",
        "total_loss = 0\n",
        "f1s = []\n",
        "\n",
        "print(today)\n",
        "print(model_save_path, logit_threshold, topk, num_train_epochs, batch_size, best_score, sep = ', ')\n",
        "print()\n",
        "\n",
        "for ep in range(int(num_train_epochs)):\n",
        "    model.train()\n",
        "    pbar = tqdm(train_loader)\n",
        "    for step, batch in enumerate(pbar):\n",
        "        inputs, labels = [b.to(device) for b in batch]\n",
        "        \n",
        "        inputs = inputs.reshape(-1, 3, 512)\n",
        "        input_ids, input_segment, input_masks = inputs[:,0], inputs[:,1], inputs[:,2]\n",
        "        len_max = max(input_masks.sum(-1))\n",
        "        input_ids, input_masks, segment_ids = input_ids[:,:len_max], input_masks[:,:len_max], input_segment[:,:len_max]\n",
        "\n",
        "        outputs = model(input_ids, input_masks, segment_ids)\n",
        "\n",
        "        # cls: bs * num lab * len\n",
        "        cls_logit = outputs['logits'].reshape(-1, len(entity_name_to_id))\n",
        "\n",
        "        loss_fct = torch.nn.CrossEntropyLoss()\n",
        "        lab = labels.float() / labels.sum(1, keepdim = True)\n",
        "        loss = loss_fct(cls_logit, lab)\n",
        "\n",
        "        if gradient_accumulation_steps > 1:\n",
        "            loss = loss / gradient_accumulation_steps\n",
        "        total_loss += loss.item()\n",
        "\n",
        "        loss.backward()\n",
        "        pbar.update(1)\n",
        "\n",
        "        lr = optimizer.param_groups[0]['lr']\n",
        "\n",
        "        if (step + 1) % 10 == 0:\n",
        "            #pbar.set_description(desc=f'loss:{np.mean(total_loss)}')\n",
        "            pbar.set_description(desc='  loss : {}, lr : {}'.format(total_loss/10, round(lr, 6)))\n",
        "            total_loss = 0\n",
        "        if (step + 1) % gradient_accumulation_steps == 0:\n",
        "            optimizer.step()\n",
        "            lr_scheduler.step()\n",
        "            optimizer.zero_grad()\n",
        "            global_step += 1\n",
        "\n",
        "    # gamma *= 0.7\n",
        "    time.sleep(0.1)\n",
        "\n",
        "    model.eval()\n",
        "    dev_pred = np.array([], dtype = np.float32).reshape(-1, len(entity_name_to_id))\n",
        "    dev_true = np.array([], dtype = np.int32).reshape(-1, len(entity_name_to_id))\n",
        "    dev_losses = []\n",
        "    # dev_step = 0\n",
        "    for batch in dev_loader:\n",
        "        inputs, labels = [b.to(device) for b in batch]\n",
        "        \n",
        "        inputs = inputs.reshape(-1, 3, 512)\n",
        "        input_ids, input_segment, input_masks = inputs[:,0], inputs[:,1], inputs[:,2]\n",
        "        len_max = max(input_masks.sum(-1))\n",
        "        input_ids, input_masks, segment_ids = input_ids[:,:len_max], input_masks[:,:len_max], input_segment[:,:len_max]\n",
        "\n",
        "        with torch.no_grad():\n",
        "            outputs = model(input_ids, input_masks, segment_ids)\n",
        "            # b * num cats\n",
        "            cls_logit = outputs['logits'].reshape(-1, len(entity_name_to_id))\n",
        "            lab = labels.float() / labels.sum(1, keepdim = True)\n",
        "            dev_losses.append(torch.nn.CrossEntropyLoss()(cls_logit, lab).item())\n",
        "            \n",
        "        true = labels.detach().cpu().numpy()\n",
        "               \n",
        "        pred = (cls_logit > logit_threshold).int().detach().cpu().numpy()\n",
        "        if np.where(pred.sum(-1) == 0)[0].size == 0:\n",
        "            pass\n",
        "        else:\n",
        "            replaced_ind = np.where(pred.sum(-1) == 0)[0]\n",
        "            replace = F.one_hot( torch.topk(cls_logit, topk, -1)[1], len(entity_name_to_id) ).sum(1).detach().cpu().numpy()\n",
        "            pred[replaced_ind] = replace[replaced_ind]\n",
        "        # pred = F.one_hot( torch.topk(cls_logit, 2, -1)[1], len(entity_name_to_id)//2 ).sum(1).detach().cpu().numpy()\n",
        "        # pred = (F.one_hot(outputs['logits'].argmax(2), len(entity_name_to_id)+1).sum(1)).detach().cpu()\n",
        "        # pred = (pred[:, 1::2] + pred[:, 2::2] > 0).int().numpy()\n",
        "\n",
        "        dev_pred = np.vstack((dev_pred, pred))\n",
        "        dev_true = np.vstack((dev_true, true))\n",
        "            \n",
        "    # score\n",
        "    score = evaluation_f1(val, convert(dev_pred.astype(int), val))['category extraction result']['F1']\n",
        "    f1 = f1_score(dev_true.astype(int), dev_pred.astype(int), average = 'micro')\n",
        "    f1s.append(f1)\n",
        "    print('epoch : {}, dev score : {}, loss : {}'.format(ep, score, np.mean(dev_losses)), end = '\\t')\n",
        "  \n",
        "    if score > best_score:\n",
        "        print('-----------best----------')\n",
        "        best_score = score\n",
        "        torch.save(model.state_dict(), model_save_path)\n",
        "        # torch.save(model.state_dict(), re.sub(r'(?<=electra).{0,}(?=\\.)', f'_epoch_{str(ep).zfill(2)}_{today}', model_save_path))\n",
        "    else:\n",
        "        print()\n",
        "    time.sleep(0.1)"
      ]
    },
    {
      "cell_type": "code",
      "execution_count": null,
      "metadata": {
        "colab": {
          "base_uri": "https://localhost:8080/"
        },
        "id": "3HcD8wIy10-A",
        "outputId": "a9c5c95f-96cd-42f2-eb72-9625b46296f8"
      },
      "outputs": [
        {
          "data": {
            "text/plain": [
              "{'category extraction result': {'Precision': 0.691937765205092,\n",
              "  'Recall': 0.7944137707047743,\n",
              "  'F1': 0.7396431811309344},\n",
              " 'entire pipeline result': {'Precision': 0.673337091319053,\n",
              "  'Recall': 0.7759012666450146,\n",
              "  'F1': 0.7209898898445752}}"
            ]
          },
          "execution_count": 156,
          "metadata": {},
          "output_type": "execute_result"
        }
      ],
      "source": [
        "evaluation_f1(val, convert(dev_pred.astype(int)))"
      ]
    },
    {
      "cell_type": "code",
      "execution_count": null,
      "metadata": {
        "colab": {
          "base_uri": "https://localhost:8080/"
        },
        "id": "9g2EY9kJNPfy",
        "outputId": "cfac1b46-4e9e-4aed-d1f5-a7b4013fd0fc"
      },
      "outputs": [
        {
          "data": {
            "text/plain": [
              "{'Precision': 0.692329465043872,\n",
              " 'Recall': 0.7944137707047743,\n",
              " 'F1': 0.7398669086509376}"
            ]
          },
          "execution_count": 166,
          "metadata": {},
          "output_type": "execute_result"
        }
      ],
      "source": [
        "# threshold == .2\n",
        "# topk == 1\n",
        "\n",
        "evaluation_f1(val, convert(dev_pred.astype(int)))['category extraction result']"
      ]
    },
    {
      "cell_type": "code",
      "execution_count": null,
      "metadata": {
        "colab": {
          "base_uri": "https://localhost:8080/"
        },
        "id": "IDgFldJxX3S-",
        "outputId": "5935f060-d5d7-436c-e2f5-b95ecd8df7f5"
      },
      "outputs": [
        {
          "data": {
            "text/plain": [
              "{'Precision': 0.691937765205092,\n",
              " 'Recall': 0.7944137707047743,\n",
              " 'F1': 0.7396431811309344}"
            ]
          },
          "execution_count": 168,
          "metadata": {},
          "output_type": "execute_result"
        }
      ],
      "source": [
        "# threshold == .2\n",
        "# topk == 2\n",
        "\n",
        "evaluation_f1(val, convert(dev_pred.astype(int)))['category extraction result']"
      ]
    },
    {
      "cell_type": "markdown",
      "metadata": {
        "id": "A1XGcpexb5Es"
      },
      "source": [
        "#### val"
      ]
    },
    {
      "cell_type": "code",
      "execution_count": null,
      "metadata": {
        "colab": {
          "base_uri": "https://localhost:8080/"
        },
        "id": "wfAdNdtGGcRu",
        "outputId": "dad3f97c-734b-43f5-ba62-7886738390b3"
      },
      "outputs": [
        {
          "name": "stdout",
          "output_type": "stream",
          "text": [
            "cuda\n"
          ]
        }
      ],
      "source": [
        "# state_dict = torch.load('model/electra.bin', map_location = 'cpu')\n",
        "state_dict = torch.load('model/electra_epoch_03_20221011.bin', map_location = 'cpu')\n",
        "\n",
        "model.load_state_dict(state_dict)\n",
        "model.to(device)\n",
        "print(device)"
      ]
    },
    {
      "cell_type": "code",
      "execution_count": null,
      "metadata": {
        "colab": {
          "base_uri": "https://localhost:8080/"
        },
        "id": "nH_k_DeEyGnL",
        "outputId": "55b8f6f6-19af-4aab-b3dd-affe056629b0"
      },
      "outputs": [
        {
          "name": "stdout",
          "output_type": "stream",
          "text": [
            "cuda\n"
          ]
        }
      ],
      "source": [
        "model.to(device)\n",
        "print(device)"
      ]
    },
    {
      "cell_type": "code",
      "execution_count": null,
      "metadata": {
        "colab": {
          "base_uri": "https://localhost:8080/"
        },
        "id": "akRlOlGKvN7X",
        "outputId": "97b104b0-8fbe-4619-f3c0-2f8bf48e6790"
      },
      "outputs": [
        {
          "name": "stderr",
          "output_type": "stream",
          "text": [
            "100%|██████████| 175/175 [02:40<00:00,  1.09it/s]\n"
          ]
        }
      ],
      "source": [
        "logit_threshold = .2\n",
        "topk = 1\n",
        "\n",
        "model.eval()\n",
        "dev_pred = np.array([], dtype = np.float32).reshape(-1, len(entity_name_to_id))\n",
        "dev_true = np.array([], dtype = np.int32).reshape(-1, len(entity_name_to_id))\n",
        "dev_losses = []\n",
        "# dev_step = 0\n",
        "for batch in tqdm(dev_loader):\n",
        "    inputs, labels = [b.to(device) for b in batch]\n",
        "    \n",
        "    inputs = inputs.reshape(-1, 3, 512)\n",
        "    input_ids, input_segment, input_masks = inputs[:,0], inputs[:,1], inputs[:,2]\n",
        "    len_max = max(input_masks.sum(-1))\n",
        "    input_ids, input_masks, segment_ids = input_ids[:,:len_max], input_masks[:,:len_max], input_segment[:,:len_max]\n",
        "\n",
        "    with torch.no_grad():\n",
        "        outputs = model(input_ids, input_masks, segment_ids)\n",
        "        # b * num cats\n",
        "        cls_logit = outputs['logits'].reshape(-1, len(entity_name_to_id))\n",
        "        lab = labels.float() / labels.sum(1, keepdim = True)\n",
        "        dev_losses.append(torch.nn.CrossEntropyLoss()(cls_logit, lab).item())\n",
        "        \n",
        "    true = labels.detach().cpu().numpy()\n",
        "        \n",
        "    # pred = (torch.nn.Softmax(-1)(cls_logit) > logit_threshold).int().detach().cpu().numpy()\n",
        "    pred = cls_logit.detach().cpu().numpy()\n",
        "    # if np.where(pred.sum(-1) == 0)[0].size == 0:\n",
        "    #     pass\n",
        "    # else:\n",
        "    #     replaced_ind = np.where(pred.sum(-1) == 0)[0]\n",
        "    #     replace = F.one_hot( torch.topk(cls_logit, topk, -1)[1], len(entity_name_to_id) ).sum(1).detach().cpu().numpy()\n",
        "    #     pred[replaced_ind] = replace[replaced_ind]\n",
        "    # pred = F.one_hot( torch.topk(cls_logit, 2, -1)[1], len(entity_name_to_id)//2 ).sum(1).detach().cpu().numpy()\n",
        "    # pred = (F.one_hot(outputs['logits'].argmax(2), len(entity_name_to_id)+1).sum(1)).detach().cpu()\n",
        "    # pred = (pred[:, 1::2] + pred[:, 2::2] > 0).int().numpy()\n",
        "\n",
        "    dev_pred = np.vstack((dev_pred, pred))\n",
        "    dev_true = np.vstack((dev_true, true))"
      ]
    },
    {
      "cell_type": "code",
      "execution_count": null,
      "metadata": {
        "colab": {
          "base_uri": "https://localhost:8080/"
        },
        "id": "EpWo-QxlTDba",
        "outputId": "653437a4-3c34-41e3-d1c8-81cc93da6cbb"
      },
      "outputs": [
        {
          "name": "stderr",
          "output_type": "stream",
          "text": [
            "100%|██████████| 1000/1000 [01:32<00:00, 10.84it/s]\n"
          ]
        }
      ],
      "source": [
        "threshold = np.linspace(0, 4, 1000)\n",
        "res = []\n",
        "\n",
        "for thr in tqdm(threshold):\n",
        "    dev_pred_ = (dev_pred > thr).astype(np.int32)\n",
        "    replaced_ind = np.where(dev_pred_.sum(-1) == 0)[0]\n",
        "    argmax = dev_pred[replaced_ind].argsort(-1)[:, -1:]\n",
        "\n",
        "    zeros = np.zeros((replaced_ind.size, len(entity_id_to_name)))\n",
        "    zeros[np.arange(argmax.shape[0]).reshape(-1, 1), argmax] = 1\n",
        "\n",
        "    dev_pred_[replaced_ind] = zeros\n",
        "    res.append(evaluation_f1(val, convert(dev_pred_, val))['category extraction result']['F1'])\n"
      ]
    },
    {
      "cell_type": "code",
      "execution_count": null,
      "metadata": {
        "colab": {
          "base_uri": "https://localhost:8080/"
        },
        "id": "OuvzFgOAwC0K",
        "outputId": "548ab938-2ce6-4124-f055-f441354065c5"
      },
      "outputs": [
        {
          "data": {
            "text/plain": [
              "(3.3633633633633635, 0.7369770796602019)"
            ]
          },
          "execution_count": 19,
          "metadata": {},
          "output_type": "execute_result"
        }
      ],
      "source": [
        "threshold[(np.array(res)).argmax()], res[(np.array(res)).argmax()]"
      ]
    },
    {
      "cell_type": "code",
      "execution_count": null,
      "metadata": {
        "colab": {
          "base_uri": "https://localhost:8080/"
        },
        "id": "9hLpSzBnQ56a",
        "outputId": "7daa53c4-b039-4d5b-b34c-75345a3258be"
      },
      "outputs": [
        {
          "data": {
            "text/plain": [
              "array([22,  6, 23, ...,  6, 16,  6])"
            ]
          },
          "execution_count": 49,
          "metadata": {},
          "output_type": "execute_result"
        }
      ],
      "source": [
        "argmax"
      ]
    },
    {
      "cell_type": "code",
      "execution_count": null,
      "metadata": {
        "colab": {
          "base_uri": "https://localhost:8080/"
        },
        "id": "zKJm1u8WRPFn",
        "outputId": "48c569f8-82d5-4a42-a8f1-e8ac1d4d7418"
      },
      "outputs": [
        {
          "data": {
            "text/plain": [
              "(1604, 1)"
            ]
          },
          "execution_count": 56,
          "metadata": {},
          "output_type": "execute_result"
        }
      ],
      "source": [
        "np.arange(argmax.size).reshape(-1,1).shape"
      ]
    },
    {
      "cell_type": "code",
      "execution_count": null,
      "metadata": {
        "colab": {
          "base_uri": "https://localhost:8080/"
        },
        "id": "Uq8zm8POwKKv",
        "outputId": "c198af6d-5a78-4497-a510-ad3f4eb728a1"
      },
      "outputs": [
        {
          "data": {
            "text/plain": [
              "{'category extraction result': {'Precision': 0.7751865671641791,\n",
              "  'Recall': 0.5397856446898344,\n",
              "  'F1': 0.6364158529580701},\n",
              " 'entire pipeline result': {'Precision': 0.7635261194029851,\n",
              "  'Recall': 0.5316661253653784,\n",
              "  'F1': 0.6268428106452231}}"
            ]
          },
          "execution_count": 30,
          "metadata": {},
          "output_type": "execute_result"
        }
      ],
      "source": [
        "dev_pred_ = (dev_pred > 3.3633633633633635).astype(np.int32)\n",
        "evaluation_f1(val, convert(dev_pred_, val))"
      ]
    },
    {
      "cell_type": "code",
      "execution_count": null,
      "metadata": {
        "colab": {
          "base_uri": "https://localhost:8080/",
          "height": 265
        },
        "id": "uJornQOgvhzd",
        "outputId": "f5169669-2ed8-45e6-dbd5-91722cd21127"
      },
      "outputs": [
        {
          "data": {
            "image/png": "[encoded data removed]",
            "text/plain": [
              "<Figure size 432x288 with 1 Axes>"
            ]
          },
          "metadata": {},
          "output_type": "display_data"
        }
      ],
      "source": [
        "plt.plot(threshold, res)\n",
        "plt.show()"
      ]
    },
    {
      "cell_type": "code",
      "execution_count": null,
      "metadata": {
        "colab": {
          "base_uri": "https://localhost:8080/",
          "height": 268
        },
        "id": "ut1JBTkvcmYa",
        "outputId": "cf65028d-6f5d-473a-b26e-d22e3e5f56b5"
      },
      "outputs": [
        {
          "data": {
            "image/png": "[encoded data removed]",
            "text/plain": [
              "<Figure size 432x288 with 1 Axes>"
            ]
          },
          "metadata": {},
          "output_type": "display_data"
        }
      ],
      "source": [
        "plt.hist(dev_pred.flatten(), bins = 50)\n",
        "plt.show()"
      ]
    },
    {
      "cell_type": "markdown",
      "metadata": {
        "id": "KBqi6eb5NHUj"
      },
      "source": [
        "### inference"
      ]
    },
    {
      "cell_type": "code",
      "execution_count": null,
      "metadata": {
        "colab": {
          "base_uri": "https://localhost:8080/"
        },
        "id": "Yw6h_59YSC4C",
        "outputId": "656d3da1-7277-4d3f-bf88-2cf0df152a3e"
      },
      "outputs": [
        {
          "name": "stderr",
          "output_type": "stream",
          "text": [
            "Some weights of the model checkpoint at kykim/electra-kor-base were not used when initializing ElectraForSequenceClassification: ['discriminator_predictions.dense_prediction.bias', 'discriminator_predictions.dense_prediction.weight', 'discriminator_predictions.dense.weight', 'discriminator_predictions.dense.bias']\n",
            "- This IS expected if you are initializing ElectraForSequenceClassification from the checkpoint of a model trained on another task or with another architecture (e.g. initializing a BertForSequenceClassification model from a BertForPreTraining model).\n",
            "- This IS NOT expected if you are initializing ElectraForSequenceClassification from the checkpoint of a model that you expect to be exactly identical (initializing a BertForSequenceClassification model from a BertForSequenceClassification model).\n",
            "Some weights of ElectraForSequenceClassification were not initialized from the model checkpoint at kykim/electra-kor-base and are newly initialized: ['classifier.out_proj.weight', 'classifier.dense.weight', 'classifier.dense.bias', 'classifier.out_proj.bias']\n",
            "You should probably TRAIN this model on a down-stream task to be able to use it for predictions and inference.\n"
          ]
        }
      ],
      "source": [
        "# model = ElectraForSequenceClassification.from_pretrained(\"kykim/electra-kor-base\", num_labels = 1)"
      ]
    },
    {
      "cell_type": "code",
      "execution_count": null,
      "metadata": {
        "colab": {
          "base_uri": "https://localhost:8080/"
        },
        "id": "Skn0szX4O_-K",
        "outputId": "8ef2fe34-8118-4463-ab91-0e82b71c52c5"
      },
      "outputs": [
        {
          "name": "stdout",
          "output_type": "stream",
          "text": [
            "cuda\n"
          ]
        }
      ],
      "source": [
        "# state_dict = torch.load('model/electra_epoch_09_20220930.bin', map_location = 'cpu')\n",
        "state_dict = torch.load('model/electra_epoch_03_20221005.bin', map_location = 'cpu')\n",
        "model.load_state_dict(state_dict)\n",
        "model.to(device)\n",
        "print(device)"
      ]
    },
    {
      "cell_type": "code",
      "execution_count": null,
      "metadata": {
        "colab": {
          "base_uri": "https://localhost:8080/"
        },
        "id": "ycJS11vHZnBW",
        "outputId": "7229c9ba-7eac-4c15-888e-65b93724c2d8"
      },
      "outputs": [
        {
          "data": {
            "text/plain": [
              "device(type='cuda', index=0)"
            ]
          },
          "execution_count": 17,
          "metadata": {},
          "output_type": "execute_result"
        }
      ],
      "source": [
        "model.device"
      ]
    },
    {
      "cell_type": "code",
      "execution_count": null,
      "metadata": {
        "colab": {
          "base_uri": "https://localhost:8080/"
        },
        "id": "NDNddeyTNI5l",
        "outputId": "5cd96f9d-5fd4-47e8-ea1c-1f79592b3d86"
      },
      "outputs": [
        {
          "name": "stderr",
          "output_type": "stream",
          "text": [
            "100%|██████████| 133/133 [02:19<00:00,  1.05s/it]\n"
          ]
        }
      ],
      "source": [
        "# electra\n",
        "\n",
        "logit_threshold = .2\n",
        "topk = 1\n",
        "\n",
        "proba_thre = False\n",
        "\n",
        "model.eval()\n",
        "if proba_thre:\n",
        "    test_pred = np.array([], dtype = np.int32).reshape(-1, len(entity_name_to_id))\n",
        "else:\n",
        "    test_pred = np.array([], dtype = np.float32).reshape(-1, len(entity_name_to_id))\n",
        "\n",
        "for batch in tqdm(test_loader):\n",
        "    inputs, _ = [b.to(device) for b in batch]\n",
        "    \n",
        "    inputs = inputs.reshape(-1, 3, 512)\n",
        "    input_ids, input_segment, input_masks = inputs[:,0], inputs[:,1], inputs[:,2]\n",
        "    len_max = max(input_masks.sum(-1))\n",
        "    input_ids, input_masks, segment_ids = input_ids[:,:len_max], input_masks[:,:len_max], input_segment[:,:len_max]\n",
        "\n",
        "    with torch.no_grad():\n",
        "        outputs = model(input_ids, input_masks, segment_ids)\n",
        "        # b * num cats\n",
        "        cls_logit = outputs['logits'].reshape(-1, len(entity_name_to_id))\n",
        "        # lab = labels.float() / labels.sum(1, keepdim = True)\n",
        "        # dev_losses.append(torch.nn.CrossEntropyLoss()(cls_logit, lab).item())\n",
        "        # true = labels.detach().cpu().numpy()\n",
        "            \n",
        "    if proba_thre:\n",
        "        pred = (torch.nn.Softmax(-1)(cls_logit) > logit_threshold).int().detach().cpu().numpy()\n",
        "        if np.where(pred.sum(-1) == 0)[0].size == 0:\n",
        "            pass\n",
        "        else:\n",
        "            replaced_ind = np.where(pred.sum(-1) == 0)[0]\n",
        "            replace = F.one_hot( torch.topk(cls_logit, topk, -1)[1], len(entity_name_to_id) ).sum(1).detach().cpu().numpy()\n",
        "            pred[replaced_ind] = replace[replaced_ind]\n",
        "\n",
        "        test_pred = np.vstack((test_pred, pred))\n",
        "    else:\n",
        "        pred = cls_logit.detach().cpu().numpy()\n",
        "        test_pred = np.vstack((test_pred, pred))\n",
        "    # pred = F.one_hot( torch.topk(cls_logit, 2, -1)[1], len(entity_name_to_id)//2 ).sum(1).detach().cpu().numpy()\n",
        "    # pred = (F.one_hot(outputs['logits'].argmax(2), len(entity_name_to_id)+1).sum(1)).detach().cpu()\n",
        "    # pred = (pred[:, 1::2] + pred[:, 2::2] > 0).int().numpy()"
      ]
    },
    {
      "cell_type": "code",
      "execution_count": null,
      "metadata": {
        "id": "OLkc9rkgqWvS"
      },
      "outputs": [],
      "source": [
        "test_pred_nsp = test_pred.copy()"
      ]
    },
    {
      "cell_type": "code",
      "execution_count": null,
      "metadata": {
        "colab": {
          "base_uri": "https://localhost:8080/"
        },
        "id": "_evra-o6cx1K",
        "outputId": "937b0c5a-2c21-4e83-e3df-aaaba6b5b38c"
      },
      "outputs": [
        {
          "name": "stdout",
          "output_type": "stream",
          "text": [
            "0.2 1\n"
          ]
        },
        {
          "data": {
            "text/plain": [
              "(array([1, 2, 3]), array([1308,  730,   89]))"
            ]
          },
          "execution_count": 17,
          "metadata": {},
          "output_type": "execute_result"
        }
      ],
      "source": [
        "print(logit_threshold, topk)\n",
        "np.unique(test_pred.sum(1), return_counts = True)"
      ]
    },
    {
      "cell_type": "code",
      "execution_count": null,
      "metadata": {
        "colab": {
          "base_uri": "https://localhost:8080/"
        },
        "id": "6PvE_bQxcEfS",
        "outputId": "37004f31-12bb-4b86-d95b-70354ee7637e"
      },
      "outputs": [
        {
          "data": {
            "text/plain": [
              "(array([0, 1, 2, 3, 4]), array([ 866, 1026,  210,   18,    7]))"
            ]
          },
          "execution_count": 84,
          "metadata": {},
          "output_type": "execute_result"
        }
      ],
      "source": [
        "np.unique((test_pred > 3.36).astype(np.int32).sum(-1), return_counts = True)"
      ]
    },
    {
      "cell_type": "code",
      "execution_count": null,
      "metadata": {
        "colab": {
          "base_uri": "https://localhost:8080/"
        },
        "id": "77p_J_PZpiET",
        "outputId": "c4d2354c-e9bd-41e6-932d-551f50d74e17"
      },
      "outputs": [
        {
          "data": {
            "text/plain": [
              "(array([0, 1, 2, 3, 4]), array([ 866, 1026,  210,   18,    7]))"
            ]
          },
          "execution_count": 18,
          "metadata": {},
          "output_type": "execute_result"
        }
      ],
      "source": [
        "np.unique((test_pred > 3.36).astype(np.int32).sum(-1), return_counts = True)"
      ]
    },
    {
      "cell_type": "code",
      "execution_count": null,
      "metadata": {
        "colab": {
          "base_uri": "https://localhost:8080/"
        },
        "id": "yw4GC-6EpmjK",
        "outputId": "643545d4-eb04-45b5-e530-9b29bddea918"
      },
      "outputs": [
        {
          "name": "stdout",
          "output_type": "stream",
          "text": [
            "(array([0, 1, 2, 3, 4]), array([ 868, 1025,  211,   16,    7]))\n",
            "3\n"
          ]
        }
      ],
      "source": [
        "lth = 3.3633633633633635\n",
        "test_pred_ = (test_pred > lth).astype(np.int32)\n",
        "print(np.unique(test_pred_.sum(-1), return_counts = True))\n",
        "\n",
        "replaced_ind = np.where(test_pred_.sum(-1) == 0)[0]\n",
        "argmax = test_pred[replaced_ind].argmax(-1)\n",
        "\n",
        "zeros = np.zeros((replaced_ind.size, len(entity_id_to_name)))\n",
        "zeros[np.arange(argmax.size), argmax] = 1\n",
        "\n",
        "test_pred_[replaced_ind] = zeros\n",
        "\n",
        "print(int(lth))\n",
        "test_result = convert(test_pred_, test)"
      ]
    },
    {
      "cell_type": "code",
      "execution_count": null,
      "metadata": {
        "colab": {
          "base_uri": "https://localhost:8080/"
        },
        "id": "9YB8bof9pu1y",
        "outputId": "e4e16b96-3086-4875-b25a-83205c0ad278"
      },
      "outputs": [
        {
          "data": {
            "text/plain": [
              "{'id': 'nikluge-sa-2022-test-01231',\n",
              " 'sentence_form': '다만 길이 조절이 되지 않기에 키가 크신 분들은 사용이 다소 불편할 수 있고 헤드가 작아 큰 평수의 경우에는 메인 청소기로 사용하기에는 무리가 있으며 하단에 있는 브러쉬는 따로 분리가 되지 않아서 그 점은 좀 아쉬운 마음입니다.\\u200b \\u200b\\u200b\\u200b\\u200b',\n",
              " 'annotation': [['본품#편의성', 'positive']]}"
            ]
          },
          "execution_count": 23,
          "metadata": {},
          "output_type": "execute_result"
        }
      ],
      "source": [
        "test_result[1230]"
      ]
    },
    {
      "cell_type": "code",
      "execution_count": null,
      "metadata": {
        "id": "3m2Yp2eWpzJa"
      },
      "outputs": [],
      "source": [
        "tt = []\n",
        "with open('result_20221102_ele_th3_logit.json', 'r') as file:\n",
        "    for line in file.readlines():\n",
        "        tt.append(json.loads(line))"
      ]
    },
    {
      "cell_type": "code",
      "execution_count": null,
      "metadata": {
        "id": "grrLK3nJp_Cb"
      },
      "outputs": [],
      "source": [
        "for i, tr in enumerate(test_result):\n",
        "    if tr != tt[i]:\n",
        "        print(i)\n",
        "        print(tr)\n",
        "        print(tt[i])"
      ]
    },
    {
      "cell_type": "code",
      "execution_count": null,
      "metadata": {
        "colab": {
          "base_uri": "https://localhost:8080/"
        },
        "id": "8abA48n6ccUo",
        "outputId": "8979a47a-ebc5-4deb-ed98-59a94f0170ed"
      },
      "outputs": [
        {
          "name": "stdout",
          "output_type": "stream",
          "text": [
            "20221103\n",
            "(array([0, 1, 2, 3, 4]), array([ 859, 1006,  193,   57,   12]))\n",
            "2\n"
          ]
        }
      ],
      "source": [
        "\n",
        "from datetime import date\n",
        "today = str(date.today()).replace('-','')\n",
        "\n",
        "import json\n",
        "th  = int(logit_threshold * 100)\n",
        "print(today, )\n",
        "\n",
        "if proba_thre:\n",
        "    print(th)\n",
        "    test_result = convert(test_pred, test)\n",
        "    with open(f'result_{today}_ele_th{th}.json', 'w', encoding = 'utf-8') as f:\n",
        "        for i in test_result:\n",
        "            f.write(json.dumps(i, ensure_ascii=False) + '\\n')\n",
        "else:\n",
        "    lth = 2.9\n",
        "    test_pred_ = (test_pred > lth).astype(np.int32)\n",
        "    print(np.unique(test_pred_.sum(-1), return_counts = True))\n",
        "\n",
        "    replaced_ind = np.where(test_pred_.sum(-1) == 0)[0]\n",
        "    argmax = test_pred[replaced_ind].argmax(-1)\n",
        "\n",
        "    zeros = np.zeros((replaced_ind.size, len(entity_id_to_name)))\n",
        "    zeros[np.arange(argmax.size), argmax] = 1\n",
        "\n",
        "    test_pred_[replaced_ind] = zeros\n",
        "\n",
        "    print(int(lth))\n",
        "    test_result = convert(test_pred_, test)\n",
        "    with open(f'result_{today}_ele_th{int(lth)}_logit.json', 'w', encoding = 'utf-8') as f:\n",
        "        for i in test_result:\n",
        "            f.write(json.dumps(i, ensure_ascii=False) + '\\n')"
      ]
    },
    {
      "cell_type": "code",
      "execution_count": null,
      "metadata": {
        "colab": {
          "base_uri": "https://localhost:8080/"
        },
        "id": "BBwD5J8Lw3s2",
        "outputId": "8120c961-239c-4718-b8d6-269f9b8ab5b2"
      },
      "outputs": [
        {
          "name": "stdout",
          "output_type": "stream",
          "text": [
            "(array([1, 2, 3, 4]), array([1865,  193,   57,   12]))\n"
          ]
        }
      ],
      "source": [
        "print(np.unique(test_pred_.sum(-1), return_counts = True))"
      ]
    },
    {
      "cell_type": "code",
      "execution_count": null,
      "metadata": {
        "id": "g8TpMff9Fp9I"
      },
      "outputs": [],
      "source": [
        "tt = []\n",
        "with open('submission/result_20221012_ele_th10.json', 'r') as file:\n",
        "    tt = json.load(file)\n"
      ]
    },
    {
      "cell_type": "code",
      "execution_count": null,
      "metadata": {
        "colab": {
          "base_uri": "https://localhost:8080/"
        },
        "id": "2hz85kPDGMQL",
        "outputId": "d98fe0e4-e656-4bd1-d6a6-2ca5c45db754"
      },
      "outputs": [
        {
          "name": "stdout",
          "output_type": "stream",
          "text": [
            "0\n"
          ]
        }
      ],
      "source": [
        "diff = 0\n",
        "for i, t in enumerate(tt):\n",
        "    if t != test_result[i]:\n",
        "        diff+=1\n",
        "print(diff)"
      ]
    },
    {
      "cell_type": "code",
      "execution_count": null,
      "metadata": {
        "colab": {
          "base_uri": "https://localhost:8080/"
        },
        "id": "XaPK6ltlFs2x",
        "outputId": "5c11d1e9-e024-4a09-fe1e-7b40fa76418d"
      },
      "outputs": [
        {
          "data": {
            "text/plain": [
              "2127"
            ]
          },
          "execution_count": 25,
          "metadata": {},
          "output_type": "execute_result"
        }
      ],
      "source": [
        "len(tt)"
      ]
    },
    {
      "cell_type": "code",
      "execution_count": null,
      "metadata": {
        "id": "C6KDI_2gInla"
      },
      "outputs": [],
      "source": [
        "tt = []\n",
        "with open('submission/result_20221012_ele_th10.json', 'r') as file:\n",
        "    for line in file.readlines():\n",
        "        tt.append(json.loads(line))\n",
        "\n",
        "ttt = []\n",
        "with open('result_20221026_ele_th10_copy.json', 'r') as file:\n",
        "    for line in file.readlines():\n",
        "        ttt.append(json.loads(line))"
      ]
    },
    {
      "cell_type": "markdown",
      "metadata": {
        "id": "fCUoiz4R4PQi"
      },
      "source": [
        "## ASC"
      ]
    },
    {
      "cell_type": "markdown",
      "metadata": {
        "id": "EbdN3R4b4RD5"
      },
      "source": [
        "### run"
      ]
    },
    {
      "cell_type": "code",
      "execution_count": null,
      "metadata": {
        "colab": {
          "base_uri": "https://localhost:8080/"
        },
        "id": "CLaD9psfAyLk",
        "outputId": "e084809a-74cc-4889-9288-1081e7d4d3da"
      },
      "outputs": [
        {
          "name": "stdout",
          "output_type": "stream",
          "text": [
            "cuda\n"
          ]
        }
      ],
      "source": [
        "model_asc.to(device)\n",
        "print(device)"
      ]
    },
    {
      "cell_type": "code",
      "execution_count": null,
      "metadata": {
        "colab": {
          "base_uri": "https://localhost:8080/"
        },
        "id": "ua81MFT_4QLl",
        "outputId": "02e80173-37b6-41ed-a65a-c164bd425f3b"
      },
      "outputs": [],
      "source": [
        "best_score = 0\n",
        "global_step = 0\n",
        "total_loss = 0\n",
        "\n",
        "for ep in range(int(num_train_epochs)):\n",
        "    model_asc.train()\n",
        "    pbar = tqdm(train_loader)\n",
        "    for step, batch in enumerate(pbar):\n",
        "        inputs, labels = [b.to(device) for b in batch]\n",
        "        \n",
        "        input_ids, input_segment, input_masks = inputs[:,0], inputs[:,1], inputs[:,2]\n",
        "        len_max = max(input_masks.sum(-1))\n",
        "        input_ids, input_masks, segment_ids = input_ids[:,:len_max], input_masks[:,:len_max], input_segment[:,:len_max]\n",
        "\n",
        "        outputs = model_asc(input_ids, input_masks, segment_ids)\n",
        "\n",
        "        cls_logit = outputs['logits']\n",
        "\n",
        "        loss_fct = torch.nn.CrossEntropyLoss()\n",
        "        loss = loss_fct(cls_logit, labels)\n",
        "\n",
        "        if gradient_accumulation_steps > 1:\n",
        "            loss = loss / gradient_accumulation_steps\n",
        "        total_loss += loss.item()\n",
        "\n",
        "        loss.backward()\n",
        "        pbar.update(1)\n",
        "\n",
        "        lr = optimizer.param_groups[0]['lr']\n",
        "\n",
        "        if (step + 1) % 10 == 0:\n",
        "            #pbar.set_description(desc=f'loss:{np.mean(total_loss)}')\n",
        "            pbar.set_description(desc='  loss : {}, lr : {}'.format(total_loss/10, round(lr, 6)))\n",
        "            total_loss = 0\n",
        "        if (step + 1) % gradient_accumulation_steps == 0:\n",
        "            optimizer.step()\n",
        "            lr_scheduler.step()\n",
        "            optimizer.zero_grad()\n",
        "            global_step += 1\n",
        "\n",
        "    # gamma *= 0.7\n",
        "    time.sleep(0.1)\n",
        "\n",
        "    model_asc.eval()\n",
        "    dev_pred = np.array([])\n",
        "    dev_true = np.array([])\n",
        "    dev_losses = []\n",
        "    # dev_step = 0\n",
        "    for batch in dev_loader:\n",
        "        inputs, labels = [b.to(device) for b in batch]\n",
        "        \n",
        "        input_ids, input_segment, input_masks = inputs[:,0], inputs[:,1], inputs[:,2]\n",
        "        len_max = max(input_masks.sum(-1))\n",
        "        input_ids, input_masks, segment_ids = input_ids[:,:len_max], input_masks[:,:len_max], input_segment[:,:len_max]\n",
        "\n",
        "        with torch.no_grad():\n",
        "            outputs = model_asc(input_ids, input_masks, segment_ids)\n",
        "            # b * num cats\n",
        "            cls_logit = outputs['logits']\n",
        "            dev_losses.append(torch.nn.CrossEntropyLoss()(cls_logit, labels).item())\n",
        "            \n",
        "            true = labels.unsqueeze(0).detach().cpu().numpy()\n",
        "               \n",
        "            pred = cls_logit.argmax(1).unsqueeze(0).detach().cpu().numpy()\n",
        "            # pred = F.one_hot( torch.topk(cls_logit, 2, -1)[1], len(entity_name_to_id)//2 ).sum(1).detach().cpu().numpy()\n",
        "            # pred = (F.one_hot(outputs['logits'].argmax(2), len(entity_name_to_id)+1).sum(1)).detach().cpu()\n",
        "            # pred = (pred[:, 1::2] + pred[:, 2::2] > 0).int().numpy()\n",
        "\n",
        "            dev_pred = np.append(dev_pred, pred)\n",
        "            dev_true = np.append(dev_true, true)\n",
        "            \n",
        "    # score\n",
        "    # score = evaluation_f1(val, convert(dev_pred.astype(int)))['category extraction result']['F1']\n",
        "    score = f1_score(dev_true.astype(int), dev_pred.astype(int), average = 'macro')\n",
        "    \n",
        "    print('epoch : {}, dev score : {}, loss : {}'.format(ep, score, np.mean(dev_losses)), end = '\\t')\n",
        "  \n",
        "    if score > best_score:\n",
        "        print('-----------best----------')\n",
        "        best_score = score\n",
        "        torch.save(model_asc.state_dict(), \n",
        "                   re.sub(r'(?<=electra).{0,}(?=\\.)', f'_epoch_{str(ep).zfill(2)}_{today}', model_save_path)\n",
        "                   )\n",
        "    else:\n",
        "        print()\n",
        "    time.sleep(0.1)\n",
        "\n"
      ]
    },
    {
      "cell_type": "code",
      "execution_count": null,
      "metadata": {
        "colab": {
          "base_uri": "https://localhost:8080/"
        },
        "id": "b58EyjMgA7uT",
        "outputId": "2ad1fb8a-4a8f-4eb4-e5c2-3918ea5dbad5"
      },
      "outputs": [
        {
          "data": {
            "text/plain": [
              "0.32883475971033577"
            ]
          },
          "execution_count": 57,
          "metadata": {},
          "output_type": "execute_result"
        }
      ],
      "source": [
        "f1_score(dev_true, dev_pred, average = 'macro')"
      ]
    },
    {
      "cell_type": "code",
      "execution_count": null,
      "metadata": {
        "colab": {
          "base_uri": "https://localhost:8080/"
        },
        "id": "ZtZwn1-0DDY7",
        "outputId": "b206f980-dac3-48ca-b1e9-34e9a5be2f5b"
      },
      "outputs": [
        {
          "data": {
            "text/plain": [
              "0.9184800259824618"
            ]
          },
          "execution_count": 34,
          "metadata": {},
          "output_type": "execute_result"
        }
      ],
      "source": [
        "(dev_true == dev_pred).sum() / dev_true.size"
      ]
    },
    {
      "cell_type": "code",
      "execution_count": null,
      "metadata": {
        "colab": {
          "base_uri": "https://localhost:8080/"
        },
        "id": "1J244JleC8XM",
        "outputId": "78fec48e-f5ca-400c-bcca-2d58192054fe"
      },
      "outputs": [
        {
          "data": {
            "text/plain": [
              "0.9184800259824618"
            ]
          },
          "execution_count": 33,
          "metadata": {},
          "output_type": "execute_result"
        }
      ],
      "source": [
        "f1_score(dev_true, dev_pred, average = 'micro')"
      ]
    },
    {
      "cell_type": "code",
      "execution_count": null,
      "metadata": {
        "colab": {
          "base_uri": "https://localhost:8080/"
        },
        "id": "zJan-9ioBPyF",
        "outputId": "27bb5b0a-4dd0-4fe5-bd94-ff405afac87a"
      },
      "outputs": [
        {
          "data": {
            "text/plain": [
              "array([[2787,    9,  201],\n",
              "       [   2,   20,    6],\n",
              "       [  27,    6,   21]])"
            ]
          },
          "execution_count": 32,
          "metadata": {},
          "output_type": "execute_result"
        }
      ],
      "source": [
        "from sklearn.metrics import confusion_matrix\n",
        "confusion_matrix(dev_true, dev_pred)"
      ]
    },
    {
      "cell_type": "markdown",
      "metadata": {
        "id": "q63oXMu53NeM"
      },
      "source": [
        "### inference"
      ]
    },
    {
      "cell_type": "code",
      "execution_count": null,
      "metadata": {
        "colab": {
          "base_uri": "https://localhost:8080/"
        },
        "id": "ApLeg0Ar8F5n",
        "outputId": "2483e706-8c92-4aa9-a7ce-cccadcbd1121"
      },
      "outputs": [
        {
          "name": "stderr",
          "output_type": "stream",
          "text": [
            "Some weights of the model checkpoint at kykim/electra-kor-base were not used when initializing ElectraForSequenceClassification: ['discriminator_predictions.dense.weight', 'discriminator_predictions.dense.bias', 'discriminator_predictions.dense_prediction.bias', 'discriminator_predictions.dense_prediction.weight']\n",
            "- This IS expected if you are initializing ElectraForSequenceClassification from the checkpoint of a model trained on another task or with another architecture (e.g. initializing a BertForSequenceClassification model from a BertForPreTraining model).\n",
            "- This IS NOT expected if you are initializing ElectraForSequenceClassification from the checkpoint of a model that you expect to be exactly identical (initializing a BertForSequenceClassification model from a BertForSequenceClassification model).\n",
            "Some weights of ElectraForSequenceClassification were not initialized from the model checkpoint at kykim/electra-kor-base and are newly initialized: ['classifier.dense.weight', 'classifier.out_proj.weight', 'classifier.dense.bias', 'classifier.out_proj.bias']\n",
            "You should probably TRAIN this model on a down-stream task to be able to use it for predictions and inference.\n"
          ]
        }
      ],
      "source": [
        "model_asc = ElectraForSequenceClassification.from_pretrained(\"kykim/electra-kor-base\", \n",
        "                                                             num_labels = len(polarity_id_to_name))"
      ]
    },
    {
      "cell_type": "code",
      "execution_count": null,
      "metadata": {
        "colab": {
          "base_uri": "https://localhost:8080/"
        },
        "id": "xt5WDXgF8ICB",
        "outputId": "22305045-93ac-42aa-b34c-7b6c829c462c"
      },
      "outputs": [
        {
          "name": "stdout",
          "output_type": "stream",
          "text": [
            "cuda\n"
          ]
        }
      ],
      "source": [
        "state_dict = torch.load('model/electra_epoch_00_20221001.bin', map_location = 'cpu')\n",
        "# state_dict = torch.load('model/electra_epoch_07_20221003.bin', map_location = 'cpu')\n",
        "model_asc.load_state_dict(state_dict)\n",
        "model_asc.to(device)\n",
        "print(device)"
      ]
    },
    {
      "cell_type": "code",
      "execution_count": null,
      "metadata": {
        "colab": {
          "base_uri": "https://localhost:8080/"
        },
        "id": "7vC41O-0dnWT",
        "outputId": "3feeb945-309b-46bb-8973-040e7c2132e9"
      },
      "outputs": [
        {
          "data": {
            "text/plain": [
              "{'category extraction result': {'Precision': 0.7014100082941664,\n",
              "  'Recall': 0.823968821045794,\n",
              "  'F1': 0.7577658303464755},\n",
              " 'entire pipeline result': {'Precision': 0.6819933920704846,\n",
              "  'Recall': 0.8044819746670997,\n",
              "  'F1': 0.7381910296528089}}"
            ]
          },
          "execution_count": 24,
          "metadata": {},
          "output_type": "execute_result"
        }
      ],
      "source": [
        "# all positive\n",
        "evaluation_f1(val, test_result)"
      ]
    },
    {
      "cell_type": "code",
      "execution_count": null,
      "metadata": {
        "colab": {
          "base_uri": "https://localhost:8080/"
        },
        "id": "J0yszlY9eEQh",
        "outputId": "10d1f13f-8af6-4eae-e57d-7a78f3348b76"
      },
      "outputs": [
        {
          "data": {
            "text/plain": [
              "{'category extraction result': {'Precision': 0.7014100082941664,\n",
              "  'Recall': 0.823968821045794,\n",
              "  'F1': 0.7577658303464755},\n",
              " 'entire pipeline result': {'Precision': 0.6487523992322457,\n",
              "  'Recall': 0.7684313088665151,\n",
              "  'F1': 0.7035385072851621}}"
            ]
          },
          "execution_count": 27,
          "metadata": {},
          "output_type": "execute_result"
        }
      ],
      "source": [
        "# model_asc trained by weighted random sampler\n",
        "evaluation_f1(val, test_result)"
      ]
    },
    {
      "cell_type": "code",
      "execution_count": null,
      "metadata": {
        "colab": {
          "base_uri": "https://localhost:8080/"
        },
        "id": "INgnsPbGemcM",
        "outputId": "44abe7e3-82ae-472d-a358-35285702900e"
      },
      "outputs": [
        {
          "data": {
            "text/plain": [
              "{'category extraction result': {'Precision': 0.7014100082941664,\n",
              "  'Recall': 0.823968821045794,\n",
              "  'F1': 0.7577658303464755},\n",
              " 'entire pipeline result': {'Precision': 0.6819933920704846,\n",
              "  'Recall': 0.8044819746670997,\n",
              "  'F1': 0.7381910296528089}}"
            ]
          },
          "execution_count": 30,
          "metadata": {},
          "output_type": "execute_result"
        }
      ],
      "source": [
        "# model_asc trained by random sampler\n",
        "evaluation_f1(val, test_result)"
      ]
    },
    {
      "cell_type": "code",
      "execution_count": null,
      "metadata": {
        "id": "EWm1ge0Z3SkF"
      },
      "outputs": [],
      "source": [
        "def get_testset(batch, train, max_len = 512):\n",
        "    train_docs = [t['sentence_form'] for t in train]\n",
        "    docs = [train_docs[b] for b in batch]\n",
        "    train_batch = [train[b] for b in batch]\n",
        "\n",
        "    result = torch.LongTensor([]).reshape(-1, 3, max_len)\n",
        "    labels = []\n",
        "    \n",
        "    for idx, t in enumerate(train_batch):\n",
        "        polar = []\n",
        "        entity = []\n",
        "        for a in t['annotation']:\n",
        "            entity.append(a[0])\n",
        "            polar.append(a[1])\n",
        "        \n",
        "        sents = [t['sentence_form']] * len(entity)\n",
        "        tokenized = tokenizer(sents, entity, padding='max_length', truncation=True, max_length=max_len)\n",
        "        tokenized = torch.LongTensor([v for k, v in tokenized.items()]).transpose(0, 1 )\n",
        "        result = torch.vstack((result, tokenized))\n",
        "        labels += [ polarity_name_to_id[p] for p in polar]\n",
        "\n",
        "    labels = torch.tensor(labels, dtype=torch.long)\n",
        "    return result, labels"
      ]
    },
    {
      "cell_type": "code",
      "execution_count": null,
      "metadata": {
        "id": "o3Y5Tm6Wdyj-"
      },
      "outputs": [],
      "source": [
        "# for validation\n",
        "\n",
        "batch_size = 1\n",
        "test_range_asc = torch.arange(len(val))\n",
        "test_ds_asc = TensorDataset(test_range_asc)\n",
        "test_loader_asc = DataLoader(test_ds_asc, sampler=SequentialSampler(test_ds_asc), batch_size=batch_size)"
      ]
    },
    {
      "cell_type": "code",
      "execution_count": null,
      "metadata": {
        "id": "sxSOb3vE3iEc"
      },
      "outputs": [],
      "source": [
        "batch_size = 1\n",
        "test_range_asc = torch.arange(len(test))\n",
        "test_ds_asc = TensorDataset(test_range_asc)\n",
        "test_loader_asc = DataLoader(test_ds_asc, sampler=SequentialSampler(test_ds_asc), batch_size=batch_size)"
      ]
    },
    {
      "cell_type": "code",
      "execution_count": null,
      "metadata": {
        "id": "mtIOva-j77Ag"
      },
      "outputs": [],
      "source": [
        "test_result_copy = deepcopy(test_result)"
      ]
    },
    {
      "cell_type": "code",
      "execution_count": null,
      "metadata": {
        "colab": {
          "base_uri": "https://localhost:8080/"
        },
        "id": "GKerkacpBiOr",
        "outputId": "7728ca34-4a71-4bc1-c997-fe67d7a0f49b"
      },
      "outputs": [
        {
          "name": "stderr",
          "output_type": "stream",
          "text": [
            "100%|██████████| 2794/2794 [01:35<00:00, 29.34it/s]\n"
          ]
        }
      ],
      "source": [
        "model_asc.eval()\n",
        "test_pred_ids = np.array([])\n",
        "\n",
        "for batch in tqdm(test_loader_asc):\n",
        "    inputs, _ = get_testset(batch[0], test_result, )\n",
        "    inputs = inputs.to(device)\n",
        "    \n",
        "    input_ids, input_segment, input_masks = inputs[:,0], inputs[:,1], inputs[:,2]\n",
        "    len_max = max(input_masks.sum(-1))\n",
        "    input_ids, input_masks, segment_ids = input_ids[:,:len_max], input_masks[:,:len_max], input_segment[:,:len_max]\n",
        "\n",
        "    with torch.no_grad():\n",
        "        outputs = model_asc(input_ids, input_masks, segment_ids)\n",
        "        # b * num cats\n",
        "        cls_logit = outputs['logits']\n",
        "        # dev_losses.append(torch.nn.CrossEntropyLoss()(cls_logit, labels).item())\n",
        "        \n",
        "        # true = labels.unsqueeze(0).detach().cpu().numpy()\n",
        "            \n",
        "        pred = cls_logit.argmax(1).detach().cpu().numpy()\n",
        "        # pred = F.one_hot( torch.topk(cls_logit, 2, -1)[1], len(entity_name_to_id)//2 ).sum(1).detach().cpu().numpy()\n",
        "        # pred = (F.one_hot(outputs['logits'].argmax(2), len(entity_name_to_id)+1).sum(1)).detach().cpu()\n",
        "        # pred = (pred[:, 1::2] + pred[:, 2::2] > 0).int().numpy()\n",
        "    test_pred_ids = np.append(test_pred_ids, pred)\n",
        "    for ip, pp in enumerate(pred):\n",
        "        test_result[batch[0].item()]['annotation'][ip][-1] = polarity_id_to_name[pp]"
      ]
    },
    {
      "cell_type": "code",
      "execution_count": null,
      "metadata": {
        "colab": {
          "base_uri": "https://localhost:8080/"
        },
        "id": "sli-Ml7xRDk4",
        "outputId": "4304f95f-bad9-426d-ce87-5e71e09757bd"
      },
      "outputs": [
        {
          "data": {
            "text/plain": [
              "{'id': 'nikluge-sa-2022-test-00013',\n",
              " 'sentence_form': '하또무기 스킨도 자극이 없고 피부 진정되는 느낌이어서이것도 비슷한 성분일 것 같아서 믿고 씁니당~',\n",
              " 'annotation': [['본품#품질', 'positive']]}"
            ]
          },
          "execution_count": 52,
          "metadata": {},
          "output_type": "execute_result"
        }
      ],
      "source": [
        "test_result[12]"
      ]
    },
    {
      "cell_type": "code",
      "execution_count": null,
      "metadata": {
        "colab": {
          "base_uri": "https://localhost:8080/"
        },
        "id": "cqTtbbgY9K7P",
        "outputId": "3b2ad45d-676b-417e-c6f7-e8db7d91afa4"
      },
      "outputs": [
        {
          "data": {
            "text/plain": [
              "{'id': 'nikluge-sa-2022-test-00013',\n",
              " 'sentence_form': '하또무기 스킨도 자극이 없고 피부 진정되는 느낌이어서이것도 비슷한 성분일 것 같아서 믿고 씁니당~',\n",
              " 'annotation': [['본품#품질', 'positive']]}"
            ]
          },
          "execution_count": 121,
          "metadata": {},
          "output_type": "execute_result"
        }
      ],
      "source": [
        "test_result[12]"
      ]
    },
    {
      "cell_type": "code",
      "execution_count": null,
      "metadata": {
        "colab": {
          "base_uri": "https://localhost:8080/"
        },
        "id": "uknO4KlM9pOo",
        "outputId": "463db602-eab3-4d5c-ef9a-b1b6de55fcfd"
      },
      "outputs": [
        {
          "data": {
            "text/plain": [
              "Counter({'positive': 2401})"
            ]
          },
          "execution_count": 53,
          "metadata": {},
          "output_type": "execute_result"
        }
      ],
      "source": [
        "from collections import Counter \n",
        "cc = Counter()\n",
        "\n",
        "for tt in test_result:\n",
        "    for a in tt['annotation']:\n",
        "        cc[a[-1]] += 1\n",
        "\n",
        "cc"
      ]
    },
    {
      "cell_type": "code",
      "execution_count": null,
      "metadata": {
        "colab": {
          "base_uri": "https://localhost:8080/"
        },
        "id": "8On3IB9Z96YP",
        "outputId": "3020753f-8ade-4123-bd82-3764283df590"
      },
      "outputs": [
        {
          "name": "stdout",
          "output_type": "stream",
          "text": [
            "20221006\n"
          ]
        }
      ],
      "source": [
        "import json\n",
        "from datetime import date\n",
        "today = str(date.today()).replace('-','')\n",
        "print(today)\n",
        "\n",
        "with open(f'result_{today}.json', 'w', encoding = 'utf-8') as f:\n",
        "    json.dump(test_result, f, ensure_ascii=False)"
      ]
    },
    {
      "cell_type": "code",
      "execution_count": null,
      "metadata": {
        "id": "tLHCqTa0SBTZ"
      },
      "outputs": [],
      "source": []
    }
  ],
  "metadata": {
    "accelerator": "GPU",
    "colab": {
      "collapsed_sections": [
        "ofotWdW77t6V",
        "iskkDKrf4lSp",
        "YvCJyAoKCzbL",
        "Z6x1Plv6nlXD",
        "xPY0PD7p4ql-",
        "yRYuVrn_7lqX",
        "YnM7VcitNuJm",
        "3p9y6VVQNoQu",
        "p_3VG1CpNbuO",
        "YWE3qGMeNkJm",
        "h_D_9ROrJ0XE",
        "WdYXydFE9umI",
        "3a-aFYL--9pd",
        "nRZjE-vPZjkl",
        "X_geJWgPZIi-",
        "cRi-jfdAzHlG",
        "Mou4rtc645mk",
        "yBE2FGJO7vex",
        "ccMADBBmFDV4",
        "kk_7JQOvFMoo",
        "A1XGcpexb5Es",
        "oqOiNBn6akBQ",
        "EbdN3R4b4RD5"
      ],
      "provenance": [],
      "toc_visible": true
    },
    "gpuClass": "standard",
    "kernelspec": {
      "display_name": "Python 3",
      "name": "python3"
    },
    "language_info": {
      "name": "python"
    },
    "widgets": {
      "application/vnd.jupyter.widget-state+json": {
        "0b873929353b46ec8d0a2a8246156887": {
          "model_module": "@jupyter-widgets/controls",
          "model_module_version": "1.5.0",
          "model_name": "DescriptionStyleModel",
          "state": {
            "_model_module": "@jupyter-widgets/controls",
            "_model_module_version": "1.5.0",
            "_model_name": "DescriptionStyleModel",
            "_view_count": null,
            "_view_module": "@jupyter-widgets/base",
            "_view_module_version": "1.2.0",
            "_view_name": "StyleView",
            "description_width": ""
          }
        },
        "0dd2685b1dfb4d9f821aa627a735b124": {
          "model_module": "@jupyter-widgets/controls",
          "model_module_version": "1.5.0",
          "model_name": "HBoxModel",
          "state": {
            "_dom_classes": [],
            "_model_module": "@jupyter-widgets/controls",
            "_model_module_version": "1.5.0",
            "_model_name": "HBoxModel",
            "_view_count": null,
            "_view_module": "@jupyter-widgets/controls",
            "_view_module_version": "1.5.0",
            "_view_name": "HBoxView",
            "box_style": "",
            "children": [
              "IPY_MODEL_92ee8bcfdedf4b54b2043136255ee3e1",
              "IPY_MODEL_a40252c7a7804854a72532400a6608de",
              "IPY_MODEL_e145696381344313886120817a2bce7c"
            ],
            "layout": "IPY_MODEL_44d6e29bd34843058399f8182a8afd1d"
          }
        },
        "130d96ecd336452faea5b9f6b4f6abfa": {
          "model_module": "@jupyter-widgets/controls",
          "model_module_version": "1.5.0",
          "model_name": "DescriptionStyleModel",
          "state": {
            "_model_module": "@jupyter-widgets/controls",
            "_model_module_version": "1.5.0",
            "_model_name": "DescriptionStyleModel",
            "_view_count": null,
            "_view_module": "@jupyter-widgets/base",
            "_view_module_version": "1.2.0",
            "_view_name": "StyleView",
            "description_width": ""
          }
        },
        "16a03ad041914cc0b8b8de9a92df273e": {
          "model_module": "@jupyter-widgets/controls",
          "model_module_version": "1.5.0",
          "model_name": "HBoxModel",
          "state": {
            "_dom_classes": [],
            "_model_module": "@jupyter-widgets/controls",
            "_model_module_version": "1.5.0",
            "_model_name": "HBoxModel",
            "_view_count": null,
            "_view_module": "@jupyter-widgets/controls",
            "_view_module_version": "1.5.0",
            "_view_name": "HBoxView",
            "box_style": "",
            "children": [
              "IPY_MODEL_599505a471de4809897cdb125a7a0d32",
              "IPY_MODEL_3cccbf197b76481b9657dcd9a664bd37",
              "IPY_MODEL_817d7eaa5acb489b859a2163791e08e8"
            ],
            "layout": "IPY_MODEL_b1c68a6810bb421189579bf5d4b08c20"
          }
        },
        "211d58237d2841cf9b83162ec47720fe": {
          "model_module": "@jupyter-widgets/base",
          "model_module_version": "1.2.0",
          "model_name": "LayoutModel",
          "state": {
            "_model_module": "@jupyter-widgets/base",
            "_model_module_version": "1.2.0",
            "_model_name": "LayoutModel",
            "_view_count": null,
            "_view_module": "@jupyter-widgets/base",
            "_view_module_version": "1.2.0",
            "_view_name": "LayoutView",
            "align_content": null,
            "align_items": null,
            "align_self": null,
            "border": null,
            "bottom": null,
            "display": null,
            "flex": null,
            "flex_flow": null,
            "grid_area": null,
            "grid_auto_columns": null,
            "grid_auto_flow": null,
            "grid_auto_rows": null,
            "grid_column": null,
            "grid_gap": null,
            "grid_row": null,
            "grid_template_areas": null,
            "grid_template_columns": null,
            "grid_template_rows": null,
            "height": null,
            "justify_content": null,
            "justify_items": null,
            "left": null,
            "margin": null,
            "max_height": null,
            "max_width": null,
            "min_height": null,
            "min_width": null,
            "object_fit": null,
            "object_position": null,
            "order": null,
            "overflow": null,
            "overflow_x": null,
            "overflow_y": null,
            "padding": null,
            "right": null,
            "top": null,
            "visibility": null,
            "width": null
          }
        },
        "2bbb10333b6b42f1933ad8d678090edf": {
          "model_module": "@jupyter-widgets/controls",
          "model_module_version": "1.5.0",
          "model_name": "DescriptionStyleModel",
          "state": {
            "_model_module": "@jupyter-widgets/controls",
            "_model_module_version": "1.5.0",
            "_model_name": "DescriptionStyleModel",
            "_view_count": null,
            "_view_module": "@jupyter-widgets/base",
            "_view_module_version": "1.2.0",
            "_view_name": "StyleView",
            "description_width": ""
          }
        },
        "2e130ab82e1845ec8c4a9bc15044e8e5": {
          "model_module": "@jupyter-widgets/controls",
          "model_module_version": "1.5.0",
          "model_name": "ProgressStyleModel",
          "state": {
            "_model_module": "@jupyter-widgets/controls",
            "_model_module_version": "1.5.0",
            "_model_name": "ProgressStyleModel",
            "_view_count": null,
            "_view_module": "@jupyter-widgets/base",
            "_view_module_version": "1.2.0",
            "_view_name": "StyleView",
            "bar_color": null,
            "description_width": ""
          }
        },
        "2f784153a9584f84a7614e5fcd179a08": {
          "model_module": "@jupyter-widgets/base",
          "model_module_version": "1.2.0",
          "model_name": "LayoutModel",
          "state": {
            "_model_module": "@jupyter-widgets/base",
            "_model_module_version": "1.2.0",
            "_model_name": "LayoutModel",
            "_view_count": null,
            "_view_module": "@jupyter-widgets/base",
            "_view_module_version": "1.2.0",
            "_view_name": "LayoutView",
            "align_content": null,
            "align_items": null,
            "align_self": null,
            "border": null,
            "bottom": null,
            "display": null,
            "flex": null,
            "flex_flow": null,
            "grid_area": null,
            "grid_auto_columns": null,
            "grid_auto_flow": null,
            "grid_auto_rows": null,
            "grid_column": null,
            "grid_gap": null,
            "grid_row": null,
            "grid_template_areas": null,
            "grid_template_columns": null,
            "grid_template_rows": null,
            "height": null,
            "justify_content": null,
            "justify_items": null,
            "left": null,
            "margin": null,
            "max_height": null,
            "max_width": null,
            "min_height": null,
            "min_width": null,
            "object_fit": null,
            "object_position": null,
            "order": null,
            "overflow": null,
            "overflow_x": null,
            "overflow_y": null,
            "padding": null,
            "right": null,
            "top": null,
            "visibility": null,
            "width": null
          }
        },
        "321ca2d1e2654f5683bab3f7059aafcb": {
          "model_module": "@jupyter-widgets/base",
          "model_module_version": "1.2.0",
          "model_name": "LayoutModel",
          "state": {
            "_model_module": "@jupyter-widgets/base",
            "_model_module_version": "1.2.0",
            "_model_name": "LayoutModel",
            "_view_count": null,
            "_view_module": "@jupyter-widgets/base",
            "_view_module_version": "1.2.0",
            "_view_name": "LayoutView",
            "align_content": null,
            "align_items": null,
            "align_self": null,
            "border": null,
            "bottom": null,
            "display": null,
            "flex": null,
            "flex_flow": null,
            "grid_area": null,
            "grid_auto_columns": null,
            "grid_auto_flow": null,
            "grid_auto_rows": null,
            "grid_column": null,
            "grid_gap": null,
            "grid_row": null,
            "grid_template_areas": null,
            "grid_template_columns": null,
            "grid_template_rows": null,
            "height": null,
            "justify_content": null,
            "justify_items": null,
            "left": null,
            "margin": null,
            "max_height": null,
            "max_width": null,
            "min_height": null,
            "min_width": null,
            "object_fit": null,
            "object_position": null,
            "order": null,
            "overflow": null,
            "overflow_x": null,
            "overflow_y": null,
            "padding": null,
            "right": null,
            "top": null,
            "visibility": null,
            "width": null
          }
        },
        "36d377cabe3e43208bf4d5a7ef839f90": {
          "model_module": "@jupyter-widgets/controls",
          "model_module_version": "1.5.0",
          "model_name": "HTMLModel",
          "state": {
            "_dom_classes": [],
            "_model_module": "@jupyter-widgets/controls",
            "_model_module_version": "1.5.0",
            "_model_name": "HTMLModel",
            "_view_count": null,
            "_view_module": "@jupyter-widgets/controls",
            "_view_module_version": "1.5.0",
            "_view_name": "HTMLView",
            "description": "",
            "description_tooltip": null,
            "layout": "IPY_MODEL_96eb805649ad4ff8a6e59f01284f23b9",
            "placeholder": "​",
            "style": "IPY_MODEL_f1dc2b85025c48ecb7d105be227e006a",
            "value": "Downloading: 100%"
          }
        },
        "37d7cb80cf7c45c282e172275e637b3b": {
          "model_module": "@jupyter-widgets/base",
          "model_module_version": "1.2.0",
          "model_name": "LayoutModel",
          "state": {
            "_model_module": "@jupyter-widgets/base",
            "_model_module_version": "1.2.0",
            "_model_name": "LayoutModel",
            "_view_count": null,
            "_view_module": "@jupyter-widgets/base",
            "_view_module_version": "1.2.0",
            "_view_name": "LayoutView",
            "align_content": null,
            "align_items": null,
            "align_self": null,
            "border": null,
            "bottom": null,
            "display": null,
            "flex": null,
            "flex_flow": null,
            "grid_area": null,
            "grid_auto_columns": null,
            "grid_auto_flow": null,
            "grid_auto_rows": null,
            "grid_column": null,
            "grid_gap": null,
            "grid_row": null,
            "grid_template_areas": null,
            "grid_template_columns": null,
            "grid_template_rows": null,
            "height": null,
            "justify_content": null,
            "justify_items": null,
            "left": null,
            "margin": null,
            "max_height": null,
            "max_width": null,
            "min_height": null,
            "min_width": null,
            "object_fit": null,
            "object_position": null,
            "order": null,
            "overflow": null,
            "overflow_x": null,
            "overflow_y": null,
            "padding": null,
            "right": null,
            "top": null,
            "visibility": null,
            "width": null
          }
        },
        "3cccbf197b76481b9657dcd9a664bd37": {
          "model_module": "@jupyter-widgets/controls",
          "model_module_version": "1.5.0",
          "model_name": "FloatProgressModel",
          "state": {
            "_dom_classes": [],
            "_model_module": "@jupyter-widgets/controls",
            "_model_module_version": "1.5.0",
            "_model_name": "FloatProgressModel",
            "_view_count": null,
            "_view_module": "@jupyter-widgets/controls",
            "_view_module_version": "1.5.0",
            "_view_name": "ProgressView",
            "bar_style": "success",
            "description": "",
            "description_tooltip": null,
            "layout": "IPY_MODEL_ecfd286c7d634bee89e4eed7ed11cae9",
            "max": 620,
            "min": 0,
            "orientation": "horizontal",
            "style": "IPY_MODEL_2e130ab82e1845ec8c4a9bc15044e8e5",
            "value": 620
          }
        },
        "44d6e29bd34843058399f8182a8afd1d": {
          "model_module": "@jupyter-widgets/base",
          "model_module_version": "1.2.0",
          "model_name": "LayoutModel",
          "state": {
            "_model_module": "@jupyter-widgets/base",
            "_model_module_version": "1.2.0",
            "_model_name": "LayoutModel",
            "_view_count": null,
            "_view_module": "@jupyter-widgets/base",
            "_view_module_version": "1.2.0",
            "_view_name": "LayoutView",
            "align_content": null,
            "align_items": null,
            "align_self": null,
            "border": null,
            "bottom": null,
            "display": null,
            "flex": null,
            "flex_flow": null,
            "grid_area": null,
            "grid_auto_columns": null,
            "grid_auto_flow": null,
            "grid_auto_rows": null,
            "grid_column": null,
            "grid_gap": null,
            "grid_row": null,
            "grid_template_areas": null,
            "grid_template_columns": null,
            "grid_template_rows": null,
            "height": null,
            "justify_content": null,
            "justify_items": null,
            "left": null,
            "margin": null,
            "max_height": null,
            "max_width": null,
            "min_height": null,
            "min_width": null,
            "object_fit": null,
            "object_position": null,
            "order": null,
            "overflow": null,
            "overflow_x": null,
            "overflow_y": null,
            "padding": null,
            "right": null,
            "top": null,
            "visibility": null,
            "width": null
          }
        },
        "49b607ed104b450d95cad8610682b0a0": {
          "model_module": "@jupyter-widgets/base",
          "model_module_version": "1.2.0",
          "model_name": "LayoutModel",
          "state": {
            "_model_module": "@jupyter-widgets/base",
            "_model_module_version": "1.2.0",
            "_model_name": "LayoutModel",
            "_view_count": null,
            "_view_module": "@jupyter-widgets/base",
            "_view_module_version": "1.2.0",
            "_view_name": "LayoutView",
            "align_content": null,
            "align_items": null,
            "align_self": null,
            "border": null,
            "bottom": null,
            "display": null,
            "flex": null,
            "flex_flow": null,
            "grid_area": null,
            "grid_auto_columns": null,
            "grid_auto_flow": null,
            "grid_auto_rows": null,
            "grid_column": null,
            "grid_gap": null,
            "grid_row": null,
            "grid_template_areas": null,
            "grid_template_columns": null,
            "grid_template_rows": null,
            "height": null,
            "justify_content": null,
            "justify_items": null,
            "left": null,
            "margin": null,
            "max_height": null,
            "max_width": null,
            "min_height": null,
            "min_width": null,
            "object_fit": null,
            "object_position": null,
            "order": null,
            "overflow": null,
            "overflow_x": null,
            "overflow_y": null,
            "padding": null,
            "right": null,
            "top": null,
            "visibility": null,
            "width": null
          }
        },
        "50504acc7b49475e8996d7ce1826b79b": {
          "model_module": "@jupyter-widgets/base",
          "model_module_version": "1.2.0",
          "model_name": "LayoutModel",
          "state": {
            "_model_module": "@jupyter-widgets/base",
            "_model_module_version": "1.2.0",
            "_model_name": "LayoutModel",
            "_view_count": null,
            "_view_module": "@jupyter-widgets/base",
            "_view_module_version": "1.2.0",
            "_view_name": "LayoutView",
            "align_content": null,
            "align_items": null,
            "align_self": null,
            "border": null,
            "bottom": null,
            "display": null,
            "flex": null,
            "flex_flow": null,
            "grid_area": null,
            "grid_auto_columns": null,
            "grid_auto_flow": null,
            "grid_auto_rows": null,
            "grid_column": null,
            "grid_gap": null,
            "grid_row": null,
            "grid_template_areas": null,
            "grid_template_columns": null,
            "grid_template_rows": null,
            "height": null,
            "justify_content": null,
            "justify_items": null,
            "left": null,
            "margin": null,
            "max_height": null,
            "max_width": null,
            "min_height": null,
            "min_width": null,
            "object_fit": null,
            "object_position": null,
            "order": null,
            "overflow": null,
            "overflow_x": null,
            "overflow_y": null,
            "padding": null,
            "right": null,
            "top": null,
            "visibility": null,
            "width": null
          }
        },
        "599505a471de4809897cdb125a7a0d32": {
          "model_module": "@jupyter-widgets/controls",
          "model_module_version": "1.5.0",
          "model_name": "HTMLModel",
          "state": {
            "_dom_classes": [],
            "_model_module": "@jupyter-widgets/controls",
            "_model_module_version": "1.5.0",
            "_model_name": "HTMLModel",
            "_view_count": null,
            "_view_module": "@jupyter-widgets/controls",
            "_view_module_version": "1.5.0",
            "_view_name": "HTMLView",
            "description": "",
            "description_tooltip": null,
            "layout": "IPY_MODEL_321ca2d1e2654f5683bab3f7059aafcb",
            "placeholder": "​",
            "style": "IPY_MODEL_e194c5b2063f431192b17742bbcae585",
            "value": "Downloading: 100%"
          }
        },
        "5bcf0c5e2ead4e729f23e39c82f5ed51": {
          "model_module": "@jupyter-widgets/base",
          "model_module_version": "1.2.0",
          "model_name": "LayoutModel",
          "state": {
            "_model_module": "@jupyter-widgets/base",
            "_model_module_version": "1.2.0",
            "_model_name": "LayoutModel",
            "_view_count": null,
            "_view_module": "@jupyter-widgets/base",
            "_view_module_version": "1.2.0",
            "_view_name": "LayoutView",
            "align_content": null,
            "align_items": null,
            "align_self": null,
            "border": null,
            "bottom": null,
            "display": null,
            "flex": null,
            "flex_flow": null,
            "grid_area": null,
            "grid_auto_columns": null,
            "grid_auto_flow": null,
            "grid_auto_rows": null,
            "grid_column": null,
            "grid_gap": null,
            "grid_row": null,
            "grid_template_areas": null,
            "grid_template_columns": null,
            "grid_template_rows": null,
            "height": null,
            "justify_content": null,
            "justify_items": null,
            "left": null,
            "margin": null,
            "max_height": null,
            "max_width": null,
            "min_height": null,
            "min_width": null,
            "object_fit": null,
            "object_position": null,
            "order": null,
            "overflow": null,
            "overflow_x": null,
            "overflow_y": null,
            "padding": null,
            "right": null,
            "top": null,
            "visibility": null,
            "width": null
          }
        },
        "5f9862ed5c8a4d73836661549e5eb5f7": {
          "model_module": "@jupyter-widgets/controls",
          "model_module_version": "1.5.0",
          "model_name": "DescriptionStyleModel",
          "state": {
            "_model_module": "@jupyter-widgets/controls",
            "_model_module_version": "1.5.0",
            "_model_name": "DescriptionStyleModel",
            "_view_count": null,
            "_view_module": "@jupyter-widgets/base",
            "_view_module_version": "1.2.0",
            "_view_name": "StyleView",
            "description_width": ""
          }
        },
        "64766f048322454ea2f4ec62c0e50abe": {
          "model_module": "@jupyter-widgets/controls",
          "model_module_version": "1.5.0",
          "model_name": "DescriptionStyleModel",
          "state": {
            "_model_module": "@jupyter-widgets/controls",
            "_model_module_version": "1.5.0",
            "_model_name": "DescriptionStyleModel",
            "_view_count": null,
            "_view_module": "@jupyter-widgets/base",
            "_view_module_version": "1.2.0",
            "_view_name": "StyleView",
            "description_width": ""
          }
        },
        "78dd29df1b9b41638be3b62bf69d02c2": {
          "model_module": "@jupyter-widgets/base",
          "model_module_version": "1.2.0",
          "model_name": "LayoutModel",
          "state": {
            "_model_module": "@jupyter-widgets/base",
            "_model_module_version": "1.2.0",
            "_model_name": "LayoutModel",
            "_view_count": null,
            "_view_module": "@jupyter-widgets/base",
            "_view_module_version": "1.2.0",
            "_view_name": "LayoutView",
            "align_content": null,
            "align_items": null,
            "align_self": null,
            "border": null,
            "bottom": null,
            "display": null,
            "flex": null,
            "flex_flow": null,
            "grid_area": null,
            "grid_auto_columns": null,
            "grid_auto_flow": null,
            "grid_auto_rows": null,
            "grid_column": null,
            "grid_gap": null,
            "grid_row": null,
            "grid_template_areas": null,
            "grid_template_columns": null,
            "grid_template_rows": null,
            "height": null,
            "justify_content": null,
            "justify_items": null,
            "left": null,
            "margin": null,
            "max_height": null,
            "max_width": null,
            "min_height": null,
            "min_width": null,
            "object_fit": null,
            "object_position": null,
            "order": null,
            "overflow": null,
            "overflow_x": null,
            "overflow_y": null,
            "padding": null,
            "right": null,
            "top": null,
            "visibility": null,
            "width": null
          }
        },
        "817d7eaa5acb489b859a2163791e08e8": {
          "model_module": "@jupyter-widgets/controls",
          "model_module_version": "1.5.0",
          "model_name": "HTMLModel",
          "state": {
            "_dom_classes": [],
            "_model_module": "@jupyter-widgets/controls",
            "_model_module_version": "1.5.0",
            "_model_name": "HTMLModel",
            "_view_count": null,
            "_view_module": "@jupyter-widgets/controls",
            "_view_module_version": "1.5.0",
            "_view_name": "HTMLView",
            "description": "",
            "description_tooltip": null,
            "layout": "IPY_MODEL_5bcf0c5e2ead4e729f23e39c82f5ed51",
            "placeholder": "​",
            "style": "IPY_MODEL_0b873929353b46ec8d0a2a8246156887",
            "value": " 620/620 [00:00&lt;00:00, 4.46kB/s]"
          }
        },
        "8caf81f43f474e1582cf339a9a8efc68": {
          "model_module": "@jupyter-widgets/base",
          "model_module_version": "1.2.0",
          "model_name": "LayoutModel",
          "state": {
            "_model_module": "@jupyter-widgets/base",
            "_model_module_version": "1.2.0",
            "_model_name": "LayoutModel",
            "_view_count": null,
            "_view_module": "@jupyter-widgets/base",
            "_view_module_version": "1.2.0",
            "_view_name": "LayoutView",
            "align_content": null,
            "align_items": null,
            "align_self": null,
            "border": null,
            "bottom": null,
            "display": null,
            "flex": null,
            "flex_flow": null,
            "grid_area": null,
            "grid_auto_columns": null,
            "grid_auto_flow": null,
            "grid_auto_rows": null,
            "grid_column": null,
            "grid_gap": null,
            "grid_row": null,
            "grid_template_areas": null,
            "grid_template_columns": null,
            "grid_template_rows": null,
            "height": null,
            "justify_content": null,
            "justify_items": null,
            "left": null,
            "margin": null,
            "max_height": null,
            "max_width": null,
            "min_height": null,
            "min_width": null,
            "object_fit": null,
            "object_position": null,
            "order": null,
            "overflow": null,
            "overflow_x": null,
            "overflow_y": null,
            "padding": null,
            "right": null,
            "top": null,
            "visibility": null,
            "width": null
          }
        },
        "920d20960b444393920d588fa5f4c273": {
          "model_module": "@jupyter-widgets/controls",
          "model_module_version": "1.5.0",
          "model_name": "HBoxModel",
          "state": {
            "_dom_classes": [],
            "_model_module": "@jupyter-widgets/controls",
            "_model_module_version": "1.5.0",
            "_model_name": "HBoxModel",
            "_view_count": null,
            "_view_module": "@jupyter-widgets/controls",
            "_view_module_version": "1.5.0",
            "_view_name": "HBoxView",
            "box_style": "",
            "children": [
              "IPY_MODEL_92fbb6962714401facaa51214a77ae67",
              "IPY_MODEL_a9c7e1117ea14221ac876dc1f519f10c",
              "IPY_MODEL_c17a628df6ea412cbb8d3c631bdc15db"
            ],
            "layout": "IPY_MODEL_211d58237d2841cf9b83162ec47720fe"
          }
        },
        "92ee8bcfdedf4b54b2043136255ee3e1": {
          "model_module": "@jupyter-widgets/controls",
          "model_module_version": "1.5.0",
          "model_name": "HTMLModel",
          "state": {
            "_dom_classes": [],
            "_model_module": "@jupyter-widgets/controls",
            "_model_module_version": "1.5.0",
            "_model_name": "HTMLModel",
            "_view_count": null,
            "_view_module": "@jupyter-widgets/controls",
            "_view_module_version": "1.5.0",
            "_view_name": "HTMLView",
            "description": "",
            "description_tooltip": null,
            "layout": "IPY_MODEL_78dd29df1b9b41638be3b62bf69d02c2",
            "placeholder": "​",
            "style": "IPY_MODEL_130d96ecd336452faea5b9f6b4f6abfa",
            "value": "Downloading: 100%"
          }
        },
        "92fbb6962714401facaa51214a77ae67": {
          "model_module": "@jupyter-widgets/controls",
          "model_module_version": "1.5.0",
          "model_name": "HTMLModel",
          "state": {
            "_dom_classes": [],
            "_model_module": "@jupyter-widgets/controls",
            "_model_module_version": "1.5.0",
            "_model_name": "HTMLModel",
            "_view_count": null,
            "_view_module": "@jupyter-widgets/controls",
            "_view_module_version": "1.5.0",
            "_view_name": "HTMLView",
            "description": "",
            "description_tooltip": null,
            "layout": "IPY_MODEL_8caf81f43f474e1582cf339a9a8efc68",
            "placeholder": "​",
            "style": "IPY_MODEL_5f9862ed5c8a4d73836661549e5eb5f7",
            "value": "Downloading: 100%"
          }
        },
        "943c89f9b4324b6b8a1ab6a6b60f91b1": {
          "model_module": "@jupyter-widgets/controls",
          "model_module_version": "1.5.0",
          "model_name": "HTMLModel",
          "state": {
            "_dom_classes": [],
            "_model_module": "@jupyter-widgets/controls",
            "_model_module_version": "1.5.0",
            "_model_name": "HTMLModel",
            "_view_count": null,
            "_view_module": "@jupyter-widgets/controls",
            "_view_module_version": "1.5.0",
            "_view_name": "HTMLView",
            "description": "",
            "description_tooltip": null,
            "layout": "IPY_MODEL_37d7cb80cf7c45c282e172275e637b3b",
            "placeholder": "​",
            "style": "IPY_MODEL_2bbb10333b6b42f1933ad8d678090edf",
            "value": " 80.0/80.0 [00:00&lt;00:00, 912B/s]"
          }
        },
        "96e36ff711a24b569edda9c0c950c458": {
          "model_module": "@jupyter-widgets/controls",
          "model_module_version": "1.5.0",
          "model_name": "DescriptionStyleModel",
          "state": {
            "_model_module": "@jupyter-widgets/controls",
            "_model_module_version": "1.5.0",
            "_model_name": "DescriptionStyleModel",
            "_view_count": null,
            "_view_module": "@jupyter-widgets/base",
            "_view_module_version": "1.2.0",
            "_view_name": "StyleView",
            "description_width": ""
          }
        },
        "96eb805649ad4ff8a6e59f01284f23b9": {
          "model_module": "@jupyter-widgets/base",
          "model_module_version": "1.2.0",
          "model_name": "LayoutModel",
          "state": {
            "_model_module": "@jupyter-widgets/base",
            "_model_module_version": "1.2.0",
            "_model_name": "LayoutModel",
            "_view_count": null,
            "_view_module": "@jupyter-widgets/base",
            "_view_module_version": "1.2.0",
            "_view_name": "LayoutView",
            "align_content": null,
            "align_items": null,
            "align_self": null,
            "border": null,
            "bottom": null,
            "display": null,
            "flex": null,
            "flex_flow": null,
            "grid_area": null,
            "grid_auto_columns": null,
            "grid_auto_flow": null,
            "grid_auto_rows": null,
            "grid_column": null,
            "grid_gap": null,
            "grid_row": null,
            "grid_template_areas": null,
            "grid_template_columns": null,
            "grid_template_rows": null,
            "height": null,
            "justify_content": null,
            "justify_items": null,
            "left": null,
            "margin": null,
            "max_height": null,
            "max_width": null,
            "min_height": null,
            "min_width": null,
            "object_fit": null,
            "object_position": null,
            "order": null,
            "overflow": null,
            "overflow_x": null,
            "overflow_y": null,
            "padding": null,
            "right": null,
            "top": null,
            "visibility": null,
            "width": null
          }
        },
        "a40252c7a7804854a72532400a6608de": {
          "model_module": "@jupyter-widgets/controls",
          "model_module_version": "1.5.0",
          "model_name": "FloatProgressModel",
          "state": {
            "_dom_classes": [],
            "_model_module": "@jupyter-widgets/controls",
            "_model_module_version": "1.5.0",
            "_model_name": "FloatProgressModel",
            "_view_count": null,
            "_view_module": "@jupyter-widgets/controls",
            "_view_module_version": "1.5.0",
            "_view_name": "ProgressView",
            "bar_style": "success",
            "description": "",
            "description_tooltip": null,
            "layout": "IPY_MODEL_2f784153a9584f84a7614e5fcd179a08",
            "max": 473243441,
            "min": 0,
            "orientation": "horizontal",
            "style": "IPY_MODEL_ae2267330e6947b99b5d85cd471db32a",
            "value": 473243441
          }
        },
        "a8802215c56a45c6ae11e3fc72fe789d": {
          "model_module": "@jupyter-widgets/controls",
          "model_module_version": "1.5.0",
          "model_name": "FloatProgressModel",
          "state": {
            "_dom_classes": [],
            "_model_module": "@jupyter-widgets/controls",
            "_model_module_version": "1.5.0",
            "_model_name": "FloatProgressModel",
            "_view_count": null,
            "_view_module": "@jupyter-widgets/controls",
            "_view_module_version": "1.5.0",
            "_view_name": "ProgressView",
            "bar_style": "success",
            "description": "",
            "description_tooltip": null,
            "layout": "IPY_MODEL_a8e9dd3a417a423e941deee4c960b3ef",
            "max": 80,
            "min": 0,
            "orientation": "horizontal",
            "style": "IPY_MODEL_d2578c128dc84249867715c2e39ef046",
            "value": 80
          }
        },
        "a8e9dd3a417a423e941deee4c960b3ef": {
          "model_module": "@jupyter-widgets/base",
          "model_module_version": "1.2.0",
          "model_name": "LayoutModel",
          "state": {
            "_model_module": "@jupyter-widgets/base",
            "_model_module_version": "1.2.0",
            "_model_name": "LayoutModel",
            "_view_count": null,
            "_view_module": "@jupyter-widgets/base",
            "_view_module_version": "1.2.0",
            "_view_name": "LayoutView",
            "align_content": null,
            "align_items": null,
            "align_self": null,
            "border": null,
            "bottom": null,
            "display": null,
            "flex": null,
            "flex_flow": null,
            "grid_area": null,
            "grid_auto_columns": null,
            "grid_auto_flow": null,
            "grid_auto_rows": null,
            "grid_column": null,
            "grid_gap": null,
            "grid_row": null,
            "grid_template_areas": null,
            "grid_template_columns": null,
            "grid_template_rows": null,
            "height": null,
            "justify_content": null,
            "justify_items": null,
            "left": null,
            "margin": null,
            "max_height": null,
            "max_width": null,
            "min_height": null,
            "min_width": null,
            "object_fit": null,
            "object_position": null,
            "order": null,
            "overflow": null,
            "overflow_x": null,
            "overflow_y": null,
            "padding": null,
            "right": null,
            "top": null,
            "visibility": null,
            "width": null
          }
        },
        "a9c7e1117ea14221ac876dc1f519f10c": {
          "model_module": "@jupyter-widgets/controls",
          "model_module_version": "1.5.0",
          "model_name": "FloatProgressModel",
          "state": {
            "_dom_classes": [],
            "_model_module": "@jupyter-widgets/controls",
            "_model_module_version": "1.5.0",
            "_model_name": "FloatProgressModel",
            "_view_count": null,
            "_view_module": "@jupyter-widgets/controls",
            "_view_module_version": "1.5.0",
            "_view_name": "ProgressView",
            "bar_style": "success",
            "description": "",
            "description_tooltip": null,
            "layout": "IPY_MODEL_49b607ed104b450d95cad8610682b0a0",
            "max": 344259,
            "min": 0,
            "orientation": "horizontal",
            "style": "IPY_MODEL_c8ec5df30b8a44a6bfb309a2a558cacf",
            "value": 344259
          }
        },
        "ae2267330e6947b99b5d85cd471db32a": {
          "model_module": "@jupyter-widgets/controls",
          "model_module_version": "1.5.0",
          "model_name": "ProgressStyleModel",
          "state": {
            "_model_module": "@jupyter-widgets/controls",
            "_model_module_version": "1.5.0",
            "_model_name": "ProgressStyleModel",
            "_view_count": null,
            "_view_module": "@jupyter-widgets/base",
            "_view_module_version": "1.2.0",
            "_view_name": "StyleView",
            "bar_color": null,
            "description_width": ""
          }
        },
        "b1c68a6810bb421189579bf5d4b08c20": {
          "model_module": "@jupyter-widgets/base",
          "model_module_version": "1.2.0",
          "model_name": "LayoutModel",
          "state": {
            "_model_module": "@jupyter-widgets/base",
            "_model_module_version": "1.2.0",
            "_model_name": "LayoutModel",
            "_view_count": null,
            "_view_module": "@jupyter-widgets/base",
            "_view_module_version": "1.2.0",
            "_view_name": "LayoutView",
            "align_content": null,
            "align_items": null,
            "align_self": null,
            "border": null,
            "bottom": null,
            "display": null,
            "flex": null,
            "flex_flow": null,
            "grid_area": null,
            "grid_auto_columns": null,
            "grid_auto_flow": null,
            "grid_auto_rows": null,
            "grid_column": null,
            "grid_gap": null,
            "grid_row": null,
            "grid_template_areas": null,
            "grid_template_columns": null,
            "grid_template_rows": null,
            "height": null,
            "justify_content": null,
            "justify_items": null,
            "left": null,
            "margin": null,
            "max_height": null,
            "max_width": null,
            "min_height": null,
            "min_width": null,
            "object_fit": null,
            "object_position": null,
            "order": null,
            "overflow": null,
            "overflow_x": null,
            "overflow_y": null,
            "padding": null,
            "right": null,
            "top": null,
            "visibility": null,
            "width": null
          }
        },
        "bf7b4e2a7322445d9078f66a4f9155f4": {
          "model_module": "@jupyter-widgets/base",
          "model_module_version": "1.2.0",
          "model_name": "LayoutModel",
          "state": {
            "_model_module": "@jupyter-widgets/base",
            "_model_module_version": "1.2.0",
            "_model_name": "LayoutModel",
            "_view_count": null,
            "_view_module": "@jupyter-widgets/base",
            "_view_module_version": "1.2.0",
            "_view_name": "LayoutView",
            "align_content": null,
            "align_items": null,
            "align_self": null,
            "border": null,
            "bottom": null,
            "display": null,
            "flex": null,
            "flex_flow": null,
            "grid_area": null,
            "grid_auto_columns": null,
            "grid_auto_flow": null,
            "grid_auto_rows": null,
            "grid_column": null,
            "grid_gap": null,
            "grid_row": null,
            "grid_template_areas": null,
            "grid_template_columns": null,
            "grid_template_rows": null,
            "height": null,
            "justify_content": null,
            "justify_items": null,
            "left": null,
            "margin": null,
            "max_height": null,
            "max_width": null,
            "min_height": null,
            "min_width": null,
            "object_fit": null,
            "object_position": null,
            "order": null,
            "overflow": null,
            "overflow_x": null,
            "overflow_y": null,
            "padding": null,
            "right": null,
            "top": null,
            "visibility": null,
            "width": null
          }
        },
        "c17a628df6ea412cbb8d3c631bdc15db": {
          "model_module": "@jupyter-widgets/controls",
          "model_module_version": "1.5.0",
          "model_name": "HTMLModel",
          "state": {
            "_dom_classes": [],
            "_model_module": "@jupyter-widgets/controls",
            "_model_module_version": "1.5.0",
            "_model_name": "HTMLModel",
            "_view_count": null,
            "_view_module": "@jupyter-widgets/controls",
            "_view_module_version": "1.5.0",
            "_view_name": "HTMLView",
            "description": "",
            "description_tooltip": null,
            "layout": "IPY_MODEL_50504acc7b49475e8996d7ce1826b79b",
            "placeholder": "​",
            "style": "IPY_MODEL_64766f048322454ea2f4ec62c0e50abe",
            "value": " 344k/344k [00:00&lt;00:00, 655kB/s]"
          }
        },
        "c8ec5df30b8a44a6bfb309a2a558cacf": {
          "model_module": "@jupyter-widgets/controls",
          "model_module_version": "1.5.0",
          "model_name": "ProgressStyleModel",
          "state": {
            "_model_module": "@jupyter-widgets/controls",
            "_model_module_version": "1.5.0",
            "_model_name": "ProgressStyleModel",
            "_view_count": null,
            "_view_module": "@jupyter-widgets/base",
            "_view_module_version": "1.2.0",
            "_view_name": "StyleView",
            "bar_color": null,
            "description_width": ""
          }
        },
        "d2578c128dc84249867715c2e39ef046": {
          "model_module": "@jupyter-widgets/controls",
          "model_module_version": "1.5.0",
          "model_name": "ProgressStyleModel",
          "state": {
            "_model_module": "@jupyter-widgets/controls",
            "_model_module_version": "1.5.0",
            "_model_name": "ProgressStyleModel",
            "_view_count": null,
            "_view_module": "@jupyter-widgets/base",
            "_view_module_version": "1.2.0",
            "_view_name": "StyleView",
            "bar_color": null,
            "description_width": ""
          }
        },
        "db59f025a1e74f5ea2f6f56757e7df50": {
          "model_module": "@jupyter-widgets/base",
          "model_module_version": "1.2.0",
          "model_name": "LayoutModel",
          "state": {
            "_model_module": "@jupyter-widgets/base",
            "_model_module_version": "1.2.0",
            "_model_name": "LayoutModel",
            "_view_count": null,
            "_view_module": "@jupyter-widgets/base",
            "_view_module_version": "1.2.0",
            "_view_name": "LayoutView",
            "align_content": null,
            "align_items": null,
            "align_self": null,
            "border": null,
            "bottom": null,
            "display": null,
            "flex": null,
            "flex_flow": null,
            "grid_area": null,
            "grid_auto_columns": null,
            "grid_auto_flow": null,
            "grid_auto_rows": null,
            "grid_column": null,
            "grid_gap": null,
            "grid_row": null,
            "grid_template_areas": null,
            "grid_template_columns": null,
            "grid_template_rows": null,
            "height": null,
            "justify_content": null,
            "justify_items": null,
            "left": null,
            "margin": null,
            "max_height": null,
            "max_width": null,
            "min_height": null,
            "min_width": null,
            "object_fit": null,
            "object_position": null,
            "order": null,
            "overflow": null,
            "overflow_x": null,
            "overflow_y": null,
            "padding": null,
            "right": null,
            "top": null,
            "visibility": null,
            "width": null
          }
        },
        "e145696381344313886120817a2bce7c": {
          "model_module": "@jupyter-widgets/controls",
          "model_module_version": "1.5.0",
          "model_name": "HTMLModel",
          "state": {
            "_dom_classes": [],
            "_model_module": "@jupyter-widgets/controls",
            "_model_module_version": "1.5.0",
            "_model_name": "HTMLModel",
            "_view_count": null,
            "_view_module": "@jupyter-widgets/controls",
            "_view_module_version": "1.5.0",
            "_view_name": "HTMLView",
            "description": "",
            "description_tooltip": null,
            "layout": "IPY_MODEL_db59f025a1e74f5ea2f6f56757e7df50",
            "placeholder": "​",
            "style": "IPY_MODEL_96e36ff711a24b569edda9c0c950c458",
            "value": " 473M/473M [00:25&lt;00:00, 26.5MB/s]"
          }
        },
        "e194c5b2063f431192b17742bbcae585": {
          "model_module": "@jupyter-widgets/controls",
          "model_module_version": "1.5.0",
          "model_name": "DescriptionStyleModel",
          "state": {
            "_model_module": "@jupyter-widgets/controls",
            "_model_module_version": "1.5.0",
            "_model_name": "DescriptionStyleModel",
            "_view_count": null,
            "_view_module": "@jupyter-widgets/base",
            "_view_module_version": "1.2.0",
            "_view_name": "StyleView",
            "description_width": ""
          }
        },
        "ecfd286c7d634bee89e4eed7ed11cae9": {
          "model_module": "@jupyter-widgets/base",
          "model_module_version": "1.2.0",
          "model_name": "LayoutModel",
          "state": {
            "_model_module": "@jupyter-widgets/base",
            "_model_module_version": "1.2.0",
            "_model_name": "LayoutModel",
            "_view_count": null,
            "_view_module": "@jupyter-widgets/base",
            "_view_module_version": "1.2.0",
            "_view_name": "LayoutView",
            "align_content": null,
            "align_items": null,
            "align_self": null,
            "border": null,
            "bottom": null,
            "display": null,
            "flex": null,
            "flex_flow": null,
            "grid_area": null,
            "grid_auto_columns": null,
            "grid_auto_flow": null,
            "grid_auto_rows": null,
            "grid_column": null,
            "grid_gap": null,
            "grid_row": null,
            "grid_template_areas": null,
            "grid_template_columns": null,
            "grid_template_rows": null,
            "height": null,
            "justify_content": null,
            "justify_items": null,
            "left": null,
            "margin": null,
            "max_height": null,
            "max_width": null,
            "min_height": null,
            "min_width": null,
            "object_fit": null,
            "object_position": null,
            "order": null,
            "overflow": null,
            "overflow_x": null,
            "overflow_y": null,
            "padding": null,
            "right": null,
            "top": null,
            "visibility": null,
            "width": null
          }
        },
        "ee7e5d3628c3497889864cf96c74a203": {
          "model_module": "@jupyter-widgets/controls",
          "model_module_version": "1.5.0",
          "model_name": "HBoxModel",
          "state": {
            "_dom_classes": [],
            "_model_module": "@jupyter-widgets/controls",
            "_model_module_version": "1.5.0",
            "_model_name": "HBoxModel",
            "_view_count": null,
            "_view_module": "@jupyter-widgets/controls",
            "_view_module_version": "1.5.0",
            "_view_name": "HBoxView",
            "box_style": "",
            "children": [
              "IPY_MODEL_36d377cabe3e43208bf4d5a7ef839f90",
              "IPY_MODEL_a8802215c56a45c6ae11e3fc72fe789d",
              "IPY_MODEL_943c89f9b4324b6b8a1ab6a6b60f91b1"
            ],
            "layout": "IPY_MODEL_bf7b4e2a7322445d9078f66a4f9155f4"
          }
        },
        "f1dc2b85025c48ecb7d105be227e006a": {
          "model_module": "@jupyter-widgets/controls",
          "model_module_version": "1.5.0",
          "model_name": "DescriptionStyleModel",
          "state": {
            "_model_module": "@jupyter-widgets/controls",
            "_model_module_version": "1.5.0",
            "_model_name": "DescriptionStyleModel",
            "_view_count": null,
            "_view_module": "@jupyter-widgets/base",
            "_view_module_version": "1.2.0",
            "_view_name": "StyleView",
            "description_width": ""
          }
        }
      }
    }
  },
  "nbformat": 4,
  "nbformat_minor": 0
}
