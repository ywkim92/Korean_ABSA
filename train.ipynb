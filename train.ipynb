{
  "cells": [
    {
      "cell_type": "markdown",
      "metadata": {
        "id": "ofotWdW77t6V"
      },
      "source": [
        "# Install libraries"
      ]
    },
    {
      "cell_type": "code",
      "execution_count": null,
      "metadata": {
        "colab": {
          "base_uri": "https://localhost:8080/"
        },
        "id": "1ol6ZL50wvPR",
        "outputId": "07093a73-747a-43ec-cd4e-51f4ef1f2d97"
      },
      "outputs": [],
      "source": [
        "!pip install -r requirements.txt"
      ]
    },
    {
      "cell_type": "code",
      "execution_count": null,
      "metadata": {
        "id": "KlGwQS0dusMw"
      },
      "outputs": [],
      "source": [
        "# https://github.com/teddysum/korean_ABSA_baseline/blob/0d47e3eef31419a2d31d859da2dfba4f9df75531/src/sentiment_analysis.py#L532-L630\n",
        "\n",
        "def evaluation_f1(true_data, pred_data):\n",
        "\n",
        "    true_data_list = true_data\n",
        "    pred_data_list = pred_data\n",
        "\n",
        "    ce_eval = {\n",
        "        'TP': 0,\n",
        "        'FP': 0,\n",
        "        'FN': 0,\n",
        "        'TN': 0\n",
        "    }\n",
        "\n",
        "    pipeline_eval = {\n",
        "        'TP': 0,\n",
        "        'FP': 0,\n",
        "        'FN': 0,\n",
        "        'TN': 0\n",
        "    }\n",
        "\n",
        "    for i in range(len(true_data_list)):\n",
        "\n",
        "        # TP, FN checking\n",
        "        is_ce_found = False\n",
        "        is_pipeline_found = False\n",
        "        for y_ano  in true_data_list[i]['annotation']:\n",
        "            y_category = y_ano[0]\n",
        "            y_polarity = y_ano[2]\n",
        "\n",
        "            for p_ano in pred_data_list[i]['annotation']:\n",
        "                p_category = p_ano[0]\n",
        "                p_polarity = p_ano[1]\n",
        "\n",
        "                if y_category == p_category:\n",
        "                    is_ce_found = True\n",
        "                    if y_polarity == p_polarity:\n",
        "                        is_pipeline_found = True\n",
        "\n",
        "                    break\n",
        "\n",
        "            if is_ce_found is True:\n",
        "                ce_eval['TP'] += 1\n",
        "            else:\n",
        "                ce_eval['FN'] += 1\n",
        "\n",
        "            if is_pipeline_found is True:\n",
        "                pipeline_eval['TP'] += 1\n",
        "            else:\n",
        "                pipeline_eval['FN'] += 1\n",
        "\n",
        "            is_ce_found = False\n",
        "            is_pipeline_found = False\n",
        "\n",
        "        # FP checking\n",
        "        for p_ano in pred_data_list[i]['annotation']:\n",
        "            p_category = p_ano[0]\n",
        "            p_polarity = p_ano[1]\n",
        "\n",
        "            for y_ano  in true_data_list[i]['annotation']:\n",
        "                y_category = y_ano[0]\n",
        "                y_polarity = y_ano[2]\n",
        "\n",
        "                if y_category == p_category:\n",
        "                    is_ce_found = True\n",
        "                    if y_polarity == p_polarity:\n",
        "                        is_pipeline_found = True\n",
        "\n",
        "                    break\n",
        "\n",
        "            if is_ce_found is False:\n",
        "                ce_eval['FP'] += 1\n",
        "\n",
        "            if is_pipeline_found is False:\n",
        "                pipeline_eval['FP'] += 1\n",
        "            \n",
        "            is_ce_found = False\n",
        "            is_pipeline_found = False\n",
        "\n",
        "    ce_precision = ce_eval['TP']/(ce_eval['TP']+ce_eval['FP'])\n",
        "    ce_recall = ce_eval['TP']/(ce_eval['TP']+ce_eval['FN'])\n",
        "\n",
        "    ce_result = {\n",
        "        'Precision': ce_precision,\n",
        "        'Recall': ce_recall,\n",
        "        'F1': 2*ce_recall*ce_precision/(ce_recall+ce_precision)\n",
        "    }\n",
        "\n",
        "    pipeline_precision = pipeline_eval['TP']/(pipeline_eval['TP']+pipeline_eval['FP'])\n",
        "    pipeline_recall = pipeline_eval['TP']/(pipeline_eval['TP']+pipeline_eval['FN'])\n",
        "\n",
        "    pipeline_result = {\n",
        "        'Precision': pipeline_precision,\n",
        "        'Recall': pipeline_recall,\n",
        "        'F1': 2*pipeline_recall*pipeline_precision/(pipeline_recall+pipeline_precision)\n",
        "    }\n",
        "\n",
        "    return {\n",
        "        'category extraction result': ce_result,\n",
        "        'entire pipeline result': pipeline_result\n",
        "    }"
      ]
    },
    {
      "cell_type": "markdown",
      "metadata": {
        "id": "Yx7ONYPb7wK8"
      },
      "source": [
        "# Load libraries"
      ]
    },
    {
      "cell_type": "code",
      "execution_count": null,
      "metadata": {},
      "outputs": [],
      "source": [
        "acd_save_path = './model/acd_best.bin'\n",
        "asc_save_path = './model/asc_best.bin'"
      ]
    },
    {
      "cell_type": "code",
      "execution_count": null,
      "metadata": {
        "id": "nkUps9Cy0wdD"
      },
      "outputs": [],
      "source": [
        "%load_ext autoreload\n",
        "%autoreload 2"
      ]
    },
    {
      "cell_type": "code",
      "execution_count": null,
      "metadata": {
        "id": "J5BqUQfYwySI"
      },
      "outputs": [],
      "source": [
        "import os, sys\n",
        "import re\n",
        "import time\n",
        "import json\n",
        "import random\n",
        "import pickle\n",
        "import numpy as np\n",
        "import pandas as pd\n",
        "from tqdm import tqdm\n",
        "from copy import deepcopy\n",
        "import matplotlib.pyplot as plt\n",
        "\n",
        "from sklearn.metrics import f1_score\n",
        "\n",
        "import torch\n",
        "import torch.nn.functional as F\n",
        "from torch.utils.data import (\n",
        "    TensorDataset, DataLoader, RandomSampler, SequentialSampler, WeightedRandomSampler\n",
        ")\n",
        "from transformers import (\n",
        "    AdamW, get_linear_schedule_with_warmup,\n",
        "    ElectraTokenizerFast, ElectraForSequenceClassification, ElectraForTokenClassification,\n",
        "    BertTokenizerFast, BertForSequenceClassification\n",
        ")\n",
        "\n",
        "os.environ['CUDA_LAUNCH_BLOCKING'] = \"1\""
      ]
    },
    {
      "cell_type": "code",
      "execution_count": null,
      "metadata": {
        "colab": {
          "base_uri": "https://localhost:8080/"
        },
        "id": "oXP9wtHLxl8V",
        "outputId": "d97e5fd3-9f7b-4dfc-eb92-7747c7cff826"
      },
      "outputs": [
        {
          "data": {
            "text/plain": [
              "<torch._C.Generator at 0x7f81de31e990>"
            ]
          },
          "execution_count": 8,
          "metadata": {},
          "output_type": "execute_result"
        }
      ],
      "source": [
        "# device = 'cpu'\n",
        "device = 'cuda'\n",
        "seed = 1235\n",
        "batch_size = 4\n",
        "learning_rate = 1e-5\n",
        "warmup_proportion = 0.1\n",
        "epochs = 10\n",
        "warmup_steps = 1000\n",
        "# max_len= 256\n",
        "\n",
        "gradient_accumulation_steps = 4\n",
        "num_train_epochs = epochs\n",
        "\n",
        "random.seed(seed)\n",
        "np.random.seed(seed)\n",
        "torch.manual_seed(seed)"
      ]
    },
    {
      "cell_type": "markdown",
      "metadata": {
        "id": "CMMwACaQ7ysL"
      },
      "source": [
        "# Load data"
      ]
    },
    {
      "cell_type": "markdown",
      "metadata": {
        "id": "EDxLtUM4-531"
      },
      "source": [
        "## data"
      ]
    },
    {
      "cell_type": "code",
      "execution_count": null,
      "metadata": {
        "id": "aJyABhoSxfjG"
      },
      "outputs": [],
      "source": [
        "train = []\n",
        "with open('data/nikluge-sa-2022-train.jsonl', 'r') as file:\n",
        "    for line in file.readlines():\n",
        "        train.append(json.loads(line))\n",
        "\n",
        "train[34]= {'id': 'nikluge-sa-2022-train-00035',\n",
        " 'sentence_form': '물론 쥐시장 가면 천원짜리도 많겠지만 가격대비 면이 좋네.',\n",
        " 'annotation': [['본품#품질', ['면', 26, 27], 'positive']]}\n",
        "train[2529]= {'id': 'nikluge-sa-2022-train-02530',\n",
        " 'sentence_form': '피부가 건조해서 거칠어지신 분들... 피부 속과 겉 모두 건조하신 분들은 #수분집중 라인을 선택해주시면 되겠습니당!',\n",
        " 'annotation': [['제품 전체#일반', [' #수분집중 라인', 41, 49], 'positive']]}\n",
        "\n",
        "val = []\n",
        "with open('data/nikluge-sa-2022-dev.jsonl', 'r') as file:\n",
        "    for line in file.readlines():\n",
        "        val.append(json.loads(line))\n",
        "\n",
        "val[2609] = {'id': 'nikluge-sa-2022-dev-02610',\n",
        " 'sentence_form': '매일 아침저녁으로 열심히 바르고 있는 크림이에요 🙆🏻💞',\n",
        " 'annotation': [['제품 전체#일반', ['크림', 21, 23], 'positive']]}"
      ]
    },
    {
      "cell_type": "code",
      "execution_count": null,
      "metadata": {
        "id": "SU1rp4Cy1N4U"
      },
      "outputs": [],
      "source": [
        "entity_property_pair = [\n",
        "    '본품#가격', '본품#다양성', '본품#디자인', '본품#인지도', '본품#일반', '본품#편의성', '본품#품질', \n",
        "    '브랜드#가격', '브랜드#디자인', '브랜드#인지도', '브랜드#일반', '브랜드#품질', \n",
        "    '제품 전체#가격', '제품 전체#다양성', '제품 전체#디자인', '제품 전체#인지도', '제품 전체#일반', '제품 전체#편의성', '제품 전체#품질', \n",
        "    '패키지/구성품#가격', '패키지/구성품#다양성', '패키지/구성품#디자인', '패키지/구성품#일반', '패키지/구성품#편의성', '패키지/구성품#품질'\n",
        "]\n",
        "\n",
        "entity_property_pair.sort()\n",
        "\n",
        "entity_name_to_id = {entity_property_pair[i]: i for i in range( len(entity_property_pair) )}\n",
        "entity_id_to_name = {v:k for k, v in entity_name_to_id.items()}\n",
        "\n",
        "label_id_to_name = ['True', 'False']\n",
        "label_name_to_id = {label_id_to_name[i]: i for i in range(len(label_id_to_name))}\n",
        "\n",
        "polarity_id_to_name = ['positive', 'negative', 'neutral']\n",
        "polarity_name_to_id = {polarity_id_to_name[i]: i for i in range(len(polarity_id_to_name))}"
      ]
    },
    {
      "cell_type": "code",
      "execution_count": null,
      "metadata": {
        "id": "5ryH3sFX-HLW"
      },
      "outputs": [],
      "source": [
        "from copy import deepcopy\n",
        "def convert(array: np.array, data: list):\n",
        "    iter = array.shape[0]\n",
        "    if iter != len(data):\n",
        "        raise ValueError\n",
        "    result = deepcopy(data)\n",
        "    for i in range(iter):\n",
        "        ind = np.where(array[i]==1)[0]\n",
        "        result[i]['annotation'] = [[ entity_id_to_name[k], 'positive'] for k in ind]\n",
        "    return result"
      ]
    },
    {
      "cell_type": "markdown",
      "metadata": {
        "id": "ghClg3IcE3oe"
      },
      "source": [
        "# Set model"
      ]
    },
    {
      "cell_type": "markdown",
      "metadata": {
        "id": "z6jGKA3V4ox0"
      },
      "source": [
        "## ACD"
      ]
    },
    {
      "cell_type": "code",
      "execution_count": null,
      "metadata": {
        "colab": {
          "base_uri": "https://localhost:8080/",
          "height": 254,
          "referenced_widgets": [
            "ee7e5d3628c3497889864cf96c74a203",
            "36d377cabe3e43208bf4d5a7ef839f90",
            "a8802215c56a45c6ae11e3fc72fe789d",
            "943c89f9b4324b6b8a1ab6a6b60f91b1",
            "bf7b4e2a7322445d9078f66a4f9155f4",
            "96eb805649ad4ff8a6e59f01284f23b9",
            "f1dc2b85025c48ecb7d105be227e006a",
            "a8e9dd3a417a423e941deee4c960b3ef",
            "d2578c128dc84249867715c2e39ef046",
            "37d7cb80cf7c45c282e172275e637b3b",
            "2bbb10333b6b42f1933ad8d678090edf",
            "920d20960b444393920d588fa5f4c273",
            "92fbb6962714401facaa51214a77ae67",
            "a9c7e1117ea14221ac876dc1f519f10c",
            "c17a628df6ea412cbb8d3c631bdc15db",
            "211d58237d2841cf9b83162ec47720fe",
            "8caf81f43f474e1582cf339a9a8efc68",
            "5f9862ed5c8a4d73836661549e5eb5f7",
            "49b607ed104b450d95cad8610682b0a0",
            "c8ec5df30b8a44a6bfb309a2a558cacf",
            "50504acc7b49475e8996d7ce1826b79b",
            "64766f048322454ea2f4ec62c0e50abe",
            "16a03ad041914cc0b8b8de9a92df273e",
            "599505a471de4809897cdb125a7a0d32",
            "3cccbf197b76481b9657dcd9a664bd37",
            "817d7eaa5acb489b859a2163791e08e8",
            "b1c68a6810bb421189579bf5d4b08c20",
            "321ca2d1e2654f5683bab3f7059aafcb",
            "e194c5b2063f431192b17742bbcae585",
            "ecfd286c7d634bee89e4eed7ed11cae9",
            "2e130ab82e1845ec8c4a9bc15044e8e5",
            "5bcf0c5e2ead4e729f23e39c82f5ed51",
            "0b873929353b46ec8d0a2a8246156887",
            "0dd2685b1dfb4d9f821aa627a735b124",
            "92ee8bcfdedf4b54b2043136255ee3e1",
            "a40252c7a7804854a72532400a6608de",
            "e145696381344313886120817a2bce7c",
            "44d6e29bd34843058399f8182a8afd1d",
            "78dd29df1b9b41638be3b62bf69d02c2",
            "130d96ecd336452faea5b9f6b4f6abfa",
            "2f784153a9584f84a7614e5fcd179a08",
            "ae2267330e6947b99b5d85cd471db32a",
            "db59f025a1e74f5ea2f6f56757e7df50",
            "96e36ff711a24b569edda9c0c950c458"
          ]
        },
        "id": "6UmB7loCE_nb",
        "outputId": "896a4d02-1aff-4634-c197-812feca1d2a2"
      },
      "outputs": [],
      "source": [
        "tokenizer = ElectraTokenizerFast.from_pretrained(\"kykim/electra-kor-base\")\n",
        "model = ElectraForSequenceClassification.from_pretrained(\"kykim/electra-kor-base\", num_labels = 1)"
      ]
    },
    {
      "cell_type": "markdown",
      "metadata": {},
      "source": [
        "## ASC"
      ]
    },
    {
      "cell_type": "code",
      "execution_count": null,
      "metadata": {
        "id": "1qJ8RUNMzB9L"
      },
      "outputs": [],
      "source": [
        "import torch.nn as nn\n",
        "from typing import List, Optional, Tuple, Union\n",
        "from transformers import ElectraModel\n",
        "from transformers.models.electra.modeling_electra import ElectraPreTrainedModel, ElectraClassificationHead, ElectraDiscriminatorPredictions\n",
        "\n",
        "class ElectraForCustom(ElectraPreTrainedModel):\n",
        "    def __init__(self, config):\n",
        "        super().__init__(config)\n",
        "\n",
        "        self.electra = ElectraModel(config)\n",
        "        self.classifier = ElectraClassificationHead(config)\n",
        "\n",
        "        config_category = deepcopy(config)\n",
        "        config_category.num_labels = 1\n",
        "        self.category_classifier = ElectraClassificationHead(config_category)\n",
        "\n",
        "        self.init_weights()\n",
        "\n",
        "    def forward(\n",
        "        self,\n",
        "        input_ids: Optional[torch.Tensor] = None,\n",
        "        attention_mask: Optional[torch.Tensor] = None,\n",
        "        token_type_ids: Optional[torch.Tensor] = None,\n",
        "        position_ids: Optional[torch.Tensor] = None,\n",
        "        head_mask: Optional[torch.Tensor] = None,\n",
        "        inputs_embeds: Optional[torch.Tensor] = None,\n",
        "        encoder_hidden_states: Optional[torch.Tensor] = None,\n",
        "        encoder_attention_mask: Optional[torch.Tensor] = None,\n",
        "        past_key_values: Optional[List[torch.FloatTensor]] = None,\n",
        "        use_cache: Optional[bool] = None,\n",
        "        output_attentions: Optional[bool] = None,\n",
        "        output_hidden_states: Optional[bool] = None,\n",
        "        return_dict: Optional[bool] = None,\n",
        "    ):\n",
        "        return_dict = return_dict if return_dict is not None else self.config.use_return_dict\n",
        "        \n",
        "        output = self.electra(input_ids, attention_mask, token_type_ids)\n",
        "        cls = self.classifier(output[0])\n",
        "        rtd = self.category_classifier(output[0])\n",
        "\n",
        "        return cls, rtd"
      ]
    },
    {
      "cell_type": "code",
      "execution_count": null,
      "metadata": {
        "colab": {
          "base_uri": "https://localhost:8080/"
        },
        "id": "5Cb3bBAH2qoo",
        "outputId": "95f77146-66ca-4a29-85a4-437568dd1d22"
      },
      "outputs": [],
      "source": [
        "tokenizer = ElectraTokenizerFast.from_pretrained(\"kykim/electra-kor-base\")\n",
        "model_asc_encoder = ElectraForCustom.from_pretrained(\"kykim/electra-kor-base\", num_labels = 1)\n",
        "model_asc = ElectraForCustom.from_pretrained(\"kykim/electra-kor-base\", num_labels = len(polarity_id_to_name))"
      ]
    },
    {
      "cell_type": "markdown",
      "metadata": {
        "id": "tJn5D-xo-vHW"
      },
      "source": [
        "# Data loader"
      ]
    },
    {
      "cell_type": "markdown",
      "metadata": {
        "id": "Ezg8ukhWJy6-"
      },
      "source": [
        "## ACD"
      ]
    },
    {
      "cell_type": "code",
      "execution_count": null,
      "metadata": {
        "id": "9pm9qoMmE1xT"
      },
      "outputs": [],
      "source": [
        "def get_devset(batch, train, max_len = 512):\n",
        "    train_docs = [t['sentence_form'] for t in train]\n",
        "    docs = [train_docs[b] for b in batch]\n",
        "    train_batch = [train[b] for b in batch]\n",
        "\n",
        "    result = []\n",
        "    labels = []\n",
        "    \n",
        "    for idx, t in enumerate(train_batch):\n",
        "        lab = torch.zeros(max_len, dtype=torch.long)\n",
        "        cat_ids = [0] * len(entity_name_to_id)\n",
        "        for a in t['annotation']:\n",
        "            cat_ids[entity_name_to_id[a[0]]] = 1\n",
        "        \n",
        "        sents = [t['sentence_form']] * len(entity_name_to_id)\n",
        "        cats = list(entity_name_to_id.keys())\n",
        "        tokenized = tokenizer(sents, cats, padding='max_length', truncation=True, max_length=max_len)\n",
        "        tokenized = [v for k, v in tokenized.items()]\n",
        "        result.append(tokenized)\n",
        "        labels.append(cat_ids)\n",
        "\n",
        "    result = torch.tensor(result, dtype=torch.long).transpose(1,2)\n",
        "    labels = torch.tensor(labels, dtype=torch.long)\n",
        "    print(result.shape, labels.shape)\n",
        "    return result, labels\n"
      ]
    },
    {
      "cell_type": "code",
      "execution_count": null,
      "metadata": {
        "colab": {
          "base_uri": "https://localhost:8080/"
        },
        "id": "F93EBvpia1rc",
        "outputId": "438b430d-93a7-4d58-df06-93e25c45270f"
      },
      "outputs": [
        {
          "name": "stdout",
          "output_type": "stream",
          "text": [
            "torch.Size([3001, 25, 3, 512]) torch.Size([3001, 25])\n",
            "torch.Size([2794, 25, 3, 512]) torch.Size([2794, 25])\n"
          ]
        }
      ],
      "source": [
        "train_range = torch.arange(len(train))\n",
        "train_ds = TensorDataset(*get_devset(train_range, train))\n",
        "train_loader = DataLoader(train_ds, sampler=RandomSampler(train_ds), batch_size=batch_size)\n",
        "\n",
        "dev_range = torch.arange(len(val))\n",
        "dev_ds = TensorDataset(*get_devset(dev_range, val))\n",
        "dev_loader = DataLoader(dev_ds, sampler=SequentialSampler(dev_ds), batch_size=batch_size)"
      ]
    },
    {
      "cell_type": "code",
      "execution_count": null,
      "metadata": {
        "colab": {
          "base_uri": "https://localhost:8080/"
        },
        "id": "P30Y_z5pJ4sV",
        "outputId": "e74096f0-5bf9-45ee-867e-5497f6a6b220"
      },
      "outputs": [
        {
          "name": "stdout",
          "output_type": "stream",
          "text": [
            "torch.Size([2127, 25, 3, 512]) torch.Size([2127, 25])\n"
          ]
        }
      ],
      "source": [
        "# for testset\n",
        "\n",
        "test_range = torch.arange(len(test))\n",
        "test_ds = TensorDataset(*get_devset(test_range, test))\n",
        "test_loader = DataLoader(test_ds, sampler=SequentialSampler(test_ds), batch_size=16)"
      ]
    },
    {
      "cell_type": "markdown",
      "metadata": {
        "id": "zRXDhysc-zGG"
      },
      "source": [
        "# Optimizer"
      ]
    },
    {
      "cell_type": "markdown",
      "metadata": {
        "id": "0jBoP_o19r_v"
      },
      "source": [
        "## ACD"
      ]
    },
    {
      "cell_type": "code",
      "execution_count": null,
      "metadata": {
        "id": "RDu4pafxMPFc"
      },
      "outputs": [],
      "source": [
        "warmup_steps = 200\n",
        "learning_rate = 5e-5\n",
        "epochs = 20"
      ]
    },
    {
      "cell_type": "code",
      "execution_count": null,
      "metadata": {
        "id": "LdqA4w8lF4hE"
      },
      "outputs": [],
      "source": [
        "num_data = len(train)\n",
        "num_training_steps = int(num_data / (batch_size*gradient_accumulation_steps) ) * epochs\n",
        "\n",
        "no_decay = [\"bias\", \"LayerNorm.weight\"]\n",
        "optimizer_grouped_parameters = [\n",
        "    {\n",
        "        \"params\": [p for n, p in model.named_parameters() if not any(nd in n for nd in no_decay)],\n",
        "        \"weight_decay\": 0.01,\n",
        "    },\n",
        "    {\n",
        "        \"params\": [p for n, p in model.named_parameters() if any(nd in n for nd in no_decay)],\n",
        "        \"weight_decay\": 0.0,\n",
        "    },\n",
        "]\n",
        "\n",
        "# optimizer = AdamW(\n",
        "#     optimizer_grouped_parameters,\n",
        "#     lr=learning_rate,\n",
        "# )\n",
        "\n",
        "import torch_optimizer as optim\n",
        "optimizer = optim.Lamb(optimizer_grouped_parameters, lr=learning_rate, )\n",
        "\n",
        "lr_scheduler = get_linear_schedule_with_warmup(\n",
        "    optimizer, num_warmup_steps=warmup_steps, num_training_steps=num_training_steps\n",
        ")"
      ]
    },
    {
      "cell_type": "markdown",
      "metadata": {
        "id": "0hUVrBGN-0it"
      },
      "source": [
        "# Train"
      ]
    },
    {
      "cell_type": "markdown",
      "metadata": {
        "id": "3a-aFYL--9pd"
      },
      "source": [
        "## set"
      ]
    },
    {
      "cell_type": "code",
      "execution_count": null,
      "metadata": {
        "colab": {
          "base_uri": "https://localhost:8080/"
        },
        "id": "r_3H6bNfF-jj",
        "outputId": "7591cbf4-08bb-494f-bf96-4cae9275de5d"
      },
      "outputs": [
        {
          "name": "stdout",
          "output_type": "stream",
          "text": [
            "20221107\n"
          ]
        }
      ],
      "source": [
        "from datetime import date\n",
        "today = str(date.today()).replace('-','')\n",
        "print(today)"
      ]
    },
    {
      "cell_type": "markdown",
      "metadata": {
        "id": "kkMR76m54JwM"
      },
      "source": [
        "## ACD"
      ]
    },
    {
      "cell_type": "code",
      "execution_count": null,
      "metadata": {
        "colab": {
          "background_save": true,
          "base_uri": "https://localhost:8080/"
        },
        "id": "ZR6JvrTvHPfR",
        "outputId": "28284756-d3af-4f00-cd95-8fb21e046f3d"
      },
      "outputs": [],
      "source": [
        "num_train_epochs = epochs\n",
        "\n",
        "logit_threshold = 3.0\n",
        "topk = 1\n",
        "\n",
        "best_score = 0\n",
        "global_step = 0\n",
        "total_loss = 0\n",
        "f1s = []\n",
        "\n",
        "print(today)\n",
        "print(acd_save_path, logit_threshold, topk, num_train_epochs, batch_size, best_score, sep = ', ')\n",
        "print()\n",
        "\n",
        "for ep in range(int(num_train_epochs)):\n",
        "    model.train()\n",
        "    pbar = tqdm(train_loader)\n",
        "    for step, batch in enumerate(pbar):\n",
        "        inputs, labels = [b.to(device) for b in batch]\n",
        "        \n",
        "        inputs = inputs.reshape(-1, 3, 512)\n",
        "        input_ids, input_segment, input_masks = inputs[:,0], inputs[:,1], inputs[:,2]\n",
        "        len_max = max(input_masks.sum(-1))\n",
        "        input_ids, input_masks, segment_ids = input_ids[:,:len_max], input_masks[:,:len_max], input_segment[:,:len_max]\n",
        "\n",
        "        outputs = model(input_ids, input_masks, segment_ids)\n",
        "\n",
        "        # cls: bs * num lab * len\n",
        "        cls_logit = outputs['logits'].reshape(-1, len(entity_name_to_id))\n",
        "\n",
        "        loss_fct = torch.nn.CrossEntropyLoss()\n",
        "        lab = labels.float() / labels.sum(1, keepdim = True)\n",
        "        loss = loss_fct(cls_logit, lab)\n",
        "\n",
        "        if gradient_accumulation_steps > 1:\n",
        "            loss = loss / gradient_accumulation_steps\n",
        "        total_loss += loss.item()\n",
        "\n",
        "        loss.backward()\n",
        "        pbar.update(1)\n",
        "\n",
        "        lr = optimizer.param_groups[0]['lr']\n",
        "\n",
        "        if (step + 1) % 10 == 0:\n",
        "            #pbar.set_description(desc=f'loss:{np.mean(total_loss)}')\n",
        "            pbar.set_description(desc='  loss : {}, lr : {}'.format(total_loss/10, round(lr, 6)))\n",
        "            total_loss = 0\n",
        "        if (step + 1) % gradient_accumulation_steps == 0:\n",
        "            optimizer.step()\n",
        "            lr_scheduler.step()\n",
        "            optimizer.zero_grad()\n",
        "            global_step += 1\n",
        "\n",
        "    # gamma *= 0.7\n",
        "    time.sleep(0.1)\n",
        "\n",
        "    model.eval()\n",
        "    dev_pred = np.array([], dtype = np.float32).reshape(-1, len(entity_name_to_id))\n",
        "    dev_true = np.array([], dtype = np.int32).reshape(-1, len(entity_name_to_id))\n",
        "    dev_losses = []\n",
        "    # dev_step = 0\n",
        "    for batch in dev_loader:\n",
        "        inputs, labels = [b.to(device) for b in batch]\n",
        "        \n",
        "        inputs = inputs.reshape(-1, 3, 512)\n",
        "        input_ids, input_segment, input_masks = inputs[:,0], inputs[:,1], inputs[:,2]\n",
        "        len_max = max(input_masks.sum(-1))\n",
        "        input_ids, input_masks, segment_ids = input_ids[:,:len_max], input_masks[:,:len_max], input_segment[:,:len_max]\n",
        "\n",
        "        with torch.no_grad():\n",
        "            outputs = model(input_ids, input_masks, segment_ids)\n",
        "            # b * num cats\n",
        "            cls_logit = outputs['logits'].reshape(-1, len(entity_name_to_id))\n",
        "            lab = labels.float() / labels.sum(1, keepdim = True)\n",
        "            dev_losses.append(torch.nn.CrossEntropyLoss()(cls_logit, lab).item())\n",
        "            \n",
        "        true = labels.detach().cpu().numpy()\n",
        "               \n",
        "        pred = (cls_logit > logit_threshold).int().detach().cpu().numpy()\n",
        "        if np.where(pred.sum(-1) == 0)[0].size == 0:\n",
        "            pass\n",
        "        else:\n",
        "            replaced_ind = np.where(pred.sum(-1) == 0)[0]\n",
        "            replace = F.one_hot( torch.topk(cls_logit, topk, -1)[1], len(entity_name_to_id) ).sum(1).detach().cpu().numpy()\n",
        "            pred[replaced_ind] = replace[replaced_ind]\n",
        "        # pred = F.one_hot( torch.topk(cls_logit, 2, -1)[1], len(entity_name_to_id)//2 ).sum(1).detach().cpu().numpy()\n",
        "        # pred = (F.one_hot(outputs['logits'].argmax(2), len(entity_name_to_id)+1).sum(1)).detach().cpu()\n",
        "        # pred = (pred[:, 1::2] + pred[:, 2::2] > 0).int().numpy()\n",
        "\n",
        "        dev_pred = np.vstack((dev_pred, pred))\n",
        "        dev_true = np.vstack((dev_true, true))\n",
        "            \n",
        "    # score\n",
        "    score = evaluation_f1(val, convert(dev_pred.astype(int), val))['category extraction result']['F1']\n",
        "    f1 = f1_score(dev_true.astype(int), dev_pred.astype(int), average = 'micro')\n",
        "    f1s.append(f1)\n",
        "    print('epoch : {}, dev score : {}, loss : {}'.format(ep, score, np.mean(dev_losses)), end = '\\t')\n",
        "  \n",
        "    if score > best_score:\n",
        "        print('-----------best----------')\n",
        "        best_score = score\n",
        "        torch.save(model.state_dict(), acd_save_path)\n",
        "    else:\n",
        "        print()\n",
        "    time.sleep(0.1)"
      ]
    },
    {
      "cell_type": "markdown",
      "metadata": {
        "id": "fCUoiz4R4PQi"
      },
      "source": [
        "## ASC"
      ]
    },
    {
      "cell_type": "markdown",
      "metadata": {},
      "source": [
        "### train encoder with train set and NSMC"
      ]
    },
    {
      "cell_type": "markdown",
      "metadata": {},
      "source": [
        "#### data loader"
      ]
    },
    {
      "cell_type": "code",
      "execution_count": null,
      "metadata": {},
      "outputs": [],
      "source": [
        "def get_devset(batch, train, max_len = 512):\n",
        "    train_docs = [t['sentence_form'] for t in train]\n",
        "    docs = [train_docs[b] for b in batch]\n",
        "    train_batch = [train[b] for b in batch]\n",
        "\n",
        "    result = []\n",
        "    labels = []\n",
        "    \n",
        "    for idx, t in enumerate(train_batch):\n",
        "        lab = torch.zeros(max_len, dtype=torch.long)\n",
        "        cat_ids = [0] * len(entity_name_to_id)\n",
        "        for a in t['annotation']:\n",
        "            cat_ids[entity_name_to_id[a[0]]] = 1\n",
        "        \n",
        "        sents = [t['sentence_form']] * len(entity_name_to_id)\n",
        "        cats = list(entity_name_to_id.keys())\n",
        "        tokenized = tokenizer(sents, cats, padding='max_length', truncation=True, max_length=max_len)\n",
        "        tokenized = [v for k, v in tokenized.items()]\n",
        "        result.append(tokenized)\n",
        "        labels.append(cat_ids)\n",
        "\n",
        "    result = torch.tensor(result, dtype=torch.long).transpose(1,2)\n",
        "    labels = torch.tensor(labels, dtype=torch.long)\n",
        "    print(result.shape, labels.shape)\n",
        "    return result, labels\n",
        "\n",
        "def get_devset_sa(batch, train: tuple, max_len = 512):\n",
        "    x, y = train\n",
        "    batch_x = [x[b] for b in batch]\n",
        "    batch_y = [y[b] for b in batch]\n",
        "\n",
        "    tokenized = tokenizer(batch_x, padding='max_length', truncation=True, max_length=max_len)\n",
        "    tokenized = [v for k, v in tokenized.items()]\n",
        "\n",
        "    result = torch.tensor(tokenized, dtype=torch.long).transpose(0,1)\n",
        "    labels = torch.tensor(batch_y, dtype=torch.long)\n",
        "    \n",
        "    print(result.shape, labels.shape)\n",
        "    return result, labels\n"
      ]
    },
    {
      "cell_type": "code",
      "execution_count": null,
      "metadata": {
        "id": "PgdWRSIgIA4j"
      },
      "outputs": [],
      "source": [
        "batch_size = 2\n",
        "gradient_accumulation_steps = 4"
      ]
    },
    {
      "cell_type": "code",
      "execution_count": null,
      "metadata": {
        "colab": {
          "base_uri": "https://localhost:8080/"
        },
        "id": "F93EBvpia1rc",
        "outputId": "ef5a791c-8897-465f-ccc1-cbcc3bbfc84c"
      },
      "outputs": [],
      "source": [
        "# for electra model\n",
        "\n",
        "train_range = torch.arange(len(train))\n",
        "train_ds = TensorDataset(*get_devset(train_range, train))\n",
        "train_loader = DataLoader(train_ds, sampler=RandomSampler(train_ds), batch_size=batch_size)\n",
        "\n",
        "dev_range = torch.arange(len(val))\n",
        "dev_ds = TensorDataset(*get_devset(dev_range, val))\n",
        "dev_loader = DataLoader(dev_ds, sampler=SequentialSampler(dev_ds), batch_size=batch_size)"
      ]
    },
    {
      "cell_type": "markdown",
      "metadata": {},
      "source": [
        "#### optimizer"
      ]
    },
    {
      "cell_type": "code",
      "execution_count": null,
      "metadata": {
        "id": "RDu4pafxMPFc"
      },
      "outputs": [],
      "source": [
        "warmup_steps = 300\n",
        "learning_rate = 5e-5\n",
        "epochs = 20"
      ]
    },
    {
      "cell_type": "code",
      "execution_count": null,
      "metadata": {
        "id": "LdqA4w8lF4hE"
      },
      "outputs": [],
      "source": [
        "num_data = len(train)\n",
        "num_training_steps = int(num_data / (batch_size*gradient_accumulation_steps) ) * epochs\n",
        "\n",
        "no_decay = [\"bias\", \"LayerNorm.weight\"]\n",
        "optimizer_grouped_parameters = [\n",
        "    {\n",
        "        \"params\": [p for n, p in model_asc_encoder.named_parameters() if not any(nd in n for nd in no_decay)],\n",
        "        \"weight_decay\": 0.01,\n",
        "    },\n",
        "    {\n",
        "        \"params\": [p for n, p in model_asc_encoder.named_parameters() if any(nd in n for nd in no_decay)],\n",
        "        \"weight_decay\": 0.0,\n",
        "    },\n",
        "]\n",
        "\n",
        "# optimizer = AdamW(\n",
        "#     optimizer_grouped_parameters,\n",
        "#     lr=learning_rate,\n",
        "# )\n",
        "\n",
        "import torch_optimizer as optim\n",
        "optimizer = optim.Lamb(optimizer_grouped_parameters, lr=learning_rate, )\n",
        "\n",
        "lr_scheduler = get_linear_schedule_with_warmup(\n",
        "    optimizer, num_warmup_steps=warmup_steps, num_training_steps=num_training_steps\n",
        ")"
      ]
    },
    {
      "cell_type": "markdown",
      "metadata": {},
      "source": [
        "#### execute"
      ]
    },
    {
      "cell_type": "code",
      "execution_count": null,
      "metadata": {
        "colab": {
          "base_uri": "https://localhost:8080/"
        },
        "id": "lqkudybqqmyz",
        "outputId": "8f1387d3-e019-4bbd-9fa8-035cc1d6f496"
      },
      "outputs": [
        {
          "name": "stdout",
          "output_type": "stream",
          "text": [
            "cuda:0\n"
          ]
        }
      ],
      "source": [
        "model_asc_encoder.to(device)\n",
        "print(model.device)"
      ]
    },
    {
      "cell_type": "code",
      "execution_count": null,
      "metadata": {
        "id": "VkhmlFQ6aAWS"
      },
      "outputs": [],
      "source": [
        "from itertools import cycle\n",
        "\n",
        "rng = np.random.default_rng(10)\n",
        "rtrain_perm = rng.permutation(len(rtrain_x))\n",
        "rtrain_perm = np.tile(rtrain_perm, 3)\n",
        "\n",
        "asc_encoder_path = './model/electra_asc_encoder.bin'"
      ]
    },
    {
      "cell_type": "code",
      "execution_count": null,
      "metadata": {
        "colab": {
          "base_uri": "https://localhost:8080/"
        },
        "id": "6AmlcAZccnC2",
        "outputId": "1feddb9e-4ca3-41dd-ce16-e8cef2316bba"
      },
      "outputs": [
        {
          "name": "stdout",
          "output_type": "stream",
          "text": [
            "torch.Size([50000, 3, 512]) torch.Size([50000])\n"
          ]
        }
      ],
      "source": [
        "dev_range = torch.arange(len(rtest_x))\n",
        "dev_ds = TensorDataset(*get_devset_sa(dev_range, (rtest_x, rtest_y)) )\n",
        "dev_loader = DataLoader(dev_ds, sampler=SequentialSampler(dev_ds), batch_size = 16 )"
      ]
    },
    {
      "cell_type": "code",
      "execution_count": null,
      "metadata": {
        "colab": {
          "background_save": true,
          "base_uri": "https://localhost:8080/"
        },
        "id": "ZR6JvrTvHPfR",
        "outputId": "5cfac357-0241-417c-901c-8130dd2b866a"
      },
      "outputs": [],
      "source": [
        "num_train_epochs = epochs\n",
        "\n",
        "# logit_threshold = .2\n",
        "# topk = 1\n",
        "\n",
        "best_score = 0\n",
        "global_step = 0\n",
        "total_loss = 0\n",
        "gamma = 1\n",
        "\n",
        "print(today)\n",
        "print(asc_encoder_path, num_train_epochs, batch_size, best_score, sep = ', ')\n",
        "print()\n",
        "\n",
        "for ep in range(int(num_train_epochs)):\n",
        "    model_asc_encoder.train()\n",
        "\n",
        "    alpha = 4\n",
        "    windows = train_ds.tensors[0].shape[0] * alpha\n",
        "    train_range_sa = torch.LongTensor(rtrain_perm)[ep * windows: (ep+1) * windows ]\n",
        "    train_ds_sa = TensorDataset(*get_devset_sa(train_range_sa, (rtrain_x, rtrain_y)) )\n",
        "    train_loader_sa = DataLoader(train_ds_sa, sampler=RandomSampler(train_ds_sa), batch_size=batch_size  * alpha )\n",
        "\n",
        "    pbar = tqdm(zip(cycle(train_loader), train_loader_sa), total = int(train_ds.tensors[0].shape[0] / train_loader.batch_size) +1  )\n",
        "\n",
        "    for step, (batch, batch_sa) in enumerate(pbar):\n",
        "        inputs, labels = [b.to(device) for b in batch]\n",
        "        \n",
        "        inputs = inputs.reshape(-1, 3, 512)\n",
        "        input_ids, input_segment, input_masks = inputs[:,0], inputs[:,1], inputs[:,2]\n",
        "        len_max = max(input_masks.sum(-1))\n",
        "        input_ids, input_masks, segment_ids = input_ids[:,:len_max], input_masks[:,:len_max], input_segment[:,:len_max]\n",
        "\n",
        "        _, outputs = model_asc_encoder(input_ids, input_masks, segment_ids)\n",
        "\n",
        "        # cls: bs * num lab * len\n",
        "        cls_logit = outputs.reshape(-1, len(entity_name_to_id))\n",
        "\n",
        "        loss_fct = torch.nn.CrossEntropyLoss()\n",
        "        lab = labels.float() / labels.sum(1, keepdim = True)\n",
        "        loss_cat = loss_fct(cls_logit, lab)\n",
        "\n",
        "        ######\n",
        "        inputs, labels = [b.to(device) for b in batch_sa]\n",
        "        \n",
        "        input_ids, input_segment, input_masks = inputs[:,0], inputs[:,1], inputs[:,2]\n",
        "        len_max = max(input_masks.sum(-1))\n",
        "        input_ids, input_masks, segment_ids = input_ids[:,:len_max], input_masks[:,:len_max], input_segment[:,:len_max]\n",
        "\n",
        "        outputs_sa, _ = model_asc_encoder(input_ids, input_masks, segment_ids)\n",
        "        loss_bce = torch.nn.BCEWithLogitsLoss()\n",
        "        loss_sa = loss_bce(outputs_sa.flatten(), labels.float())\n",
        "        loss = loss_sa + loss_cat * gamma\n",
        "\n",
        "        if gradient_accumulation_steps > 1:\n",
        "            loss = loss / gradient_accumulation_steps\n",
        "        total_loss += loss.item()\n",
        "\n",
        "        loss.backward()\n",
        "        # pbar.update(1)\n",
        "\n",
        "        lr = optimizer.param_groups[0]['lr']\n",
        "\n",
        "        if (step + 1) % 10 == 0:\n",
        "            #pbar.set_description(desc=f'loss:{np.mean(total_loss)}')\n",
        "            pbar.set_description(desc='  loss : {}, lr : {}'.format(total_loss/10, round(lr, 6)))\n",
        "            total_loss = 0\n",
        "        if (step + 1) % gradient_accumulation_steps == 0:\n",
        "            optimizer.step()\n",
        "            lr_scheduler.step()\n",
        "            optimizer.zero_grad()\n",
        "            global_step += 1\n",
        "\n",
        "    gamma *= 0.9\n",
        "    time.sleep(0.1)\n",
        "\n",
        "    model_asc_encoder.eval()\n",
        "    dev_true = []\n",
        "    dev_pred = []\n",
        "    dev_losses = []\n",
        "    # dev_step = 0\n",
        "    for batch in tqdm(dev_loader, total = int(dev_ds.tensors[0].shape[0] / dev_loader.batch_size) + 1 ):\n",
        "        inputs, labels = [b.to(device) for b in batch]\n",
        "        \n",
        "        input_ids, input_segment, input_masks = inputs[:,0], inputs[:,1], inputs[:,2]\n",
        "        len_max = max(input_masks.sum(-1))\n",
        "        input_ids, input_masks, segment_ids = input_ids[:,:len_max], input_masks[:,:len_max], input_segment[:,:len_max]\n",
        "\n",
        "        with torch.no_grad():\n",
        "            outputs_sa, _ = model_asc_encoder(input_ids, input_masks, segment_ids)\n",
        "            # b * num cats\n",
        "            loss_bce = torch.nn.BCEWithLogitsLoss()\n",
        "            loss_sa = loss_bce(outputs_sa.flatten(), labels.float())\n",
        "            dev_losses.append(loss_sa.item())\n",
        "            \n",
        "        true = labels.detach().cpu().numpy().tolist()\n",
        "        pred = (outputs_sa.flatten() > 0.).int().detach().cpu().numpy().tolist()\n",
        "\n",
        "        dev_true += true\n",
        "        dev_pred += pred\n",
        "            \n",
        "    # score\n",
        "    score = accuracy_score(true, pred)\n",
        "    # score = evaluation_f1(val, convert(dev_pred.astype(int), val))['category extraction result']['F1']\n",
        "    # f1 = f1_score(dev_true.astype(int), dev_pred.astype(int), average = 'micro')\n",
        "    # f1s.append(f1)\n",
        "    print('epoch : {}, dev score : {}, loss : {}'.format(ep, score, np.mean(dev_losses)), end = '\\t')\n",
        "  \n",
        "    if score > best_score:\n",
        "        print('-----------best----------')\n",
        "        best_score = score\n",
        "        torch.save(model_asc_encoder.state_dict(), asc_encoder_path)\n",
        "    else:\n",
        "        print()\n",
        "    time.sleep(0.1)"
      ]
    },
    {
      "cell_type": "markdown",
      "metadata": {
        "id": "EbdN3R4b4RD5"
      },
      "source": [
        "### train classifier"
      ]
    },
    {
      "cell_type": "markdown",
      "metadata": {},
      "source": [
        "#### data loader"
      ]
    },
    {
      "cell_type": "code",
      "execution_count": null,
      "metadata": {
        "id": "fZFUnc5K2_mV"
      },
      "outputs": [],
      "source": [
        "def get_trainset(batch, train, max_len = 512):\n",
        "    train_docs = [t['sentence_form'] for t in train]\n",
        "    docs = [train_docs[b] for b in batch]\n",
        "    train_batch = [train[b] for b in batch]\n",
        "\n",
        "    result = torch.LongTensor([]).reshape(-1, 3, max_len)\n",
        "    labels = []\n",
        "    \n",
        "    for idx, t in enumerate(train_batch):\n",
        "        polar = []\n",
        "        entity = []\n",
        "        for a in t['annotation']:\n",
        "            entity.append(a[0])\n",
        "            polar.append(a[2])\n",
        "        \n",
        "        sents = [t['sentence_form']] * len(entity)\n",
        "        tokenized = tokenizer(sents, entity, padding='max_length', truncation=True, max_length=max_len)\n",
        "        tokenized = torch.LongTensor([v for k, v in tokenized.items()]).transpose(0, 1 )\n",
        "        result = torch.vstack((result, tokenized))\n",
        "        labels += [ polarity_name_to_id[p] for p in polar]\n",
        "\n",
        "    labels = torch.tensor(labels, dtype=torch.long)\n",
        "    print(result.shape, labels.shape)\n",
        "    return result, labels"
      ]
    },
    {
      "cell_type": "code",
      "execution_count": null,
      "metadata": {
        "id": "HraYlEjt3p_G"
      },
      "outputs": [],
      "source": [
        "# ASC\n",
        "\n",
        "batch_size = 16\n",
        "gradient_accumulation_steps = 1"
      ]
    },
    {
      "cell_type": "code",
      "execution_count": null,
      "metadata": {
        "colab": {
          "base_uri": "https://localhost:8080/"
        },
        "id": "t_rC7KIeFmYg",
        "outputId": "4991e6d0-029d-4099-e3d2-728f5ba81323"
      },
      "outputs": [],
      "source": [
        "train_range = torch.arange(len(train))\n",
        "train_ds = TensorDataset(*get_trainset(train_range, train))\n",
        "train_loader = DataLoader(train_ds, sampler=RandomSampler(train_ds), batch_size=batch_size)"
      ]
    },
    {
      "cell_type": "code",
      "execution_count": null,
      "metadata": {
        "id": "646avO_y99Gh"
      },
      "outputs": [],
      "source": [
        "# class_weights = {k: sum(polarity_counts.values()) /v for k, v in polarity_counts.items()}\n",
        "# weights = [ class_weights[polarity_id_to_name[t]] for t in train_ds.tensors[1] ]\n",
        "\n",
        "# train_loader = DataLoader(train_ds, sampler=WeightedRandomSampler(weights, len(weights), replacement=True), \n",
        "# batch_size=batch_size)"
      ]
    },
    {
      "cell_type": "code",
      "execution_count": null,
      "metadata": {
        "colab": {
          "base_uri": "https://localhost:8080/"
        },
        "id": "6NeRYYMrFmYg",
        "outputId": "ec81fc45-bee3-4c8e-fbd7-664998da07fa"
      },
      "outputs": [],
      "source": [
        "dev_range = torch.arange(len(val))\n",
        "dev_ds = TensorDataset(*get_trainset(dev_range, val))\n",
        "dev_loader = DataLoader(dev_ds, sampler=SequentialSampler(dev_ds), batch_size=batch_size)"
      ]
    },
    {
      "cell_type": "markdown",
      "metadata": {},
      "source": [
        "#### optimizer"
      ]
    },
    {
      "cell_type": "code",
      "execution_count": null,
      "metadata": {
        "id": "svOGf_G036w0"
      },
      "outputs": [],
      "source": [
        "warmup_steps = 200\n",
        "learning_rate = 5e-5\n",
        "epochs = 20"
      ]
    },
    {
      "cell_type": "code",
      "execution_count": null,
      "metadata": {
        "id": "yGWEE3MM329l"
      },
      "outputs": [],
      "source": [
        "num_data = len(train)\n",
        "num_training_steps = int(num_data / (batch_size*gradient_accumulation_steps) ) * epochs\n",
        "\n",
        "no_decay = [\"bias\", \"LayerNorm.weight\"]\n",
        "optimizer_grouped_parameters = [\n",
        "    {\n",
        "        \"params\": [p for n, p in model_asc.named_parameters() if not any(nd in n for nd in no_decay)],\n",
        "        \"weight_decay\": 0.01,\n",
        "    },\n",
        "    {\n",
        "        \"params\": [p for n, p in model_asc.named_parameters() if any(nd in n for nd in no_decay)],\n",
        "        \"weight_decay\": 0.0,\n",
        "    },\n",
        "]\n",
        "\n",
        "# optimizer = AdamW(\n",
        "#     optimizer_grouped_parameters,\n",
        "#     lr=learning_rate,\n",
        "# )\n",
        "\n",
        "import torch_optimizer as optim\n",
        "optimizer = optim.Lamb(optimizer_grouped_parameters, lr=learning_rate, )\n",
        "\n",
        "lr_scheduler = get_linear_schedule_with_warmup(\n",
        "    optimizer, num_warmup_steps=warmup_steps, num_training_steps=num_training_steps\n",
        ")"
      ]
    },
    {
      "cell_type": "markdown",
      "metadata": {},
      "source": [
        "#### execute"
      ]
    },
    {
      "cell_type": "code",
      "execution_count": null,
      "metadata": {},
      "outputs": [],
      "source": [
        "state_dict = model_asc.state_dict()\n",
        "state_dict_pretrained_encoder = torch.load(asc_encoder_path, map_location = 'cpu')\n",
        "for n,p in state_dict.items():\n",
        "    if 'electra' in n:\n",
        "        state_dict[n] = state_dict_pretrained_encoder[n]\n",
        "\n",
        "model_asc.load_state_dict(state_dict)"
      ]
    },
    {
      "cell_type": "code",
      "execution_count": null,
      "metadata": {
        "colab": {
          "base_uri": "https://localhost:8080/"
        },
        "id": "CLaD9psfAyLk",
        "outputId": "e084809a-74cc-4889-9288-1081e7d4d3da"
      },
      "outputs": [
        {
          "name": "stdout",
          "output_type": "stream",
          "text": [
            "cuda\n"
          ]
        }
      ],
      "source": [
        "model_asc.to(device)\n",
        "print(device)"
      ]
    },
    {
      "cell_type": "code",
      "execution_count": null,
      "metadata": {
        "colab": {
          "base_uri": "https://localhost:8080/"
        },
        "id": "ua81MFT_4QLl",
        "outputId": "02e80173-37b6-41ed-a65a-c164bd425f3b"
      },
      "outputs": [],
      "source": [
        "best_score = 0\n",
        "global_step = 0\n",
        "total_loss = 0\n",
        "\n",
        "for ep in range(int(num_train_epochs)):\n",
        "    model_asc.train()\n",
        "    pbar = tqdm(train_loader)\n",
        "    for step, batch in enumerate(pbar):\n",
        "        inputs, labels = [b.to(device) for b in batch]\n",
        "        \n",
        "        input_ids, input_segment, input_masks = inputs[:,0], inputs[:,1], inputs[:,2]\n",
        "        len_max = max(input_masks.sum(-1))\n",
        "        input_ids, input_masks, segment_ids = input_ids[:,:len_max], input_masks[:,:len_max], input_segment[:,:len_max]\n",
        "\n",
        "        outputs = model_asc(input_ids, input_masks, segment_ids)\n",
        "\n",
        "        cls_logit = outputs['logits']\n",
        "\n",
        "        loss_fct = torch.nn.CrossEntropyLoss()\n",
        "        loss = loss_fct(cls_logit, labels)\n",
        "\n",
        "        if gradient_accumulation_steps > 1:\n",
        "            loss = loss / gradient_accumulation_steps\n",
        "        total_loss += loss.item()\n",
        "\n",
        "        loss.backward()\n",
        "        pbar.update(1)\n",
        "\n",
        "        lr = optimizer.param_groups[0]['lr']\n",
        "\n",
        "        if (step + 1) % 10 == 0:\n",
        "            #pbar.set_description(desc=f'loss:{np.mean(total_loss)}')\n",
        "            pbar.set_description(desc='  loss : {}, lr : {}'.format(total_loss/10, round(lr, 6)))\n",
        "            total_loss = 0\n",
        "        if (step + 1) % gradient_accumulation_steps == 0:\n",
        "            optimizer.step()\n",
        "            lr_scheduler.step()\n",
        "            optimizer.zero_grad()\n",
        "            global_step += 1\n",
        "\n",
        "    # gamma *= 0.7\n",
        "    time.sleep(0.1)\n",
        "\n",
        "    model_asc.eval()\n",
        "    dev_pred = np.array([])\n",
        "    dev_true = np.array([])\n",
        "    dev_losses = []\n",
        "    # dev_step = 0\n",
        "    for batch in dev_loader:\n",
        "        inputs, labels = [b.to(device) for b in batch]\n",
        "        \n",
        "        input_ids, input_segment, input_masks = inputs[:,0], inputs[:,1], inputs[:,2]\n",
        "        len_max = max(input_masks.sum(-1))\n",
        "        input_ids, input_masks, segment_ids = input_ids[:,:len_max], input_masks[:,:len_max], input_segment[:,:len_max]\n",
        "\n",
        "        with torch.no_grad():\n",
        "            outputs = model_asc(input_ids, input_masks, segment_ids)\n",
        "            # b * num cats\n",
        "            cls_logit = outputs['logits']\n",
        "            dev_losses.append(torch.nn.CrossEntropyLoss()(cls_logit, labels).item())\n",
        "            \n",
        "            true = labels.unsqueeze(0).detach().cpu().numpy()\n",
        "               \n",
        "            pred = cls_logit.argmax(1).unsqueeze(0).detach().cpu().numpy()\n",
        "            # pred = F.one_hot( torch.topk(cls_logit, 2, -1)[1], len(entity_name_to_id)//2 ).sum(1).detach().cpu().numpy()\n",
        "            # pred = (F.one_hot(outputs['logits'].argmax(2), len(entity_name_to_id)+1).sum(1)).detach().cpu()\n",
        "            # pred = (pred[:, 1::2] + pred[:, 2::2] > 0).int().numpy()\n",
        "\n",
        "            dev_pred = np.append(dev_pred, pred)\n",
        "            dev_true = np.append(dev_true, true)\n",
        "            \n",
        "    # score\n",
        "    # score = evaluation_f1(val, convert(dev_pred.astype(int)))['category extraction result']['F1']\n",
        "    score = f1_score(dev_true.astype(int), dev_pred.astype(int), average = 'macro')\n",
        "    \n",
        "    print('epoch : {}, dev score : {}, loss : {}'.format(ep, score, np.mean(dev_losses)), end = '\\t')\n",
        "  \n",
        "    if score > best_score:\n",
        "        print('-----------best----------')\n",
        "        best_score = score\n",
        "        torch.save( model_asc.state_dict(), asc_save_path )\n",
        "    else:\n",
        "        print()\n",
        "    time.sleep(0.1)\n",
        "\n"
      ]
    },
    {
      "cell_type": "code",
      "execution_count": null,
      "metadata": {
        "id": "tLHCqTa0SBTZ"
      },
      "outputs": [],
      "source": []
    }
  ],
  "metadata": {
    "accelerator": "GPU",
    "colab": {
      "collapsed_sections": [
        "ofotWdW77t6V",
        "iskkDKrf4lSp",
        "YvCJyAoKCzbL",
        "Z6x1Plv6nlXD",
        "xPY0PD7p4ql-",
        "yRYuVrn_7lqX",
        "YnM7VcitNuJm",
        "3p9y6VVQNoQu",
        "p_3VG1CpNbuO",
        "YWE3qGMeNkJm",
        "h_D_9ROrJ0XE",
        "WdYXydFE9umI",
        "3a-aFYL--9pd",
        "nRZjE-vPZjkl",
        "X_geJWgPZIi-",
        "cRi-jfdAzHlG",
        "Mou4rtc645mk",
        "yBE2FGJO7vex",
        "ccMADBBmFDV4",
        "kk_7JQOvFMoo",
        "A1XGcpexb5Es",
        "oqOiNBn6akBQ",
        "EbdN3R4b4RD5"
      ],
      "provenance": [],
      "toc_visible": true
    },
    "gpuClass": "standard",
    "kernelspec": {
      "display_name": "Python 3.8.9 64-bit",
      "language": "python",
      "name": "python3"
    },
    "language_info": {
      "name": "python",
      "version": "3.8.9"
    },
    "vscode": {
      "interpreter": {
        "hash": "31f2aee4e71d21fbe5cf8b01ff0e069b9275f58929596ceb00d14d90e3e16cd6"
      }
    },
    "widgets": {
      "application/vnd.jupyter.widget-state+json": {
        "0b873929353b46ec8d0a2a8246156887": {
          "model_module": "@jupyter-widgets/controls",
          "model_module_version": "1.5.0",
          "model_name": "DescriptionStyleModel",
          "state": {
            "_model_module": "@jupyter-widgets/controls",
            "_model_module_version": "1.5.0",
            "_model_name": "DescriptionStyleModel",
            "_view_count": null,
            "_view_module": "@jupyter-widgets/base",
            "_view_module_version": "1.2.0",
            "_view_name": "StyleView",
            "description_width": ""
          }
        },
        "0dd2685b1dfb4d9f821aa627a735b124": {
          "model_module": "@jupyter-widgets/controls",
          "model_module_version": "1.5.0",
          "model_name": "HBoxModel",
          "state": {
            "_dom_classes": [],
            "_model_module": "@jupyter-widgets/controls",
            "_model_module_version": "1.5.0",
            "_model_name": "HBoxModel",
            "_view_count": null,
            "_view_module": "@jupyter-widgets/controls",
            "_view_module_version": "1.5.0",
            "_view_name": "HBoxView",
            "box_style": "",
            "children": [
              "IPY_MODEL_92ee8bcfdedf4b54b2043136255ee3e1",
              "IPY_MODEL_a40252c7a7804854a72532400a6608de",
              "IPY_MODEL_e145696381344313886120817a2bce7c"
            ],
            "layout": "IPY_MODEL_44d6e29bd34843058399f8182a8afd1d"
          }
        },
        "130d96ecd336452faea5b9f6b4f6abfa": {
          "model_module": "@jupyter-widgets/controls",
          "model_module_version": "1.5.0",
          "model_name": "DescriptionStyleModel",
          "state": {
            "_model_module": "@jupyter-widgets/controls",
            "_model_module_version": "1.5.0",
            "_model_name": "DescriptionStyleModel",
            "_view_count": null,
            "_view_module": "@jupyter-widgets/base",
            "_view_module_version": "1.2.0",
            "_view_name": "StyleView",
            "description_width": ""
          }
        },
        "16a03ad041914cc0b8b8de9a92df273e": {
          "model_module": "@jupyter-widgets/controls",
          "model_module_version": "1.5.0",
          "model_name": "HBoxModel",
          "state": {
            "_dom_classes": [],
            "_model_module": "@jupyter-widgets/controls",
            "_model_module_version": "1.5.0",
            "_model_name": "HBoxModel",
            "_view_count": null,
            "_view_module": "@jupyter-widgets/controls",
            "_view_module_version": "1.5.0",
            "_view_name": "HBoxView",
            "box_style": "",
            "children": [
              "IPY_MODEL_599505a471de4809897cdb125a7a0d32",
              "IPY_MODEL_3cccbf197b76481b9657dcd9a664bd37",
              "IPY_MODEL_817d7eaa5acb489b859a2163791e08e8"
            ],
            "layout": "IPY_MODEL_b1c68a6810bb421189579bf5d4b08c20"
          }
        },
        "211d58237d2841cf9b83162ec47720fe": {
          "model_module": "@jupyter-widgets/base",
          "model_module_version": "1.2.0",
          "model_name": "LayoutModel",
          "state": {
            "_model_module": "@jupyter-widgets/base",
            "_model_module_version": "1.2.0",
            "_model_name": "LayoutModel",
            "_view_count": null,
            "_view_module": "@jupyter-widgets/base",
            "_view_module_version": "1.2.0",
            "_view_name": "LayoutView",
            "align_content": null,
            "align_items": null,
            "align_self": null,
            "border": null,
            "bottom": null,
            "display": null,
            "flex": null,
            "flex_flow": null,
            "grid_area": null,
            "grid_auto_columns": null,
            "grid_auto_flow": null,
            "grid_auto_rows": null,
            "grid_column": null,
            "grid_gap": null,
            "grid_row": null,
            "grid_template_areas": null,
            "grid_template_columns": null,
            "grid_template_rows": null,
            "height": null,
            "justify_content": null,
            "justify_items": null,
            "left": null,
            "margin": null,
            "max_height": null,
            "max_width": null,
            "min_height": null,
            "min_width": null,
            "object_fit": null,
            "object_position": null,
            "order": null,
            "overflow": null,
            "overflow_x": null,
            "overflow_y": null,
            "padding": null,
            "right": null,
            "top": null,
            "visibility": null,
            "width": null
          }
        },
        "2bbb10333b6b42f1933ad8d678090edf": {
          "model_module": "@jupyter-widgets/controls",
          "model_module_version": "1.5.0",
          "model_name": "DescriptionStyleModel",
          "state": {
            "_model_module": "@jupyter-widgets/controls",
            "_model_module_version": "1.5.0",
            "_model_name": "DescriptionStyleModel",
            "_view_count": null,
            "_view_module": "@jupyter-widgets/base",
            "_view_module_version": "1.2.0",
            "_view_name": "StyleView",
            "description_width": ""
          }
        },
        "2e130ab82e1845ec8c4a9bc15044e8e5": {
          "model_module": "@jupyter-widgets/controls",
          "model_module_version": "1.5.0",
          "model_name": "ProgressStyleModel",
          "state": {
            "_model_module": "@jupyter-widgets/controls",
            "_model_module_version": "1.5.0",
            "_model_name": "ProgressStyleModel",
            "_view_count": null,
            "_view_module": "@jupyter-widgets/base",
            "_view_module_version": "1.2.0",
            "_view_name": "StyleView",
            "bar_color": null,
            "description_width": ""
          }
        },
        "2f784153a9584f84a7614e5fcd179a08": {
          "model_module": "@jupyter-widgets/base",
          "model_module_version": "1.2.0",
          "model_name": "LayoutModel",
          "state": {
            "_model_module": "@jupyter-widgets/base",
            "_model_module_version": "1.2.0",
            "_model_name": "LayoutModel",
            "_view_count": null,
            "_view_module": "@jupyter-widgets/base",
            "_view_module_version": "1.2.0",
            "_view_name": "LayoutView",
            "align_content": null,
            "align_items": null,
            "align_self": null,
            "border": null,
            "bottom": null,
            "display": null,
            "flex": null,
            "flex_flow": null,
            "grid_area": null,
            "grid_auto_columns": null,
            "grid_auto_flow": null,
            "grid_auto_rows": null,
            "grid_column": null,
            "grid_gap": null,
            "grid_row": null,
            "grid_template_areas": null,
            "grid_template_columns": null,
            "grid_template_rows": null,
            "height": null,
            "justify_content": null,
            "justify_items": null,
            "left": null,
            "margin": null,
            "max_height": null,
            "max_width": null,
            "min_height": null,
            "min_width": null,
            "object_fit": null,
            "object_position": null,
            "order": null,
            "overflow": null,
            "overflow_x": null,
            "overflow_y": null,
            "padding": null,
            "right": null,
            "top": null,
            "visibility": null,
            "width": null
          }
        },
        "321ca2d1e2654f5683bab3f7059aafcb": {
          "model_module": "@jupyter-widgets/base",
          "model_module_version": "1.2.0",
          "model_name": "LayoutModel",
          "state": {
            "_model_module": "@jupyter-widgets/base",
            "_model_module_version": "1.2.0",
            "_model_name": "LayoutModel",
            "_view_count": null,
            "_view_module": "@jupyter-widgets/base",
            "_view_module_version": "1.2.0",
            "_view_name": "LayoutView",
            "align_content": null,
            "align_items": null,
            "align_self": null,
            "border": null,
            "bottom": null,
            "display": null,
            "flex": null,
            "flex_flow": null,
            "grid_area": null,
            "grid_auto_columns": null,
            "grid_auto_flow": null,
            "grid_auto_rows": null,
            "grid_column": null,
            "grid_gap": null,
            "grid_row": null,
            "grid_template_areas": null,
            "grid_template_columns": null,
            "grid_template_rows": null,
            "height": null,
            "justify_content": null,
            "justify_items": null,
            "left": null,
            "margin": null,
            "max_height": null,
            "max_width": null,
            "min_height": null,
            "min_width": null,
            "object_fit": null,
            "object_position": null,
            "order": null,
            "overflow": null,
            "overflow_x": null,
            "overflow_y": null,
            "padding": null,
            "right": null,
            "top": null,
            "visibility": null,
            "width": null
          }
        },
        "36d377cabe3e43208bf4d5a7ef839f90": {
          "model_module": "@jupyter-widgets/controls",
          "model_module_version": "1.5.0",
          "model_name": "HTMLModel",
          "state": {
            "_dom_classes": [],
            "_model_module": "@jupyter-widgets/controls",
            "_model_module_version": "1.5.0",
            "_model_name": "HTMLModel",
            "_view_count": null,
            "_view_module": "@jupyter-widgets/controls",
            "_view_module_version": "1.5.0",
            "_view_name": "HTMLView",
            "description": "",
            "description_tooltip": null,
            "layout": "IPY_MODEL_96eb805649ad4ff8a6e59f01284f23b9",
            "placeholder": "​",
            "style": "IPY_MODEL_f1dc2b85025c48ecb7d105be227e006a",
            "value": "Downloading: 100%"
          }
        },
        "37d7cb80cf7c45c282e172275e637b3b": {
          "model_module": "@jupyter-widgets/base",
          "model_module_version": "1.2.0",
          "model_name": "LayoutModel",
          "state": {
            "_model_module": "@jupyter-widgets/base",
            "_model_module_version": "1.2.0",
            "_model_name": "LayoutModel",
            "_view_count": null,
            "_view_module": "@jupyter-widgets/base",
            "_view_module_version": "1.2.0",
            "_view_name": "LayoutView",
            "align_content": null,
            "align_items": null,
            "align_self": null,
            "border": null,
            "bottom": null,
            "display": null,
            "flex": null,
            "flex_flow": null,
            "grid_area": null,
            "grid_auto_columns": null,
            "grid_auto_flow": null,
            "grid_auto_rows": null,
            "grid_column": null,
            "grid_gap": null,
            "grid_row": null,
            "grid_template_areas": null,
            "grid_template_columns": null,
            "grid_template_rows": null,
            "height": null,
            "justify_content": null,
            "justify_items": null,
            "left": null,
            "margin": null,
            "max_height": null,
            "max_width": null,
            "min_height": null,
            "min_width": null,
            "object_fit": null,
            "object_position": null,
            "order": null,
            "overflow": null,
            "overflow_x": null,
            "overflow_y": null,
            "padding": null,
            "right": null,
            "top": null,
            "visibility": null,
            "width": null
          }
        },
        "3cccbf197b76481b9657dcd9a664bd37": {
          "model_module": "@jupyter-widgets/controls",
          "model_module_version": "1.5.0",
          "model_name": "FloatProgressModel",
          "state": {
            "_dom_classes": [],
            "_model_module": "@jupyter-widgets/controls",
            "_model_module_version": "1.5.0",
            "_model_name": "FloatProgressModel",
            "_view_count": null,
            "_view_module": "@jupyter-widgets/controls",
            "_view_module_version": "1.5.0",
            "_view_name": "ProgressView",
            "bar_style": "success",
            "description": "",
            "description_tooltip": null,
            "layout": "IPY_MODEL_ecfd286c7d634bee89e4eed7ed11cae9",
            "max": 620,
            "min": 0,
            "orientation": "horizontal",
            "style": "IPY_MODEL_2e130ab82e1845ec8c4a9bc15044e8e5",
            "value": 620
          }
        },
        "44d6e29bd34843058399f8182a8afd1d": {
          "model_module": "@jupyter-widgets/base",
          "model_module_version": "1.2.0",
          "model_name": "LayoutModel",
          "state": {
            "_model_module": "@jupyter-widgets/base",
            "_model_module_version": "1.2.0",
            "_model_name": "LayoutModel",
            "_view_count": null,
            "_view_module": "@jupyter-widgets/base",
            "_view_module_version": "1.2.0",
            "_view_name": "LayoutView",
            "align_content": null,
            "align_items": null,
            "align_self": null,
            "border": null,
            "bottom": null,
            "display": null,
            "flex": null,
            "flex_flow": null,
            "grid_area": null,
            "grid_auto_columns": null,
            "grid_auto_flow": null,
            "grid_auto_rows": null,
            "grid_column": null,
            "grid_gap": null,
            "grid_row": null,
            "grid_template_areas": null,
            "grid_template_columns": null,
            "grid_template_rows": null,
            "height": null,
            "justify_content": null,
            "justify_items": null,
            "left": null,
            "margin": null,
            "max_height": null,
            "max_width": null,
            "min_height": null,
            "min_width": null,
            "object_fit": null,
            "object_position": null,
            "order": null,
            "overflow": null,
            "overflow_x": null,
            "overflow_y": null,
            "padding": null,
            "right": null,
            "top": null,
            "visibility": null,
            "width": null
          }
        },
        "49b607ed104b450d95cad8610682b0a0": {
          "model_module": "@jupyter-widgets/base",
          "model_module_version": "1.2.0",
          "model_name": "LayoutModel",
          "state": {
            "_model_module": "@jupyter-widgets/base",
            "_model_module_version": "1.2.0",
            "_model_name": "LayoutModel",
            "_view_count": null,
            "_view_module": "@jupyter-widgets/base",
            "_view_module_version": "1.2.0",
            "_view_name": "LayoutView",
            "align_content": null,
            "align_items": null,
            "align_self": null,
            "border": null,
            "bottom": null,
            "display": null,
            "flex": null,
            "flex_flow": null,
            "grid_area": null,
            "grid_auto_columns": null,
            "grid_auto_flow": null,
            "grid_auto_rows": null,
            "grid_column": null,
            "grid_gap": null,
            "grid_row": null,
            "grid_template_areas": null,
            "grid_template_columns": null,
            "grid_template_rows": null,
            "height": null,
            "justify_content": null,
            "justify_items": null,
            "left": null,
            "margin": null,
            "max_height": null,
            "max_width": null,
            "min_height": null,
            "min_width": null,
            "object_fit": null,
            "object_position": null,
            "order": null,
            "overflow": null,
            "overflow_x": null,
            "overflow_y": null,
            "padding": null,
            "right": null,
            "top": null,
            "visibility": null,
            "width": null
          }
        },
        "50504acc7b49475e8996d7ce1826b79b": {
          "model_module": "@jupyter-widgets/base",
          "model_module_version": "1.2.0",
          "model_name": "LayoutModel",
          "state": {
            "_model_module": "@jupyter-widgets/base",
            "_model_module_version": "1.2.0",
            "_model_name": "LayoutModel",
            "_view_count": null,
            "_view_module": "@jupyter-widgets/base",
            "_view_module_version": "1.2.0",
            "_view_name": "LayoutView",
            "align_content": null,
            "align_items": null,
            "align_self": null,
            "border": null,
            "bottom": null,
            "display": null,
            "flex": null,
            "flex_flow": null,
            "grid_area": null,
            "grid_auto_columns": null,
            "grid_auto_flow": null,
            "grid_auto_rows": null,
            "grid_column": null,
            "grid_gap": null,
            "grid_row": null,
            "grid_template_areas": null,
            "grid_template_columns": null,
            "grid_template_rows": null,
            "height": null,
            "justify_content": null,
            "justify_items": null,
            "left": null,
            "margin": null,
            "max_height": null,
            "max_width": null,
            "min_height": null,
            "min_width": null,
            "object_fit": null,
            "object_position": null,
            "order": null,
            "overflow": null,
            "overflow_x": null,
            "overflow_y": null,
            "padding": null,
            "right": null,
            "top": null,
            "visibility": null,
            "width": null
          }
        },
        "599505a471de4809897cdb125a7a0d32": {
          "model_module": "@jupyter-widgets/controls",
          "model_module_version": "1.5.0",
          "model_name": "HTMLModel",
          "state": {
            "_dom_classes": [],
            "_model_module": "@jupyter-widgets/controls",
            "_model_module_version": "1.5.0",
            "_model_name": "HTMLModel",
            "_view_count": null,
            "_view_module": "@jupyter-widgets/controls",
            "_view_module_version": "1.5.0",
            "_view_name": "HTMLView",
            "description": "",
            "description_tooltip": null,
            "layout": "IPY_MODEL_321ca2d1e2654f5683bab3f7059aafcb",
            "placeholder": "​",
            "style": "IPY_MODEL_e194c5b2063f431192b17742bbcae585",
            "value": "Downloading: 100%"
          }
        },
        "5bcf0c5e2ead4e729f23e39c82f5ed51": {
          "model_module": "@jupyter-widgets/base",
          "model_module_version": "1.2.0",
          "model_name": "LayoutModel",
          "state": {
            "_model_module": "@jupyter-widgets/base",
            "_model_module_version": "1.2.0",
            "_model_name": "LayoutModel",
            "_view_count": null,
            "_view_module": "@jupyter-widgets/base",
            "_view_module_version": "1.2.0",
            "_view_name": "LayoutView",
            "align_content": null,
            "align_items": null,
            "align_self": null,
            "border": null,
            "bottom": null,
            "display": null,
            "flex": null,
            "flex_flow": null,
            "grid_area": null,
            "grid_auto_columns": null,
            "grid_auto_flow": null,
            "grid_auto_rows": null,
            "grid_column": null,
            "grid_gap": null,
            "grid_row": null,
            "grid_template_areas": null,
            "grid_template_columns": null,
            "grid_template_rows": null,
            "height": null,
            "justify_content": null,
            "justify_items": null,
            "left": null,
            "margin": null,
            "max_height": null,
            "max_width": null,
            "min_height": null,
            "min_width": null,
            "object_fit": null,
            "object_position": null,
            "order": null,
            "overflow": null,
            "overflow_x": null,
            "overflow_y": null,
            "padding": null,
            "right": null,
            "top": null,
            "visibility": null,
            "width": null
          }
        },
        "5f9862ed5c8a4d73836661549e5eb5f7": {
          "model_module": "@jupyter-widgets/controls",
          "model_module_version": "1.5.0",
          "model_name": "DescriptionStyleModel",
          "state": {
            "_model_module": "@jupyter-widgets/controls",
            "_model_module_version": "1.5.0",
            "_model_name": "DescriptionStyleModel",
            "_view_count": null,
            "_view_module": "@jupyter-widgets/base",
            "_view_module_version": "1.2.0",
            "_view_name": "StyleView",
            "description_width": ""
          }
        },
        "64766f048322454ea2f4ec62c0e50abe": {
          "model_module": "@jupyter-widgets/controls",
          "model_module_version": "1.5.0",
          "model_name": "DescriptionStyleModel",
          "state": {
            "_model_module": "@jupyter-widgets/controls",
            "_model_module_version": "1.5.0",
            "_model_name": "DescriptionStyleModel",
            "_view_count": null,
            "_view_module": "@jupyter-widgets/base",
            "_view_module_version": "1.2.0",
            "_view_name": "StyleView",
            "description_width": ""
          }
        },
        "78dd29df1b9b41638be3b62bf69d02c2": {
          "model_module": "@jupyter-widgets/base",
          "model_module_version": "1.2.0",
          "model_name": "LayoutModel",
          "state": {
            "_model_module": "@jupyter-widgets/base",
            "_model_module_version": "1.2.0",
            "_model_name": "LayoutModel",
            "_view_count": null,
            "_view_module": "@jupyter-widgets/base",
            "_view_module_version": "1.2.0",
            "_view_name": "LayoutView",
            "align_content": null,
            "align_items": null,
            "align_self": null,
            "border": null,
            "bottom": null,
            "display": null,
            "flex": null,
            "flex_flow": null,
            "grid_area": null,
            "grid_auto_columns": null,
            "grid_auto_flow": null,
            "grid_auto_rows": null,
            "grid_column": null,
            "grid_gap": null,
            "grid_row": null,
            "grid_template_areas": null,
            "grid_template_columns": null,
            "grid_template_rows": null,
            "height": null,
            "justify_content": null,
            "justify_items": null,
            "left": null,
            "margin": null,
            "max_height": null,
            "max_width": null,
            "min_height": null,
            "min_width": null,
            "object_fit": null,
            "object_position": null,
            "order": null,
            "overflow": null,
            "overflow_x": null,
            "overflow_y": null,
            "padding": null,
            "right": null,
            "top": null,
            "visibility": null,
            "width": null
          }
        },
        "817d7eaa5acb489b859a2163791e08e8": {
          "model_module": "@jupyter-widgets/controls",
          "model_module_version": "1.5.0",
          "model_name": "HTMLModel",
          "state": {
            "_dom_classes": [],
            "_model_module": "@jupyter-widgets/controls",
            "_model_module_version": "1.5.0",
            "_model_name": "HTMLModel",
            "_view_count": null,
            "_view_module": "@jupyter-widgets/controls",
            "_view_module_version": "1.5.0",
            "_view_name": "HTMLView",
            "description": "",
            "description_tooltip": null,
            "layout": "IPY_MODEL_5bcf0c5e2ead4e729f23e39c82f5ed51",
            "placeholder": "​",
            "style": "IPY_MODEL_0b873929353b46ec8d0a2a8246156887",
            "value": " 620/620 [00:00&lt;00:00, 4.46kB/s]"
          }
        },
        "8caf81f43f474e1582cf339a9a8efc68": {
          "model_module": "@jupyter-widgets/base",
          "model_module_version": "1.2.0",
          "model_name": "LayoutModel",
          "state": {
            "_model_module": "@jupyter-widgets/base",
            "_model_module_version": "1.2.0",
            "_model_name": "LayoutModel",
            "_view_count": null,
            "_view_module": "@jupyter-widgets/base",
            "_view_module_version": "1.2.0",
            "_view_name": "LayoutView",
            "align_content": null,
            "align_items": null,
            "align_self": null,
            "border": null,
            "bottom": null,
            "display": null,
            "flex": null,
            "flex_flow": null,
            "grid_area": null,
            "grid_auto_columns": null,
            "grid_auto_flow": null,
            "grid_auto_rows": null,
            "grid_column": null,
            "grid_gap": null,
            "grid_row": null,
            "grid_template_areas": null,
            "grid_template_columns": null,
            "grid_template_rows": null,
            "height": null,
            "justify_content": null,
            "justify_items": null,
            "left": null,
            "margin": null,
            "max_height": null,
            "max_width": null,
            "min_height": null,
            "min_width": null,
            "object_fit": null,
            "object_position": null,
            "order": null,
            "overflow": null,
            "overflow_x": null,
            "overflow_y": null,
            "padding": null,
            "right": null,
            "top": null,
            "visibility": null,
            "width": null
          }
        },
        "920d20960b444393920d588fa5f4c273": {
          "model_module": "@jupyter-widgets/controls",
          "model_module_version": "1.5.0",
          "model_name": "HBoxModel",
          "state": {
            "_dom_classes": [],
            "_model_module": "@jupyter-widgets/controls",
            "_model_module_version": "1.5.0",
            "_model_name": "HBoxModel",
            "_view_count": null,
            "_view_module": "@jupyter-widgets/controls",
            "_view_module_version": "1.5.0",
            "_view_name": "HBoxView",
            "box_style": "",
            "children": [
              "IPY_MODEL_92fbb6962714401facaa51214a77ae67",
              "IPY_MODEL_a9c7e1117ea14221ac876dc1f519f10c",
              "IPY_MODEL_c17a628df6ea412cbb8d3c631bdc15db"
            ],
            "layout": "IPY_MODEL_211d58237d2841cf9b83162ec47720fe"
          }
        },
        "92ee8bcfdedf4b54b2043136255ee3e1": {
          "model_module": "@jupyter-widgets/controls",
          "model_module_version": "1.5.0",
          "model_name": "HTMLModel",
          "state": {
            "_dom_classes": [],
            "_model_module": "@jupyter-widgets/controls",
            "_model_module_version": "1.5.0",
            "_model_name": "HTMLModel",
            "_view_count": null,
            "_view_module": "@jupyter-widgets/controls",
            "_view_module_version": "1.5.0",
            "_view_name": "HTMLView",
            "description": "",
            "description_tooltip": null,
            "layout": "IPY_MODEL_78dd29df1b9b41638be3b62bf69d02c2",
            "placeholder": "​",
            "style": "IPY_MODEL_130d96ecd336452faea5b9f6b4f6abfa",
            "value": "Downloading: 100%"
          }
        },
        "92fbb6962714401facaa51214a77ae67": {
          "model_module": "@jupyter-widgets/controls",
          "model_module_version": "1.5.0",
          "model_name": "HTMLModel",
          "state": {
            "_dom_classes": [],
            "_model_module": "@jupyter-widgets/controls",
            "_model_module_version": "1.5.0",
            "_model_name": "HTMLModel",
            "_view_count": null,
            "_view_module": "@jupyter-widgets/controls",
            "_view_module_version": "1.5.0",
            "_view_name": "HTMLView",
            "description": "",
            "description_tooltip": null,
            "layout": "IPY_MODEL_8caf81f43f474e1582cf339a9a8efc68",
            "placeholder": "​",
            "style": "IPY_MODEL_5f9862ed5c8a4d73836661549e5eb5f7",
            "value": "Downloading: 100%"
          }
        },
        "943c89f9b4324b6b8a1ab6a6b60f91b1": {
          "model_module": "@jupyter-widgets/controls",
          "model_module_version": "1.5.0",
          "model_name": "HTMLModel",
          "state": {
            "_dom_classes": [],
            "_model_module": "@jupyter-widgets/controls",
            "_model_module_version": "1.5.0",
            "_model_name": "HTMLModel",
            "_view_count": null,
            "_view_module": "@jupyter-widgets/controls",
            "_view_module_version": "1.5.0",
            "_view_name": "HTMLView",
            "description": "",
            "description_tooltip": null,
            "layout": "IPY_MODEL_37d7cb80cf7c45c282e172275e637b3b",
            "placeholder": "​",
            "style": "IPY_MODEL_2bbb10333b6b42f1933ad8d678090edf",
            "value": " 80.0/80.0 [00:00&lt;00:00, 912B/s]"
          }
        },
        "96e36ff711a24b569edda9c0c950c458": {
          "model_module": "@jupyter-widgets/controls",
          "model_module_version": "1.5.0",
          "model_name": "DescriptionStyleModel",
          "state": {
            "_model_module": "@jupyter-widgets/controls",
            "_model_module_version": "1.5.0",
            "_model_name": "DescriptionStyleModel",
            "_view_count": null,
            "_view_module": "@jupyter-widgets/base",
            "_view_module_version": "1.2.0",
            "_view_name": "StyleView",
            "description_width": ""
          }
        },
        "96eb805649ad4ff8a6e59f01284f23b9": {
          "model_module": "@jupyter-widgets/base",
          "model_module_version": "1.2.0",
          "model_name": "LayoutModel",
          "state": {
            "_model_module": "@jupyter-widgets/base",
            "_model_module_version": "1.2.0",
            "_model_name": "LayoutModel",
            "_view_count": null,
            "_view_module": "@jupyter-widgets/base",
            "_view_module_version": "1.2.0",
            "_view_name": "LayoutView",
            "align_content": null,
            "align_items": null,
            "align_self": null,
            "border": null,
            "bottom": null,
            "display": null,
            "flex": null,
            "flex_flow": null,
            "grid_area": null,
            "grid_auto_columns": null,
            "grid_auto_flow": null,
            "grid_auto_rows": null,
            "grid_column": null,
            "grid_gap": null,
            "grid_row": null,
            "grid_template_areas": null,
            "grid_template_columns": null,
            "grid_template_rows": null,
            "height": null,
            "justify_content": null,
            "justify_items": null,
            "left": null,
            "margin": null,
            "max_height": null,
            "max_width": null,
            "min_height": null,
            "min_width": null,
            "object_fit": null,
            "object_position": null,
            "order": null,
            "overflow": null,
            "overflow_x": null,
            "overflow_y": null,
            "padding": null,
            "right": null,
            "top": null,
            "visibility": null,
            "width": null
          }
        },
        "a40252c7a7804854a72532400a6608de": {
          "model_module": "@jupyter-widgets/controls",
          "model_module_version": "1.5.0",
          "model_name": "FloatProgressModel",
          "state": {
            "_dom_classes": [],
            "_model_module": "@jupyter-widgets/controls",
            "_model_module_version": "1.5.0",
            "_model_name": "FloatProgressModel",
            "_view_count": null,
            "_view_module": "@jupyter-widgets/controls",
            "_view_module_version": "1.5.0",
            "_view_name": "ProgressView",
            "bar_style": "success",
            "description": "",
            "description_tooltip": null,
            "layout": "IPY_MODEL_2f784153a9584f84a7614e5fcd179a08",
            "max": 473243441,
            "min": 0,
            "orientation": "horizontal",
            "style": "IPY_MODEL_ae2267330e6947b99b5d85cd471db32a",
            "value": 473243441
          }
        },
        "a8802215c56a45c6ae11e3fc72fe789d": {
          "model_module": "@jupyter-widgets/controls",
          "model_module_version": "1.5.0",
          "model_name": "FloatProgressModel",
          "state": {
            "_dom_classes": [],
            "_model_module": "@jupyter-widgets/controls",
            "_model_module_version": "1.5.0",
            "_model_name": "FloatProgressModel",
            "_view_count": null,
            "_view_module": "@jupyter-widgets/controls",
            "_view_module_version": "1.5.0",
            "_view_name": "ProgressView",
            "bar_style": "success",
            "description": "",
            "description_tooltip": null,
            "layout": "IPY_MODEL_a8e9dd3a417a423e941deee4c960b3ef",
            "max": 80,
            "min": 0,
            "orientation": "horizontal",
            "style": "IPY_MODEL_d2578c128dc84249867715c2e39ef046",
            "value": 80
          }
        },
        "a8e9dd3a417a423e941deee4c960b3ef": {
          "model_module": "@jupyter-widgets/base",
          "model_module_version": "1.2.0",
          "model_name": "LayoutModel",
          "state": {
            "_model_module": "@jupyter-widgets/base",
            "_model_module_version": "1.2.0",
            "_model_name": "LayoutModel",
            "_view_count": null,
            "_view_module": "@jupyter-widgets/base",
            "_view_module_version": "1.2.0",
            "_view_name": "LayoutView",
            "align_content": null,
            "align_items": null,
            "align_self": null,
            "border": null,
            "bottom": null,
            "display": null,
            "flex": null,
            "flex_flow": null,
            "grid_area": null,
            "grid_auto_columns": null,
            "grid_auto_flow": null,
            "grid_auto_rows": null,
            "grid_column": null,
            "grid_gap": null,
            "grid_row": null,
            "grid_template_areas": null,
            "grid_template_columns": null,
            "grid_template_rows": null,
            "height": null,
            "justify_content": null,
            "justify_items": null,
            "left": null,
            "margin": null,
            "max_height": null,
            "max_width": null,
            "min_height": null,
            "min_width": null,
            "object_fit": null,
            "object_position": null,
            "order": null,
            "overflow": null,
            "overflow_x": null,
            "overflow_y": null,
            "padding": null,
            "right": null,
            "top": null,
            "visibility": null,
            "width": null
          }
        },
        "a9c7e1117ea14221ac876dc1f519f10c": {
          "model_module": "@jupyter-widgets/controls",
          "model_module_version": "1.5.0",
          "model_name": "FloatProgressModel",
          "state": {
            "_dom_classes": [],
            "_model_module": "@jupyter-widgets/controls",
            "_model_module_version": "1.5.0",
            "_model_name": "FloatProgressModel",
            "_view_count": null,
            "_view_module": "@jupyter-widgets/controls",
            "_view_module_version": "1.5.0",
            "_view_name": "ProgressView",
            "bar_style": "success",
            "description": "",
            "description_tooltip": null,
            "layout": "IPY_MODEL_49b607ed104b450d95cad8610682b0a0",
            "max": 344259,
            "min": 0,
            "orientation": "horizontal",
            "style": "IPY_MODEL_c8ec5df30b8a44a6bfb309a2a558cacf",
            "value": 344259
          }
        },
        "ae2267330e6947b99b5d85cd471db32a": {
          "model_module": "@jupyter-widgets/controls",
          "model_module_version": "1.5.0",
          "model_name": "ProgressStyleModel",
          "state": {
            "_model_module": "@jupyter-widgets/controls",
            "_model_module_version": "1.5.0",
            "_model_name": "ProgressStyleModel",
            "_view_count": null,
            "_view_module": "@jupyter-widgets/base",
            "_view_module_version": "1.2.0",
            "_view_name": "StyleView",
            "bar_color": null,
            "description_width": ""
          }
        },
        "b1c68a6810bb421189579bf5d4b08c20": {
          "model_module": "@jupyter-widgets/base",
          "model_module_version": "1.2.0",
          "model_name": "LayoutModel",
          "state": {
            "_model_module": "@jupyter-widgets/base",
            "_model_module_version": "1.2.0",
            "_model_name": "LayoutModel",
            "_view_count": null,
            "_view_module": "@jupyter-widgets/base",
            "_view_module_version": "1.2.0",
            "_view_name": "LayoutView",
            "align_content": null,
            "align_items": null,
            "align_self": null,
            "border": null,
            "bottom": null,
            "display": null,
            "flex": null,
            "flex_flow": null,
            "grid_area": null,
            "grid_auto_columns": null,
            "grid_auto_flow": null,
            "grid_auto_rows": null,
            "grid_column": null,
            "grid_gap": null,
            "grid_row": null,
            "grid_template_areas": null,
            "grid_template_columns": null,
            "grid_template_rows": null,
            "height": null,
            "justify_content": null,
            "justify_items": null,
            "left": null,
            "margin": null,
            "max_height": null,
            "max_width": null,
            "min_height": null,
            "min_width": null,
            "object_fit": null,
            "object_position": null,
            "order": null,
            "overflow": null,
            "overflow_x": null,
            "overflow_y": null,
            "padding": null,
            "right": null,
            "top": null,
            "visibility": null,
            "width": null
          }
        },
        "bf7b4e2a7322445d9078f66a4f9155f4": {
          "model_module": "@jupyter-widgets/base",
          "model_module_version": "1.2.0",
          "model_name": "LayoutModel",
          "state": {
            "_model_module": "@jupyter-widgets/base",
            "_model_module_version": "1.2.0",
            "_model_name": "LayoutModel",
            "_view_count": null,
            "_view_module": "@jupyter-widgets/base",
            "_view_module_version": "1.2.0",
            "_view_name": "LayoutView",
            "align_content": null,
            "align_items": null,
            "align_self": null,
            "border": null,
            "bottom": null,
            "display": null,
            "flex": null,
            "flex_flow": null,
            "grid_area": null,
            "grid_auto_columns": null,
            "grid_auto_flow": null,
            "grid_auto_rows": null,
            "grid_column": null,
            "grid_gap": null,
            "grid_row": null,
            "grid_template_areas": null,
            "grid_template_columns": null,
            "grid_template_rows": null,
            "height": null,
            "justify_content": null,
            "justify_items": null,
            "left": null,
            "margin": null,
            "max_height": null,
            "max_width": null,
            "min_height": null,
            "min_width": null,
            "object_fit": null,
            "object_position": null,
            "order": null,
            "overflow": null,
            "overflow_x": null,
            "overflow_y": null,
            "padding": null,
            "right": null,
            "top": null,
            "visibility": null,
            "width": null
          }
        },
        "c17a628df6ea412cbb8d3c631bdc15db": {
          "model_module": "@jupyter-widgets/controls",
          "model_module_version": "1.5.0",
          "model_name": "HTMLModel",
          "state": {
            "_dom_classes": [],
            "_model_module": "@jupyter-widgets/controls",
            "_model_module_version": "1.5.0",
            "_model_name": "HTMLModel",
            "_view_count": null,
            "_view_module": "@jupyter-widgets/controls",
            "_view_module_version": "1.5.0",
            "_view_name": "HTMLView",
            "description": "",
            "description_tooltip": null,
            "layout": "IPY_MODEL_50504acc7b49475e8996d7ce1826b79b",
            "placeholder": "​",
            "style": "IPY_MODEL_64766f048322454ea2f4ec62c0e50abe",
            "value": " 344k/344k [00:00&lt;00:00, 655kB/s]"
          }
        },
        "c8ec5df30b8a44a6bfb309a2a558cacf": {
          "model_module": "@jupyter-widgets/controls",
          "model_module_version": "1.5.0",
          "model_name": "ProgressStyleModel",
          "state": {
            "_model_module": "@jupyter-widgets/controls",
            "_model_module_version": "1.5.0",
            "_model_name": "ProgressStyleModel",
            "_view_count": null,
            "_view_module": "@jupyter-widgets/base",
            "_view_module_version": "1.2.0",
            "_view_name": "StyleView",
            "bar_color": null,
            "description_width": ""
          }
        },
        "d2578c128dc84249867715c2e39ef046": {
          "model_module": "@jupyter-widgets/controls",
          "model_module_version": "1.5.0",
          "model_name": "ProgressStyleModel",
          "state": {
            "_model_module": "@jupyter-widgets/controls",
            "_model_module_version": "1.5.0",
            "_model_name": "ProgressStyleModel",
            "_view_count": null,
            "_view_module": "@jupyter-widgets/base",
            "_view_module_version": "1.2.0",
            "_view_name": "StyleView",
            "bar_color": null,
            "description_width": ""
          }
        },
        "db59f025a1e74f5ea2f6f56757e7df50": {
          "model_module": "@jupyter-widgets/base",
          "model_module_version": "1.2.0",
          "model_name": "LayoutModel",
          "state": {
            "_model_module": "@jupyter-widgets/base",
            "_model_module_version": "1.2.0",
            "_model_name": "LayoutModel",
            "_view_count": null,
            "_view_module": "@jupyter-widgets/base",
            "_view_module_version": "1.2.0",
            "_view_name": "LayoutView",
            "align_content": null,
            "align_items": null,
            "align_self": null,
            "border": null,
            "bottom": null,
            "display": null,
            "flex": null,
            "flex_flow": null,
            "grid_area": null,
            "grid_auto_columns": null,
            "grid_auto_flow": null,
            "grid_auto_rows": null,
            "grid_column": null,
            "grid_gap": null,
            "grid_row": null,
            "grid_template_areas": null,
            "grid_template_columns": null,
            "grid_template_rows": null,
            "height": null,
            "justify_content": null,
            "justify_items": null,
            "left": null,
            "margin": null,
            "max_height": null,
            "max_width": null,
            "min_height": null,
            "min_width": null,
            "object_fit": null,
            "object_position": null,
            "order": null,
            "overflow": null,
            "overflow_x": null,
            "overflow_y": null,
            "padding": null,
            "right": null,
            "top": null,
            "visibility": null,
            "width": null
          }
        },
        "e145696381344313886120817a2bce7c": {
          "model_module": "@jupyter-widgets/controls",
          "model_module_version": "1.5.0",
          "model_name": "HTMLModel",
          "state": {
            "_dom_classes": [],
            "_model_module": "@jupyter-widgets/controls",
            "_model_module_version": "1.5.0",
            "_model_name": "HTMLModel",
            "_view_count": null,
            "_view_module": "@jupyter-widgets/controls",
            "_view_module_version": "1.5.0",
            "_view_name": "HTMLView",
            "description": "",
            "description_tooltip": null,
            "layout": "IPY_MODEL_db59f025a1e74f5ea2f6f56757e7df50",
            "placeholder": "​",
            "style": "IPY_MODEL_96e36ff711a24b569edda9c0c950c458",
            "value": " 473M/473M [00:25&lt;00:00, 26.5MB/s]"
          }
        },
        "e194c5b2063f431192b17742bbcae585": {
          "model_module": "@jupyter-widgets/controls",
          "model_module_version": "1.5.0",
          "model_name": "DescriptionStyleModel",
          "state": {
            "_model_module": "@jupyter-widgets/controls",
            "_model_module_version": "1.5.0",
            "_model_name": "DescriptionStyleModel",
            "_view_count": null,
            "_view_module": "@jupyter-widgets/base",
            "_view_module_version": "1.2.0",
            "_view_name": "StyleView",
            "description_width": ""
          }
        },
        "ecfd286c7d634bee89e4eed7ed11cae9": {
          "model_module": "@jupyter-widgets/base",
          "model_module_version": "1.2.0",
          "model_name": "LayoutModel",
          "state": {
            "_model_module": "@jupyter-widgets/base",
            "_model_module_version": "1.2.0",
            "_model_name": "LayoutModel",
            "_view_count": null,
            "_view_module": "@jupyter-widgets/base",
            "_view_module_version": "1.2.0",
            "_view_name": "LayoutView",
            "align_content": null,
            "align_items": null,
            "align_self": null,
            "border": null,
            "bottom": null,
            "display": null,
            "flex": null,
            "flex_flow": null,
            "grid_area": null,
            "grid_auto_columns": null,
            "grid_auto_flow": null,
            "grid_auto_rows": null,
            "grid_column": null,
            "grid_gap": null,
            "grid_row": null,
            "grid_template_areas": null,
            "grid_template_columns": null,
            "grid_template_rows": null,
            "height": null,
            "justify_content": null,
            "justify_items": null,
            "left": null,
            "margin": null,
            "max_height": null,
            "max_width": null,
            "min_height": null,
            "min_width": null,
            "object_fit": null,
            "object_position": null,
            "order": null,
            "overflow": null,
            "overflow_x": null,
            "overflow_y": null,
            "padding": null,
            "right": null,
            "top": null,
            "visibility": null,
            "width": null
          }
        },
        "ee7e5d3628c3497889864cf96c74a203": {
          "model_module": "@jupyter-widgets/controls",
          "model_module_version": "1.5.0",
          "model_name": "HBoxModel",
          "state": {
            "_dom_classes": [],
            "_model_module": "@jupyter-widgets/controls",
            "_model_module_version": "1.5.0",
            "_model_name": "HBoxModel",
            "_view_count": null,
            "_view_module": "@jupyter-widgets/controls",
            "_view_module_version": "1.5.0",
            "_view_name": "HBoxView",
            "box_style": "",
            "children": [
              "IPY_MODEL_36d377cabe3e43208bf4d5a7ef839f90",
              "IPY_MODEL_a8802215c56a45c6ae11e3fc72fe789d",
              "IPY_MODEL_943c89f9b4324b6b8a1ab6a6b60f91b1"
            ],
            "layout": "IPY_MODEL_bf7b4e2a7322445d9078f66a4f9155f4"
          }
        },
        "f1dc2b85025c48ecb7d105be227e006a": {
          "model_module": "@jupyter-widgets/controls",
          "model_module_version": "1.5.0",
          "model_name": "DescriptionStyleModel",
          "state": {
            "_model_module": "@jupyter-widgets/controls",
            "_model_module_version": "1.5.0",
            "_model_name": "DescriptionStyleModel",
            "_view_count": null,
            "_view_module": "@jupyter-widgets/base",
            "_view_module_version": "1.2.0",
            "_view_name": "StyleView",
            "description_width": ""
          }
        }
      }
    }
  },
  "nbformat": 4,
  "nbformat_minor": 0
}
